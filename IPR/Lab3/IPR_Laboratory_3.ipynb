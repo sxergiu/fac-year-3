{
  "nbformat": 4,
  "nbformat_minor": 0,
  "metadata": {
    "colab": {
      "provenance": [],
      "include_colab_link": true
    },
    "kernelspec": {
      "name": "python3",
      "display_name": "Python 3"
    },
    "language_info": {
      "name": "python"
    },
    "accelerator": "GPU"
  },
  "cells": [
    {
      "cell_type": "markdown",
      "metadata": {
        "id": "view-in-github",
        "colab_type": "text"
      },
      "source": [
        "<a href=\"https://colab.research.google.com/github/sxergiu/fac-year-3/blob/main/IPR/Lab3/IPR_Laboratory_3.ipynb\" target=\"_parent\"><img src=\"https://colab.research.google.com/assets/colab-badge.svg\" alt=\"Open In Colab\"/></a>"
      ]
    },
    {
      "cell_type": "markdown",
      "source": [
        "#Linear regression in PyTorch"
      ],
      "metadata": {
        "id": "p5e5ilDkXRPk"
      }
    },
    {
      "cell_type": "markdown",
      "source": [
        "To keep things simple, we will construct an artificial dataset\n",
        "according to a linear model with additive noise.\n",
        "Our task will be to recover this model's parameters\n",
        "using the finite set of examples contained in our dataset.\n",
        "We will keep the data low-dimensional so we can visualize it easily.\n",
        "In the following code, we generate a dataset\n",
        "containing $1000$ examples, each consisting of $2$ features\n",
        "sampled from a standard normal distribution.\n",
        "Thus, our synthetic dataset will be a matrix\n",
        "$\\boldsymbol{X}\\in \\mathbb{R}^{1000 \\times 2}$.\n",
        "\n",
        "The true parameters generating our dataset will be\n",
        "$\\boldsymbol{w} = [2, -3.4]^\\top$ and $b = 4.2$,\n",
        "and our synthetic labels will be assigned according\n",
        "to the following linear model with the noise term $\\epsilon$:\n",
        "\n",
        "$$\\boldsymbol{y}= \\boldsymbol{X} \\boldsymbol{w} + b + \\epsilon.$$\n",
        "\n",
        "We can think of $\\epsilon$ as capturing potential\n",
        "measurement errors on the features and labels.\n",
        "We will assume that the standard assumptions hold, and thus\n",
        "that $\\epsilon$ obeys a normal distribution with mean of $0$.\n",
        "To make our problem easy, we will set its standard deviation to $0.01$.\n",
        "The following code generates our synthetic dataset."
      ],
      "metadata": {
        "id": "aDjvykjBXWup"
      }
    },
    {
      "cell_type": "code",
      "source": [
        "import torch\n",
        "import matplotlib.pyplot as plt\n",
        "import numpy as np\n",
        "\n",
        "torch.manual_seed(42)\n",
        "np.random.seed(42)"
      ],
      "metadata": {
        "id": "SGfakW4iY3AW"
      },
      "execution_count": 1,
      "outputs": []
    },
    {
      "cell_type": "code",
      "source": [
        "def synthetic_data(w, b, num_examples):\n",
        "    \"\"\"Generate y = Xw + b + noise.\"\"\"\n",
        "    X = torch.normal(0, 1, (num_examples, len(w)))\n",
        "    y = X @ w + b\n",
        "    y += torch.normal(0, 0.01, y.shape)\n",
        "    return X, y.reshape(-1, 1)"
      ],
      "metadata": {
        "id": "b8zP_h0GXUvO"
      },
      "execution_count": 2,
      "outputs": []
    },
    {
      "cell_type": "code",
      "execution_count": 3,
      "metadata": {
        "id": "-POixM0hWhjS"
      },
      "outputs": [],
      "source": [
        "true_w = torch.tensor([2, -3.4])\n",
        "true_b = 4.2\n",
        "features, labels = synthetic_data(true_w, true_b, 1000)"
      ]
    },
    {
      "cell_type": "markdown",
      "source": [
        "Note that each row in `features` consists of a $2$-dimensional data example,\n",
        "and that each row in `labels` consists of a $1$-dimensional label value (a scalar)."
      ],
      "metadata": {
        "id": "b4V6ncZpZRUu"
      }
    },
    {
      "cell_type": "code",
      "source": [
        "print('Features:', features[0], '\\nLabel:', labels[0])"
      ],
      "metadata": {
        "colab": {
          "base_uri": "https://localhost:8080/"
        },
        "id": "hRDcwsYWZW_s",
        "outputId": "33bcb5ae-ac2e-45bf-d150-0416f45e94aa"
      },
      "execution_count": 4,
      "outputs": [
        {
          "output_type": "stream",
          "name": "stdout",
          "text": [
            "Features: tensor([1.9269, 1.4873]) \n",
            "Label: tensor([2.9871])\n"
          ]
        }
      ]
    },
    {
      "cell_type": "markdown",
      "source": [
        "By generating a scatter plot using the second feature `features[:, 1]` and `labels`,\n",
        "we can clearly observe the linear correlation between the two."
      ],
      "metadata": {
        "id": "NjvEhyDGZehq"
      }
    },
    {
      "cell_type": "code",
      "source": [
        "plt.scatter(features[:, 1].detach().numpy(), labels.detach().numpy(), s=1)\n",
        "plt.show()"
      ],
      "metadata": {
        "colab": {
          "base_uri": "https://localhost:8080/",
          "height": 430
        },
        "id": "GPEPuLzxZdnC",
        "outputId": "bda93644-7574-4864-a97d-fb770b4593e6"
      },
      "execution_count": 5,
      "outputs": [
        {
          "output_type": "display_data",
          "data": {
            "text/plain": [
              "<Figure size 640x480 with 1 Axes>"
            ],
            "image/png": "[encoded data removed]"
          },
          "metadata": {}
        }
      ]
    },
    {
      "cell_type": "markdown",
      "source": [
        "Recall that training models consists of\n",
        "making multiple passes over the dataset,\n",
        "fetching one mini-batch of examples at a time,\n",
        "and using them to update our model.\n",
        "Since this process is so fundamental\n",
        "to training machine learning algorithms,\n",
        "it is worth defining a utility function\n",
        "to shuffle the dataset and access it in mini-batches.\n",
        "\n",
        "In the following code, we define the `data_iter` function to demonstrate one possible implementation of this functionality.\n",
        "The function takes a batch size, a matrix of features,\n",
        "and a vector of labels, yielding mini-batches of the size `batch_size`.\n",
        "Each mini-batch consists of a tuple of features and labels."
      ],
      "metadata": {
        "id": "KaHLudHYaZSW"
      }
    },
    {
      "cell_type": "code",
      "source": [
        "def data_iter(batch_size, features, labels):\n",
        "    num_examples = len(features)\n",
        "    indices = list(range(num_examples))\n",
        "    # The examples are read at random, in no particular order\n",
        "    np.random.shuffle(indices)\n",
        "    for i in range(0, num_examples, batch_size):\n",
        "        batch_indices = torch.tensor(\n",
        "            indices[i: min(i + batch_size, num_examples)])\n",
        "        yield features[batch_indices], labels[batch_indices]"
      ],
      "metadata": {
        "id": "KxW0ZrRGask-"
      },
      "execution_count": 6,
      "outputs": []
    },
    {
      "cell_type": "markdown",
      "source": [
        "In general, note that we want to use reasonably sized mini-batches\n",
        "to take advantage of the GPU hardware,\n",
        "which excels at parallelizing operations.\n",
        "Because each example can be fed through our models in parallel,\n",
        "and the gradient of the loss function for each example can also be taken in parallel,\n",
        "GPUs allow us to process hundreds of examples in just little more time\n",
        "than it might take to process a single example.\n",
        "\n",
        "To build some intuition, let us read and print\n",
        "the first small batch of data examples.\n",
        "The shape of the features in each mini-batch tells us\n",
        "both the mini-batch size and the number of input features.\n",
        "Likewise, our mini-batch of labels will have a shape given by `batch_size`.\n"
      ],
      "metadata": {
        "id": "y7t75KUobMrW"
      }
    },
    {
      "cell_type": "code",
      "source": [
        "batch_size = 10\n",
        "\n",
        "for X, y in data_iter(batch_size, features, labels):\n",
        "    print(X, '\\n', y)\n",
        "    break"
      ],
      "metadata": {
        "colab": {
          "base_uri": "https://localhost:8080/"
        },
        "id": "YGeoTm1PbqMj",
        "outputId": "901db815-dd99-400e-fbd4-ae44f4416e7e"
      },
      "execution_count": 7,
      "outputs": [
        {
          "output_type": "stream",
          "name": "stdout",
          "text": [
            "tensor([[ 1.1862, -1.2203],\n",
            "        [ 0.1828,  0.6247],\n",
            "        [ 0.3726, -1.9105],\n",
            "        [ 1.2215, -0.3137],\n",
            "        [ 0.2240, -0.7555],\n",
            "        [ 0.3267, -0.8344],\n",
            "        [-0.7585,  0.9420],\n",
            "        [-1.5785,  0.6716],\n",
            "        [ 0.9475,  0.4364],\n",
            "        [-1.3793,  0.6258]]) \n",
            " tensor([[10.7316],\n",
            "        [ 2.4343],\n",
            "        [11.4371],\n",
            "        [ 7.7038],\n",
            "        [ 7.2027],\n",
            "        [ 7.7014],\n",
            "        [-0.5214],\n",
            "        [-1.2277],\n",
            "        [ 4.6104],\n",
            "        [-0.7060]])\n"
          ]
        }
      ]
    },
    {
      "cell_type": "markdown",
      "source": [
        "As we run the iteration, we obtain distinct mini-batches\n",
        "successively, until the entire dataset has been exhausted.\n",
        "While the iteration implemented above is good for didactic purposes,\n",
        "it is inefficient in ways that might get us in trouble on real problems.\n",
        "For example, it requires that we load all the data in memory\n",
        "and that we perform many random memory access.\n",
        "The built-in iterators implemented in a deep learning framework\n",
        "are considerably more efficient, and they can deal\n",
        "with both data stored in files and data fed via data streams."
      ],
      "metadata": {
        "id": "DqhO0EywbzBv"
      }
    },
    {
      "cell_type": "markdown",
      "source": [
        "Rather writing our own iterator,\n",
        "we can call upon the existing API in PyTorch to read the data. We pass in `features` and `labels` as arguments, and specify `batch_size`\n",
        "when instantiating a data iterator object.\n",
        "Besides, the boolean value `is_train`\n",
        "indicates whether or not\n",
        "we want the data iterator object to shuffle the data\n",
        "on each epoch (pass through the dataset)."
      ],
      "metadata": {
        "id": "MRQhai4IdCHt"
      }
    },
    {
      "cell_type": "code",
      "source": [
        "def load_array(data_arrays, batch_size, is_train=True):\n",
        "    \"\"\"Construct a PyTorch data iterator.\"\"\"\n",
        "    dataset = torch.utils.data.TensorDataset(*data_arrays)\n",
        "    return torch.utils.data.DataLoader(dataset, batch_size, shuffle=is_train)"
      ],
      "metadata": {
        "id": "2QTd5Vw0byK-"
      },
      "execution_count": 8,
      "outputs": []
    },
    {
      "cell_type": "code",
      "source": [
        "batch_size = 10\n",
        "data_iter = load_array((features, labels), batch_size)"
      ],
      "metadata": {
        "id": "KK3A51--d7cU"
      },
      "execution_count": 9,
      "outputs": []
    },
    {
      "cell_type": "markdown",
      "source": [
        "Now, we can use `data_iter` in much the same way as we called\n",
        "the `data_iter()` function above.\n",
        "To verify that it is working, we can read and print\n",
        "the first mini-batch of examples.\n",
        "Comparing with the `data_iter()` function,\n",
        "here we use `iter()` to construct a Python iterator, and use `next()` to obtain the first item from the iterator."
      ],
      "metadata": {
        "id": "pG4yENqxdhjJ"
      }
    },
    {
      "cell_type": "code",
      "source": [
        "next(iter(data_iter))"
      ],
      "metadata": {
        "colab": {
          "base_uri": "https://localhost:8080/"
        },
        "id": "MAj3YMcdeBVr",
        "outputId": "d7c024dd-4070-4757-dc56-9150339f1531"
      },
      "execution_count": 10,
      "outputs": [
        {
          "output_type": "execute_result",
          "data": {
            "text/plain": [
              "[tensor([[-1.0838, -0.3889],\n",
              "         [ 0.3267, -0.8344],\n",
              "         [ 1.5921, -0.4162],\n",
              "         [ 1.7685, -0.9858],\n",
              "         [ 1.9138,  0.3378],\n",
              "         [ 1.2358, -2.0371],\n",
              "         [ 0.3120,  0.7174],\n",
              "         [ 0.0879, -1.2415],\n",
              "         [-0.7150, -0.0476],\n",
              "         [ 0.6719,  0.9852]]),\n",
              " tensor([[ 3.3636],\n",
              "         [ 7.7014],\n",
              "         [ 8.8059],\n",
              "         [11.0980],\n",
              "         [ 6.8769],\n",
              "         [13.5980],\n",
              "         [ 2.3910],\n",
              "         [ 8.5881],\n",
              "         [ 2.9337],\n",
              "         [ 2.2025]])]"
            ]
          },
          "metadata": {},
          "execution_count": 10
        }
      ]
    },
    {
      "cell_type": "markdown",
      "source": [
        "In order to implement **linear regression**, we can use PyTorch's predefined layers, which allow us to focus especially\n",
        "on the layers used to construct the model,\n",
        "rather than having to focus on the implementation.\n",
        "We will first define a model variable `net`,\n",
        "which will refer to an instance of the `nn.Sequential` class.\n",
        "The `nn.Sequential` class defines a container\n",
        "for several layers that will be chained together.\n",
        "Given input data, a `nn.Sequential` instance passes it through\n",
        "the first layer, in turn passing the output\n",
        "as the second layer's input, and so forth.\n",
        "In the following example, our model consists of only one layer,\n",
        "so we do not really need `nn.Sequential`.\n",
        "But, since nearly all of our future models\n",
        "will involve multiple layers,\n",
        "we will use it anyway, just to get familiarized with the most standard workflow.\n",
        "\n",
        "Recall that we redefined linear regression as a single-layer neural network.\n",
        "The layer is said to be *fully-connected*,\n",
        "because each of its inputs is connected to each of its outputs\n",
        "by means of a matrix-vector multiplication.\n",
        "\n",
        "In PyTorch, the fully-connected layer is defined in the `nn.Linear` class. Note that we pass two arguments into `nn.Linear`. The first one specifies the input feature dimension, which is $2$, and the second one is the output feature dimension, which is a single scalar, and therefore $1$."
      ],
      "metadata": {
        "id": "3DMniNeZea6a"
      }
    },
    {
      "cell_type": "code",
      "source": [
        "# `nn` is an abbreviation for neural networks\n",
        "from torch import nn\n",
        "\n",
        "net = nn.Sequential(nn.Linear(2, 1))"
      ],
      "metadata": {
        "id": "euRT71v-ffdb"
      },
      "execution_count": 11,
      "outputs": []
    },
    {
      "cell_type": "markdown",
      "source": [
        "Before using `net`, we need to initialize the model parameters,\n",
        "such as the weights and bias in the linear regression model.\n",
        "Deep learning frameworks often have a predefined way to initialize the parameters.\n",
        "Here, we specify that each weight parameter\n",
        "should be randomly sampled from a normal distribution\n",
        "with mean $0$ and standard deviation $0.01$.\n",
        "The bias parameter will be initialized to $0$.\n",
        "\n",
        "As we have specified the input and output dimensions when constructing `nn.Linear`,\n",
        "now we can access the parameters directly, to specify their initial values.\n",
        "We first locate the layer by `net[0]`, which is the first layer in the network,\n",
        "and then use the `weight.data` and `bias.data` attributes to access the parameters.\n",
        "Next, we use the replace methods `normal_()` and `fill_()` to overwrite parameter values. In PyTorch, methods that end with `_` do the corresponding operation in place."
      ],
      "metadata": {
        "id": "wqBDqfj-fog3"
      }
    },
    {
      "cell_type": "code",
      "source": [
        "net[0].weight.data.normal_(0, 0.01)\n",
        "net[0].bias.data.fill_(0)"
      ],
      "metadata": {
        "colab": {
          "base_uri": "https://localhost:8080/"
        },
        "id": "DfLn2erlgOso",
        "outputId": "55264d9d-db20-41c9-873e-87460d82f4e3"
      },
      "execution_count": 12,
      "outputs": [
        {
          "output_type": "execute_result",
          "data": {
            "text/plain": [
              "tensor([0.])"
            ]
          },
          "metadata": {},
          "execution_count": 12
        }
      ]
    },
    {
      "cell_type": "markdown",
      "source": [
        "The `nn.MSELoss` class computes the *mean squared error* (without the $1/2$ factor).\n",
        "By default, it returns the average loss over examples.\n"
      ],
      "metadata": {
        "id": "WNqZGE2pj0Dp"
      }
    },
    {
      "cell_type": "code",
      "source": [
        "loss = nn.MSELoss()"
      ],
      "metadata": {
        "id": "tgtyMDWPj_vA"
      },
      "execution_count": 13,
      "outputs": []
    },
    {
      "cell_type": "markdown",
      "source": [
        "Mini-batch stochastic gradient descent is a standard tool\n",
        "for optimizing neural networks,\n",
        "and thus PyTorch supports it, alongside a number of\n",
        "variations of this algorithm, in the `optim` module.\n",
        "When we instantiate an `SGD` instance, we will specify the parameters to optimize over\n",
        "(obtainable from our `net` via `net.parameters()`), with a dictionary of hyperparameters\n",
        "required by our optimization algorithm.\n",
        "Mini-batch stochastic gradient descent just requires that\n",
        "we set the value `lr`, which is set to $0.03$ here."
      ],
      "metadata": {
        "id": "jXOsYgBDkE7c"
      }
    },
    {
      "cell_type": "code",
      "source": [
        "optimizer = torch.optim.SGD(net.parameters(), lr=0.03)"
      ],
      "metadata": {
        "id": "voAGJZNVkXdk"
      },
      "execution_count": 14,
      "outputs": []
    },
    {
      "cell_type": "markdown",
      "source": [
        "Expressing our model through\n",
        "high-level APIs of a deep learning framework\n",
        "requires relatively few lines of code.\n",
        "We do not have to individually allocate parameters,\n",
        "define our loss function, or implement mini-batch stochastic gradient descent.\n",
        "Once we start working with much more complex models,\n",
        "advantages of high-level APIs will grow considerably.\n",
        "\n",
        "Now, all we have left to do is define the training loop: for some number of epochs,\n",
        "we will make a complete pass over the dataset (`data_iter`),\n",
        "iteratively fetching one mini-batch of inputs\n",
        "and the corresponding ground-truth labels.\n",
        "For each mini-batch, we go through the following steps:\n",
        "\n",
        "* Generate predictions by calling `net(X)` and calculate the loss `l` between the predictions and the labels `y` (the *forward propagation*).\n",
        "* Calculate gradients by running the *backpropagation*, using the `backward()` function on the loss. To prevent PyTorch from accumulating gradients, which it does by default, we have to call the `zero_grad()` function on the optimizer, before the call to `backward()`.\n",
        "* Update the model parameters by invoking our *optimizer*, using the `step()` function on the optimizer.\n",
        "\n",
        "We compute the loss after each epoch and print it to monitor progress."
      ],
      "metadata": {
        "id": "PINYtLmxkgaJ"
      }
    },
    {
      "cell_type": "code",
      "source": [
        "num_epochs = 3\n",
        "for epoch in range(num_epochs):\n",
        "    for X, y in data_iter:\n",
        "        l = loss(net(X), y)\n",
        "        optimizer.zero_grad()\n",
        "        l.backward()\n",
        "        optimizer.step()\n",
        "    l = loss(net(features), labels)\n",
        "    print(f'Epoch {epoch + 1}, Loss {l:f}')"
      ],
      "metadata": {
        "colab": {
          "base_uri": "https://localhost:8080/"
        },
        "id": "AGcry8OElQX_",
        "outputId": "b93306bd-7c32-4964-8836-4e05ccb96575"
      },
      "execution_count": 15,
      "outputs": [
        {
          "output_type": "stream",
          "name": "stdout",
          "text": [
            "Epoch 1, Loss 0.000353\n",
            "Epoch 2, Loss 0.000103\n",
            "Epoch 3, Loss 0.000101\n"
          ]
        }
      ]
    },
    {
      "cell_type": "markdown",
      "source": [
        "Below, we compare the model parameters learned by training on finite data\n",
        "and the actual parameters that generated our dataset.\n",
        "To access parameters,\n",
        "we first access the layer that we need from `net`,\n",
        "and then access that layer's weights and bias.\n",
        "Note that our estimated parameters are\n",
        "close to their ground-truth counterparts.\n"
      ],
      "metadata": {
        "id": "fNZgnR6-lf7Q"
      }
    },
    {
      "cell_type": "code",
      "source": [
        "w = net[0].weight.data\n",
        "print('Error in estimating w:', true_w - w.reshape(true_w.shape))\n",
        "b = net[0].bias.data\n",
        "print('Error in estimating b:', true_b - b)"
      ],
      "metadata": {
        "colab": {
          "base_uri": "https://localhost:8080/"
        },
        "id": "JuyZHgDElpGb",
        "outputId": "b72b36ca-c115-465d-ba8b-1db5b1df7392"
      },
      "execution_count": 16,
      "outputs": [
        {
          "output_type": "stream",
          "name": "stdout",
          "text": [
            "Error in estimating w: tensor([-0.0002,  0.0008])\n",
            "Error in estimating b: tensor([-0.0007])\n"
          ]
        }
      ]
    },
    {
      "cell_type": "markdown",
      "source": [
        "#The FashionMNIST dataset"
      ],
      "metadata": {
        "id": "eIJMLKdBn0Gm"
      }
    },
    {
      "cell_type": "markdown",
      "source": [
        "One of the most widely used datasets for image classification is the  MNIST dataset.\n",
        "While it had a good history as a benchmark dataset,\n",
        "even simple models by today's standards achieve classification accuracy over $95\\%$ on it,\n",
        "making it unsuitable for distinguishing between stronger models and weaker ones.\n",
        "Today, MNIST serves as more of a sanity check than as a benchmark.\n",
        "Thus, we will focus our discussion in the following\n",
        "on the qualitatively similar, but comparatively more complex Fashion-MNIST\n",
        "dataset, which was released in 2017.\n",
        "\n",
        "We can download and read the Fashion-MNIST dataset into memory via the build-in functions in PyTorch."
      ],
      "metadata": {
        "id": "7K-ffLrzn3b9"
      }
    },
    {
      "cell_type": "code",
      "source": [
        "import torchvision\n",
        "from torchvision import transforms\n",
        "\n",
        "# `ToTensor()` converts the image data from PIL type to 32-bit floating point\n",
        "# tensors. It also divides all numbers by 255, so that all pixel values are between\n",
        "# 0 and 1\n",
        "trans = transforms.ToTensor()\n",
        "mnist_train = torchvision.datasets.FashionMNIST(\n",
        "    root=\"../data\", train=True, transform=trans, download=True)\n",
        "mnist_test = torchvision.datasets.FashionMNIST(\n",
        "    root=\"../data\", train=False, transform=trans, download=True)"
      ],
      "metadata": {
        "colab": {
          "base_uri": "https://localhost:8080/"
        },
        "id": "1RSMhGgmolZs",
        "outputId": "09126635-d6da-422e-e471-7047c3e1e34c"
      },
      "execution_count": 17,
      "outputs": [
        {
          "output_type": "stream",
          "name": "stdout",
          "text": [
            "Downloading http://fashion-mnist.s3-website.eu-central-1.amazonaws.com/train-images-idx3-ubyte.gz\n",
            "Downloading http://fashion-mnist.s3-website.eu-central-1.amazonaws.com/train-images-idx3-ubyte.gz to ../data/FashionMNIST/raw/train-images-idx3-ubyte.gz\n"
          ]
        },
        {
          "output_type": "stream",
          "name": "stderr",
          "text": [
            "100%|██████████| 26.4M/26.4M [00:02<00:00, 10.5MB/s]\n"
          ]
        },
        {
          "output_type": "stream",
          "name": "stdout",
          "text": [
            "Extracting ../data/FashionMNIST/raw/train-images-idx3-ubyte.gz to ../data/FashionMNIST/raw\n",
            "\n",
            "Downloading http://fashion-mnist.s3-website.eu-central-1.amazonaws.com/train-labels-idx1-ubyte.gz\n",
            "Downloading http://fashion-mnist.s3-website.eu-central-1.amazonaws.com/train-labels-idx1-ubyte.gz to ../data/FashionMNIST/raw/train-labels-idx1-ubyte.gz\n"
          ]
        },
        {
          "output_type": "stream",
          "name": "stderr",
          "text": [
            "100%|██████████| 29.5k/29.5k [00:00<00:00, 173kB/s]\n"
          ]
        },
        {
          "output_type": "stream",
          "name": "stdout",
          "text": [
            "Extracting ../data/FashionMNIST/raw/train-labels-idx1-ubyte.gz to ../data/FashionMNIST/raw\n",
            "\n",
            "Downloading http://fashion-mnist.s3-website.eu-central-1.amazonaws.com/t10k-images-idx3-ubyte.gz\n",
            "Downloading http://fashion-mnist.s3-website.eu-central-1.amazonaws.com/t10k-images-idx3-ubyte.gz to ../data/FashionMNIST/raw/t10k-images-idx3-ubyte.gz\n"
          ]
        },
        {
          "output_type": "stream",
          "name": "stderr",
          "text": [
            "100%|██████████| 4.42M/4.42M [00:01<00:00, 3.24MB/s]\n"
          ]
        },
        {
          "output_type": "stream",
          "name": "stdout",
          "text": [
            "Extracting ../data/FashionMNIST/raw/t10k-images-idx3-ubyte.gz to ../data/FashionMNIST/raw\n",
            "\n",
            "Downloading http://fashion-mnist.s3-website.eu-central-1.amazonaws.com/t10k-labels-idx1-ubyte.gz\n",
            "Downloading http://fashion-mnist.s3-website.eu-central-1.amazonaws.com/t10k-labels-idx1-ubyte.gz to ../data/FashionMNIST/raw/t10k-labels-idx1-ubyte.gz\n"
          ]
        },
        {
          "output_type": "stream",
          "name": "stderr",
          "text": [
            "100%|██████████| 5.15k/5.15k [00:00<00:00, 21.3MB/s]"
          ]
        },
        {
          "output_type": "stream",
          "name": "stdout",
          "text": [
            "Extracting ../data/FashionMNIST/raw/t10k-labels-idx1-ubyte.gz to ../data/FashionMNIST/raw\n",
            "\n"
          ]
        },
        {
          "output_type": "stream",
          "name": "stderr",
          "text": [
            "\n"
          ]
        }
      ]
    },
    {
      "cell_type": "markdown",
      "source": [
        "Fashion-MNIST consists of images from $10$ categories, each represented\n",
        "by $6000$ images in the training dataset and by $1000$ in the test dataset.\n",
        "The *test dataset* (or *test set*) is used for evaluating  model performance and not for training.\n",
        "Consequently, the training set and the test set\n",
        "contain $60000$ and $10000$ images, respectively."
      ],
      "metadata": {
        "id": "ML9X9ssooz6K"
      }
    },
    {
      "cell_type": "code",
      "source": [
        "len(mnist_train), len(mnist_test)"
      ],
      "metadata": {
        "colab": {
          "base_uri": "https://localhost:8080/"
        },
        "id": "fGqh4272pAk-",
        "outputId": "f88037d9-753a-4450-e4d7-0828e7e3cecc"
      },
      "execution_count": 18,
      "outputs": [
        {
          "output_type": "execute_result",
          "data": {
            "text/plain": [
              "(60000, 10000)"
            ]
          },
          "metadata": {},
          "execution_count": 18
        }
      ]
    },
    {
      "cell_type": "markdown",
      "source": [
        "The height and width of each input image are both $28$ pixels.\n",
        "Note that the dataset consists of grayscale images, whose number of channels is $1$.\n",
        "For brevity, we store the shape of any image with a height of $h$ pixels and a width of $w$ pixels as $h \\times w$ or ($h$, $w$)."
      ],
      "metadata": {
        "id": "SUCEEULzpDok"
      }
    },
    {
      "cell_type": "code",
      "source": [
        "mnist_train[0][0].shape"
      ],
      "metadata": {
        "colab": {
          "base_uri": "https://localhost:8080/"
        },
        "id": "n5an2FMRpWcF",
        "outputId": "0f02aae6-12e8-4e02-d859-418b48a342e4"
      },
      "execution_count": 19,
      "outputs": [
        {
          "output_type": "execute_result",
          "data": {
            "text/plain": [
              "torch.Size([1, 28, 28])"
            ]
          },
          "metadata": {},
          "execution_count": 19
        }
      ]
    },
    {
      "cell_type": "markdown",
      "source": [
        "The images in Fashion-MNIST are associated with the following categories:\n",
        "t-shirt, trousers, pullover, dress, coat, sandal, shirt, sneaker, bag, and ankle boot.\n",
        "The following function converts between numeric label indices and their names in text."
      ],
      "metadata": {
        "id": "WsQ6f_2Hpf6y"
      }
    },
    {
      "cell_type": "code",
      "source": [
        "def get_fashion_mnist_labels(labels):\n",
        "    \"\"\"Return text labels for the Fashion-MNIST dataset.\"\"\"\n",
        "    text_labels = ['t-shirt', 'trouser', 'pullover', 'dress', 'coat',\n",
        "                   'sandal', 'shirt', 'sneaker', 'bag', 'ankle boot']\n",
        "    return [text_labels[int(i)] for i in labels]"
      ],
      "metadata": {
        "id": "owWG8fRqpjeq"
      },
      "execution_count": 20,
      "outputs": []
    },
    {
      "cell_type": "markdown",
      "source": [
        "We can now create a function to visualize these examples."
      ],
      "metadata": {
        "id": "N4cX90fspqDU"
      }
    },
    {
      "cell_type": "code",
      "source": [
        "def show_images(imgs, num_rows, num_cols, titles=None, scale=1.5):\n",
        "    \"\"\"Plot a list of images.\"\"\"\n",
        "    figsize = (num_cols * scale, num_rows * scale)\n",
        "    _, axes = plt.subplots(num_rows, num_cols, figsize=figsize)\n",
        "    plt.tight_layout()\n",
        "    axes = axes.flatten()\n",
        "    for i, (ax, img) in enumerate(zip(axes, imgs)):\n",
        "        if torch.is_tensor(img):\n",
        "            # Tensor Image\n",
        "            ax.imshow(img.numpy())\n",
        "        else:\n",
        "            # PIL Image\n",
        "            ax.imshow(img)\n",
        "        ax.axes.get_xaxis().set_visible(False)\n",
        "        ax.axes.get_yaxis().set_visible(False)\n",
        "        if titles:\n",
        "            ax.set_title(titles[i])\n",
        "    return axes"
      ],
      "metadata": {
        "id": "kGC9I6RkppVA"
      },
      "execution_count": 21,
      "outputs": []
    },
    {
      "cell_type": "markdown",
      "source": [
        "Here are the images and their corresponding labels (in text)\n",
        "for the first few examples in the training dataset."
      ],
      "metadata": {
        "id": "ByF0gjeYp0ro"
      }
    },
    {
      "cell_type": "code",
      "source": [
        "X, y = next(iter(torch.utils.data.DataLoader(mnist_train, batch_size=18)))\n",
        "show_images(X.reshape(18, 28, 28), 2, 9, titles=get_fashion_mnist_labels(y));"
      ],
      "metadata": {
        "colab": {
          "base_uri": "https://localhost:8080/",
          "height": 292
        },
        "id": "-et9_xY9pz7z",
        "outputId": "7876fbfb-8350-4661-cfbe-0fd58726a01c"
      },
      "execution_count": 22,
      "outputs": [
        {
          "output_type": "display_data",
          "data": {
            "text/plain": [
              "<Figure size 1350x300 with 18 Axes>"
            ],
            "image/png": "[encoded data removed]"
          },
          "metadata": {}
        }
      ]
    },
    {
      "cell_type": "markdown",
      "source": [
        "To make our life easier when reading from the training and test sets,\n",
        "we use the built-in data iterator, rather than creating one from scratch.\n",
        "Recall that, at each iteration, a data iterator\n",
        "reads a mini-batch of data with size `batch_size` each time.\n",
        "We also randomly shuffle the examples for the training data iterator."
      ],
      "metadata": {
        "id": "ViDnyJIkqLPz"
      }
    },
    {
      "cell_type": "code",
      "source": [
        "batch_size = 256\n",
        "\n",
        "# Use 2 processes to read the data.\n",
        "train_iter = torch.utils.data.DataLoader(mnist_train, batch_size, shuffle=True,\n",
        "                             num_workers=2)"
      ],
      "metadata": {
        "id": "OXDViUAvqT5x"
      },
      "execution_count": 23,
      "outputs": []
    },
    {
      "cell_type": "markdown",
      "source": [
        "Now we define the `load_data_fashion_mnist()` function\n",
        "that obtains and reads the Fashion-MNIST dataset.\n",
        "It returns the data iterators for the training set, the validation set, and the test set. It uses the `random_split()` method to split the initial training set into the actual training set, having `50000` instances, and the validation set, having the remaining `10000` instances. In order to ensure reproducibility, we also specify a generator with a fixed seed. In addition, the `load_data_fashion_mnist()` function accepts an optional argument to resize images to another shape."
      ],
      "metadata": {
        "id": "iellQyf_qzNf"
      }
    },
    {
      "cell_type": "code",
      "source": [
        "def load_data_fashion_mnist(batch_size, resize=None):\n",
        "    \"\"\"Download the Fashion-MNIST dataset and then load it into memory.\"\"\"\n",
        "    trans = [transforms.ToTensor()]\n",
        "    if resize:\n",
        "        trans.insert(0, transforms.Resize(resize))\n",
        "    trans = transforms.Compose(trans)\n",
        "    mnist_train = torchvision.datasets.FashionMNIST(\n",
        "        root=\"../data\", train=True, transform=trans, download=True)\n",
        "    mnist_test = torchvision.datasets.FashionMNIST(\n",
        "        root=\"../data\", train=False, transform=trans, download=True)\n",
        "    mnist_train, mnist_val = torch.utils.data.random_split(mnist_train, [50000, 10000],\n",
        "                                                           generator=torch.Generator().manual_seed(42))\n",
        "    return (torch.utils.data.DataLoader(mnist_train, batch_size, shuffle=True,\n",
        "                            num_workers=2),\n",
        "            torch.utils.data.DataLoader(mnist_val, batch_size, shuffle=False,\n",
        "                            num_workers=2),\n",
        "            torch.utils.data.DataLoader(mnist_test, batch_size, shuffle=False,\n",
        "                            num_workers=2))"
      ],
      "metadata": {
        "id": "O84zoHHqq9ix"
      },
      "execution_count": 24,
      "outputs": []
    },
    {
      "cell_type": "markdown",
      "source": [
        "Below, we test the image resizing feature of the `load_data_fashion_mnist()` function\n",
        "by specifying the `resize` argument."
      ],
      "metadata": {
        "id": "TaUlp0RRrQz9"
      }
    },
    {
      "cell_type": "code",
      "source": [
        "train_iter, val_iter, test_iter = load_data_fashion_mnist(32, resize=64)\n",
        "for X, y in train_iter:\n",
        "    print(X.shape, X.dtype, y.shape, y.dtype)\n",
        "    break"
      ],
      "metadata": {
        "colab": {
          "base_uri": "https://localhost:8080/"
        },
        "id": "SMjBlYaOrUkt",
        "outputId": "c95fa79f-5e89-4631-b24d-4e0d9f8c64c7"
      },
      "execution_count": 25,
      "outputs": [
        {
          "output_type": "stream",
          "name": "stdout",
          "text": [
            "torch.Size([32, 1, 64, 64]) torch.float32 torch.Size([32]) torch.int64\n"
          ]
        }
      ]
    },
    {
      "cell_type": "markdown",
      "source": [
        "We are now ready to work with the Fashion-MNIST dataset."
      ],
      "metadata": {
        "id": "ra7wIomjrZ25"
      }
    },
    {
      "cell_type": "markdown",
      "source": [
        "#Softmax regression in PyTorch"
      ],
      "metadata": {
        "id": "a7jGgNWyz5EQ"
      }
    },
    {
      "cell_type": "markdown",
      "source": [
        "Next, we will implement **softmax regression** in PyTorch. We will work with the Fashion-MNIST dataset, setting up data iterators with batch size $256$."
      ],
      "metadata": {
        "id": "QCz-Kd8Pra73"
      }
    },
    {
      "cell_type": "code",
      "source": [
        "batch_size = 256\n",
        "train_iter, val_iter, test_iter = load_data_fashion_mnist(batch_size)"
      ],
      "metadata": {
        "id": "anC-JI9vu270"
      },
      "execution_count": 26,
      "outputs": []
    },
    {
      "cell_type": "markdown",
      "source": [
        "As for linear regression,\n",
        "each example here will be represented by a fixed-length vector.\n",
        "Each example in the raw dataset is a $28 \\times 28$ image.\n",
        "Here, we will flatten each image,\n",
        "treating them as vectors of length $784$.\n",
        "Thus, we treat each pixel location as just another feature.\n",
        "\n",
        "Recall that, in softmax regression,\n",
        "we have as many outputs as there are classes.\n",
        "Because our dataset has $10$ classes,\n",
        "our network will have an output dimension of $10$.\n",
        "Consequently, our weights will constitute a $784 \\times 10$ matrix,\n",
        "and the biases will constitute a $1 \\times 10$ row vector.\n",
        "\n",
        "Recall also that the output layer of softmax regression\n",
        "is a fully-connected layer. Therefore, to implement our model,\n",
        "we just need to add one fully-connected layer\n",
        "with $10$ outputs to a `nn.Sequential` class.\n",
        "Because the inputs are given in the dataset as a $3$-dimensional tensor, we have to reshape them to a $2$-dimensional tensor, which is the only type of tensor fully-connected layers can manipulate. We do this by adding the `nn.Flatten` layer before the fully-connected layer.\n",
        "\n",
        "Again, we initialize the weights at random\n",
        "with zero mean and standard deviation $0.01$."
      ],
      "metadata": {
        "id": "5yRw3qkMvEel"
      }
    },
    {
      "cell_type": "code",
      "source": [
        "# PyTorch does not implicitly reshape the inputs. Thus, we define the flatten\n",
        "# layer to reshape the inputs before the linear layer in our network.\n",
        "net = nn.Sequential(nn.Flatten(), nn.Linear(784, 10))\n",
        "\n",
        "def init_weights(m):\n",
        "    if type(m) == nn.Linear:\n",
        "        nn.init.normal_(m.weight, std=0.01)\n",
        "\n",
        "net.apply(init_weights)"
      ],
      "metadata": {
        "colab": {
          "base_uri": "https://localhost:8080/"
        },
        "id": "byceM65rvmNu",
        "outputId": "6e17dfd1-fa97-43c7-d41c-09ece3bf342d"
      },
      "execution_count": 27,
      "outputs": [
        {
          "output_type": "execute_result",
          "data": {
            "text/plain": [
              "Sequential(\n",
              "  (0): Flatten(start_dim=1, end_dim=-1)\n",
              "  (1): Linear(in_features=784, out_features=10, bias=True)\n",
              ")"
            ]
          },
          "metadata": {},
          "execution_count": 27
        }
      ]
    },
    {
      "cell_type": "markdown",
      "source": [
        "Notice that we do not add a softmax layer to our network. In PyTorch, instead of passing softmax probabilities into the loss function, we will just\n",
        "pass the logits, and compute the softmax and its logarithm\n",
        "all at once inside the *cross-entropy loss* function,\n",
        "which uses different computational tricks to avoid numerical instability issues."
      ],
      "metadata": {
        "id": "Ibm9u7s3ObRS"
      }
    },
    {
      "cell_type": "code",
      "source": [
        "loss = nn.CrossEntropyLoss()"
      ],
      "metadata": {
        "id": "z2JBzvt0OanK"
      },
      "execution_count": 28,
      "outputs": []
    },
    {
      "cell_type": "markdown",
      "source": [
        "Here, we use mini-batch stochastic gradient descent\n",
        "with a learning rate of $0.1$ as the optimization algorithm.\n",
        "Note that this is the same as we applied in the linear regression example,\n",
        "and it illustrates the general applicability of the optimizers."
      ],
      "metadata": {
        "id": "-dcwR8zbPBkZ"
      }
    },
    {
      "cell_type": "code",
      "source": [
        "lr = 0.1\n",
        "optimizer = torch.optim.SGD(net.parameters(), lr=lr)"
      ],
      "metadata": {
        "id": "wNQtMjYvPK3m"
      },
      "execution_count": 29,
      "outputs": []
    },
    {
      "cell_type": "markdown",
      "source": [
        "Given the predicted probability distribution `y_hat`,\n",
        "we typically choose the class with the highest predicted probability,\n",
        "whenever we must output a hard prediction.\n",
        "Indeed, many applications require that we make a choice.\n",
        "Gmail must categorize an email into \"Primary\", \"Social\", \"Updates\", or \"Forums\".\n",
        "It might estimate probabilities internally,\n",
        "but, at the end of the day, it has to choose one among the classes.\n",
        "\n",
        "When predictions are consistent with the label class `y`, they are correct.\n",
        "The classification accuracy is the fraction of all predictions that are correct.\n",
        "Although it can be difficult to optimize accuracy directly (it is not differentiable),\n",
        "it is often the performance measure that we care most about,\n",
        "and we will nearly always report it when training classifiers.\n",
        "\n",
        "To compute accuracy we do the following.\n",
        "First, if `y_hat` is a matrix,\n",
        "we assume that the second dimension stores prediction scores for each class.\n",
        "We use `argmax()` to obtain the predicted class by the index for the largest entry in each row.\n",
        "Then, we compare the predicted class with the ground-truth `y` elementwise.\n",
        "Since the equality operator `==` is sensitive to data types,\n",
        "we convert `y_hat`'s data type to match that of `y`.\n",
        "The result is a tensor containing entries of $0$ (false) and $1$ (true).\n",
        "Taking the sum yields the number of correct predictions. We can evaluate the accuracy for any model `net` on a dataset that is accessed via the data iterator `data_iter`. We use the variables `total_hits` and `total_samples` for storing the number of correct predictions and the number of predictions, respectively. Both will be accumulated over time as we iterate over the dataset. We also accumulate the total loss in the `total_loss` variable, and we return the mean loss by dividing by the number of batches `len(data_iter)`, because each individual loss is computed batchwise."
      ],
      "metadata": {
        "id": "wV3Dx9jfs9Cs"
      }
    },
    {
      "cell_type": "code",
      "source": [
        "def evaluate_accuracy(net, data_iter):\n",
        "    \"\"\"Compute the accuracy for a model on a dataset.\"\"\"\n",
        "    net.eval()  # Set the model to evaluation mode\n",
        "\n",
        "    total_loss = 0\n",
        "    total_hits = 0\n",
        "    total_samples = 0\n",
        "    with torch.no_grad():\n",
        "        for X, y in data_iter:\n",
        "            y_hat = net(X)\n",
        "            l = loss(y_hat, y)\n",
        "            total_loss += float(l)\n",
        "            total_hits += sum(net(X).argmax(axis=1).type(y.dtype) == y)\n",
        "            total_samples += y.numel()\n",
        "    return float(total_loss) / len(data_iter), float(total_hits) / total_samples  * 100"
      ],
      "metadata": {
        "id": "rPfCYrx7YkHH"
      },
      "execution_count": 30,
      "outputs": []
    },
    {
      "cell_type": "markdown",
      "source": [
        "The training loop for softmax regression should look strikingly familiar,\n",
        "if we read through our implementation\n",
        "of linear regression.\n",
        "Here, we refactor the implementation to make it reusable.\n",
        "First, we define a function to train for one epoch.\n",
        "Note that `optimizer` is a general function to update the model parameters,\n",
        "which accepts the batch size as an argument.\n",
        "It will be one of the framework's built-in optimization functions."
      ],
      "metadata": {
        "id": "RLxO6jJiwN5t"
      }
    },
    {
      "cell_type": "code",
      "source": [
        "def train_epoch(net, train_iter, loss, optimizer):\n",
        "    # Set the model to training mode\n",
        "    net.train()\n",
        "    # Sum of training loss, sum of training correct predictions, no. of examples\n",
        "    total_loss = 0\n",
        "    total_hits = 0\n",
        "    total_samples = 0\n",
        "    for X, y in train_iter:\n",
        "        # Compute gradients and update parameters\n",
        "        y_hat = net(X)\n",
        "        l = loss(y_hat, y)\n",
        "        # Using PyTorch built-in optimizer & loss criterion\n",
        "        optimizer.zero_grad()\n",
        "        l.backward()\n",
        "        optimizer.step()\n",
        "        total_loss += float(l)\n",
        "        total_hits += sum(y_hat.argmax(axis=1).type(y.dtype) == y)\n",
        "        total_samples += y.numel()\n",
        "    # Return training loss and training accuracy\n",
        "    return float(total_loss) / len(train_iter), float(total_hits) / total_samples  * 100"
      ],
      "metadata": {
        "id": "hny8wQz-Qry4"
      },
      "execution_count": 31,
      "outputs": []
    },
    {
      "cell_type": "markdown",
      "source": [
        "The following training function then\n",
        "trains a model `net` on a training dataset accessed via `train_iter`\n",
        "for multiple epochs, which is specified by `num_epochs`.\n",
        "At the end of each epoch,\n",
        "the model is evaluated on a validation dataset, accessed via `val_iter`."
      ],
      "metadata": {
        "id": "CTbLypRAwqS8"
      }
    },
    {
      "cell_type": "code",
      "source": [
        "def train(net, train_iter, val_iter, loss, num_epochs, optimizer):\n",
        "    \"\"\"Train a model.\"\"\"\n",
        "    train_loss_all = []\n",
        "    train_acc_all = []\n",
        "    val_loss_all = []\n",
        "    val_acc_all = []\n",
        "    for epoch in range(num_epochs):\n",
        "        train_loss, train_acc = train_epoch(net, train_iter, loss, optimizer)\n",
        "        train_loss_all.append(train_loss)\n",
        "        train_acc_all.append(train_acc)\n",
        "        val_loss, val_acc = evaluate_accuracy(net, val_iter)\n",
        "        val_loss_all.append(val_loss)\n",
        "        val_acc_all.append(val_acc)\n",
        "        print(f'Epoch {epoch + 1}, Train loss {train_loss:.2f}, Train accuracy {train_acc:.2f}, Validation loss {val_loss:.2f}, Validation accuracy {val_acc:.2f}')\n",
        "\n",
        "    return train_loss_all, train_acc_all, val_loss_all, val_acc_all"
      ],
      "metadata": {
        "id": "CkJyGXt2RayY"
      },
      "execution_count": 32,
      "outputs": []
    },
    {
      "cell_type": "markdown",
      "source": [
        "Now, we train the model for $10$ epochs.\n",
        "Note that both the number of epochs (`num_epochs`),\n",
        "and learning rate (`lr`) are adjustable hyperparameters.\n",
        "By changing their values, we may be able\n",
        "to increase the classification accuracy of the model."
      ],
      "metadata": {
        "id": "Dfu-wjJ6w-N7"
      }
    },
    {
      "cell_type": "code",
      "source": [
        "num_epochs = 10\n",
        "train_loss_all, train_acc_all, val_loss_all, val_acc_all = train(net, train_iter, val_iter, loss, num_epochs, optimizer)"
      ],
      "metadata": {
        "colab": {
          "base_uri": "https://localhost:8080/"
        },
        "id": "uawPLYvbZ34A",
        "outputId": "3d6c0e82-ad87-40f6-b510-13a63805b85e"
      },
      "execution_count": 33,
      "outputs": [
        {
          "output_type": "stream",
          "name": "stdout",
          "text": [
            "Epoch 1, Train loss 0.82, Train accuracy 73.86, Validation loss 0.63, Validation accuracy 78.73\n",
            "Epoch 2, Train loss 0.58, Train accuracy 80.99, Validation loss 0.57, Validation accuracy 81.14\n",
            "Epoch 3, Train loss 0.54, Train accuracy 82.23, Validation loss 0.53, Validation accuracy 82.20\n",
            "Epoch 4, Train loss 0.51, Train accuracy 82.91, Validation loss 0.52, Validation accuracy 82.29\n",
            "Epoch 5, Train loss 0.49, Train accuracy 83.39, Validation loss 0.51, Validation accuracy 82.79\n",
            "Epoch 6, Train loss 0.48, Train accuracy 83.79, Validation loss 0.49, Validation accuracy 83.34\n",
            "Epoch 7, Train loss 0.47, Train accuracy 84.01, Validation loss 0.51, Validation accuracy 82.04\n",
            "Epoch 8, Train loss 0.46, Train accuracy 84.24, Validation loss 0.47, Validation accuracy 83.80\n",
            "Epoch 9, Train loss 0.46, Train accuracy 84.63, Validation loss 0.49, Validation accuracy 83.52\n",
            "Epoch 10, Train loss 0.45, Train accuracy 84.59, Validation loss 0.53, Validation accuracy 80.71\n"
          ]
        }
      ]
    },
    {
      "cell_type": "markdown",
      "source": [
        "We separately plot the loss and the accuracy for the training and validation sets, using the `plot_loss()` and `plot_accuracy()` methods, respectively."
      ],
      "metadata": {
        "id": "7FaqkYi9xPA3"
      }
    },
    {
      "cell_type": "code",
      "source": [
        "def plot_loss(train_loss_all, val_loss_all):\n",
        "    epochs = range(1, len(train_loss_all) + 1)\n",
        "    plt.plot(epochs, train_loss_all, 'bo', label='Training loss')\n",
        "    plt.plot(epochs, val_loss_all, 'b', label='Validation loss')\n",
        "    plt.title('Training and validation loss')\n",
        "    plt.xlabel('Epochs')\n",
        "    plt.ylabel('Loss')\n",
        "    plt.legend()\n",
        "    plt.show()\n",
        "\n",
        "plot_loss(train_loss_all, val_loss_all)"
      ],
      "metadata": {
        "colab": {
          "base_uri": "https://localhost:8080/",
          "height": 472
        },
        "id": "bY5lvi52pVbR",
        "outputId": "c633b837-5113-40f6-a712-e0f55d0bf3de"
      },
      "execution_count": 34,
      "outputs": [
        {
          "output_type": "display_data",
          "data": {
            "text/plain": [
              "<Figure size 640x480 with 1 Axes>"
            ],
            "image/png": "[encoded data removed]"
          },
          "metadata": {}
        }
      ]
    },
    {
      "cell_type": "code",
      "source": [
        "def plot_accuracy(train_acc_all, val_acc_all):\n",
        "    epochs = range(1, len(train_acc_all) + 1)\n",
        "    plt.plot(epochs, train_acc_all, 'bo', label='Training acc')\n",
        "    plt.plot(epochs, val_acc_all, 'b', label='Validation acc')\n",
        "    plt.title('Training and validation accuracy')\n",
        "    plt.xlabel('Epochs')\n",
        "    plt.ylabel('Accuracy')\n",
        "    plt.legend()\n",
        "    plt.show()\n",
        "\n",
        "plot_accuracy(train_acc_all, val_acc_all)"
      ],
      "metadata": {
        "colab": {
          "base_uri": "https://localhost:8080/",
          "height": 472
        },
        "id": "Co2IczFDpq49",
        "outputId": "2e704836-9580-4ab6-d22d-e86f31d347f7"
      },
      "execution_count": 35,
      "outputs": [
        {
          "output_type": "display_data",
          "data": {
            "text/plain": [
              "<Figure size 640x480 with 1 Axes>"
            ],
            "image/png": "[encoded data removed]"
          },
          "metadata": {}
        }
      ]
    },
    {
      "cell_type": "markdown",
      "source": [
        "Now that training is complete, we can evaluate the trained model on the *test set*, which was not used at all during the training process, not even for choosing hyperparameters."
      ],
      "metadata": {
        "id": "skE-2aD7xpwd"
      }
    },
    {
      "cell_type": "code",
      "source": [
        "test_loss, test_acc = evaluate_accuracy(net, test_iter)\n",
        "print(f'Test loss {test_loss:.2f}, Test accuracy {test_acc:.2f}')"
      ],
      "metadata": {
        "colab": {
          "base_uri": "https://localhost:8080/"
        },
        "id": "ml36YS-FwTdI",
        "outputId": "d50c68b2-0cf5-4d5a-f995-dbea766ee5a2"
      },
      "execution_count": 36,
      "outputs": [
        {
          "output_type": "stream",
          "name": "stdout",
          "text": [
            "Test loss 0.55, Test accuracy 80.06\n"
          ]
        }
      ]
    },
    {
      "cell_type": "markdown",
      "source": [
        "We can also use our model to classify some images.\n",
        "Given a series of images,\n",
        "we will compare their actual labels\n",
        "(first line of text output)\n",
        "and the predictions from the model\n",
        "(second line of text output)."
      ],
      "metadata": {
        "id": "mf7M363PxfeO"
      }
    },
    {
      "cell_type": "code",
      "source": [
        "def predict(net, test_iter, n=18):\n",
        "    \"\"\"Predict labels.\"\"\"\n",
        "    for X, y in test_iter:\n",
        "        break\n",
        "    trues = get_fashion_mnist_labels(y)\n",
        "    preds = get_fashion_mnist_labels(net(X).argmax(axis=1))\n",
        "    titles = [true +'\\n' + pred for true, pred in zip(trues, preds)]\n",
        "    show_images(X[0:n].reshape((n, 28, 28)), 2, int(n/2), titles=titles[0:n])\n",
        "\n",
        "predict(net, test_iter)"
      ],
      "metadata": {
        "colab": {
          "base_uri": "https://localhost:8080/",
          "height": 313
        },
        "id": "Avw5faeVxm1n",
        "outputId": "8dc2c037-3a44-4415-c77c-4c2b58220211"
      },
      "execution_count": 37,
      "outputs": [
        {
          "output_type": "display_data",
          "data": {
            "text/plain": [
              "<Figure size 1350x300 with 18 Axes>"
            ],
            "image/png": "[encoded data removed]"
          },
          "metadata": {}
        }
      ]
    },
    {
      "cell_type": "markdown",
      "source": [
        "#Multilayer perceptrons"
      ],
      "metadata": {
        "id": "Vf_QScbW3EDS"
      }
    },
    {
      "cell_type": "markdown",
      "source": [
        "As compared with our implementation\n",
        "of softmax regression,\n",
        "the only difference is that we add\n",
        "*two* fully-connected layers\n",
        "(previously, we added *one*).\n",
        "The first is our *hidden layer*,\n",
        "which contains $256$ hidden units,\n",
        "and applies the ReLU activation function.\n",
        "The second is our *output layer*."
      ],
      "metadata": {
        "id": "DRwl7vMhDU38"
      }
    },
    {
      "cell_type": "code",
      "source": [
        "net = nn.Sequential(nn.Flatten(),\n",
        "                    nn.Linear(784, 256),\n",
        "                    nn.ReLU(),\n",
        "                    nn.Linear(256, 10))\n",
        "\n",
        "def init_weights(m):\n",
        "    if type(m) == nn.Linear:\n",
        "        nn.init.normal_(m.weight, std=0.01)\n",
        "\n",
        "net.apply(init_weights)"
      ],
      "metadata": {
        "colab": {
          "base_uri": "https://localhost:8080/"
        },
        "id": "io-NdMN03YIK",
        "outputId": "89916a45-df0b-48c5-f958-062b0b73ef57"
      },
      "execution_count": 38,
      "outputs": [
        {
          "output_type": "execute_result",
          "data": {
            "text/plain": [
              "Sequential(\n",
              "  (0): Flatten(start_dim=1, end_dim=-1)\n",
              "  (1): Linear(in_features=784, out_features=256, bias=True)\n",
              "  (2): ReLU()\n",
              "  (3): Linear(in_features=256, out_features=10, bias=True)\n",
              ")"
            ]
          },
          "metadata": {},
          "execution_count": 38
        }
      ]
    },
    {
      "cell_type": "markdown",
      "source": [
        "The training loop is exactly the same\n",
        "as when we implemented softmax regression.\n",
        "This modularity enables us to separate\n",
        "matters concerning the model architecture\n",
        "from other considerations."
      ],
      "metadata": {
        "id": "mydyz5-PDpuT"
      }
    },
    {
      "cell_type": "code",
      "source": [
        "batch_size, lr, num_epochs = 256, 0.1, 10\n",
        "loss = nn.CrossEntropyLoss()\n",
        "optimizer = torch.optim.SGD(net.parameters(), lr=lr)\n",
        "\n",
        "train_iter, val_iter, test_iter = load_data_fashion_mnist(batch_size)\n",
        "train_loss_all, train_acc_all, val_loss_all, val_acc_all = train(net, train_iter, val_iter, loss, num_epochs, optimizer)"
      ],
      "metadata": {
        "colab": {
          "base_uri": "https://localhost:8080/"
        },
        "id": "zXI2nX4_3cZk",
        "outputId": "61056667-f7c2-4891-8238-303660c58463"
      },
      "execution_count": 39,
      "outputs": [
        {
          "output_type": "stream",
          "name": "stdout",
          "text": [
            "Epoch 1, Train loss 1.11, Train accuracy 60.82, Validation loss 0.78, Validation accuracy 71.11\n",
            "Epoch 2, Train loss 0.63, Train accuracy 77.49, Validation loss 0.72, Validation accuracy 71.26\n",
            "Epoch 3, Train loss 0.54, Train accuracy 81.06, Validation loss 0.53, Validation accuracy 80.93\n",
            "Epoch 4, Train loss 0.50, Train accuracy 82.42, Validation loss 0.48, Validation accuracy 83.58\n",
            "Epoch 5, Train loss 0.47, Train accuracy 83.47, Validation loss 0.51, Validation accuracy 80.88\n",
            "Epoch 6, Train loss 0.45, Train accuracy 84.03, Validation loss 0.45, Validation accuracy 84.16\n",
            "Epoch 7, Train loss 0.43, Train accuracy 84.70, Validation loss 0.47, Validation accuracy 82.91\n",
            "Epoch 8, Train loss 0.42, Train accuracy 85.19, Validation loss 0.46, Validation accuracy 82.84\n",
            "Epoch 9, Train loss 0.41, Train accuracy 85.64, Validation loss 0.47, Validation accuracy 83.92\n",
            "Epoch 10, Train loss 0.40, Train accuracy 85.97, Validation loss 0.46, Validation accuracy 82.56\n"
          ]
        }
      ]
    },
    {
      "cell_type": "code",
      "source": [
        "plot_loss(train_loss_all, val_loss_all)"
      ],
      "metadata": {
        "colab": {
          "base_uri": "https://localhost:8080/",
          "height": 472
        },
        "id": "XhhkuEUF3p6n",
        "outputId": "4dde0e34-9305-4ed4-b1be-566610bbc141"
      },
      "execution_count": 40,
      "outputs": [
        {
          "output_type": "display_data",
          "data": {
            "text/plain": [
              "<Figure size 640x480 with 1 Axes>"
            ],
            "image/png": "[encoded data removed]"
          },
          "metadata": {}
        }
      ]
    },
    {
      "cell_type": "code",
      "source": [
        "plot_accuracy(train_acc_all, val_acc_all)"
      ],
      "metadata": {
        "colab": {
          "base_uri": "https://localhost:8080/",
          "height": 472
        },
        "id": "Kk1YYzbU32z_",
        "outputId": "90fefba4-8e8c-4845-bc70-011a2287482e"
      },
      "execution_count": 41,
      "outputs": [
        {
          "output_type": "display_data",
          "data": {
            "text/plain": [
              "<Figure size 640x480 with 1 Axes>"
            ],
            "image/png": "[encoded data removed]"
          },
          "metadata": {}
        }
      ]
    },
    {
      "cell_type": "code",
      "source": [
        "test_loss, test_acc = evaluate_accuracy(net, test_iter)\n",
        "print(f'Test loss {test_loss:.2f}, Test accuracy {test_acc:.2f}')"
      ],
      "metadata": {
        "colab": {
          "base_uri": "https://localhost:8080/"
        },
        "id": "JznVlgex3-JS",
        "outputId": "3c406836-9861-4cd5-dff2-e4a5e4cf6a0b"
      },
      "execution_count": 42,
      "outputs": [
        {
          "output_type": "stream",
          "name": "stdout",
          "text": [
            "Test loss 0.49, Test accuracy 81.71\n"
          ]
        }
      ]
    },
    {
      "cell_type": "code",
      "source": [
        "predict(net, test_iter)"
      ],
      "metadata": {
        "colab": {
          "base_uri": "https://localhost:8080/",
          "height": 313
        },
        "id": "J04AkvZM4A_E",
        "outputId": "2a886a96-0151-4af9-f037-7562a7b96bd8"
      },
      "execution_count": 43,
      "outputs": [
        {
          "output_type": "display_data",
          "data": {
            "text/plain": [
              "<Figure size 1350x300 with 18 Axes>"
            ],
            "image/png": "[encoded data removed]"
          },
          "metadata": {}
        }
      ]
    },
    {
      "cell_type": "markdown",
      "source": [
        "#Weight decay"
      ],
      "metadata": {
        "id": "NRjUENHf4-PV"
      }
    },
    {
      "cell_type": "markdown",
      "source": [
        "Because weight decay is ubiquitous\n",
        "in neural network optimization,\n",
        "the deep learning framework makes it especially convenient,\n",
        "integrating weight decay into the optimization algorithm itself,\n",
        "for easy use in combination with any loss function.\n",
        "Moreover, this integration serves a computational benefit,\n",
        "allowing implementation tricks to add weight decay to the algorithm,\n",
        "without any additional computational overhead.\n",
        "Since the weight decay portion of the update\n",
        "depends only on the current value of each parameter,\n",
        "the optimizer must touch each parameter once anyway.\n",
        "\n",
        "In the following code, we specify\n",
        "the weight decay hyperparameter directly\n",
        "through `weight_decay`, when instantiating our optimizer.\n",
        "By default, PyTorch decays both\n",
        "weights and biases simultaneously.\n"
      ],
      "metadata": {
        "id": "LlXoXtK-D_ZB"
      }
    },
    {
      "cell_type": "code",
      "source": [
        "wd = 0.001\n",
        "optimizer = torch.optim.SGD(net.parameters(), weight_decay=wd, lr=lr)"
      ],
      "metadata": {
        "id": "NrZnu2RF49pY"
      },
      "execution_count": 44,
      "outputs": []
    },
    {
      "cell_type": "markdown",
      "source": [
        "Since we do not change the network architecture at all, `net` will be the same as before. However, in order to train the network from scratch, we call the `net.apply(init_weights)` method to reinitialize the weights randomly.\n",
        "\n",
        "Note that the training error increases,\n",
        "but the test error decreases.\n",
        "This is precisely the effect\n",
        "we expect from regularization."
      ],
      "metadata": {
        "id": "bWLEk9iJE3m5"
      }
    },
    {
      "cell_type": "code",
      "source": [
        "net.apply(init_weights)\n",
        "train_loss_all, train_acc_all, val_loss_all, val_acc_all = train(net, train_iter, val_iter, loss, num_epochs, optimizer)"
      ],
      "metadata": {
        "colab": {
          "base_uri": "https://localhost:8080/"
        },
        "id": "kx80tl5y5s62",
        "outputId": "343c10b3-c43b-49a7-80ca-15db21ed8b3e"
      },
      "execution_count": 45,
      "outputs": [
        {
          "output_type": "stream",
          "name": "stdout",
          "text": [
            "Epoch 1, Train loss 1.07, Train accuracy 64.67, Validation loss 0.68, Validation accuracy 75.22\n",
            "Epoch 2, Train loss 0.62, Train accuracy 77.99, Validation loss 0.59, Validation accuracy 79.12\n",
            "Epoch 3, Train loss 0.54, Train accuracy 81.08, Validation loss 0.55, Validation accuracy 80.11\n",
            "Epoch 4, Train loss 0.50, Train accuracy 82.45, Validation loss 0.63, Validation accuracy 76.90\n",
            "Epoch 5, Train loss 0.48, Train accuracy 83.14, Validation loss 0.48, Validation accuracy 82.85\n",
            "Epoch 6, Train loss 0.46, Train accuracy 83.95, Validation loss 0.49, Validation accuracy 82.40\n",
            "Epoch 7, Train loss 0.44, Train accuracy 84.66, Validation loss 0.57, Validation accuracy 79.12\n",
            "Epoch 8, Train loss 0.43, Train accuracy 85.00, Validation loss 0.43, Validation accuracy 84.83\n",
            "Epoch 9, Train loss 0.42, Train accuracy 85.31, Validation loss 0.43, Validation accuracy 84.54\n",
            "Epoch 10, Train loss 0.41, Train accuracy 85.57, Validation loss 0.43, Validation accuracy 84.96\n"
          ]
        }
      ]
    },
    {
      "cell_type": "code",
      "source": [
        "plot_loss(train_loss_all, val_loss_all)"
      ],
      "metadata": {
        "colab": {
          "base_uri": "https://localhost:8080/",
          "height": 472
        },
        "id": "KQkMoMHT8M4_",
        "outputId": "db503553-0f0e-4779-cedd-92f65b0424b8"
      },
      "execution_count": 46,
      "outputs": [
        {
          "output_type": "display_data",
          "data": {
            "text/plain": [
              "<Figure size 640x480 with 1 Axes>"
            ],
            "image/png": "[encoded data removed]"
          },
          "metadata": {}
        }
      ]
    },
    {
      "cell_type": "code",
      "source": [
        "plot_accuracy(train_acc_all, val_acc_all)"
      ],
      "metadata": {
        "colab": {
          "base_uri": "https://localhost:8080/",
          "height": 472
        },
        "id": "y4IL8cE58OkP",
        "outputId": "145aaa81-e47d-4fbf-bbf1-0349e4dc42ba"
      },
      "execution_count": 47,
      "outputs": [
        {
          "output_type": "display_data",
          "data": {
            "text/plain": [
              "<Figure size 640x480 with 1 Axes>"
            ],
            "image/png": "[encoded data removed]"
          },
          "metadata": {}
        }
      ]
    },
    {
      "cell_type": "code",
      "source": [
        "test_loss, test_acc = evaluate_accuracy(net, test_iter)\n",
        "print(f'Test loss {test_loss:.2f}, Test accuracy {test_acc:.2f}')"
      ],
      "metadata": {
        "colab": {
          "base_uri": "https://localhost:8080/"
        },
        "id": "4lfsTB068Qgr",
        "outputId": "bd9b90ff-e9da-4700-f3be-e72661f7d051"
      },
      "execution_count": 48,
      "outputs": [
        {
          "output_type": "stream",
          "name": "stdout",
          "text": [
            "Test loss 0.45, Test accuracy 83.98\n"
          ]
        }
      ]
    },
    {
      "cell_type": "code",
      "source": [
        "predict(net, test_iter)"
      ],
      "metadata": {
        "colab": {
          "base_uri": "https://localhost:8080/",
          "height": 313
        },
        "id": "vm9gUr4a8SfV",
        "outputId": "3e8a876f-299c-4234-bf4c-3ab583e24bdc"
      },
      "execution_count": 49,
      "outputs": [
        {
          "output_type": "display_data",
          "data": {
            "text/plain": [
              "<Figure size 1350x300 with 18 Axes>"
            ],
            "image/png": "[encoded data removed]"
          },
          "metadata": {}
        }
      ]
    },
    {
      "cell_type": "markdown",
      "source": [
        "#Dropout"
      ],
      "metadata": {
        "id": "-MoLVLG09cuz"
      }
    },
    {
      "cell_type": "markdown",
      "source": [
        "With high-level APIs, all we need to do is add a `nn.Dropout` layer\n",
        "after each fully-connected layer,\n",
        "passing in the dropout probability\n",
        "as the only argument to its constructor.\n",
        "During training, the `nn.Dropout` layer will randomly\n",
        "drop out outputs of the previous layer\n",
        "(or equivalently, the inputs to the subsequent layer)\n",
        "according to the specified dropout probability. Here, we will drop $20\\%$ of the outputs of the first hidden layer, and $30\\%$ of the outputs of the second hidden layer.\n",
        "When not in training mode,\n",
        "the `nn.Dropout` layer simply passes the data through, during testing."
      ],
      "metadata": {
        "id": "EP2jU-sIGK5t"
      }
    },
    {
      "cell_type": "code",
      "source": [
        "dropout1, dropout2 = 0.2, 0.3\n",
        "\n",
        "net = nn.Sequential(nn.Flatten(),\n",
        "        nn.Linear(784, 256),\n",
        "        nn.ReLU(),\n",
        "        # Add a dropout layer after the first fully connected layer\n",
        "        nn.Dropout(dropout1),\n",
        "        nn.Linear(256, 256),\n",
        "        nn.ReLU(),\n",
        "        # Add a dropout layer after the second fully connected layer\n",
        "        nn.Dropout(dropout2),\n",
        "        nn.Linear(256, 10))\n",
        "\n",
        "def init_weights(m):\n",
        "    if type(m) == nn.Linear:\n",
        "        nn.init.normal_(m.weight, std=0.01)\n",
        "\n",
        "net.apply(init_weights)"
      ],
      "metadata": {
        "colab": {
          "base_uri": "https://localhost:8080/"
        },
        "id": "J0il1Cgi9fP_",
        "outputId": "df3a39d3-27f1-4442-ef53-7013009f0f8f"
      },
      "execution_count": 50,
      "outputs": [
        {
          "output_type": "execute_result",
          "data": {
            "text/plain": [
              "Sequential(\n",
              "  (0): Flatten(start_dim=1, end_dim=-1)\n",
              "  (1): Linear(in_features=784, out_features=256, bias=True)\n",
              "  (2): ReLU()\n",
              "  (3): Dropout(p=0.2, inplace=False)\n",
              "  (4): Linear(in_features=256, out_features=256, bias=True)\n",
              "  (5): ReLU()\n",
              "  (6): Dropout(p=0.3, inplace=False)\n",
              "  (7): Linear(in_features=256, out_features=10, bias=True)\n",
              ")"
            ]
          },
          "metadata": {},
          "execution_count": 50
        }
      ]
    },
    {
      "cell_type": "markdown",
      "source": [
        "Next, we train and test the model."
      ],
      "metadata": {
        "id": "-kbDKkSWGZ_b"
      }
    },
    {
      "cell_type": "code",
      "source": [
        "optimizer = torch.optim.SGD(net.parameters(), lr=lr)\n",
        "train_loss_all, train_acc_all, val_loss_all, val_acc_all = train(net, train_iter, val_iter, loss, num_epochs, optimizer)"
      ],
      "metadata": {
        "colab": {
          "base_uri": "https://localhost:8080/"
        },
        "id": "b_BdAScZ-EbN",
        "outputId": "dfeb3f3b-346c-42ac-b5be-28356019470c"
      },
      "execution_count": 51,
      "outputs": [
        {
          "output_type": "stream",
          "name": "stdout",
          "text": [
            "Epoch 1, Train loss 1.85, Train accuracy 32.98, Validation loss 1.16, Validation accuracy 55.65\n",
            "Epoch 2, Train loss 0.96, Train accuracy 63.19, Validation loss 0.88, Validation accuracy 67.84\n",
            "Epoch 3, Train loss 0.74, Train accuracy 72.76, Validation loss 0.65, Validation accuracy 73.88\n",
            "Epoch 4, Train loss 0.63, Train accuracy 76.84, Validation loss 0.59, Validation accuracy 78.17\n",
            "Epoch 5, Train loss 0.57, Train accuracy 79.67, Validation loss 0.59, Validation accuracy 77.89\n",
            "Epoch 6, Train loss 0.52, Train accuracy 81.45, Validation loss 0.49, Validation accuracy 82.39\n",
            "Epoch 7, Train loss 0.49, Train accuracy 82.54, Validation loss 0.52, Validation accuracy 80.54\n",
            "Epoch 8, Train loss 0.46, Train accuracy 83.43, Validation loss 0.47, Validation accuracy 83.80\n",
            "Epoch 9, Train loss 0.45, Train accuracy 83.96, Validation loss 0.46, Validation accuracy 83.30\n",
            "Epoch 10, Train loss 0.43, Train accuracy 84.74, Validation loss 0.41, Validation accuracy 85.20\n"
          ]
        }
      ]
    },
    {
      "cell_type": "code",
      "source": [
        "plot_loss(train_loss_all, val_loss_all)"
      ],
      "metadata": {
        "colab": {
          "base_uri": "https://localhost:8080/",
          "height": 472
        },
        "id": "D1PsAMKu_H6C",
        "outputId": "2d5e02ab-748e-4ec3-a182-42089c80e2eb"
      },
      "execution_count": 52,
      "outputs": [
        {
          "output_type": "display_data",
          "data": {
            "text/plain": [
              "<Figure size 640x480 with 1 Axes>"
            ],
            "image/png": "[encoded data removed]"
          },
          "metadata": {}
        }
      ]
    },
    {
      "cell_type": "code",
      "source": [
        "plot_accuracy(train_acc_all, val_acc_all)"
      ],
      "metadata": {
        "colab": {
          "base_uri": "https://localhost:8080/",
          "height": 472
        },
        "id": "G8zu1loj_J8j",
        "outputId": "28134faa-6323-4640-a2c6-fe814a5485f1"
      },
      "execution_count": 53,
      "outputs": [
        {
          "output_type": "display_data",
          "data": {
            "text/plain": [
              "<Figure size 640x480 with 1 Axes>"
            ],
            "image/png": "[encoded data removed]"
          },
          "metadata": {}
        }
      ]
    },
    {
      "cell_type": "code",
      "source": [
        "test_loss, test_acc = evaluate_accuracy(net, test_iter)\n",
        "print(f'Test loss {test_loss:.2f}, Test accuracy {test_acc:.2f}')"
      ],
      "metadata": {
        "colab": {
          "base_uri": "https://localhost:8080/"
        },
        "id": "M11G9Jwn_MG_",
        "outputId": "3f8a4fbe-2efe-4d84-ca72-58dde66894bf"
      },
      "execution_count": 54,
      "outputs": [
        {
          "output_type": "stream",
          "name": "stdout",
          "text": [
            "Test loss 0.43, Test accuracy 84.57\n"
          ]
        }
      ]
    },
    {
      "cell_type": "markdown",
      "source": [
        "#Deep learning computation"
      ],
      "metadata": {
        "id": "OheRAEGsF85M"
      }
    },
    {
      "cell_type": "markdown",
      "source": [
        "To implement complex neural networks,\n",
        "we introduce the concept of a neural network *block*.\n",
        "A block could describe a single layer,\n",
        "a component consisting of multiple layers,\n",
        "or the entire model itself.\n",
        "One benefit of working with the block abstraction\n",
        "is that they can be combined into larger artifacts,\n",
        "often recursively. By defining code to generate blocks\n",
        "of arbitrary complexity on demand,\n",
        "we can write surprisingly compact code\n",
        "and still implement complex neural networks.\n",
        "\n",
        "From a programing standpoint, a block is represented by a *class*.\n",
        "Any subclass of it must define a forward propagation function\n",
        "that transforms its input into output\n",
        "and must store any necessary parameters.\n",
        "Note that some blocks do not require any parameters at all.\n",
        "Finally, a block must possess a backpropagation function,\n",
        "for the purpose of calculating gradients.\n",
        "Fortunately, due to the auto differentiation mechanism,\n",
        "when defining our own block,\n",
        "we only need to worry about parameters\n",
        "and the forward propagation function.\n",
        "\n",
        "To begin, we revisit the code\n",
        "that we used to implement MLPs.\n",
        "The following code generates a network\n",
        "with one fully-connected hidden layer\n",
        "with $256$ units and ReLU activation,\n",
        "followed by a fully-connected output layer\n",
        "with $10$ units (no activation function)."
      ],
      "metadata": {
        "id": "Mrl4ufjdGiiX"
      }
    },
    {
      "cell_type": "code",
      "source": [
        "net = nn.Sequential(nn.Linear(20, 256), nn.ReLU(), nn.Linear(256, 10))\n",
        "\n",
        "X = torch.rand(2, 20)\n",
        "net(X)"
      ],
      "metadata": {
        "colab": {
          "base_uri": "https://localhost:8080/"
        },
        "id": "-G3BCF5BHJFh",
        "outputId": "226d7c62-e1e9-449b-cce6-50614d1ca27e"
      },
      "execution_count": 55,
      "outputs": [
        {
          "output_type": "execute_result",
          "data": {
            "text/plain": [
              "tensor([[-0.1579, -0.0943,  0.0124,  0.1891, -0.1403, -0.1019, -0.0786, -0.0557,\n",
              "          0.0037,  0.0181],\n",
              "        [-0.3073, -0.1518, -0.0133,  0.1620, -0.1410, -0.1415,  0.0554,  0.0403,\n",
              "          0.0132,  0.0318]], grad_fn=<AddmmBackward0>)"
            ]
          },
          "metadata": {},
          "execution_count": 55
        }
      ]
    },
    {
      "cell_type": "markdown",
      "source": [
        "In this example, we constructed\n",
        "our model by instantiating an `nn.Sequential`, with layers in the order\n",
        "that they should be executed, passed as arguments.\n",
        "In short, `nn.Sequential` defines a special kind of `nn.Module`,\n",
        "the class that represents a block in PyTorch.\n",
        "It maintains an ordered list of constituent `nn.Module`s.\n",
        "Note that each of the two fully-connected layers is an instance of the `nn.Linear` class, which is itself a subclass of `nn.Module`.\n",
        "The forward propagation (`forward()`) function is also remarkably simple:\n",
        "it chains each block in the list together,\n",
        "passing the output of each as the input to the next.\n",
        "Note that, until now, we have been invoking our models\n",
        "via the construction `net(X)` to obtain their outputs.\n",
        "This is actually just shorthand for `net.__call__(X)`.\n",
        "\n",
        "Perhaps the easiest way to develop intuition\n",
        "about how a block works\n",
        "is to implement one ourselves.\n",
        "Before we implement our own custom block,\n",
        "we briefly summarize the basic functionality\n",
        "that each block must provide:\n",
        "\n",
        "1. Ingest input data as arguments to its forward propagation function.\n",
        "1. Generate an output by having the forward propagation function return a value. Note that the output may have a different shape from the input. For example, the first fully-connected layer in our model above ingests an input of dimension $20$, but returns an output of dimension $256$.\n",
        "1. Calculate the gradient of its output with respect to its input, which can be accessed via its backpropagation function. Typically, this happens automatically.\n",
        "1. Store and provide access to those parameters necessary\n",
        "   to execute the forward propagation computation.\n",
        "1. Initialize model parameters as needed.\n",
        "\n",
        "In the following,\n",
        "we code a block from scratch\n",
        "corresponding to an MLP\n",
        "with one hidden layer with $256$ hidden units,\n",
        "and a $10$-dimensional output layer.\n",
        "Note that the `MLP` class below inherits the class that represents a block.\n",
        "We will heavily rely on the parent class's functions,\n",
        "supplying only our own constructor (the `__init__` function in Python) and the forward propagation function."
      ],
      "metadata": {
        "id": "sXL1ph1YHMmi"
      }
    },
    {
      "cell_type": "code",
      "source": [
        "class MLP(nn.Module):\n",
        "    # Declare a layer with model parameters. Here, we declare two fully\n",
        "    # connected layers\n",
        "    def __init__(self):\n",
        "        # Call the constructor of the `MLP` parent class `nn.Module` to perform\n",
        "        # the necessary initialization. In this way, other function arguments\n",
        "        # can also be specified during class instantiation, such as the model\n",
        "        # parameters\n",
        "        super().__init__()\n",
        "        self.hidden = nn.Linear(20, 256)  # Hidden layer\n",
        "        self.out = nn.Linear(256, 10)  # Output layer\n",
        "\n",
        "    # Define the forward propagation of the model, that is, how to return the\n",
        "    # required model output, based on the input `X`\n",
        "    def forward(self, X):\n",
        "        # Note here we use the nn.ReLU class for the ReLU activation function\n",
        "        return self.out(nn.ReLU()(self.hidden(X)))"
      ],
      "metadata": {
        "id": "eiaoMe0CH9nN"
      },
      "execution_count": 56,
      "outputs": []
    },
    {
      "cell_type": "markdown",
      "source": [
        "Let us first focus on the forward propagation function.\n",
        "Note that it takes `X` as the input,\n",
        "calculates the hidden representation\n",
        "with the activation function applied,\n",
        "and outputs its logits.\n",
        "In this `MLP` implementation,\n",
        "both layers are instance variables.\n",
        "To see why this is reasonable, imagine\n",
        "instantiating two MLPs, `net1` and `net2`,\n",
        "and training them on different data.\n",
        "Naturally, we would expect them\n",
        "to represent two different learned models.\n",
        "\n",
        "We instantiate the MLP's layers\n",
        "in the constructor\n",
        "and subsequently invoke these layers\n",
        "on each call to the forward propagation function.\n",
        "Note a few key details.\n",
        "First, our customized `__init__` function\n",
        "invokes the parent class's `__init__` function\n",
        "via `super().__init__()`,\n",
        "sparing us of restating code applicable to most blocks.\n",
        "We then instantiate our two fully-connected layers,\n",
        "assigning them to `self.hidden` and `self.out`.\n",
        "Note that, unless we implement a new operator,\n",
        "we need not worry about the backpropagation function\n",
        "or parameter initialization.\n",
        "The system will generate these functions automatically.\n",
        "Let us try this out."
      ],
      "metadata": {
        "id": "fOXMK1IIIH0b"
      }
    },
    {
      "cell_type": "code",
      "source": [
        "net = MLP()\n",
        "net(X)"
      ],
      "metadata": {
        "colab": {
          "base_uri": "https://localhost:8080/"
        },
        "id": "jl14zL-XIHVL",
        "outputId": "32895f5a-3c13-4a71-e132-7c0445f059f3"
      },
      "execution_count": 57,
      "outputs": [
        {
          "output_type": "execute_result",
          "data": {
            "text/plain": [
              "tensor([[-0.1307, -0.0178,  0.0218, -0.0107,  0.0891, -0.0091,  0.0330, -0.3037,\n",
              "         -0.0565,  0.0930],\n",
              "        [-0.1456, -0.0841, -0.1539, -0.0173,  0.0479,  0.0281, -0.0687, -0.4378,\n",
              "         -0.0381,  0.0290]], grad_fn=<AddmmBackward0>)"
            ]
          },
          "metadata": {},
          "execution_count": 57
        }
      ]
    },
    {
      "cell_type": "markdown",
      "source": [
        "A key virtue of the block abstraction is its versatility.\n",
        "We can subclass a block to create layers\n",
        "(such as the fully-connected layer class),\n",
        "entire models (such as the `MLP` class above),\n",
        "or various components of intermediate complexity.\n",
        "We exploit this versatility\n",
        "throughout the following laboratories,\n",
        "such as when addressing\n",
        "convolutional neural networks.\n",
        "\n",
        "We can now take a closer look\n",
        "at how the `nn.Sequential` class works.\n",
        "Recall that `nn.Sequential` was designed\n",
        "to chain other blocks together one after the other.\n",
        "To build our own simplified `MySequential`,\n",
        "we just need to define two key functions:\n",
        "1. A function to append blocks one by one to a list.\n",
        "2. A forward propagation function to pass an input through the chain of blocks, in the same order as they were appended.\n",
        "\n",
        "The following `MySequential` class delivers the same\n",
        "functionality as the default `nn.Sequential` class."
      ],
      "metadata": {
        "id": "cIDvAEm_JPcJ"
      }
    },
    {
      "cell_type": "code",
      "source": [
        "class MySequential(nn.Module):\n",
        "    def __init__(self, *args):\n",
        "        super().__init__()\n",
        "        for idx, module in enumerate(args):\n",
        "            # Here, `module` is an instance of a `nn.Module` subclass. We save it\n",
        "            # in the member variable `_modules` of the `nn.Module` class, and its\n",
        "            # type is OrderedDict\n",
        "            self._modules[str(idx)] = module\n",
        "\n",
        "    def forward(self, X):\n",
        "        # OrderedDict guarantees that members will be traversed in the order\n",
        "        # they were added\n",
        "        for block in self._modules.values():\n",
        "            X = block(X)\n",
        "        return X"
      ],
      "metadata": {
        "id": "2Di2RkcaJqKH"
      },
      "execution_count": 58,
      "outputs": []
    },
    {
      "cell_type": "markdown",
      "source": [
        "In the `__init__` method, we add every module\n",
        "to the ordered dictionary `_modules` one by one.\n",
        "We might wonder why every `nn.Module`\n",
        "possesses a `_modules` attribute\n",
        "and why we used it, rather than just\n",
        "defining a Python list ourselves.\n",
        "In short, the main advantage of `_modules`\n",
        "is that, during our module's parameter initialization,\n",
        "the system knows to look inside the `_modules`\n",
        "dictionary to find sub-modules whose\n",
        "parameters also need to be initialized.\n",
        "\n",
        "When our `MySequential`'s forward propagation function is invoked,\n",
        "each added block is executed\n",
        "in the order in which they were added.\n",
        "We can now reimplement an MLP\n",
        "using our `MySequential` class."
      ],
      "metadata": {
        "id": "wjNEvEZpJwAu"
      }
    },
    {
      "cell_type": "code",
      "source": [
        "net = MySequential(nn.Linear(20, 256), nn.ReLU(), nn.Linear(256, 10))\n",
        "net(X)"
      ],
      "metadata": {
        "colab": {
          "base_uri": "https://localhost:8080/"
        },
        "id": "jGO5cSmvKEY_",
        "outputId": "7e310161-b3b5-42ec-e47b-d073d81cc2a1"
      },
      "execution_count": 59,
      "outputs": [
        {
          "output_type": "execute_result",
          "data": {
            "text/plain": [
              "tensor([[ 0.0939,  0.1545, -0.0071, -0.1948,  0.1597,  0.0874, -0.1568, -0.0420,\n",
              "         -0.0031,  0.0986],\n",
              "        [ 0.0789,  0.2505,  0.0396, -0.1527,  0.1395,  0.0078, -0.0830, -0.0367,\n",
              "         -0.0409,  0.2228]], grad_fn=<AddmmBackward0>)"
            ]
          },
          "metadata": {},
          "execution_count": 59
        }
      ]
    },
    {
      "cell_type": "markdown",
      "source": [
        "Note that this use of `MySequential`\n",
        "is identical to the code we previously wrote\n",
        "for the `nn.Sequential` class.\n",
        "\n",
        "The `nn.Sequential` class makes model construction easy,\n",
        "allowing us to assemble new architectures\n",
        "without having to define our own class.\n",
        "However, not all architectures are simple chains of layers.\n",
        "When greater flexibility is required,\n",
        "we will want to define our own blocks.\n",
        "For example, we might want to execute\n",
        "Python's control flow within the forward propagation function.\n",
        "Moreover, we might want to perform\n",
        "arbitrary mathematical operations,\n",
        "not simply relying on predefined neural network layers. Thus, we can integrate\n",
        "arbitrary code into the flow of our\n",
        "neural network computations."
      ],
      "metadata": {
        "id": "lrfVD7R8KH9g"
      }
    },
    {
      "cell_type": "markdown",
      "source": [
        "Once we have chosen an architecture\n",
        "and set our hyperparameters,\n",
        "we proceed to the training loop,\n",
        "where our goal is to find parameter values\n",
        "that minimize our loss function.\n",
        "After training, we will need these parameters\n",
        "in order to make future predictions.\n",
        "Additionally, we will sometimes wish\n",
        "to extract the parameters\n",
        "either to reuse them in some other context,\n",
        "to save our model to disk so that\n",
        "it may be executed in other software,\n",
        "or for examination in the hope of\n",
        "gaining scientific understanding.\n",
        "\n",
        "Most of the time, we will be able\n",
        "to ignore the details\n",
        "of how parameters are declared\n",
        "and manipulated, relying on deep learning frameworks\n",
        "to do the heavy lifting.\n",
        "However, when we move away from\n",
        "stacked architectures with standard layers,\n",
        "we will sometimes need to get into the details\n",
        "of declaring and manipulating parameters.\n",
        "\n",
        "We start by focusing on an MLP with one hidden layer."
      ],
      "metadata": {
        "id": "NK_C16jZLVGy"
      }
    },
    {
      "cell_type": "code",
      "source": [
        "net = nn.Sequential(nn.Linear(4, 8), nn.ReLU(), nn.Linear(8, 1))\n",
        "X = torch.rand(size=(2, 4))\n",
        "net(X)"
      ],
      "metadata": {
        "colab": {
          "base_uri": "https://localhost:8080/"
        },
        "id": "R1PFsqmgLs98",
        "outputId": "e8c676c6-96a6-430e-8409-b4281e54db4f"
      },
      "execution_count": 60,
      "outputs": [
        {
          "output_type": "execute_result",
          "data": {
            "text/plain": [
              "tensor([[-0.0645],\n",
              "        [-0.1182]], grad_fn=<AddmmBackward0>)"
            ]
          },
          "metadata": {},
          "execution_count": 60
        }
      ]
    },
    {
      "cell_type": "markdown",
      "source": [
        "Let us start with how to access parameters\n",
        "from the models that we already know.\n",
        "When a model is defined via the `nn.Sequential` class,\n",
        "we can first access any layer by indexing\n",
        "into the model as though it were a list.\n",
        "Each layer's parameters are conveniently\n",
        "located in its attribute.\n",
        "We can inspect the parameters of the second fully-connected layer as follows."
      ],
      "metadata": {
        "id": "QaIqNE3sLvs4"
      }
    },
    {
      "cell_type": "code",
      "source": [
        "print(net[2].state_dict())"
      ],
      "metadata": {
        "colab": {
          "base_uri": "https://localhost:8080/"
        },
        "id": "5TocvKtHLuyv",
        "outputId": "ea9b468b-0d54-43c2-f3d7-aca4c94bbf2b"
      },
      "execution_count": 61,
      "outputs": [
        {
          "output_type": "stream",
          "name": "stdout",
          "text": [
            "OrderedDict([('weight', tensor([[-0.2857, -0.0471, -0.0795, -0.0915, -0.0041,  0.1522, -0.3354,  0.2575]])), ('bias', tensor([-0.0215]))])\n"
          ]
        }
      ]
    },
    {
      "cell_type": "markdown",
      "source": [
        "The output tells us a few important things.\n",
        "First, this fully-connected layer\n",
        "contains two parameters,\n",
        "corresponding to that layer's\n",
        "weights and biases, respectively.\n",
        "Both are stored as single precision floats (`float32`).\n",
        "Note that the names of the parameters\n",
        "allow us to uniquely identify\n",
        "each layer's parameters,\n",
        "even in a network containing hundreds of layers.\n",
        "\n",
        "Note that each parameter is represented\n",
        "as an instance of the parameter class.\n",
        "To do anything useful with the parameters,\n",
        "we first need to access the underlying numerical values.\n",
        "There are several ways to do this.\n",
        "Some are simpler, while others are more general.\n",
        "The following code extracts the bias\n",
        "from the second neural network layer, which returns a `Parameter` class instance, and\n",
        "further accesses that parameter's value."
      ],
      "metadata": {
        "id": "NxP30mSwL8BD"
      }
    },
    {
      "cell_type": "code",
      "source": [
        "print(type(net[2].bias))\n",
        "print(net[2].bias)\n",
        "print(net[2].bias.data)"
      ],
      "metadata": {
        "colab": {
          "base_uri": "https://localhost:8080/"
        },
        "id": "8HzE6rbvMT6s",
        "outputId": "5614d8bf-b1c2-4492-9774-c47363de9be4"
      },
      "execution_count": 62,
      "outputs": [
        {
          "output_type": "stream",
          "name": "stdout",
          "text": [
            "<class 'torch.nn.parameter.Parameter'>\n",
            "Parameter containing:\n",
            "tensor([-0.0215], requires_grad=True)\n",
            "tensor([-0.0215])\n"
          ]
        }
      ]
    },
    {
      "cell_type": "markdown",
      "source": [
        "Parameters are complex objects,\n",
        "containing values, gradients,\n",
        "and additional information.\n",
        "That's why we need to request the value explicitly.\n",
        "\n",
        "In addition to the value, each parameter also allows us to access the gradient. Because we have not invoked backpropagation for this network yet, it is in its initial state."
      ],
      "metadata": {
        "id": "OO8ULZpwXcsg"
      }
    },
    {
      "cell_type": "code",
      "source": [
        "net[2].weight.grad == None"
      ],
      "metadata": {
        "colab": {
          "base_uri": "https://localhost:8080/"
        },
        "id": "6BBYDPydXiMg",
        "outputId": "5e94da85-aa8d-43ed-abad-be5d9a8fe889"
      },
      "execution_count": 63,
      "outputs": [
        {
          "output_type": "execute_result",
          "data": {
            "text/plain": [
              "True"
            ]
          },
          "metadata": {},
          "execution_count": 63
        }
      ]
    },
    {
      "cell_type": "markdown",
      "source": [
        "When we need to perform operations on all parameters,\n",
        "accessing them one-by-one can grow tedious.\n",
        "The situation can become especially tedious\n",
        "when we work with more complex blocks (e.g., nested blocks),\n",
        "since we would need to traverse the entire tree to extract\n",
        "each sub-block's parameters. Below we demonstrate accessing the parameters of the first fully-connected layer vs. accessing all layers."
      ],
      "metadata": {
        "id": "BWVvseV0XmQ9"
      }
    },
    {
      "cell_type": "code",
      "source": [
        "print(*[(name, param.shape) for name, param in net[0].named_parameters()])\n",
        "print(*[(name, param.shape) for name, param in net.named_parameters()])"
      ],
      "metadata": {
        "colab": {
          "base_uri": "https://localhost:8080/"
        },
        "id": "ePTf9Cx8XlSZ",
        "outputId": "1e5453b3-955a-45bb-d8c4-9e720acaa2ad"
      },
      "execution_count": 64,
      "outputs": [
        {
          "output_type": "stream",
          "name": "stdout",
          "text": [
            "('weight', torch.Size([8, 4])) ('bias', torch.Size([8]))\n",
            "('0.weight', torch.Size([8, 4])) ('0.bias', torch.Size([8])) ('2.weight', torch.Size([1, 8])) ('2.bias', torch.Size([1]))\n"
          ]
        }
      ]
    },
    {
      "cell_type": "markdown",
      "source": [
        "This provides us with another way of accessing the parameters of the network as follows."
      ],
      "metadata": {
        "id": "CZV1HGM2YcxD"
      }
    },
    {
      "cell_type": "code",
      "source": [
        "net.state_dict()['2.bias'].data"
      ],
      "metadata": {
        "colab": {
          "base_uri": "https://localhost:8080/"
        },
        "id": "PuqNkK_RYdW0",
        "outputId": "12abed55-1cc8-4a91-b29a-8db4898828eb"
      },
      "execution_count": 65,
      "outputs": [
        {
          "output_type": "execute_result",
          "data": {
            "text/plain": [
              "tensor([-0.0215])"
            ]
          },
          "metadata": {},
          "execution_count": 65
        }
      ]
    },
    {
      "cell_type": "markdown",
      "source": [
        "Let us now see how the parameter naming conventions work\n",
        "if we nest multiple blocks inside each other.\n",
        "For that, we first define a function that produces blocks\n",
        "(a block factory, so to speak) and then\n",
        "combine these inside yet larger blocks."
      ],
      "metadata": {
        "id": "VubKBUpkYwlS"
      }
    },
    {
      "cell_type": "code",
      "source": [
        "def block1():\n",
        "    return nn.Sequential(nn.Linear(4, 8), nn.ReLU(),\n",
        "                         nn.Linear(8, 4), nn.ReLU())\n",
        "\n",
        "def block2():\n",
        "    net = nn.Sequential()\n",
        "    for i in range(4):\n",
        "        # Nested here\n",
        "        net.add_module(f'block {i}', block1())\n",
        "    return net\n",
        "\n",
        "rgnet = nn.Sequential(block2(), nn.Linear(4, 1))\n",
        "rgnet(X)"
      ],
      "metadata": {
        "colab": {
          "base_uri": "https://localhost:8080/"
        },
        "id": "PqCGgtQfY3XP",
        "outputId": "31e31069-bede-4639-e54f-655173329606"
      },
      "execution_count": 66,
      "outputs": [
        {
          "output_type": "execute_result",
          "data": {
            "text/plain": [
              "tensor([[0.4790],\n",
              "        [0.4790]], grad_fn=<AddmmBackward0>)"
            ]
          },
          "metadata": {},
          "execution_count": 66
        }
      ]
    },
    {
      "cell_type": "markdown",
      "source": [
        "Now that we have designed the network,\n",
        "let us see how it is organized."
      ],
      "metadata": {
        "id": "FaWx1UVNY8MW"
      }
    },
    {
      "cell_type": "code",
      "source": [
        "print(rgnet)"
      ],
      "metadata": {
        "colab": {
          "base_uri": "https://localhost:8080/"
        },
        "id": "9-WnMZHPY_QF",
        "outputId": "1bcc0bd0-2077-4b9f-fe66-d32df22d32cd"
      },
      "execution_count": 67,
      "outputs": [
        {
          "output_type": "stream",
          "name": "stdout",
          "text": [
            "Sequential(\n",
            "  (0): Sequential(\n",
            "    (block 0): Sequential(\n",
            "      (0): Linear(in_features=4, out_features=8, bias=True)\n",
            "      (1): ReLU()\n",
            "      (2): Linear(in_features=8, out_features=4, bias=True)\n",
            "      (3): ReLU()\n",
            "    )\n",
            "    (block 1): Sequential(\n",
            "      (0): Linear(in_features=4, out_features=8, bias=True)\n",
            "      (1): ReLU()\n",
            "      (2): Linear(in_features=8, out_features=4, bias=True)\n",
            "      (3): ReLU()\n",
            "    )\n",
            "    (block 2): Sequential(\n",
            "      (0): Linear(in_features=4, out_features=8, bias=True)\n",
            "      (1): ReLU()\n",
            "      (2): Linear(in_features=8, out_features=4, bias=True)\n",
            "      (3): ReLU()\n",
            "    )\n",
            "    (block 3): Sequential(\n",
            "      (0): Linear(in_features=4, out_features=8, bias=True)\n",
            "      (1): ReLU()\n",
            "      (2): Linear(in_features=8, out_features=4, bias=True)\n",
            "      (3): ReLU()\n",
            "    )\n",
            "  )\n",
            "  (1): Linear(in_features=4, out_features=1, bias=True)\n",
            ")\n"
          ]
        }
      ]
    },
    {
      "cell_type": "markdown",
      "source": [
        "Since the layers are hierarchically nested,\n",
        "we can also access them as though\n",
        "indexing through nested lists.\n",
        "For instance, we can access the first major block,\n",
        "within it the second sub-block,\n",
        "and within that the bias of the first layer, as follows:"
      ],
      "metadata": {
        "id": "WMH04VuyZC6u"
      }
    },
    {
      "cell_type": "code",
      "source": [
        "rgnet[0][1][0].bias.data"
      ],
      "metadata": {
        "colab": {
          "base_uri": "https://localhost:8080/"
        },
        "id": "_Smm3RrpZNJS",
        "outputId": "0bba243f-78de-4547-a479-d21bb2ee4f95"
      },
      "execution_count": 68,
      "outputs": [
        {
          "output_type": "execute_result",
          "data": {
            "text/plain": [
              "tensor([ 0.1509, -0.0985,  0.4153, -0.2662, -0.4296, -0.3925, -0.3151, -0.2948])"
            ]
          },
          "metadata": {},
          "execution_count": 68
        }
      ]
    },
    {
      "cell_type": "markdown",
      "source": [
        "Now that we know how to access the parameters,\n",
        "let us look at how to initialize them properly.\n",
        "We discussed the need for proper initialization in the course.\n",
        "The deep learning framework provides default random initializations to its layers.\n",
        "However, we often want to initialize our weights\n",
        "according to various other protocols. The framework provides most commonly\n",
        "used protocols, and also allows us to create a custom initializer.\n",
        "\n",
        "By default, PyTorch initializes weight and bias matrices\n",
        "uniformly, by drawing from a range that is computed according to the input and output dimension.\n",
        "PyTorch's `nn.init` module provides a variety\n",
        "of preset initialization methods.\n",
        "\n",
        "Let us begin by calling on built-in initializers.\n",
        "The code below initializes all weight parameters\n",
        "as Gaussian random variables\n",
        "with standard deviation $0.01$, while bias parameters are cleared to zero."
      ],
      "metadata": {
        "id": "cQ1Bf0nmZQZE"
      }
    },
    {
      "cell_type": "code",
      "source": [
        "def init_normal(m):\n",
        "    if type(m) == nn.Linear:\n",
        "        nn.init.normal_(m.weight, mean=0, std=0.01)\n",
        "        nn.init.zeros_(m.bias)\n",
        "\n",
        "net.apply(init_normal)\n",
        "net[0].weight.data[0], net[0].bias.data[0]"
      ],
      "metadata": {
        "colab": {
          "base_uri": "https://localhost:8080/"
        },
        "id": "8Dl_QCMTZn6Q",
        "outputId": "ff6c40f3-7bdf-4c1a-ba96-95c5e786abaf"
      },
      "execution_count": 69,
      "outputs": [
        {
          "output_type": "execute_result",
          "data": {
            "text/plain": [
              "(tensor([-0.0229,  0.0040,  0.0015, -0.0036]), tensor(0.))"
            ]
          },
          "metadata": {},
          "execution_count": 69
        }
      ]
    },
    {
      "cell_type": "markdown",
      "source": [
        "We can also initialize all the parameters\n",
        "to a given constant value (say, $1$)."
      ],
      "metadata": {
        "id": "By7R3O1nZtV-"
      }
    },
    {
      "cell_type": "code",
      "source": [
        "def init_constant(m):\n",
        "    if type(m) == nn.Linear:\n",
        "        nn.init.constant_(m.weight, 1)\n",
        "        nn.init.zeros_(m.bias)\n",
        "\n",
        "net.apply(init_constant)\n",
        "net[0].weight.data[0], net[0].bias.data[0]"
      ],
      "metadata": {
        "colab": {
          "base_uri": "https://localhost:8080/"
        },
        "id": "2EWcLPPOZsvX",
        "outputId": "229d541c-1a36-4022-a865-f2f24c3afa4b"
      },
      "execution_count": 70,
      "outputs": [
        {
          "output_type": "execute_result",
          "data": {
            "text/plain": [
              "(tensor([1., 1., 1., 1.]), tensor(0.))"
            ]
          },
          "metadata": {},
          "execution_count": 70
        }
      ]
    },
    {
      "cell_type": "markdown",
      "source": [
        "We can also apply different initializers for certain blocks.\n",
        "For example, below we initialize the first layer\n",
        "with the Xavier initializer\n",
        "and initialize the second layer\n",
        "to a constant value of $42$."
      ],
      "metadata": {
        "id": "FBoJoTWTZzGN"
      }
    },
    {
      "cell_type": "code",
      "source": [
        "def xavier(m):\n",
        "    if type(m) == nn.Linear:\n",
        "        nn.init.xavier_uniform_(m.weight)\n",
        "def init_42(m):\n",
        "    if type(m) == nn.Linear:\n",
        "        nn.init.constant_(m.weight, 42)\n",
        "\n",
        "net[0].apply(xavier)\n",
        "net[2].apply(init_42)\n",
        "print(net[0].weight.data[0])\n",
        "print(net[2].weight.data)"
      ],
      "metadata": {
        "colab": {
          "base_uri": "https://localhost:8080/"
        },
        "id": "uA4ME6pgZ4e4",
        "outputId": "25cff944-098e-4d46-f2aa-27b469a2b760"
      },
      "execution_count": 71,
      "outputs": [
        {
          "output_type": "stream",
          "name": "stdout",
          "text": [
            "tensor([-0.4192, -0.4082, -0.4657, -0.2263])\n",
            "tensor([[42., 42., 42., 42., 42., 42., 42., 42.]])\n"
          ]
        }
      ]
    },
    {
      "cell_type": "markdown",
      "source": [
        "Note that we always have the option\n",
        "of setting parameters directly."
      ],
      "metadata": {
        "id": "8_8KuZaWaCDc"
      }
    },
    {
      "cell_type": "code",
      "source": [
        "net[0].weight.data[:] += 1\n",
        "net[0].weight.data[0, 0] = 42\n",
        "net[0].weight.data[0]"
      ],
      "metadata": {
        "colab": {
          "base_uri": "https://localhost:8080/"
        },
        "id": "SL3TKA3NaDrk",
        "outputId": "afa5db89-6839-45af-81d6-a82ef5b0c14c"
      },
      "execution_count": 72,
      "outputs": [
        {
          "output_type": "execute_result",
          "data": {
            "text/plain": [
              "tensor([42.0000,  0.5918,  0.5343,  0.7737])"
            ]
          },
          "metadata": {},
          "execution_count": 72
        }
      ]
    },
    {
      "cell_type": "markdown",
      "source": [
        "So far, we discussed how to process data and how\n",
        "to build, train, and test deep learning models.\n",
        "However, at some point, we will hopefully be happy enough\n",
        "with the learned models that we will want\n",
        "to save the results for later use in various contexts\n",
        "(perhaps even to make predictions in deployment).\n",
        "Additionally, when running a long training process,\n",
        "the best practice is to periodically save intermediate results (checkpointing)\n",
        "to ensure that we do not lose several days worth of computation\n",
        "if we power goes down.\n",
        "Thus, it is time to learn how to load and store\n",
        "both individual weight vectors and entire models.\n",
        "\n",
        "For individual tensors, we can directly\n",
        "invoke the `load()` and `save()` functions\n",
        "to read and write them, respectively.\n",
        "Both functions require that we supply a name,\n",
        "and `save()` requires as input the variable to be saved."
      ],
      "metadata": {
        "id": "zsbVPlVjar5W"
      }
    },
    {
      "cell_type": "code",
      "source": [
        "x = torch.arange(4)\n",
        "torch.save(x, 'x-file')"
      ],
      "metadata": {
        "id": "pbJ3omC0bGRP"
      },
      "execution_count": 73,
      "outputs": []
    },
    {
      "cell_type": "markdown",
      "source": [
        "We can now read the data from the stored file back into memory."
      ],
      "metadata": {
        "id": "bLVNEUcKbITg"
      }
    },
    {
      "cell_type": "code",
      "source": [
        "x2 = torch.load('x-file')\n",
        "x2"
      ],
      "metadata": {
        "colab": {
          "base_uri": "https://localhost:8080/"
        },
        "id": "hTCKoKiHbJON",
        "outputId": "6293616c-cbc0-49e1-d8de-c600ddf9f07b"
      },
      "execution_count": 74,
      "outputs": [
        {
          "output_type": "stream",
          "name": "stderr",
          "text": [
            "<ipython-input-74-c1fb60b225d4>:1: FutureWarning: You are using `torch.load` with `weights_only=False` (the current default value), which uses the default pickle module implicitly. It is possible to construct malicious pickle data which will execute arbitrary code during unpickling (See https://github.com/pytorch/pytorch/blob/main/SECURITY.md#untrusted-models for more details). In a future release, the default value for `weights_only` will be flipped to `True`. This limits the functions that could be executed during unpickling. Arbitrary objects will no longer be allowed to be loaded via this mode unless they are explicitly allowlisted by the user via `torch.serialization.add_safe_globals`. We recommend you start setting `weights_only=True` for any use case where you don't have full control of the loaded file. Please open an issue on GitHub for any issues related to this experimental feature.\n",
            "  x2 = torch.load('x-file')\n"
          ]
        },
        {
          "output_type": "execute_result",
          "data": {
            "text/plain": [
              "tensor([0, 1, 2, 3])"
            ]
          },
          "metadata": {},
          "execution_count": 74
        }
      ]
    },
    {
      "cell_type": "markdown",
      "source": [
        "We can store a list of tensors and read them back into memory."
      ],
      "metadata": {
        "id": "X2hYsHExbNaa"
      }
    },
    {
      "cell_type": "code",
      "source": [
        "y = torch.zeros(4)\n",
        "torch.save([x, y],'x-files')\n",
        "x2, y2 = torch.load('x-files')\n",
        "(x2, y2)"
      ],
      "metadata": {
        "colab": {
          "base_uri": "https://localhost:8080/"
        },
        "id": "0Vz59W5QbROp",
        "outputId": "7d3d3386-ff66-4b1e-da19-295b5abeb003"
      },
      "execution_count": 75,
      "outputs": [
        {
          "output_type": "stream",
          "name": "stderr",
          "text": [
            "<ipython-input-75-e59abd2355d1>:3: FutureWarning: You are using `torch.load` with `weights_only=False` (the current default value), which uses the default pickle module implicitly. It is possible to construct malicious pickle data which will execute arbitrary code during unpickling (See https://github.com/pytorch/pytorch/blob/main/SECURITY.md#untrusted-models for more details). In a future release, the default value for `weights_only` will be flipped to `True`. This limits the functions that could be executed during unpickling. Arbitrary objects will no longer be allowed to be loaded via this mode unless they are explicitly allowlisted by the user via `torch.serialization.add_safe_globals`. We recommend you start setting `weights_only=True` for any use case where you don't have full control of the loaded file. Please open an issue on GitHub for any issues related to this experimental feature.\n",
            "  x2, y2 = torch.load('x-files')\n"
          ]
        },
        {
          "output_type": "execute_result",
          "data": {
            "text/plain": [
              "(tensor([0, 1, 2, 3]), tensor([0., 0., 0., 0.]))"
            ]
          },
          "metadata": {},
          "execution_count": 75
        }
      ]
    },
    {
      "cell_type": "markdown",
      "source": [
        "We can even write and read a dictionary that maps\n",
        "from strings to tensors.\n",
        "This is convenient when we want\n",
        "to read or write all the weights in a model."
      ],
      "metadata": {
        "id": "U7cgKp_5bVud"
      }
    },
    {
      "cell_type": "code",
      "source": [
        "mydict = {'x': x, 'y': y}\n",
        "torch.save(mydict, 'mydict')\n",
        "mydict2 = torch.load('mydict')\n",
        "mydict2"
      ],
      "metadata": {
        "colab": {
          "base_uri": "https://localhost:8080/"
        },
        "id": "W-5bEy39bVFY",
        "outputId": "13cef259-8cd7-4ac2-b1f1-7e12a02ee88b"
      },
      "execution_count": 76,
      "outputs": [
        {
          "output_type": "stream",
          "name": "stderr",
          "text": [
            "<ipython-input-76-3e3eed4d4b6e>:3: FutureWarning: You are using `torch.load` with `weights_only=False` (the current default value), which uses the default pickle module implicitly. It is possible to construct malicious pickle data which will execute arbitrary code during unpickling (See https://github.com/pytorch/pytorch/blob/main/SECURITY.md#untrusted-models for more details). In a future release, the default value for `weights_only` will be flipped to `True`. This limits the functions that could be executed during unpickling. Arbitrary objects will no longer be allowed to be loaded via this mode unless they are explicitly allowlisted by the user via `torch.serialization.add_safe_globals`. We recommend you start setting `weights_only=True` for any use case where you don't have full control of the loaded file. Please open an issue on GitHub for any issues related to this experimental feature.\n",
            "  mydict2 = torch.load('mydict')\n"
          ]
        },
        {
          "output_type": "execute_result",
          "data": {
            "text/plain": [
              "{'x': tensor([0, 1, 2, 3]), 'y': tensor([0., 0., 0., 0.])}"
            ]
          },
          "metadata": {},
          "execution_count": 76
        }
      ]
    },
    {
      "cell_type": "markdown",
      "source": [
        "Saving individual weight vectors (or other tensors) is useful,\n",
        "but it gets very tedious if we want to save\n",
        "(and later load) an entire model.\n",
        "After all, we might have hundreds of\n",
        "parameter groups sprinkled throughout.\n",
        "For this reason the deep learning framework provides built-in functionalities\n",
        "to load and save entire networks.\n",
        "An important detail to note is that this\n",
        "saves model *parameters*, and not the entire model.\n",
        "For example, if we have a $3$-layer MLP,\n",
        "we need to specify the architecture separately.\n",
        "The reason for this is that the models themselves can contain arbitrary code,\n",
        "hence they cannot be serialized as naturally.\n",
        "Thus, in order to reinstate a model, we need\n",
        "to generate the architecture in code\n",
        "and then load the parameters from disk.\n",
        "Let us start with our familiar MLP."
      ],
      "metadata": {
        "id": "c_x6p-vdbb5Z"
      }
    },
    {
      "cell_type": "code",
      "source": [
        "class MLP(nn.Module):\n",
        "    def __init__(self):\n",
        "        super().__init__()\n",
        "        self.hidden = nn.Linear(20, 256)\n",
        "        self.output = nn.Linear(256, 10)\n",
        "\n",
        "    def forward(self, x):\n",
        "        return self.output(nn.ReLU()(self.hidden(x)))\n",
        "\n",
        "net = MLP()\n",
        "X = torch.randn(size=(2, 20))\n",
        "Y = net(X)"
      ],
      "metadata": {
        "id": "kr3py7NXbpSk"
      },
      "execution_count": 77,
      "outputs": []
    },
    {
      "cell_type": "markdown",
      "source": [
        "Next, we store the parameters of the model as a file with the name \"mlp.params\"."
      ],
      "metadata": {
        "id": "6lmotshobv65"
      }
    },
    {
      "cell_type": "code",
      "source": [
        "torch.save(net.state_dict(), 'mlp.params')"
      ],
      "metadata": {
        "id": "iJ83F5gobzyh"
      },
      "execution_count": 78,
      "outputs": []
    },
    {
      "cell_type": "markdown",
      "source": [
        "To recover the model, we instantiate a clone\n",
        "of the original MLP model.\n",
        "Instead of randomly initializing the model parameters,\n",
        "we read the parameters stored in the file directly."
      ],
      "metadata": {
        "id": "TFyN5EReb3xH"
      }
    },
    {
      "cell_type": "code",
      "source": [
        "clone = MLP()\n",
        "clone.load_state_dict(torch.load('mlp.params'))\n",
        "clone.eval()"
      ],
      "metadata": {
        "colab": {
          "base_uri": "https://localhost:8080/"
        },
        "id": "JvrPvfglb5c5",
        "outputId": "c8c84a31-9253-4abb-c3eb-06c0001db040"
      },
      "execution_count": 79,
      "outputs": [
        {
          "output_type": "stream",
          "name": "stderr",
          "text": [
            "<ipython-input-79-6b5c4fbd0188>:2: FutureWarning: You are using `torch.load` with `weights_only=False` (the current default value), which uses the default pickle module implicitly. It is possible to construct malicious pickle data which will execute arbitrary code during unpickling (See https://github.com/pytorch/pytorch/blob/main/SECURITY.md#untrusted-models for more details). In a future release, the default value for `weights_only` will be flipped to `True`. This limits the functions that could be executed during unpickling. Arbitrary objects will no longer be allowed to be loaded via this mode unless they are explicitly allowlisted by the user via `torch.serialization.add_safe_globals`. We recommend you start setting `weights_only=True` for any use case where you don't have full control of the loaded file. Please open an issue on GitHub for any issues related to this experimental feature.\n",
            "  clone.load_state_dict(torch.load('mlp.params'))\n"
          ]
        },
        {
          "output_type": "execute_result",
          "data": {
            "text/plain": [
              "MLP(\n",
              "  (hidden): Linear(in_features=20, out_features=256, bias=True)\n",
              "  (output): Linear(in_features=256, out_features=10, bias=True)\n",
              ")"
            ]
          },
          "metadata": {},
          "execution_count": 79
        }
      ]
    },
    {
      "cell_type": "markdown",
      "source": [
        "Since both instances have the same model parameters,\n",
        "the computational result of the same input `X` should be the same.\n",
        "Let us verify this."
      ],
      "metadata": {
        "id": "zwQp5CGNb9kq"
      }
    },
    {
      "cell_type": "code",
      "source": [
        "Y_clone = clone(X)\n",
        "Y_clone == Y"
      ],
      "metadata": {
        "colab": {
          "base_uri": "https://localhost:8080/"
        },
        "id": "ELHear13b-eU",
        "outputId": "c568dd7b-3fbd-431d-901e-ef6493d11e04"
      },
      "execution_count": 80,
      "outputs": [
        {
          "output_type": "execute_result",
          "data": {
            "text/plain": [
              "tensor([[True, True, True, True, True, True, True, True, True, True],\n",
              "        [True, True, True, True, True, True, True, True, True, True]])"
            ]
          },
          "metadata": {},
          "execution_count": 80
        }
      ]
    },
    {
      "cell_type": "markdown",
      "source": [
        "In the past two decades, GPU performance has increased\n",
        "by a factor of $1000$ every decade since 2000.\n",
        "This offers great opportunities, but it also suggests\n",
        "a significant need to provide such performance.\n",
        "\n",
        "Next, we discuss how to harness\n",
        "this computational performance.\n",
        "Specifically, we will discuss how\n",
        "to use a single NVIDIA GPU for calculations.\n",
        "The `nvidia-smi` command can be used\n",
        "to view the graphics card information."
      ],
      "metadata": {
        "id": "SKCQuwE1cOLu"
      }
    },
    {
      "cell_type": "code",
      "source": [
        "!nvidia-smi"
      ],
      "metadata": {
        "colab": {
          "base_uri": "https://localhost:8080/"
        },
        "id": "a6-R-GIfcy2l",
        "outputId": "019cd6db-34ad-4ef2-d6fd-ca93f76dccc7"
      },
      "execution_count": 81,
      "outputs": [
        {
          "output_type": "stream",
          "name": "stdout",
          "text": [
            "Fri Nov 15 12:47:28 2024       \n",
            "+---------------------------------------------------------------------------------------+\n",
            "| NVIDIA-SMI 535.104.05             Driver Version: 535.104.05   CUDA Version: 12.2     |\n",
            "|-----------------------------------------+----------------------+----------------------+\n",
            "| GPU  Name                 Persistence-M | Bus-Id        Disp.A | Volatile Uncorr. ECC |\n",
            "| Fan  Temp   Perf          Pwr:Usage/Cap |         Memory-Usage | GPU-Util  Compute M. |\n",
            "|                                         |                      |               MIG M. |\n",
            "|=========================================+======================+======================|\n",
            "|   0  Tesla T4                       Off | 00000000:00:04.0 Off |                    0 |\n",
            "| N/A   48C    P8              10W /  70W |      3MiB / 15360MiB |      0%      Default |\n",
            "|                                         |                      |                  N/A |\n",
            "+-----------------------------------------+----------------------+----------------------+\n",
            "                                                                                         \n",
            "+---------------------------------------------------------------------------------------+\n",
            "| Processes:                                                                            |\n",
            "|  GPU   GI   CI        PID   Type   Process name                            GPU Memory |\n",
            "|        ID   ID                                                             Usage      |\n",
            "|=======================================================================================|\n",
            "|  No running processes found                                                           |\n",
            "+---------------------------------------------------------------------------------------+\n"
          ]
        }
      ]
    },
    {
      "cell_type": "markdown",
      "source": [
        "In PyTorch, every array has a device, and we often refer it as a *context*.\n",
        "So far, by default, all variables\n",
        "and associated computation\n",
        "have been assigned to the CPU.\n",
        "Typically, other contexts might be various GPUs.\n",
        "By assigning arrays to contexts intelligently,\n",
        "we can minimize the time spent\n",
        "transferring data between devices.\n",
        "For example, when training neural networks on a server with a GPU,\n",
        "we typically prefer for the model's parameters to live on the GPU.\n",
        "\n",
        "We can specify devices, such as CPUs and GPUs,\n",
        "for storage and calculation.\n",
        "By default, tensors are created in the main memory,\n",
        "and then the CPU is used to perform calculations on them.\n",
        "\n",
        "In PyTorch, the CPU and GPU can be indicated by `torch.device('cpu')` and `torch.device('cuda')`, respectively.\n",
        "It should be noted that the `cpu` device\n",
        "means all physical CPUs and memory.\n",
        "This means that PyTorch's calculations\n",
        "will try to use all CPU cores.\n",
        "However, a `cuda` device only represents one card\n",
        "and the corresponding memory.\n",
        "If there are multiple GPUs, we use `torch.device(f'cuda:{i}')`\n",
        "to represent the $i$th GPU ($i$ starts from 0).\n",
        "Also, `cuda:0` and `cuda` are equivalent."
      ],
      "metadata": {
        "id": "D9txUvnNc5Ds"
      }
    },
    {
      "cell_type": "code",
      "source": [
        "import torch\n",
        "from torch import nn\n",
        "\n",
        "torch.manual_seed(42)\n",
        "\n",
        "torch.device('cpu'), torch.device('cuda'), torch.device('cuda:0')"
      ],
      "metadata": {
        "colab": {
          "base_uri": "https://localhost:8080/"
        },
        "id": "dZTLvYbrdoaY",
        "outputId": "54f2c10a-c7cc-4148-9685-4dc312d894e3"
      },
      "execution_count": 82,
      "outputs": [
        {
          "output_type": "execute_result",
          "data": {
            "text/plain": [
              "(device(type='cpu'), device(type='cuda'), device(type='cuda', index=0))"
            ]
          },
          "metadata": {},
          "execution_count": 82
        }
      ]
    },
    {
      "cell_type": "markdown",
      "source": [
        "We can query the number of available GPUs."
      ],
      "metadata": {
        "id": "x2rXV8xQeid_"
      }
    },
    {
      "cell_type": "code",
      "source": [
        "torch.cuda.device_count()"
      ],
      "metadata": {
        "colab": {
          "base_uri": "https://localhost:8080/"
        },
        "id": "5vwgltpDekFD",
        "outputId": "ddef228c-4dd9-42db-93bd-8ced397fcb7e"
      },
      "execution_count": 83,
      "outputs": [
        {
          "output_type": "execute_result",
          "data": {
            "text/plain": [
              "1"
            ]
          },
          "metadata": {},
          "execution_count": 83
        }
      ]
    },
    {
      "cell_type": "markdown",
      "source": [
        "Now we define a convenient function that allows us\n",
        "to run code even if the requested GPU does not exist."
      ],
      "metadata": {
        "id": "YhDcq0HRepru"
      }
    },
    {
      "cell_type": "code",
      "source": [
        "def try_gpu(i=0):\n",
        "    \"\"\"Return gpu(i) if exists, otherwise return cpu().\"\"\"\n",
        "    if torch.cuda.device_count() >= i + 1:\n",
        "        return torch.device(f'cuda:{i}')\n",
        "    return torch.device('cpu')\n",
        "\n",
        "try_gpu(), try_gpu(0), try_gpu(1)"
      ],
      "metadata": {
        "colab": {
          "base_uri": "https://localhost:8080/"
        },
        "id": "Rz_dT9G6e-hF",
        "outputId": "29e0c20d-8711-4a2a-fe55-6c4e017aadce"
      },
      "execution_count": 84,
      "outputs": [
        {
          "output_type": "execute_result",
          "data": {
            "text/plain": [
              "(device(type='cuda', index=0),\n",
              " device(type='cuda', index=0),\n",
              " device(type='cpu'))"
            ]
          },
          "metadata": {},
          "execution_count": 84
        }
      ]
    },
    {
      "cell_type": "markdown",
      "source": [
        "By default, tensors are created on the CPU.\n",
        "We can query the device where the tensor is located."
      ],
      "metadata": {
        "id": "XnbkzV8ffLpO"
      }
    },
    {
      "cell_type": "code",
      "source": [
        "x = torch.tensor([1, 2, 3])\n",
        "x.device"
      ],
      "metadata": {
        "colab": {
          "base_uri": "https://localhost:8080/"
        },
        "id": "k_j5F9RyfOPV",
        "outputId": "d09ab596-1246-4d2e-8938-56c10381f4ab"
      },
      "execution_count": 85,
      "outputs": [
        {
          "output_type": "execute_result",
          "data": {
            "text/plain": [
              "device(type='cpu')"
            ]
          },
          "metadata": {},
          "execution_count": 85
        }
      ]
    },
    {
      "cell_type": "markdown",
      "source": [
        "It is important to note that, whenever we want\n",
        "to operate on multiple terms,\n",
        "they need to be on the same device.\n",
        "For instance, if we sum two tensors,\n",
        "we need to make sure that both arguments\n",
        "live on the same device, otherwise the framework\n",
        "would not know where to store the result\n",
        "or even how to decide where to perform the computation.\n",
        "\n",
        "There are several ways to store a tensor on the GPU.\n",
        "For example, we can specify a storage device when creating a tensor.\n",
        "Next, we create the tensor variable `Y` on the first `cuda`.\n",
        "The tensor created on a GPU only consumes the memory of that GPU.\n",
        "We can use the `nvidia-smi` command to view GPU memory usage.\n",
        "In general, we need to make sure that we do not create data that exceed the GPU memory limit."
      ],
      "metadata": {
        "id": "M7CzSaggfdfW"
      }
    },
    {
      "cell_type": "code",
      "source": [
        "Y = torch.ones(2, 3, device=try_gpu())\n",
        "Y"
      ],
      "metadata": {
        "colab": {
          "base_uri": "https://localhost:8080/"
        },
        "id": "uhSMJXiHfvJs",
        "outputId": "8e204ddc-21fb-43c7-f260-684c2d9bcefb"
      },
      "execution_count": 86,
      "outputs": [
        {
          "output_type": "execute_result",
          "data": {
            "text/plain": [
              "tensor([[1., 1., 1.],\n",
              "        [1., 1., 1.]], device='cuda:0')"
            ]
          },
          "metadata": {},
          "execution_count": 86
        }
      ]
    },
    {
      "cell_type": "code",
      "source": [
        "X = torch.rand(2, 3)\n",
        "X"
      ],
      "metadata": {
        "colab": {
          "base_uri": "https://localhost:8080/"
        },
        "id": "cQ3Ggce5nsxZ",
        "outputId": "c3f10aa8-2813-429b-a4de-c11c5b8c11e7"
      },
      "execution_count": 87,
      "outputs": [
        {
          "output_type": "execute_result",
          "data": {
            "text/plain": [
              "tensor([[0.8823, 0.9150, 0.3829],\n",
              "        [0.9593, 0.3904, 0.6009]])"
            ]
          },
          "metadata": {},
          "execution_count": 87
        }
      ]
    },
    {
      "cell_type": "markdown",
      "source": [
        "If we want to compute `X + Y`,\n",
        "we need to decide where to perform this operation.\n",
        "For instance, we can transfer `X` to the GPU\n",
        "and perform the operation there.\n",
        "*We cannot* simply add `X` and `Y`,\n",
        "since this will result in an exception.\n",
        "The runtime engine would not know what to do:\n",
        "it cannot find data on the same device and it fails.\n",
        "Since `Y` lives on the GPU,\n",
        "we need to move `X` there before we can add the two."
      ],
      "metadata": {
        "id": "gLdP1WPHnP4y"
      }
    },
    {
      "cell_type": "code",
      "source": [
        "Z = X.cuda(0)\n",
        "print(X)\n",
        "print(Z)"
      ],
      "metadata": {
        "colab": {
          "base_uri": "https://localhost:8080/"
        },
        "id": "LS8Xhufznzxb",
        "outputId": "d73c5a39-8545-471e-c1e6-9d14371bfeb0"
      },
      "execution_count": 88,
      "outputs": [
        {
          "output_type": "stream",
          "name": "stdout",
          "text": [
            "tensor([[0.8823, 0.9150, 0.3829],\n",
            "        [0.9593, 0.3904, 0.6009]])\n",
            "tensor([[0.8823, 0.9150, 0.3829],\n",
            "        [0.9593, 0.3904, 0.6009]], device='cuda:0')\n"
          ]
        }
      ]
    },
    {
      "cell_type": "markdown",
      "source": [
        "Now that the data are on the GPU\n",
        "(both `Z` and `Y` are),\n",
        "we can add them up."
      ],
      "metadata": {
        "id": "V9UWrvXjoS_R"
      }
    },
    {
      "cell_type": "code",
      "source": [
        "Z + Y"
      ],
      "metadata": {
        "colab": {
          "base_uri": "https://localhost:8080/"
        },
        "id": "Ud_RAHP0oWou",
        "outputId": "1982261c-402c-4fc5-82ce-9b1f71c98acf"
      },
      "execution_count": 89,
      "outputs": [
        {
          "output_type": "execute_result",
          "data": {
            "text/plain": [
              "tensor([[1.8823, 1.9150, 1.3829],\n",
              "        [1.9593, 1.3904, 1.6009]], device='cuda:0')"
            ]
          },
          "metadata": {},
          "execution_count": 89
        }
      ]
    },
    {
      "cell_type": "markdown",
      "source": [
        "Imagine that our variable `Z` already lives on the GPU.\n",
        "What happens if we still call `Z.cuda(0)`?\n",
        "It will return `Z` instead of making a copy and allocating new memory."
      ],
      "metadata": {
        "id": "tm4olfYdoiVu"
      }
    },
    {
      "cell_type": "code",
      "source": [
        "Z.cuda(0) is Z"
      ],
      "metadata": {
        "colab": {
          "base_uri": "https://localhost:8080/"
        },
        "id": "Ip7bm37ropU3",
        "outputId": "c41fce9f-2f70-4761-f9f4-81f57bac725a"
      },
      "execution_count": 90,
      "outputs": [
        {
          "output_type": "execute_result",
          "data": {
            "text/plain": [
              "True"
            ]
          },
          "metadata": {},
          "execution_count": 90
        }
      ]
    },
    {
      "cell_type": "markdown",
      "source": [
        "Similarly, a neural network model can specify devices.\n",
        "The following code puts the model parameters on the GPU."
      ],
      "metadata": {
        "id": "55NNlz_KoyVm"
      }
    },
    {
      "cell_type": "code",
      "source": [
        "net = nn.Sequential(nn.Linear(3, 1))\n",
        "net = net.to(device=try_gpu())"
      ],
      "metadata": {
        "id": "smkXAxHSo1fK"
      },
      "execution_count": 91,
      "outputs": []
    },
    {
      "cell_type": "markdown",
      "source": [
        "When the input is a tensor on the GPU, the model will calculate the result on the same GPU."
      ],
      "metadata": {
        "id": "KNBnE-Rxo5x7"
      }
    },
    {
      "cell_type": "code",
      "source": [
        "net(Z)"
      ],
      "metadata": {
        "colab": {
          "base_uri": "https://localhost:8080/"
        },
        "id": "sNAJ1uuKpBR3",
        "outputId": "1421a73b-bd84-40de-decb-88b8edd1c1a3"
      },
      "execution_count": 92,
      "outputs": [
        {
          "output_type": "execute_result",
          "data": {
            "text/plain": [
              "tensor([[-0.1664],\n",
              "        [-0.2550]], device='cuda:0', grad_fn=<AddmmBackward0>)"
            ]
          },
          "metadata": {},
          "execution_count": 92
        }
      ]
    },
    {
      "cell_type": "markdown",
      "source": [
        "In short, as long as all data and parameters are on the same device, we can learn models efficiently."
      ],
      "metadata": {
        "id": "T0vn64XspUu8"
      }
    },
    {
      "cell_type": "code",
      "source": [
        "# useful functions\n",
        "\n",
        "def data_iter(batch_size, features, labels):\n",
        "    num_examples = len(features)\n",
        "    indices = list(range(num_examples))\n",
        "    # The examples are read at random, in no particular order\n",
        "    np.random.shuffle(indices)\n",
        "    for i in range(0, num_examples, batch_size):\n",
        "        batch_indices = torch.tensor(\n",
        "            indices[i: min(i + batch_size, num_examples)])\n",
        "        yield features[batch_indices], labels[batch_indices]\n",
        "\n",
        "\n",
        "def synthetic_data(w, b, num_examples):\n",
        "    \"\"\"Generate y = Xw + b + noise.\"\"\"\n",
        "    X = torch.normal(0, 1, (num_examples, len(w)))\n",
        "    y = X @ w + b\n",
        "    y += torch.normal(0, 0.01, y.shape)\n",
        "    return X, y.reshape(-1, 1)\n",
        "\n",
        "\n",
        "# training loop\n",
        "for epoch in range(num_epochs):\n",
        "    for X, y in data_iter:\n",
        "        l = loss(net(X), y)\n",
        "        optimizer.zero_grad()\n",
        "        l.backward()\n",
        "        optimizer.step()\n",
        "    l = loss(net(features), labels)\n",
        "    print(f'Epoch {epoch + 1}, Loss {l:f}')\n",
        "\n",
        "# explicit loss\n",
        "def mse_loss( y_prediction, y_true ):\n",
        "  return (y_prediction - y_true).pow(2).mean()\n"
      ],
      "metadata": {
        "id": "5gch87JAAq7q"
      },
      "execution_count": null,
      "outputs": []
    },
    {
      "cell_type": "code",
      "source": [
        "# 1\n",
        "import torch\n",
        "import numpy as np\n",
        "from torch import nn\n",
        "\n",
        "torch.manual_seed(0) # init\n",
        "np.random.seed(0)\n",
        "\n",
        "# linear model\n",
        "X = torch.unsqueeze(torch.linspace(-3,3,60), dim=1)\n",
        "epsilon = torch.normal(0,0.1,X.size()) # noise\n",
        "y = 1 * X - 1 + epsilon\n",
        "\n",
        "# nn model\n",
        "model = nn.Sequential(nn.Linear(1, 1))\n",
        "\n",
        "with torch.no_grad():\n",
        "    model[0].weight.fill_(1.0) # weights\n",
        "    model[0].bias.fill_(1.0) # bias\n",
        "\n",
        "# hyperparams\n",
        "batch_size = 10\n",
        "lr = 0.05\n",
        "iterations = 25\n",
        "\n",
        "# loss\n",
        "loss_func = nn.MSELoss()\n",
        "\n",
        "def data_iter(batch_size, features, labels):\n",
        "    num_examples = len(features)\n",
        "    indices = list(range(num_examples))\n",
        "    # The examples are read at random, in no particular order\n",
        "    np.random.shuffle(indices)\n",
        "    for i in range(0, num_examples, batch_size):\n",
        "        batch_indices = torch.tensor(\n",
        "            indices[i: min(i + batch_size, num_examples)])\n",
        "        yield features[batch_indices], labels[batch_indices]\n",
        "\n",
        "def training_loop(iterations):\n",
        "\n",
        "  for epoch in range(iterations):\n",
        "    for X_batch, y_batch in data_iter(batch_size, X, y):\n",
        "\n",
        "      y_prediction = model(X_batch)\n",
        "      loss = loss_func(net(X),y)\n",
        "      loss.backward()\n",
        "\n",
        "      # no torch.optim package\n",
        "      with torch.no_grad():\n",
        "        for param in model[0].parameters():\n",
        "          param -= lr * param.grad\n",
        "          param.grad.zero_() # reset gradients\n",
        "\n",
        "      with torch.no_grad():\n",
        "        total_loss = loss_func(model(features), labels)\n",
        "        print(f'Epoch {epoch + 1}, Loss {total_loss:f}')\n",
        "\n",
        "print(\"Learned weight:\", model[0].weight.data)\n",
        "print(\"Learned bias:\", model[0].bias.data)\n",
        "print(\"Actual weight: 1.0, Actual bias: -1.0\")\n",
        "\n",
        "\n",
        "\n"
      ],
      "metadata": {
        "colab": {
          "base_uri": "https://localhost:8080/"
        },
        "id": "CgmF0_111boV",
        "outputId": "38af9539-5fc1-4c76-bda7-f139884f6deb"
      },
      "execution_count": 4,
      "outputs": [
        {
          "output_type": "stream",
          "name": "stdout",
          "text": [
            "Learned weight: tensor([[1.]])\n",
            "Learned bias: tensor([1.])\n",
            "Actual weight: 1.0, Actual bias: -1.0\n"
          ]
        }
      ]
    },
    {
      "cell_type": "code",
      "source": [],
      "metadata": {
        "colab": {
          "base_uri": "https://localhost:8080/",
          "height": 373
        },
        "id": "pNpLFpCANaSr",
        "outputId": "740e2e0f-2c70-488a-be82-8a07cb5972a4"
      },
      "execution_count": 6,
      "outputs": [
        {
          "output_type": "stream",
          "name": "stdout",
          "text": [
            "Epoch 1/15, Loss: 0.4047, Train Accuracy: 0.8913, Validation Accuracy: 0.8873\n"
          ]
        },
        {
          "output_type": "error",
          "ename": "KeyboardInterrupt",
          "evalue": "",
          "traceback": [
            "\u001b[0;31m---------------------------------------------------------------------------\u001b[0m",
            "\u001b[0;31mKeyboardInterrupt\u001b[0m                         Traceback (most recent call last)",
            "\u001b[0;32m<ipython-input-6-0079a6955d4b>\u001b[0m in \u001b[0;36m<cell line: 64>\u001b[0;34m()\u001b[0m\n\u001b[1;32m     64\u001b[0m \u001b[0;32mfor\u001b[0m \u001b[0mepoch\u001b[0m \u001b[0;32min\u001b[0m \u001b[0mrange\u001b[0m\u001b[0;34m(\u001b[0m\u001b[0mnum_epochs\u001b[0m\u001b[0;34m)\u001b[0m\u001b[0;34m:\u001b[0m\u001b[0;34m\u001b[0m\u001b[0;34m\u001b[0m\u001b[0m\n\u001b[1;32m     65\u001b[0m     \u001b[0mmodel\u001b[0m\u001b[0;34m.\u001b[0m\u001b[0mtrain\u001b[0m\u001b[0;34m(\u001b[0m\u001b[0;34m)\u001b[0m\u001b[0;34m\u001b[0m\u001b[0;34m\u001b[0m\u001b[0m\n\u001b[0;32m---> 66\u001b[0;31m     \u001b[0;32mfor\u001b[0m \u001b[0mimages\u001b[0m\u001b[0;34m,\u001b[0m \u001b[0mlabels\u001b[0m \u001b[0;32min\u001b[0m \u001b[0mtrain_loader\u001b[0m\u001b[0;34m:\u001b[0m\u001b[0;34m\u001b[0m\u001b[0;34m\u001b[0m\u001b[0m\n\u001b[0m\u001b[1;32m     67\u001b[0m         \u001b[0;31m# Forward pass\u001b[0m\u001b[0;34m\u001b[0m\u001b[0;34m\u001b[0m\u001b[0m\n\u001b[1;32m     68\u001b[0m         \u001b[0moutputs\u001b[0m \u001b[0;34m=\u001b[0m \u001b[0mmodel\u001b[0m\u001b[0;34m(\u001b[0m\u001b[0mimages\u001b[0m\u001b[0;34m)\u001b[0m\u001b[0;34m\u001b[0m\u001b[0;34m\u001b[0m\u001b[0m\n",
            "\u001b[0;32m/usr/local/lib/python3.10/dist-packages/torch/utils/data/dataloader.py\u001b[0m in \u001b[0;36m__next__\u001b[0;34m(self)\u001b[0m\n\u001b[1;32m    699\u001b[0m                 \u001b[0;31m# TODO(https://github.com/pytorch/pytorch/issues/76750)\u001b[0m\u001b[0;34m\u001b[0m\u001b[0;34m\u001b[0m\u001b[0m\n\u001b[1;32m    700\u001b[0m                 \u001b[0mself\u001b[0m\u001b[0;34m.\u001b[0m\u001b[0m_reset\u001b[0m\u001b[0;34m(\u001b[0m\u001b[0;34m)\u001b[0m  \u001b[0;31m# type: ignore[call-arg]\u001b[0m\u001b[0;34m\u001b[0m\u001b[0;34m\u001b[0m\u001b[0m\n\u001b[0;32m--> 701\u001b[0;31m             \u001b[0mdata\u001b[0m \u001b[0;34m=\u001b[0m \u001b[0mself\u001b[0m\u001b[0;34m.\u001b[0m\u001b[0m_next_data\u001b[0m\u001b[0;34m(\u001b[0m\u001b[0;34m)\u001b[0m\u001b[0;34m\u001b[0m\u001b[0;34m\u001b[0m\u001b[0m\n\u001b[0m\u001b[1;32m    702\u001b[0m             \u001b[0mself\u001b[0m\u001b[0;34m.\u001b[0m\u001b[0m_num_yielded\u001b[0m \u001b[0;34m+=\u001b[0m \u001b[0;36m1\u001b[0m\u001b[0;34m\u001b[0m\u001b[0;34m\u001b[0m\u001b[0m\n\u001b[1;32m    703\u001b[0m             if (\n",
            "\u001b[0;32m/usr/local/lib/python3.10/dist-packages/torch/utils/data/dataloader.py\u001b[0m in \u001b[0;36m_next_data\u001b[0;34m(self)\u001b[0m\n\u001b[1;32m    755\u001b[0m     \u001b[0;32mdef\u001b[0m \u001b[0m_next_data\u001b[0m\u001b[0;34m(\u001b[0m\u001b[0mself\u001b[0m\u001b[0;34m)\u001b[0m\u001b[0;34m:\u001b[0m\u001b[0;34m\u001b[0m\u001b[0;34m\u001b[0m\u001b[0m\n\u001b[1;32m    756\u001b[0m         \u001b[0mindex\u001b[0m \u001b[0;34m=\u001b[0m \u001b[0mself\u001b[0m\u001b[0;34m.\u001b[0m\u001b[0m_next_index\u001b[0m\u001b[0;34m(\u001b[0m\u001b[0;34m)\u001b[0m  \u001b[0;31m# may raise StopIteration\u001b[0m\u001b[0;34m\u001b[0m\u001b[0;34m\u001b[0m\u001b[0m\n\u001b[0;32m--> 757\u001b[0;31m         \u001b[0mdata\u001b[0m \u001b[0;34m=\u001b[0m \u001b[0mself\u001b[0m\u001b[0;34m.\u001b[0m\u001b[0m_dataset_fetcher\u001b[0m\u001b[0;34m.\u001b[0m\u001b[0mfetch\u001b[0m\u001b[0;34m(\u001b[0m\u001b[0mindex\u001b[0m\u001b[0;34m)\u001b[0m  \u001b[0;31m# may raise StopIteration\u001b[0m\u001b[0;34m\u001b[0m\u001b[0;34m\u001b[0m\u001b[0m\n\u001b[0m\u001b[1;32m    758\u001b[0m         \u001b[0;32mif\u001b[0m \u001b[0mself\u001b[0m\u001b[0;34m.\u001b[0m\u001b[0m_pin_memory\u001b[0m\u001b[0;34m:\u001b[0m\u001b[0;34m\u001b[0m\u001b[0;34m\u001b[0m\u001b[0m\n\u001b[1;32m    759\u001b[0m             \u001b[0mdata\u001b[0m \u001b[0;34m=\u001b[0m \u001b[0m_utils\u001b[0m\u001b[0;34m.\u001b[0m\u001b[0mpin_memory\u001b[0m\u001b[0;34m.\u001b[0m\u001b[0mpin_memory\u001b[0m\u001b[0;34m(\u001b[0m\u001b[0mdata\u001b[0m\u001b[0;34m,\u001b[0m \u001b[0mself\u001b[0m\u001b[0;34m.\u001b[0m\u001b[0m_pin_memory_device\u001b[0m\u001b[0;34m)\u001b[0m\u001b[0;34m\u001b[0m\u001b[0;34m\u001b[0m\u001b[0m\n",
            "\u001b[0;32m/usr/local/lib/python3.10/dist-packages/torch/utils/data/_utils/fetch.py\u001b[0m in \u001b[0;36mfetch\u001b[0;34m(self, possibly_batched_index)\u001b[0m\n\u001b[1;32m     48\u001b[0m         \u001b[0;32mif\u001b[0m \u001b[0mself\u001b[0m\u001b[0;34m.\u001b[0m\u001b[0mauto_collation\u001b[0m\u001b[0;34m:\u001b[0m\u001b[0;34m\u001b[0m\u001b[0;34m\u001b[0m\u001b[0m\n\u001b[1;32m     49\u001b[0m             \u001b[0;32mif\u001b[0m \u001b[0mhasattr\u001b[0m\u001b[0;34m(\u001b[0m\u001b[0mself\u001b[0m\u001b[0;34m.\u001b[0m\u001b[0mdataset\u001b[0m\u001b[0;34m,\u001b[0m \u001b[0;34m\"__getitems__\"\u001b[0m\u001b[0;34m)\u001b[0m \u001b[0;32mand\u001b[0m \u001b[0mself\u001b[0m\u001b[0;34m.\u001b[0m\u001b[0mdataset\u001b[0m\u001b[0;34m.\u001b[0m\u001b[0m__getitems__\u001b[0m\u001b[0;34m:\u001b[0m\u001b[0;34m\u001b[0m\u001b[0;34m\u001b[0m\u001b[0m\n\u001b[0;32m---> 50\u001b[0;31m                 \u001b[0mdata\u001b[0m \u001b[0;34m=\u001b[0m \u001b[0mself\u001b[0m\u001b[0;34m.\u001b[0m\u001b[0mdataset\u001b[0m\u001b[0;34m.\u001b[0m\u001b[0m__getitems__\u001b[0m\u001b[0;34m(\u001b[0m\u001b[0mpossibly_batched_index\u001b[0m\u001b[0;34m)\u001b[0m\u001b[0;34m\u001b[0m\u001b[0;34m\u001b[0m\u001b[0m\n\u001b[0m\u001b[1;32m     51\u001b[0m             \u001b[0;32melse\u001b[0m\u001b[0;34m:\u001b[0m\u001b[0;34m\u001b[0m\u001b[0;34m\u001b[0m\u001b[0m\n\u001b[1;32m     52\u001b[0m                 \u001b[0mdata\u001b[0m \u001b[0;34m=\u001b[0m \u001b[0;34m[\u001b[0m\u001b[0mself\u001b[0m\u001b[0;34m.\u001b[0m\u001b[0mdataset\u001b[0m\u001b[0;34m[\u001b[0m\u001b[0midx\u001b[0m\u001b[0;34m]\u001b[0m \u001b[0;32mfor\u001b[0m \u001b[0midx\u001b[0m \u001b[0;32min\u001b[0m \u001b[0mpossibly_batched_index\u001b[0m\u001b[0;34m]\u001b[0m\u001b[0;34m\u001b[0m\u001b[0;34m\u001b[0m\u001b[0m\n",
            "\u001b[0;32m/usr/local/lib/python3.10/dist-packages/torch/utils/data/dataset.py\u001b[0m in \u001b[0;36m__getitems__\u001b[0;34m(self, indices)\u001b[0m\n\u001b[1;32m    418\u001b[0m             \u001b[0;32mreturn\u001b[0m \u001b[0mself\u001b[0m\u001b[0;34m.\u001b[0m\u001b[0mdataset\u001b[0m\u001b[0;34m.\u001b[0m\u001b[0m__getitems__\u001b[0m\u001b[0;34m(\u001b[0m\u001b[0;34m[\u001b[0m\u001b[0mself\u001b[0m\u001b[0;34m.\u001b[0m\u001b[0mindices\u001b[0m\u001b[0;34m[\u001b[0m\u001b[0midx\u001b[0m\u001b[0;34m]\u001b[0m \u001b[0;32mfor\u001b[0m \u001b[0midx\u001b[0m \u001b[0;32min\u001b[0m \u001b[0mindices\u001b[0m\u001b[0;34m]\u001b[0m\u001b[0;34m)\u001b[0m  \u001b[0;31m# type: ignore[attr-defined]\u001b[0m\u001b[0;34m\u001b[0m\u001b[0;34m\u001b[0m\u001b[0m\n\u001b[1;32m    419\u001b[0m         \u001b[0;32melse\u001b[0m\u001b[0;34m:\u001b[0m\u001b[0;34m\u001b[0m\u001b[0;34m\u001b[0m\u001b[0m\n\u001b[0;32m--> 420\u001b[0;31m             \u001b[0;32mreturn\u001b[0m \u001b[0;34m[\u001b[0m\u001b[0mself\u001b[0m\u001b[0;34m.\u001b[0m\u001b[0mdataset\u001b[0m\u001b[0;34m[\u001b[0m\u001b[0mself\u001b[0m\u001b[0;34m.\u001b[0m\u001b[0mindices\u001b[0m\u001b[0;34m[\u001b[0m\u001b[0midx\u001b[0m\u001b[0;34m]\u001b[0m\u001b[0;34m]\u001b[0m \u001b[0;32mfor\u001b[0m \u001b[0midx\u001b[0m \u001b[0;32min\u001b[0m \u001b[0mindices\u001b[0m\u001b[0;34m]\u001b[0m\u001b[0;34m\u001b[0m\u001b[0;34m\u001b[0m\u001b[0m\n\u001b[0m\u001b[1;32m    421\u001b[0m \u001b[0;34m\u001b[0m\u001b[0m\n\u001b[1;32m    422\u001b[0m     \u001b[0;32mdef\u001b[0m \u001b[0m__len__\u001b[0m\u001b[0;34m(\u001b[0m\u001b[0mself\u001b[0m\u001b[0;34m)\u001b[0m\u001b[0;34m:\u001b[0m\u001b[0;34m\u001b[0m\u001b[0;34m\u001b[0m\u001b[0m\n",
            "\u001b[0;32m/usr/local/lib/python3.10/dist-packages/torch/utils/data/dataset.py\u001b[0m in \u001b[0;36m<listcomp>\u001b[0;34m(.0)\u001b[0m\n\u001b[1;32m    418\u001b[0m             \u001b[0;32mreturn\u001b[0m \u001b[0mself\u001b[0m\u001b[0;34m.\u001b[0m\u001b[0mdataset\u001b[0m\u001b[0;34m.\u001b[0m\u001b[0m__getitems__\u001b[0m\u001b[0;34m(\u001b[0m\u001b[0;34m[\u001b[0m\u001b[0mself\u001b[0m\u001b[0;34m.\u001b[0m\u001b[0mindices\u001b[0m\u001b[0;34m[\u001b[0m\u001b[0midx\u001b[0m\u001b[0;34m]\u001b[0m \u001b[0;32mfor\u001b[0m \u001b[0midx\u001b[0m \u001b[0;32min\u001b[0m \u001b[0mindices\u001b[0m\u001b[0;34m]\u001b[0m\u001b[0;34m)\u001b[0m  \u001b[0;31m# type: ignore[attr-defined]\u001b[0m\u001b[0;34m\u001b[0m\u001b[0;34m\u001b[0m\u001b[0m\n\u001b[1;32m    419\u001b[0m         \u001b[0;32melse\u001b[0m\u001b[0;34m:\u001b[0m\u001b[0;34m\u001b[0m\u001b[0;34m\u001b[0m\u001b[0m\n\u001b[0;32m--> 420\u001b[0;31m             \u001b[0;32mreturn\u001b[0m \u001b[0;34m[\u001b[0m\u001b[0mself\u001b[0m\u001b[0;34m.\u001b[0m\u001b[0mdataset\u001b[0m\u001b[0;34m[\u001b[0m\u001b[0mself\u001b[0m\u001b[0;34m.\u001b[0m\u001b[0mindices\u001b[0m\u001b[0;34m[\u001b[0m\u001b[0midx\u001b[0m\u001b[0;34m]\u001b[0m\u001b[0;34m]\u001b[0m \u001b[0;32mfor\u001b[0m \u001b[0midx\u001b[0m \u001b[0;32min\u001b[0m \u001b[0mindices\u001b[0m\u001b[0;34m]\u001b[0m\u001b[0;34m\u001b[0m\u001b[0;34m\u001b[0m\u001b[0m\n\u001b[0m\u001b[1;32m    421\u001b[0m \u001b[0;34m\u001b[0m\u001b[0m\n\u001b[1;32m    422\u001b[0m     \u001b[0;32mdef\u001b[0m \u001b[0m__len__\u001b[0m\u001b[0;34m(\u001b[0m\u001b[0mself\u001b[0m\u001b[0;34m)\u001b[0m\u001b[0;34m:\u001b[0m\u001b[0;34m\u001b[0m\u001b[0;34m\u001b[0m\u001b[0m\n",
            "\u001b[0;32m/usr/local/lib/python3.10/dist-packages/torchvision/datasets/mnist.py\u001b[0m in \u001b[0;36m__getitem__\u001b[0;34m(self, index)\u001b[0m\n\u001b[1;32m    144\u001b[0m \u001b[0;34m\u001b[0m\u001b[0m\n\u001b[1;32m    145\u001b[0m         \u001b[0;32mif\u001b[0m \u001b[0mself\u001b[0m\u001b[0;34m.\u001b[0m\u001b[0mtransform\u001b[0m \u001b[0;32mis\u001b[0m \u001b[0;32mnot\u001b[0m \u001b[0;32mNone\u001b[0m\u001b[0;34m:\u001b[0m\u001b[0;34m\u001b[0m\u001b[0;34m\u001b[0m\u001b[0m\n\u001b[0;32m--> 146\u001b[0;31m             \u001b[0mimg\u001b[0m \u001b[0;34m=\u001b[0m \u001b[0mself\u001b[0m\u001b[0;34m.\u001b[0m\u001b[0mtransform\u001b[0m\u001b[0;34m(\u001b[0m\u001b[0mimg\u001b[0m\u001b[0;34m)\u001b[0m\u001b[0;34m\u001b[0m\u001b[0;34m\u001b[0m\u001b[0m\n\u001b[0m\u001b[1;32m    147\u001b[0m \u001b[0;34m\u001b[0m\u001b[0m\n\u001b[1;32m    148\u001b[0m         \u001b[0;32mif\u001b[0m \u001b[0mself\u001b[0m\u001b[0;34m.\u001b[0m\u001b[0mtarget_transform\u001b[0m \u001b[0;32mis\u001b[0m \u001b[0;32mnot\u001b[0m \u001b[0;32mNone\u001b[0m\u001b[0;34m:\u001b[0m\u001b[0;34m\u001b[0m\u001b[0;34m\u001b[0m\u001b[0m\n",
            "\u001b[0;32m/usr/local/lib/python3.10/dist-packages/torchvision/transforms/transforms.py\u001b[0m in \u001b[0;36m__call__\u001b[0;34m(self, pic)\u001b[0m\n\u001b[1;32m    135\u001b[0m             \u001b[0mTensor\u001b[0m\u001b[0;34m:\u001b[0m \u001b[0mConverted\u001b[0m \u001b[0mimage\u001b[0m\u001b[0;34m.\u001b[0m\u001b[0;34m\u001b[0m\u001b[0;34m\u001b[0m\u001b[0m\n\u001b[1;32m    136\u001b[0m         \"\"\"\n\u001b[0;32m--> 137\u001b[0;31m         \u001b[0;32mreturn\u001b[0m \u001b[0mF\u001b[0m\u001b[0;34m.\u001b[0m\u001b[0mto_tensor\u001b[0m\u001b[0;34m(\u001b[0m\u001b[0mpic\u001b[0m\u001b[0;34m)\u001b[0m\u001b[0;34m\u001b[0m\u001b[0;34m\u001b[0m\u001b[0m\n\u001b[0m\u001b[1;32m    138\u001b[0m \u001b[0;34m\u001b[0m\u001b[0m\n\u001b[1;32m    139\u001b[0m     \u001b[0;32mdef\u001b[0m \u001b[0m__repr__\u001b[0m\u001b[0;34m(\u001b[0m\u001b[0mself\u001b[0m\u001b[0;34m)\u001b[0m \u001b[0;34m->\u001b[0m \u001b[0mstr\u001b[0m\u001b[0;34m:\u001b[0m\u001b[0;34m\u001b[0m\u001b[0;34m\u001b[0m\u001b[0m\n",
            "\u001b[0;32m/usr/local/lib/python3.10/dist-packages/torchvision/transforms/functional.py\u001b[0m in \u001b[0;36mto_tensor\u001b[0;34m(pic)\u001b[0m\n\u001b[1;32m    147\u001b[0m     \u001b[0mdefault_float_dtype\u001b[0m \u001b[0;34m=\u001b[0m \u001b[0mtorch\u001b[0m\u001b[0;34m.\u001b[0m\u001b[0mget_default_dtype\u001b[0m\u001b[0;34m(\u001b[0m\u001b[0;34m)\u001b[0m\u001b[0;34m\u001b[0m\u001b[0;34m\u001b[0m\u001b[0m\n\u001b[1;32m    148\u001b[0m \u001b[0;34m\u001b[0m\u001b[0m\n\u001b[0;32m--> 149\u001b[0;31m     \u001b[0;32mif\u001b[0m \u001b[0misinstance\u001b[0m\u001b[0;34m(\u001b[0m\u001b[0mpic\u001b[0m\u001b[0;34m,\u001b[0m \u001b[0mnp\u001b[0m\u001b[0;34m.\u001b[0m\u001b[0mndarray\u001b[0m\u001b[0;34m)\u001b[0m\u001b[0;34m:\u001b[0m\u001b[0;34m\u001b[0m\u001b[0;34m\u001b[0m\u001b[0m\n\u001b[0m\u001b[1;32m    150\u001b[0m         \u001b[0;31m# handle numpy array\u001b[0m\u001b[0;34m\u001b[0m\u001b[0;34m\u001b[0m\u001b[0m\n\u001b[1;32m    151\u001b[0m         \u001b[0;32mif\u001b[0m \u001b[0mpic\u001b[0m\u001b[0;34m.\u001b[0m\u001b[0mndim\u001b[0m \u001b[0;34m==\u001b[0m \u001b[0;36m2\u001b[0m\u001b[0;34m:\u001b[0m\u001b[0;34m\u001b[0m\u001b[0;34m\u001b[0m\u001b[0m\n",
            "\u001b[0;31mKeyboardInterrupt\u001b[0m: "
          ]
        }
      ]
    }
  ]
}