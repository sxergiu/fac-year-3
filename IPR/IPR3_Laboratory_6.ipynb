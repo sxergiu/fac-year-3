{
  "nbformat": 4,
  "nbformat_minor": 0,
  "metadata": {
    "colab": {
      "provenance": [],
      "include_colab_link": true
    },
    "kernelspec": {
      "name": "python3",
      "display_name": "Python 3"
    },
    "language_info": {
      "name": "python"
    }
  },
  "cells": [
    {
      "cell_type": "markdown",
      "metadata": {
        "id": "view-in-github",
        "colab_type": "text"
      },
      "source": [
        "<a href=\"https://colab.research.google.com/github/sxergiu/fac-year-3/blob/main/IPR/IPR3_Laboratory_6.ipynb\" target=\"_parent\"><img src=\"https://colab.research.google.com/assets/colab-badge.svg\" alt=\"Open In Colab\"/></a>"
      ]
    },
    {
      "cell_type": "markdown",
      "source": [
        "#Visualization of attention"
      ],
      "metadata": {
        "id": "XVM7wVyIE6Nh"
      }
    },
    {
      "cell_type": "markdown",
      "source": [
        "As usual, we start with the necessary imports and set a constant seed for the random number generator in PyTorch."
      ],
      "metadata": {
        "id": "cMm8n-ThcSMF"
      }
    },
    {
      "cell_type": "code",
      "source": [
        "import torch\n",
        "from torch import nn\n",
        "import torch.nn.functional as F\n",
        "import matplotlib.pyplot as plt\n",
        "import math\n",
        "import os\n",
        "import requests\n",
        "import zipfile\n",
        "import collections\n",
        "\n",
        "torch.manual_seed(42);"
      ],
      "metadata": {
        "id": "MrKz3vPHFOQX"
      },
      "execution_count": null,
      "outputs": []
    },
    {
      "cell_type": "markdown",
      "source": [
        "Average pooling can be treated as a weighted average of inputs, where weights are uniform. In practice, *attention pooling* aggregates values using weighted average, where weights are computed between the given query and different keys.\n",
        "\n",
        "To visualize attention weights, we define the `show_heatmaps()` function. Its input `matrices` has the shape (number of rows for display, number of columns for display, number of queries, number of keys)."
      ],
      "metadata": {
        "id": "_t1wUn6tE9Tl"
      }
    },
    {
      "cell_type": "code",
      "source": [
        "def show_heatmaps(matrices, xlabel, ylabel, titles=None, figsize=(2.5, 2.5),\n",
        "                  cmap='Reds'):\n",
        "    \"\"\"Show heatmaps of matrices.\"\"\"\n",
        "    num_rows, num_cols = matrices.shape[0], matrices.shape[1]\n",
        "    fig, axes = plt.subplots(num_rows, num_cols, figsize=figsize,\n",
        "                             sharex=True, sharey=True, squeeze=False)\n",
        "    for i, (row_axes, row_matrices) in enumerate(zip(axes, matrices)):\n",
        "        for j, (ax, matrix) in enumerate(zip(row_axes, row_matrices)):\n",
        "            pcm = ax.imshow(matrix.detach().numpy(), cmap=cmap)\n",
        "            if i == num_rows - 1:\n",
        "                ax.set_xlabel(xlabel)\n",
        "            if j == 0:\n",
        "                ax.set_ylabel(ylabel)\n",
        "            if titles:\n",
        "                ax.set_title(titles[j])\n",
        "    fig.colorbar(pcm, ax=axes, shrink=0.6);"
      ],
      "metadata": {
        "id": "ZBn_EAhNFcls"
      },
      "execution_count": null,
      "outputs": []
    },
    {
      "cell_type": "markdown",
      "source": [
        "For demonstration, we consider a simple case where the attention weight is one only when the query and the key are the same; otherwise it is zero."
      ],
      "metadata": {
        "id": "Jn6Yeh37Fzz-"
      }
    },
    {
      "cell_type": "code",
      "source": [
        "attention_weights = torch.eye(10).reshape((1, 1, 10, 10))\n",
        "show_heatmaps(attention_weights, xlabel='Keys', ylabel='Queries')"
      ],
      "metadata": {
        "colab": {
          "base_uri": "https://localhost:8080/",
          "height": 174
        },
        "id": "TJr5E9DvF50R",
        "outputId": "928d69a3-d7f5-40b8-a240-607bb8d764b1"
      },
      "execution_count": null,
      "outputs": [
        {
          "output_type": "display_data",
          "data": {
            "text/plain": [
              "<Figure size 180x180 with 2 Axes>"
            ],
            "image/png": "[encoded data removed]"
          },
          "metadata": {
            "needs_background": "light"
          }
        }
      ]
    },
    {
      "cell_type": "markdown",
      "source": [
        "# Attention pooling: Nadaraya-Watson kernel regression"
      ],
      "metadata": {
        "id": "BRk-WcttGOFA"
      }
    },
    {
      "cell_type": "markdown",
      "source": [
        "Now, we generate an artificial dataset according to the following nonlinear function, with the noise term $\\epsilon$:\n",
        "\n",
        "$$y_i = 2\\sin(x_i) + x_i^{0.8} + \\epsilon,$$\n",
        "\n",
        "where $\\epsilon$ obeys a normal distribution with zero mean and standard deviation $0.5$. Both $50$ training examples and $50$ testing examples are generated. To better visualize the pattern of attention later, the training inputs are sorted."
      ],
      "metadata": {
        "id": "VYdOxe9NGLYH"
      }
    },
    {
      "cell_type": "code",
      "source": [
        "n_train = 50  # No. of training examples\n",
        "x_train, _ = torch.sort(torch.rand(n_train) * 5)   # Training inputs"
      ],
      "metadata": {
        "id": "TSO1qLiUG37m"
      },
      "execution_count": null,
      "outputs": []
    },
    {
      "cell_type": "code",
      "source": [
        "def f(x):\n",
        "    return 2 * torch.sin(x) + x**0.8\n",
        "\n",
        "y_train = f(x_train) + torch.normal(0.0, 0.5, (n_train,))  # Training outputs\n",
        "x_test = torch.arange(0, 5, 0.1)  # Testing examples\n",
        "y_truth = f(x_test)  # Ground-truth outputs for the testing examples\n",
        "n_test = len(x_test)  # No. of testing examples\n",
        "n_test"
      ],
      "metadata": {
        "colab": {
          "base_uri": "https://localhost:8080/"
        },
        "id": "4b-3nBm8G7Il",
        "outputId": "11ba9254-b3eb-407e-cd93-cd681245c664"
      },
      "execution_count": null,
      "outputs": [
        {
          "output_type": "execute_result",
          "data": {
            "text/plain": [
              "50"
            ]
          },
          "metadata": {},
          "execution_count": 5
        }
      ]
    },
    {
      "cell_type": "markdown",
      "source": [
        "The following function plots all the training examples (represented by circles), the ground-truth data generation function `f` without the noise term (labeled by \"Truth\"), and the learned prediction function (labeled by \"Pred\")."
      ],
      "metadata": {
        "id": "9dpCCPZNG_dq"
      }
    },
    {
      "cell_type": "code",
      "source": [
        "def plot_kernel_reg(y_hat):\n",
        "    plt.plot(x_test, y_truth, label='Truth')\n",
        "    plt.plot(x_test, y_hat, label='Pred')\n",
        "    plt.xlabel('x')\n",
        "    plt.ylabel('y')\n",
        "    plt.xlim([0, 5])\n",
        "    plt.ylim([-1, 5])\n",
        "    plt.legend()\n",
        "    plt.plot(x_train, y_train, 'o', alpha=0.5);"
      ],
      "metadata": {
        "id": "w76uykpJHQ7i"
      },
      "execution_count": null,
      "outputs": []
    },
    {
      "cell_type": "markdown",
      "source": [
        "We begin with the world's \"dumbest\" estimator for this regression problem: using average pooling to average over all the training outputs:\n",
        "\n",
        "$$f(x) = \\frac{1}{n}\\sum_{i=1}^n y_i,$$\n",
        "\n",
        "which is plotted below. As we can see, this estimator is indeed not so smart."
      ],
      "metadata": {
        "id": "WtxfTM9wJrUf"
      }
    },
    {
      "cell_type": "code",
      "source": [
        "y_hat = torch.repeat_interleave(y_train.mean(), n_test)\n",
        "plot_kernel_reg(y_hat)"
      ],
      "metadata": {
        "colab": {
          "base_uri": "https://localhost:8080/",
          "height": 283
        },
        "id": "7crhj16_IMUY",
        "outputId": "0a2b64d6-5f4f-46a9-d7ef-8d9e10b5ed95"
      },
      "execution_count": null,
      "outputs": [
        {
          "output_type": "display_data",
          "data": {
            "text/plain": [
              "<Figure size 432x288 with 1 Axes>"
            ],
            "image/png": "[encoded data removed]"
          },
          "metadata": {
            "needs_background": "light"
          }
        }
      ]
    },
    {
      "cell_type": "markdown",
      "source": [
        "In the following, we plot the prediction based on the Nadaraya-Watson kernel regression nonparametric attention model, given by:\n",
        "\n",
        "$$f(x) =\\sum_{i=1}^n \\mathrm{softmax}\\left(-\\frac{1}{2}(x - x_i)^2\\right) y_i.$$\n",
        "\n",
        "The predicted line is smooth and closer to the ground-truth than that produced by average pooling."
      ],
      "metadata": {
        "id": "smR0L43TKCzr"
      }
    },
    {
      "cell_type": "code",
      "source": [
        "# Shape of `X_repeat` is: (`n_test`, `n_train`), where each row contains the\n",
        "# same testing inputs (i.e., same queries)\n",
        "X_repeat = x_test.repeat_interleave(n_train).reshape((-1, n_train))\n",
        "# Note that `x_train` contains the keys. Shape of `attention_weights` is:\n",
        "# (`n_test`, `n_train`), where each row contains attention weights to be\n",
        "# assigned among the values (`y_train`), given each query\n",
        "attention_weights = F.softmax(-(X_repeat - x_train)**2 / 2, dim=1)\n",
        "# Each element of `y_hat` is a weighted average of values, where weights are\n",
        "# attention weights\n",
        "y_hat = torch.matmul(attention_weights, y_train)\n",
        "plot_kernel_reg(y_hat)"
      ],
      "metadata": {
        "colab": {
          "base_uri": "https://localhost:8080/",
          "height": 283
        },
        "id": "DTVu5HW9KchC",
        "outputId": "842eb5e1-a2bd-4a97-e78f-a5661ce52d6a"
      },
      "execution_count": null,
      "outputs": [
        {
          "output_type": "display_data",
          "data": {
            "text/plain": [
              "<Figure size 432x288 with 1 Axes>"
            ],
            "image/png": "[encoded data removed]"
          },
          "metadata": {
            "needs_background": "light"
          }
        }
      ]
    },
    {
      "cell_type": "markdown",
      "source": [
        "Now, let us take a look at the attention weights. Here, testing inputs are queries, while training inputs are keys. Since both inputs are sorted, we can see that the closer the query-key pair is, the higher the attention weight is in the attention pooling."
      ],
      "metadata": {
        "id": "LD1bHTjDK09y"
      }
    },
    {
      "cell_type": "code",
      "source": [
        "show_heatmaps(attention_weights.unsqueeze(0).unsqueeze(0),\n",
        "              xlabel='Sorted training inputs',\n",
        "              ylabel='Sorted testing inputs')"
      ],
      "metadata": {
        "colab": {
          "base_uri": "https://localhost:8080/",
          "height": 176
        },
        "id": "x5ij4-O6LEZn",
        "outputId": "f61bb3eb-60f2-4968-e8a5-1c98db2f9fbe"
      },
      "execution_count": null,
      "outputs": [
        {
          "output_type": "display_data",
          "data": {
            "text/plain": [
              "<Figure size 180x180 with 2 Axes>"
            ],
            "image/png": "[encoded data removed]"
          },
          "metadata": {
            "needs_background": "light"
          }
        }
      ]
    },
    {
      "cell_type": "markdown",
      "source": [
        "We can also define the Nadaraya-Watson kernel regression parametric attention model by:\n",
        "\n",
        "$$f(x) =\\sum_{i=1}^n \\mathrm{softmax}\\left(-\\frac{1}{2}((x - x_i)w)^2\\right) y_i,$$\n",
        "\n",
        "where $w$ is a learnable parameter. In the following, we will train this model by learning the $w$ parameter of the attention pooling.\n",
        "\n",
        "To more efficiently compute attention for mini-batches, we can leverage the batch matrix multiplication utilities provided by PyTorch.\n",
        "\n",
        "Suppose that the first mini-batch contains $n$ matrices $\\boldsymbol{X}_1, \\ldots, \\boldsymbol{X}_n$ of shape $a\\times b$, and the second mini-batch contains $n$ matrices $\\boldsymbol{Y}_1, \\ldots, \\boldsymbol{Y}_n$ of shape $b\\times c$. Their batch matrix multiplication results in $n$ matrices $\\boldsymbol{X}_1\\boldsymbol{Y}_1, \\ldots, \\boldsymbol{X}_n\\boldsymbol{Y}_n$ of shape $a\\times c$. Therefore, given two tensors of shape ($n$, $a$, $b$) and ($n$, $b$, $c$), the shape of their batch matrix multiplication output is ($n$, $a$, $c$)."
      ],
      "metadata": {
        "id": "Gp2dlTNjM9Jm"
      }
    },
    {
      "cell_type": "code",
      "source": [
        "X = torch.ones((2, 1, 4))\n",
        "Y = torch.ones((2, 4, 6))\n",
        "torch.bmm(X, Y).shape"
      ],
      "metadata": {
        "colab": {
          "base_uri": "https://localhost:8080/"
        },
        "id": "QS3NmkrdNlM8",
        "outputId": "079213e3-1ad9-4db7-c698-077f2338518c"
      },
      "execution_count": null,
      "outputs": [
        {
          "output_type": "execute_result",
          "data": {
            "text/plain": [
              "torch.Size([2, 1, 6])"
            ]
          },
          "metadata": {},
          "execution_count": 10
        }
      ]
    },
    {
      "cell_type": "markdown",
      "source": [
        "In the context of attention mechanisms, we can use mini-batch matrix multiplication to compute weighted averages of values in a mini-batch."
      ],
      "metadata": {
        "id": "h-3iFReFODjV"
      }
    },
    {
      "cell_type": "code",
      "source": [
        "weights = torch.ones((2, 10)) * 0.1\n",
        "values = torch.arange(20.0).reshape((2, 10))\n",
        "torch.bmm(weights.unsqueeze(1), values.unsqueeze(-1))"
      ],
      "metadata": {
        "colab": {
          "base_uri": "https://localhost:8080/"
        },
        "id": "Sa9nzdiiOIpJ",
        "outputId": "e5a09562-746e-46d8-e34a-a6578cdfb72b"
      },
      "execution_count": null,
      "outputs": [
        {
          "output_type": "execute_result",
          "data": {
            "text/plain": [
              "tensor([[[ 4.5000]],\n",
              "\n",
              "        [[14.5000]]])"
            ]
          },
          "metadata": {},
          "execution_count": 11
        }
      ]
    },
    {
      "cell_type": "markdown",
      "source": [
        "Using mini-batch matrix multiplication, below we define the parametric version of Nadaraya-Watson kernel regression based on the parametric attention pooling defined above."
      ],
      "metadata": {
        "id": "N953LS9QOMjs"
      }
    },
    {
      "cell_type": "code",
      "source": [
        "class NWKernelRegression(nn.Module):\n",
        "    def __init__(self, **kwargs):\n",
        "        super().__init__(**kwargs)\n",
        "        self.w = nn.Parameter(torch.rand((1,), requires_grad=True))\n",
        "\n",
        "    def forward(self, queries, keys, values):\n",
        "        # Shape of the output `queries` and `attention_weights` is:\n",
        "        # (no. of queries, no. of key-value pairs)\n",
        "        queries = queries.repeat_interleave(keys.shape[1]).reshape((-1, keys.shape[1]))\n",
        "        self.attention_weights = F.softmax(-((queries - keys) * self.w)**2 / 2, dim=1)\n",
        "        # Shape of `values` is: (no. of queries, no. of key-value pairs)\n",
        "        return torch.bmm(self.attention_weights.unsqueeze(1),\n",
        "                         values.unsqueeze(-1)).reshape(-1)"
      ],
      "metadata": {
        "id": "HepHTQHgOVWM"
      },
      "execution_count": null,
      "outputs": []
    },
    {
      "cell_type": "markdown",
      "source": [
        "In the following, we transform the training dataset to keys and values to train the attention model. In the parametric attention pooling, any training input takes key-value pairs from all the training examples except for itself, to predict its output."
      ],
      "metadata": {
        "id": "cH2mshKlTay7"
      }
    },
    {
      "cell_type": "code",
      "source": [
        "# Shape of `X_tile` is: (`n_train`, `n_train`), where each column contains the\n",
        "# same training inputs\n",
        "X_tile = x_train.repeat((n_train, 1))\n",
        "# Shape of `Y_tile` is: (`n_train`, `n_train`), where each column contains the\n",
        "# same training outputs\n",
        "Y_tile = y_train.repeat((n_train, 1))\n",
        "# Shape of `keys` is: ('n_train', 'n_train' - 1)\n",
        "keys = X_tile[(1 - torch.eye(n_train)).type(torch.bool)].reshape((n_train, -1))\n",
        "# Shape of `values` is: ('n_train', 'n_train' - 1)\n",
        "values = Y_tile[(1 - torch.eye(n_train)).type(torch.bool)].reshape((n_train, -1))"
      ],
      "metadata": {
        "id": "ZEEJU4L3Tkd3"
      },
      "execution_count": null,
      "outputs": []
    },
    {
      "cell_type": "markdown",
      "source": [
        "Using the squared loss and stochastic gradient descent, we train the parametric attention model."
      ],
      "metadata": {
        "id": "vON5EtKkTsA-"
      }
    },
    {
      "cell_type": "code",
      "source": [
        "def plot_loss_regression(train_loss_all):\n",
        "    epochs = range(1, len(train_loss_all) + 1)\n",
        "    plt.plot(epochs, train_loss_all, 'b', label='Train loss')\n",
        "    plt.title('Training loss')\n",
        "    plt.xlabel('Epochs')\n",
        "    plt.ylabel('Loss')\n",
        "    plt.legend()\n",
        "    plt.show()"
      ],
      "metadata": {
        "id": "GhqS9ds_UPGW"
      },
      "execution_count": null,
      "outputs": []
    },
    {
      "cell_type": "code",
      "source": [
        "net = NWKernelRegression()\n",
        "loss = nn.MSELoss(reduction='none')\n",
        "optimizer = torch.optim.SGD(net.parameters(), lr=0.5)\n",
        "\n",
        "train_loss_all = []\n",
        "for epoch in range(5):\n",
        "    optimizer.zero_grad()\n",
        "    l = loss(net(x_train, keys, values), y_train)\n",
        "    l.sum().backward()\n",
        "    optimizer.step()\n",
        "    print(f'epoch {epoch + 1}, loss {float(l.sum()):.6f}')\n",
        "    train_loss_all.append(float(l.sum()))\n",
        "\n",
        "plot_loss_regression(train_loss_all)"
      ],
      "metadata": {
        "colab": {
          "base_uri": "https://localhost:8080/",
          "height": 382
        },
        "id": "A8SK7ofHTuzk",
        "outputId": "6aabbfc8-0080-4513-f7d7-daa336d2f4fb"
      },
      "execution_count": null,
      "outputs": [
        {
          "output_type": "stream",
          "name": "stdout",
          "text": [
            "epoch 1, loss 42.404827\n",
            "epoch 2, loss 22.872175\n",
            "epoch 3, loss 22.793999\n",
            "epoch 4, loss 22.713430\n",
            "epoch 5, loss 22.630474\n"
          ]
        },
        {
          "output_type": "display_data",
          "data": {
            "text/plain": [
              "<Figure size 432x288 with 1 Axes>"
            ],
            "image/png": "[encoded data removed]"
          },
          "metadata": {
            "needs_background": "light"
          }
        }
      ]
    },
    {
      "cell_type": "markdown",
      "source": [
        "After training the parametric attention model, we can plot its prediction. Trying to fit the training dataset with noise, the predicted line is less smooth\n",
        "than its nonparametric counterpart that was plotted earlier."
      ],
      "metadata": {
        "id": "-kZnmNKeUnog"
      }
    },
    {
      "cell_type": "code",
      "source": [
        "# Shape of `keys` is: (`n_test`, `n_train`), where each column contains the same\n",
        "# training inputs (i.e., same keys)\n",
        "keys = x_train.repeat((n_test, 1))\n",
        "# Shape of `value` is: (`n_test`, `n_train`)\n",
        "values = y_train.repeat((n_test, 1))\n",
        "y_hat = net(x_test, keys, values).unsqueeze(1).detach()\n",
        "plot_kernel_reg(y_hat)"
      ],
      "metadata": {
        "colab": {
          "base_uri": "https://localhost:8080/",
          "height": 283
        },
        "id": "UH0gRMdsUvKi",
        "outputId": "72f35b2e-9402-4162-9428-15403b687400"
      },
      "execution_count": null,
      "outputs": [
        {
          "output_type": "display_data",
          "data": {
            "text/plain": [
              "<Figure size 432x288 with 1 Axes>"
            ],
            "image/png": "[encoded data removed]"
          },
          "metadata": {
            "needs_background": "light"
          }
        }
      ]
    },
    {
      "cell_type": "markdown",
      "source": [
        "Comparing with nonparametric attention pooling, the region with large attention weights becomes sharper in the learnable and parametric setting."
      ],
      "metadata": {
        "id": "FnOb7TVGU24q"
      }
    },
    {
      "cell_type": "code",
      "source": [
        "show_heatmaps(net.attention_weights.unsqueeze(0).unsqueeze(0),\n",
        "              xlabel='Sorted training inputs',\n",
        "              ylabel='Sorted testing inputs')"
      ],
      "metadata": {
        "colab": {
          "base_uri": "https://localhost:8080/",
          "height": 176
        },
        "id": "vWwj1GiAU2Uw",
        "outputId": "c617871f-a3c6-4630-aead-0f2a73434642"
      },
      "execution_count": null,
      "outputs": [
        {
          "output_type": "display_data",
          "data": {
            "text/plain": [
              "<Figure size 180x180 with 2 Axes>"
            ],
            "image/png": "[encoded data removed]"
          },
          "metadata": {
            "needs_background": "light"
          }
        }
      ]
    },
    {
      "cell_type": "markdown",
      "source": [
        "# Attention scoring functions"
      ],
      "metadata": {
        "id": "3yusS83FXPED"
      }
    },
    {
      "cell_type": "markdown",
      "source": [
        "A softmax operation is used to output a probability distribution as attention weights. In some cases, not all the values should be fed into attention pooling.\n",
        "For instance, for efficient mini-batch processing, some text sequences are padded with special tokens that do not carry meaning. To get an attention pooling over only meaningful tokens as values, we can specify a valid sequence length (in number of tokens) to filter out those beyond this specified range,\n",
        "when computing softmax. In this way, we can implement such a *masked softmax operation* in the following `masked_softmax()` function, where any value beyond the valid length is masked as zero. The `sequence_mask()` function is the same as in *Laboratory 5*."
      ],
      "metadata": {
        "id": "3IwOpptVXQ7v"
      }
    },
    {
      "cell_type": "code",
      "source": [
        "def sequence_mask(X, valid_len, value=0):\n",
        "    \"\"\"Mask irrelevant entries in sequences.\"\"\"\n",
        "    maxlen = X.size(1)\n",
        "    mask = torch.arange((maxlen), dtype=torch.float32,\n",
        "                        device=X.device)[None, :] < valid_len[:, None]\n",
        "    X[~mask] = value\n",
        "    return X"
      ],
      "metadata": {
        "id": "gN4Ugzx3X_Or"
      },
      "execution_count": null,
      "outputs": []
    },
    {
      "cell_type": "code",
      "source": [
        "def masked_softmax(X, valid_lens):\n",
        "    \"\"\"Perform softmax operation by masking elements on the last axis.\"\"\"\n",
        "    # `X`: 3D tensor, `valid_lens`: 1D or 2D tensor\n",
        "    if valid_lens is None:\n",
        "        return nn.functional.softmax(X, dim=-1)\n",
        "    else:\n",
        "        shape = X.shape\n",
        "        if valid_lens.dim() == 1:\n",
        "            valid_lens = torch.repeat_interleave(valid_lens, shape[1])\n",
        "        else:\n",
        "            valid_lens = valid_lens.reshape(-1)\n",
        "        # On the last axis, replace masked elements with a very large negative\n",
        "        # value, whose exponentiation outputs 0\n",
        "        X = sequence_mask(X.reshape(-1, shape[-1]), valid_lens,\n",
        "                          value=-1e6)\n",
        "        return F.softmax(X.reshape(shape), dim=-1)"
      ],
      "metadata": {
        "id": "RSAa_cQmXynq"
      },
      "execution_count": null,
      "outputs": []
    },
    {
      "cell_type": "markdown",
      "source": [
        "To demonstrate how this function works, consider a mini-batch of two $2 \\times 4$ matrix examples, where the valid lengths for these two examples are two and three, respectively. As a result of the masked softmax operation, values beyond the valid lengths are all masked as zero."
      ],
      "metadata": {
        "id": "SdSGWVBrYDzU"
      }
    },
    {
      "cell_type": "code",
      "source": [
        "masked_softmax(torch.rand(2, 2, 4), torch.tensor([2, 3]))"
      ],
      "metadata": {
        "colab": {
          "base_uri": "https://localhost:8080/"
        },
        "id": "HOfqoo87YNiJ",
        "outputId": "e17e5605-95a4-44e5-832e-23a02b52ca8b"
      },
      "execution_count": null,
      "outputs": [
        {
          "output_type": "execute_result",
          "data": {
            "text/plain": [
              "tensor([[[0.4441, 0.5559, 0.0000, 0.0000],\n",
              "         [0.4622, 0.5378, 0.0000, 0.0000]],\n",
              "\n",
              "        [[0.3300, 0.3723, 0.2977, 0.0000],\n",
              "         [0.2507, 0.4257, 0.3236, 0.0000]]])"
            ]
          },
          "metadata": {},
          "execution_count": 20
        }
      ]
    },
    {
      "cell_type": "markdown",
      "source": [
        "Similarly, we can also use a two-dimensional tensor to specify valid lengths for every row in each matrix example."
      ],
      "metadata": {
        "id": "5vBAI0EUYQoV"
      }
    },
    {
      "cell_type": "code",
      "source": [
        "masked_softmax(torch.rand(2, 2, 4), torch.tensor([[1, 3], [2, 4]]))"
      ],
      "metadata": {
        "colab": {
          "base_uri": "https://localhost:8080/"
        },
        "id": "-yBdk6B2YQEw",
        "outputId": "39a59259-7736-4b16-f1e2-f3f638951bc0"
      },
      "execution_count": null,
      "outputs": [
        {
          "output_type": "execute_result",
          "data": {
            "text/plain": [
              "tensor([[[1.0000, 0.0000, 0.0000, 0.0000],\n",
              "         [0.2288, 0.4340, 0.3372, 0.0000]],\n",
              "\n",
              "        [[0.3140, 0.6860, 0.0000, 0.0000],\n",
              "         [0.2026, 0.2363, 0.2733, 0.2878]]])"
            ]
          },
          "metadata": {},
          "execution_count": 21
        }
      ]
    },
    {
      "cell_type": "markdown",
      "source": [
        "Given a query $\\mathbf{q} \\in \\mathbb{R}^q$ and a key $\\mathbf{k} \\in \\mathbb{R}^k$, the *additive attention* scoring function is defined as:\n",
        "\n",
        "$$a(\\mathbf q, \\mathbf k) = \\mathbf w_v^\\top \\text{tanh}(\\mathbf W_q\\mathbf q + \\mathbf W_k \\mathbf k) \\in \\mathbb{R},$$\n",
        "\n",
        "where the parameters $\\mathbf W_q\\in\\mathbb R^{h\\times q}$, $\\mathbf W_k\\in\\mathbb R^{h\\times k}$, and $\\mathbf w_v\\in\\mathbb R^{h}$ are learnable.\n",
        "This can be implemented by concatenating the query and the key, and feeding the result into an MLP with a single hidden layer whose number of hidden units is $h$, a hyperparameter. By using $\\tanh$ as the activation function and disabling\n",
        "bias terms, we implement additive attention in the following."
      ],
      "metadata": {
        "id": "vLq-yiVGYcXk"
      }
    },
    {
      "cell_type": "code",
      "source": [
        "class AdditiveAttention(nn.Module):\n",
        "    \"\"\"Additive attention.\"\"\"\n",
        "    def __init__(self, key_size, query_size, num_hiddens, dropout, **kwargs):\n",
        "        super(AdditiveAttention, self).__init__(**kwargs)\n",
        "        self.W_k = nn.Linear(key_size, num_hiddens, bias=False)\n",
        "        self.W_q = nn.Linear(query_size, num_hiddens, bias=False)\n",
        "        self.w_v = nn.Linear(num_hiddens, 1, bias=False)\n",
        "        self.dropout = nn.Dropout(dropout)\n",
        "\n",
        "    def forward(self, queries, keys, values, valid_lens):\n",
        "        queries, keys = self.W_q(queries), self.W_k(keys)\n",
        "        # After dimension expansion, shape of `queries` is: (`batch_size`, no.\n",
        "        # of queries, 1, `num_hiddens`) and shape of `keys` is: (`batch_size`,\n",
        "        # 1, no. of key-value pairs, `num_hiddens`). Sum them up with\n",
        "        # broadcasting\n",
        "        features = queries.unsqueeze(2) + keys.unsqueeze(1)\n",
        "        features = torch.tanh(features)\n",
        "        # There is only one output of `self.w_v`, so we remove the last\n",
        "        # one-dimensional entry from the shape. Shape of `scores` is:\n",
        "        # (`batch_size`, no. of queries, no. of key-value pairs)\n",
        "        scores = self.w_v(features).squeeze(-1)\n",
        "        self.attention_weights = masked_softmax(scores, valid_lens)\n",
        "        # Shape of `values` is: (`batch_size`, no. of key-value pairs, value\n",
        "        # dimension)\n",
        "        return torch.bmm(self.dropout(self.attention_weights), values)"
      ],
      "metadata": {
        "id": "5-NpXVEgY0FF"
      },
      "execution_count": null,
      "outputs": []
    },
    {
      "cell_type": "markdown",
      "source": [
        "Let us demonstrate the above `AdditiveAttention` class with a toy example, where shapes (batch size, number of steps or sequence length in tokens, feature size) of queries, keys, and values are ($2$, $1$, $20$), ($2$, $10$, $2$), and ($2$, $10$, $4$), respectively. The attention pooling output has a shape of (batch size, number of steps for queries, feature size for values)."
      ],
      "metadata": {
        "id": "dFmK16ZXZGUR"
      }
    },
    {
      "cell_type": "code",
      "source": [
        "queries, keys = torch.normal(0, 1, (2, 1, 20)), torch.ones((2, 10, 2))\n",
        "# The two value matrices in the `values` mini-batch are identical\n",
        "values = torch.arange(40, dtype=torch.float32).reshape(1, 10, 4).repeat(\n",
        "    2, 1, 1)\n",
        "valid_lens = torch.tensor([2, 6])\n",
        "\n",
        "attention = AdditiveAttention(key_size=2, query_size=20, num_hiddens=8,\n",
        "                              dropout=0.1)\n",
        "attention.eval()\n",
        "attention(queries, keys, values, valid_lens)"
      ],
      "metadata": {
        "colab": {
          "base_uri": "https://localhost:8080/"
        },
        "id": "h4I7eNQcZPyj",
        "outputId": "7fda2381-3986-42d7-9ff9-f3cb123be6d1"
      },
      "execution_count": null,
      "outputs": [
        {
          "output_type": "execute_result",
          "data": {
            "text/plain": [
              "tensor([[[ 2.0000,  3.0000,  4.0000,  5.0000]],\n",
              "\n",
              "        [[10.0000, 11.0000, 12.0000, 13.0000]]], grad_fn=<BmmBackward0>)"
            ]
          },
          "metadata": {},
          "execution_count": 23
        }
      ]
    },
    {
      "cell_type": "markdown",
      "source": [
        "Although additive attention contains learnable parameters, since every key is the same in this example, the attention weights are uniform, determined by the specified valid lengths."
      ],
      "metadata": {
        "id": "VfGtJop2ZUwK"
      }
    },
    {
      "cell_type": "code",
      "source": [
        "show_heatmaps(attention.attention_weights.reshape((1, 1, 2, 10)),\n",
        "              xlabel='Keys', ylabel='Queries')"
      ],
      "metadata": {
        "colab": {
          "base_uri": "https://localhost:8080/",
          "height": 118
        },
        "id": "eTS2LZapZaxc",
        "outputId": "d3e79ef2-5314-46af-e238-f6347a8210f6"
      },
      "execution_count": null,
      "outputs": [
        {
          "output_type": "display_data",
          "data": {
            "text/plain": [
              "<Figure size 180x180 with 2 Axes>"
            ],
            "image/png": "[encoded data removed]"
          },
          "metadata": {
            "needs_background": "light"
          }
        }
      ]
    },
    {
      "cell_type": "markdown",
      "source": [
        "The *scaled dot-product attention*\n",
        "of queries $\\mathbf Q\\in\\mathbb R^{n\\times d}$,\n",
        "keys $\\mathbf K\\in\\mathbb R^{m\\times d}$,\n",
        "and values $\\mathbf V\\in\\mathbb R^{m\\times v}$\n",
        "is:\n",
        "\n",
        "$$ \\mathrm{softmax}\\left(\\frac{\\mathbf Q \\mathbf K^\\top }{\\sqrt{d}}\\right) \\mathbf V \\in \\mathbb{R}^{n\\times v}.$$\n",
        "\n",
        "In the following implementation of the scaled dot product attention, we use dropout for model regularization."
      ],
      "metadata": {
        "id": "nMcaOGQvaJsz"
      }
    },
    {
      "cell_type": "code",
      "source": [
        "class DotProductAttention(nn.Module):\n",
        "    \"\"\"Scaled dot product attention.\"\"\"\n",
        "    def __init__(self, dropout, **kwargs):\n",
        "        super(DotProductAttention, self).__init__(**kwargs)\n",
        "        self.dropout = nn.Dropout(dropout)\n",
        "\n",
        "    # Shape of `queries` is: (`batch_size`, no. of queries, `d`)\n",
        "    # Shape of `keys` is: (`batch_size`, no. of key-value pairs, `d`)\n",
        "    # Shape of `values` is: (`batch_size`, no. of key-value pairs, value\n",
        "    # dimension)\n",
        "    # Shape of `valid_lens`: (`batch_size`,) or (`batch_size`, no. of queries)\n",
        "    def forward(self, queries, keys, values, valid_lens=None):\n",
        "        d = queries.shape[-1]\n",
        "        # Use `keys.transpose(1,2)` to swap the last two dimensions of `keys`\n",
        "        scores = torch.bmm(queries, keys.transpose(1,2)) / math.sqrt(d)\n",
        "        self.attention_weights = masked_softmax(scores, valid_lens)\n",
        "        return torch.bmm(self.dropout(self.attention_weights), values)"
      ],
      "metadata": {
        "id": "a9nEHmdPaSqs"
      },
      "execution_count": null,
      "outputs": []
    },
    {
      "cell_type": "markdown",
      "source": [
        "To demonstrate the above `DotProductAttention` class, we use the same keys, values, and valid lengths from the earlier toy example for additive attention. For the dot product operation, we make the feature size of queries the same as that of keys."
      ],
      "metadata": {
        "id": "HwugkMgxafUp"
      }
    },
    {
      "cell_type": "code",
      "source": [
        "queries = torch.normal(0, 1, (2, 1, 2))\n",
        "attention = DotProductAttention(dropout=0.5)\n",
        "attention.eval()\n",
        "attention(queries, keys, values, valid_lens)"
      ],
      "metadata": {
        "colab": {
          "base_uri": "https://localhost:8080/"
        },
        "id": "52xWpwksaliQ",
        "outputId": "69817209-f9cb-4961-b7f6-468bc063dc0f"
      },
      "execution_count": null,
      "outputs": [
        {
          "output_type": "execute_result",
          "data": {
            "text/plain": [
              "tensor([[[ 2.0000,  3.0000,  4.0000,  5.0000]],\n",
              "\n",
              "        [[10.0000, 11.0000, 12.0000, 13.0000]]])"
            ]
          },
          "metadata": {},
          "execution_count": 26
        }
      ]
    },
    {
      "cell_type": "markdown",
      "source": [
        "Same as in the additive attention demonstration, since `keys` contains the same element that cannot be differentiated by any query, uniform attention weights are obtained."
      ],
      "metadata": {
        "id": "gs_cA0CSaqEo"
      }
    },
    {
      "cell_type": "code",
      "source": [
        "show_heatmaps(attention.attention_weights.reshape((1, 1, 2, 10)),\n",
        "              xlabel='Keys', ylabel='Queries')"
      ],
      "metadata": {
        "colab": {
          "base_uri": "https://localhost:8080/",
          "height": 118
        },
        "id": "egDZPssmawWB",
        "outputId": "924cd7a4-14fb-41b2-a951-7da0d0797ba1"
      },
      "execution_count": null,
      "outputs": [
        {
          "output_type": "display_data",
          "data": {
            "text/plain": [
              "<Figure size 180x180 with 2 Axes>"
            ],
            "image/png": "[encoded data removed]"
          },
          "metadata": {
            "needs_background": "light"
          }
        }
      ]
    },
    {
      "cell_type": "markdown",
      "source": [
        "# Bahdanau attention"
      ],
      "metadata": {
        "id": "wLSyo1lpc8Tw"
      }
    },
    {
      "cell_type": "markdown",
      "source": [
        "To implement the RNN encoder-decoder with *Bahdanau attention*, we only need to redefine the decoder. To visualize the learned attention weights more conveniently, the following `AttentionDecoder` class defines the base interface for decoders with attention mechanisms. The `Decoder` class is the same as in *Laboratory 5*."
      ],
      "metadata": {
        "id": "KN-JKwP-c9wJ"
      }
    },
    {
      "cell_type": "code",
      "source": [
        "class Decoder(nn.Module):\n",
        "    \"\"\"The base decoder interface for the encoder-decoder architecture.\"\"\"\n",
        "    def __init__(self, **kwargs):\n",
        "        super(Decoder, self).__init__(**kwargs)\n",
        "\n",
        "    def init_state(self, enc_outputs, *args):\n",
        "        raise NotImplementedError\n",
        "\n",
        "    def forward(self, X, state):\n",
        "        raise NotImplementedError"
      ],
      "metadata": {
        "id": "sHzHP7cVdVw4"
      },
      "execution_count": null,
      "outputs": []
    },
    {
      "cell_type": "code",
      "source": [
        "class AttentionDecoder(Decoder):\n",
        "    \"\"\"The base attention-based decoder interface.\"\"\"\n",
        "    def __init__(self, **kwargs):\n",
        "        super(AttentionDecoder, self).__init__(**kwargs)\n",
        "\n",
        "    @property\n",
        "    def attention_weights(self):\n",
        "        raise NotImplementedError"
      ],
      "metadata": {
        "id": "rIM4remedMWz"
      },
      "execution_count": null,
      "outputs": []
    },
    {
      "cell_type": "markdown",
      "source": [
        "Now, let us implement the RNN decoder with Bahdanau attention in the following `Seq2SeqAttentionDecoder` class. The state of the decoder is initialized with\n",
        "(i) the encoder final-layer hidden states at all the time steps (as keys and values of the attention);\n",
        "(ii) the encoder all-layer hidden state at the final time step (to initialize the hidden state of the decoder);\n",
        "and (iii) the encoder valid length (to exclude the padding tokens in attention pooling).\n",
        "At each decoding time step, the decoder final-layer hidden state at the previous time step is used as the query of the attention. As a result, both the attention output and the input embedding are concatenated as the input of the RNN decoder."
      ],
      "metadata": {
        "id": "ppQ5i1OFdZV8"
      }
    },
    {
      "cell_type": "code",
      "source": [
        "class Seq2SeqAttentionDecoder(AttentionDecoder):\n",
        "    def __init__(self, vocab_size, embed_size, num_hiddens, num_layers,\n",
        "                 dropout=0, **kwargs):\n",
        "        super(Seq2SeqAttentionDecoder, self).__init__(**kwargs)\n",
        "        self.attention = AdditiveAttention(\n",
        "            num_hiddens, num_hiddens, num_hiddens, dropout)\n",
        "        self.embedding = nn.Embedding(vocab_size, embed_size)\n",
        "        self.rnn = nn.GRU(\n",
        "            embed_size + num_hiddens, num_hiddens, num_layers,\n",
        "            dropout=dropout)\n",
        "        self.dense = nn.Linear(num_hiddens, vocab_size)\n",
        "\n",
        "    def init_state(self, enc_outputs, enc_valid_lens, *args):\n",
        "        # Shape of `outputs` is: (`num_steps`, `batch_size`, `num_hiddens`).\n",
        "        # Shape of `hidden_state[0]` is: (`num_layers`, `batch_size`,\n",
        "        # `num_hiddens`)\n",
        "        outputs, hidden_state = enc_outputs\n",
        "        return (outputs.permute(1, 0, 2), hidden_state, enc_valid_lens)\n",
        "\n",
        "    def forward(self, X, state):\n",
        "        # Shape of `enc_outputs` is: (`batch_size`, `num_steps`, `num_hiddens`).\n",
        "        # Shape of `hidden_state[0]` is: (`num_layers`, `batch_size`,\n",
        "        # `num_hiddens`)\n",
        "        enc_outputs, hidden_state, enc_valid_lens = state\n",
        "        # Shape of the output `X` is: (`num_steps`, `batch_size`, `embed_size`)\n",
        "        X = self.embedding(X).permute(1, 0, 2)\n",
        "        outputs, self._attention_weights = [], []\n",
        "        for x in X:\n",
        "            # Shape of `query` is: (`batch_size`, 1, `num_hiddens`)\n",
        "            query = torch.unsqueeze(hidden_state[-1], dim=1)\n",
        "            # Shape of `context` is: (`batch_size`, 1, `num_hiddens`)\n",
        "            context = self.attention(\n",
        "                query, enc_outputs, enc_outputs, enc_valid_lens)\n",
        "            # Concatenate on the feature dimension\n",
        "            x = torch.cat((context, torch.unsqueeze(x, dim=1)), dim=-1)\n",
        "            # Reshape `x` as (1, `batch_size`, `embed_size` + `num_hiddens`)\n",
        "            out, hidden_state = self.rnn(x.permute(1, 0, 2), hidden_state)\n",
        "            outputs.append(out)\n",
        "            self._attention_weights.append(self.attention.attention_weights)\n",
        "        # After fully-connected layer transformation, shape of `outputs` is:\n",
        "        # (`num_steps`, `batch_size`, `vocab_size`)\n",
        "        outputs = self.dense(torch.cat(outputs, dim=0))\n",
        "        return outputs.permute(1, 0, 2), [enc_outputs, hidden_state,\n",
        "                                          enc_valid_lens]\n",
        "\n",
        "    @property\n",
        "    def attention_weights(self):\n",
        "        return self._attention_weights"
      ],
      "metadata": {
        "id": "mKm52rSBdoms"
      },
      "execution_count": null,
      "outputs": []
    },
    {
      "cell_type": "markdown",
      "source": [
        "In the following, we test the implemented decoder with Bahdanau attention using a mini-batch of $4$ sequence inputs of $7$ time steps. The `Encoder` and `Seq2SeqEncoder` classes are the same as in *Laboratory 5*."
      ],
      "metadata": {
        "id": "aCXPVW08d5zV"
      }
    },
    {
      "cell_type": "code",
      "source": [
        "class Encoder(nn.Module):\n",
        "    \"\"\"The base encoder interface for the encoder-decoder architecture.\"\"\"\n",
        "    def __init__(self, **kwargs):\n",
        "        super(Encoder, self).__init__(**kwargs)\n",
        "\n",
        "    def forward(self, X, *args):\n",
        "        raise NotImplementedError\n",
        "\n",
        "class Seq2SeqEncoder(Encoder):\n",
        "    \"\"\"The RNN encoder for sequence to sequence learning.\"\"\"\n",
        "    def __init__(self, vocab_size, embed_size, num_hiddens, num_layers,\n",
        "                 dropout=0, **kwargs):\n",
        "        super(Seq2SeqEncoder, self).__init__(**kwargs)\n",
        "        # Embedding layer\n",
        "        self.embedding = nn.Embedding(vocab_size, embed_size)\n",
        "        self.rnn = nn.GRU(embed_size, num_hiddens, num_layers,\n",
        "                          dropout=dropout)\n",
        "\n",
        "    def forward(self, X, *args):\n",
        "        # The output `X` shape: (`batch_size`, `num_steps`, `embed_size`)\n",
        "        X = self.embedding(X)\n",
        "        # In RNN models, the first axis corresponds to time steps\n",
        "        X = X.permute(1, 0, 2)\n",
        "        # When state is not mentioned, it defaults to zeros\n",
        "        output, state = self.rnn(X)\n",
        "        # `output` shape: (`num_steps`, `batch_size`, `num_hiddens`)\n",
        "        # `state` shape: (`num_layers`, `batch_size`, `num_hiddens`)\n",
        "        return output, state"
      ],
      "metadata": {
        "id": "iGTI_sHneH8G"
      },
      "execution_count": null,
      "outputs": []
    },
    {
      "cell_type": "code",
      "source": [
        "encoder = Seq2SeqEncoder(vocab_size=10, embed_size=8, num_hiddens=16,\n",
        "                             num_layers=2)\n",
        "encoder.eval()\n",
        "decoder = Seq2SeqAttentionDecoder(vocab_size=10, embed_size=8, num_hiddens=16,\n",
        "                                  num_layers=2)\n",
        "decoder.eval()\n",
        "X = torch.zeros((4, 7), dtype=torch.long)  # (`batch_size`, `num_steps`)\n",
        "state = decoder.init_state(encoder(X), None)\n",
        "output, state = decoder(X, state)\n",
        "output.shape, len(state), state[0].shape, len(state[1]), state[1][0].shape"
      ],
      "metadata": {
        "colab": {
          "base_uri": "https://localhost:8080/"
        },
        "id": "VNR9PT4reBmP",
        "outputId": "fc74f5e0-421f-4f37-843a-692c4c48e619"
      },
      "execution_count": null,
      "outputs": [
        {
          "output_type": "execute_result",
          "data": {
            "text/plain": [
              "(torch.Size([4, 7, 10]), 3, torch.Size([4, 7, 16]), 2, torch.Size([4, 16]))"
            ]
          },
          "metadata": {},
          "execution_count": 32
        }
      ]
    },
    {
      "cell_type": "markdown",
      "source": [
        "Similar to *Laboratory 5*, here we specify hyperparemeters, instantiate an encoder and a decoder with Bahdanau attention, and train this model for machine translation. Due to the newly added attention mechanism, this training is much slower than that in *Laboratory 5* without attention mechanisms. All the other functions and classes are the same as in *Laboratory 5*."
      ],
      "metadata": {
        "id": "ZsR7Y5Hn4WsO"
      }
    },
    {
      "cell_type": "code",
      "source": [
        "def try_gpu(i=0):\n",
        "    \"\"\"Return gpu(i) if exists, otherwise return cpu().\"\"\"\n",
        "    if torch.cuda.device_count() >= i + 1:\n",
        "        return torch.device(f'cuda:{i}')\n",
        "    return torch.device('cpu')"
      ],
      "metadata": {
        "id": "fqwuucHg6d0O"
      },
      "execution_count": null,
      "outputs": []
    },
    {
      "cell_type": "code",
      "source": [
        "class Vocab:\n",
        "    \"\"\"Vocabulary for text.\"\"\"\n",
        "    def __init__(self, tokens=None, min_freq=0, reserved_tokens=None):\n",
        "        if tokens is None:\n",
        "            tokens = []\n",
        "        if reserved_tokens is None:\n",
        "            reserved_tokens = []\n",
        "        # Sort according to frequencies\n",
        "        counter = count_corpus(tokens)\n",
        "        self._token_freqs = sorted(counter.items(), key=lambda x: x[1],\n",
        "                                   reverse=True)\n",
        "        # The index for the unknown token is 0\n",
        "        self.idx_to_token = ['<unk>'] + reserved_tokens\n",
        "        self.token_to_idx = {token: idx\n",
        "                             for idx, token in enumerate(self.idx_to_token)}\n",
        "        for token, freq in self._token_freqs:\n",
        "            if freq < min_freq:\n",
        "                break\n",
        "            if token not in self.token_to_idx:\n",
        "                self.idx_to_token.append(token)\n",
        "                self.token_to_idx[token] = len(self.idx_to_token) - 1\n",
        "\n",
        "    def __len__(self):\n",
        "        return len(self.idx_to_token)\n",
        "\n",
        "    def __getitem__(self, tokens):\n",
        "        if not isinstance(tokens, (list, tuple)):\n",
        "            return self.token_to_idx.get(tokens, self.unk)\n",
        "        return [self.__getitem__(token) for token in tokens]\n",
        "\n",
        "    def to_tokens(self, indices):\n",
        "        if not isinstance(indices, (list, tuple)):\n",
        "            return self.idx_to_token[indices]\n",
        "        return [self.idx_to_token[index] for index in indices]\n",
        "\n",
        "    @property\n",
        "    def unk(self):  # Index for the unknown token\n",
        "        return 0\n",
        "\n",
        "    @property\n",
        "    def token_freqs(self):  # Token frequencies\n",
        "        return self._token_freqs\n",
        "\n",
        "def count_corpus(tokens):\n",
        "    \"\"\"Count token frequencies.\"\"\"\n",
        "    # Here `tokens` is a 1D list or 2D list\n",
        "    if len(tokens) == 0 or isinstance(tokens[0], list):\n",
        "        # Flatten a list of token lists into a list of tokens\n",
        "        tokens = [token for line in tokens for token in line]\n",
        "    return collections.Counter(tokens)\n",
        "\n",
        "def download(url, cache_dir=os.path.join('..', 'data')):\n",
        "    \"\"\"Download a file, return the local filename.\"\"\"\n",
        "    os.makedirs(cache_dir, exist_ok=True)\n",
        "    fname = os.path.join(cache_dir, url.split('/')[-1])\n",
        "    if os.path.exists(fname):\n",
        "        with open(fname, 'rb') as f:\n",
        "            while True:\n",
        "                data = f.read(1048576)\n",
        "                if not data:\n",
        "                    break\n",
        "        return fname\n",
        "    print(f'Downloading {fname} from {url}...')\n",
        "    r = requests.get(url, stream=True, verify=True)\n",
        "    with open(fname, 'wb') as f:\n",
        "        f.write(r.content)\n",
        "    return fname\n",
        "\n",
        "def download_extract(url, folder=None):\n",
        "    \"\"\"Download and extract a zip file.\"\"\"\n",
        "    fname = download(url)\n",
        "    base_dir = os.path.dirname(fname)\n",
        "    data_dir, ext = os.path.splitext(fname)\n",
        "    if ext == '.zip':\n",
        "        fp = zipfile.ZipFile(fname, 'r')\n",
        "    else:\n",
        "        assert False, 'Only zip files can be extracted.'\n",
        "    fp.extractall(base_dir)\n",
        "    return os.path.join(base_dir, folder) if folder else data_dir\n",
        "\n",
        "def read_data_nmt():\n",
        "    \"\"\"Load the English-French dataset.\"\"\"\n",
        "    data_dir = download_extract('http://d2l-data.s3-accelerate.amazonaws.com/fra-eng.zip')\n",
        "    with open(os.path.join(data_dir, 'fra.txt'), 'r') as f:\n",
        "        return f.read()\n",
        "\n",
        "def preprocess_nmt(text):\n",
        "    \"\"\"Preprocess the English-French dataset.\"\"\"\n",
        "    def no_space(char, prev_char):\n",
        "        return char in set(',.!?') and prev_char != ' '\n",
        "\n",
        "    # Replace non-breaking space with space, and convert uppercase letters to\n",
        "    # lowercase ones\n",
        "    text = text.replace('\\u202f', ' ').replace('\\xa0', ' ').lower()\n",
        "    # Insert space between words and punctuation marks\n",
        "    out = [' ' + char if i > 0 and no_space(char, text[i - 1]) else char\n",
        "           for i, char in enumerate(text)]\n",
        "    return ''.join(out)\n",
        "\n",
        "def tokenize_nmt(text, num_examples=None):\n",
        "    \"\"\"Tokenize the English-French dataset.\"\"\"\n",
        "    source, target = [], []\n",
        "    for i, line in enumerate(text.split('\\n')):\n",
        "        if num_examples and i > num_examples:\n",
        "            break\n",
        "        parts = line.split('\\t')\n",
        "        if len(parts) == 2:\n",
        "            source.append(parts[0].split(' '))\n",
        "            target.append(parts[1].split(' '))\n",
        "    return source, target\n",
        "\n",
        "def truncate_pad(line, num_steps, padding_token):\n",
        "    \"\"\"Truncate or pad sequences.\"\"\"\n",
        "    if len(line) > num_steps:\n",
        "        return line[:num_steps]  # Truncate\n",
        "    return line + [padding_token] * (num_steps - len(line))  # Pad\n",
        "\n",
        "def build_array_nmt(lines, vocab, num_steps):\n",
        "    \"\"\"Transform text sequences of machine translation into mini-batches.\"\"\"\n",
        "    lines = [vocab[l] for l in lines]\n",
        "    lines = [l + [vocab['<eos>']] for l in lines]\n",
        "    array = torch.tensor([truncate_pad(\n",
        "        l, num_steps, vocab['<pad>']) for l in lines])\n",
        "    valid_len = (array != vocab['<pad>']).type(torch.int32).sum(1)\n",
        "    return array, valid_len\n",
        "\n",
        "def load_array(data_arrays, batch_size, is_train=True):\n",
        "    \"\"\"Construct a PyTorch data iterator.\"\"\"\n",
        "    dataset = torch.utils.data.TensorDataset(*data_arrays)\n",
        "    return torch.utils.data.DataLoader(dataset, batch_size, shuffle=is_train)\n",
        "\n",
        "def load_data_nmt(batch_size, num_steps, num_examples=600):\n",
        "    \"\"\"Return the iterator and the vocabularies of the translation dataset.\"\"\"\n",
        "    text = preprocess_nmt(read_data_nmt())\n",
        "    source, target = tokenize_nmt(text, num_examples)\n",
        "    src_vocab = Vocab(source, min_freq=2,\n",
        "                          reserved_tokens=['<pad>', '<bos>', '<eos>'])\n",
        "    tgt_vocab = Vocab(target, min_freq=2,\n",
        "                          reserved_tokens=['<pad>', '<bos>', '<eos>'])\n",
        "    src_array, src_valid_len = build_array_nmt(source, src_vocab, num_steps)\n",
        "    tgt_array, tgt_valid_len = build_array_nmt(target, tgt_vocab, num_steps)\n",
        "    data_arrays = (src_array, src_valid_len, tgt_array, tgt_valid_len)\n",
        "    data_iter = load_array(data_arrays, batch_size)\n",
        "    return data_iter, src_vocab, tgt_vocab"
      ],
      "metadata": {
        "id": "_RjVRKbf5HDN"
      },
      "execution_count": null,
      "outputs": []
    },
    {
      "cell_type": "code",
      "source": [
        "class EncoderDecoder(nn.Module):\n",
        "    \"\"\"The base class for the encoder-decoder architecture.\"\"\"\n",
        "    def __init__(self, encoder, decoder, **kwargs):\n",
        "        super(EncoderDecoder, self).__init__(**kwargs)\n",
        "        self.encoder = encoder\n",
        "        self.decoder = decoder\n",
        "\n",
        "    def forward(self, enc_X, dec_X, *args):\n",
        "        enc_outputs = self.encoder(enc_X, *args)\n",
        "        dec_state = self.decoder.init_state(enc_outputs, *args)\n",
        "        return self.decoder(dec_X, dec_state)"
      ],
      "metadata": {
        "id": "UekIpkBt6mUs"
      },
      "execution_count": null,
      "outputs": []
    },
    {
      "cell_type": "code",
      "source": [
        "class MaskedSoftmaxCELoss(nn.CrossEntropyLoss):\n",
        "    \"\"\"The softmax cross-entropy loss with masks.\"\"\"\n",
        "    # `pred` shape: (`batch_size`, `num_steps`, `vocab_size`)\n",
        "    # `label` shape: (`batch_size`, `num_steps`)\n",
        "    # `valid_len` shape: (`batch_size`,)\n",
        "    def forward(self, pred, label, valid_len):\n",
        "        weights = torch.ones_like(label)\n",
        "        weights = sequence_mask(weights, valid_len)\n",
        "        self.reduction='none'\n",
        "        unweighted_loss = super(MaskedSoftmaxCELoss, self).forward(\n",
        "            pred.permute(0, 2, 1), label)\n",
        "        weighted_loss = (unweighted_loss * weights).mean(dim=1)\n",
        "        return weighted_loss\n",
        "\n",
        "def grad_clipping(net, theta):\n",
        "    \"\"\"Clip the gradient.\"\"\"\n",
        "    params = [p for p in net.parameters() if p.requires_grad]\n",
        "    norm = torch.sqrt(sum(torch.sum((p.grad ** 2)) for p in params))\n",
        "    if norm > theta:\n",
        "        for param in params:\n",
        "            param.grad[:] *= theta / norm\n",
        "\n",
        "def train_seq2seq(net, data_iter, lr, num_epochs, tgt_vocab, device):\n",
        "    \"\"\"Train a model for sequence to sequence.\"\"\"\n",
        "    def xavier_init_weights(m):\n",
        "        if type(m) == nn.Linear:\n",
        "            nn.init.xavier_uniform_(m.weight)\n",
        "        if type(m) == nn.GRU:\n",
        "            for param in m._flat_weights_names:\n",
        "                if \"weight\" in param:\n",
        "                    nn.init.xavier_uniform_(m._parameters[param])\n",
        "    net.apply(xavier_init_weights)\n",
        "    net.to(device)\n",
        "    optimizer = torch.optim.Adam(net.parameters(), lr=lr)\n",
        "    loss = MaskedSoftmaxCELoss()\n",
        "    net.train()\n",
        "    train_loss_all = []\n",
        "    for epoch in range(num_epochs):\n",
        "        # Sum of training loss, no. of tokens\n",
        "        total_loss = 0\n",
        "        total_tokens = 0\n",
        "        for batch in data_iter:\n",
        "            optimizer.zero_grad()\n",
        "            X, X_valid_len, Y, Y_valid_len = [x.to(device) for x in batch]\n",
        "            bos = torch.tensor([tgt_vocab['<bos>']] * Y.shape[0],\n",
        "                               device=device).reshape(-1, 1)\n",
        "            dec_input = torch.cat([bos, Y[:, :-1]], 1)  # Teacher forcing\n",
        "            Y_hat, _ = net(X, dec_input, X_valid_len)\n",
        "            l = loss(Y_hat, Y, Y_valid_len)\n",
        "            l.sum().backward()  # Make the loss scalar for `backward`\n",
        "            grad_clipping(net, 1)\n",
        "            num_tokens = Y_valid_len.sum()\n",
        "            optimizer.step()\n",
        "            with torch.no_grad():\n",
        "                total_loss += l.sum()\n",
        "                total_tokens += num_tokens\n",
        "        if (epoch + 1) % 10 == 0:\n",
        "            train_loss_all.append(total_loss / total_tokens)\n",
        "    print(f'loss {total_loss / total_tokens:.3f}, device {str(device)}')\n",
        "\n",
        "    return train_loss_all"
      ],
      "metadata": {
        "id": "aIIaRB9B6tns"
      },
      "execution_count": null,
      "outputs": []
    },
    {
      "cell_type": "code",
      "source": [
        "embed_size, num_hiddens, num_layers, dropout = 32, 32, 2, 0.1\n",
        "batch_size, num_steps = 64, 10\n",
        "lr, num_epochs, device = 0.005, 250, try_gpu()\n",
        "\n",
        "train_iter, src_vocab, tgt_vocab = load_data_nmt(batch_size, num_steps)\n",
        "encoder = Seq2SeqEncoder(\n",
        "    len(src_vocab), embed_size, num_hiddens, num_layers, dropout)\n",
        "decoder = Seq2SeqAttentionDecoder(\n",
        "    len(tgt_vocab), embed_size, num_hiddens, num_layers, dropout)\n",
        "net = EncoderDecoder(encoder, decoder)\n",
        "train_loss_all = train_seq2seq(net, train_iter, lr, num_epochs, tgt_vocab, device) #2 min"
      ],
      "metadata": {
        "colab": {
          "base_uri": "https://localhost:8080/"
        },
        "id": "3DlPFucz4kVA",
        "outputId": "f731c659-2907-4f65-e364-6596efe49891"
      },
      "execution_count": null,
      "outputs": [
        {
          "output_type": "stream",
          "name": "stdout",
          "text": [
            "Downloading ../data/fra-eng.zip from http://d2l-data.s3-accelerate.amazonaws.com/fra-eng.zip...\n",
            "loss 0.019, device cpu\n"
          ]
        }
      ]
    },
    {
      "cell_type": "markdown",
      "source": [
        "We can plot the loss during training using the `plot_loss()` function."
      ],
      "metadata": {
        "id": "9je-_gtl7fYE"
      }
    },
    {
      "cell_type": "code",
      "source": [
        "def plot_loss(train_loss_all):\n",
        "    epochs = range(10, len(train_loss_all * 10) + 1, 10)\n",
        "    plt.plot(epochs, train_loss_all, 'b', label='Train loss')\n",
        "    plt.title('Training loss')\n",
        "    plt.xlabel('Epochs')\n",
        "    plt.ylabel('Loss')\n",
        "    plt.legend()\n",
        "    plt.show()"
      ],
      "metadata": {
        "id": "rjHhTOtP7UHH"
      },
      "execution_count": null,
      "outputs": []
    },
    {
      "cell_type": "code",
      "source": [
        "plot_loss(train_loss_all)"
      ],
      "metadata": {
        "colab": {
          "base_uri": "https://localhost:8080/",
          "height": 54
        },
        "id": "UAqcrRc77WSB",
        "outputId": "513afdee-fc0d-4e22-bcbb-c30df9728b7f"
      },
      "execution_count": null,
      "outputs": [
        {
          "output_type": "display_data",
          "data": {
            "text/plain": [
              "<Figure size 432x288 with 1 Axes>"
            ],
            "image/png": "[encoded data removed]"
          },
          "metadata": {
            "needs_background": "light"
          }
        }
      ]
    },
    {
      "cell_type": "markdown",
      "source": [
        "After the model is trained, we use it to translate a few English sentences into French, and compute their BLEU scores. The `predict_seq2seq()` and `bleu()` functions are the same as in *Laboratory 5*."
      ],
      "metadata": {
        "id": "owJavhIb7nCG"
      }
    },
    {
      "cell_type": "code",
      "source": [
        "def predict_seq2seq(net, src_sentence, src_vocab, tgt_vocab, num_steps,\n",
        "                    device, save_attention_weights=False):\n",
        "    \"\"\"Predict for sequence to sequence.\"\"\"\n",
        "    # Set `net` to eval mode for inference\n",
        "    net.eval()\n",
        "    src_tokens = src_vocab[src_sentence.lower().split(' ')] + [\n",
        "        src_vocab['<eos>']]\n",
        "    enc_valid_len = torch.tensor([len(src_tokens)], device=device)\n",
        "    src_tokens = truncate_pad(src_tokens, num_steps, src_vocab['<pad>'])\n",
        "    # Add the batch axis\n",
        "    enc_X = torch.unsqueeze(\n",
        "        torch.tensor(src_tokens, dtype=torch.long, device=device), dim=0)\n",
        "    enc_outputs = net.encoder(enc_X, enc_valid_len)\n",
        "    dec_state = net.decoder.init_state(enc_outputs, enc_valid_len)\n",
        "    # Add the batch axis\n",
        "    dec_X = torch.unsqueeze(torch.tensor(\n",
        "        [tgt_vocab['<bos>']], dtype=torch.long, device=device), dim=0)\n",
        "    output_seq, attention_weight_seq = [], []\n",
        "    for _ in range(num_steps):\n",
        "        Y, dec_state = net.decoder(dec_X, dec_state)\n",
        "        # We use the token with the highest prediction likelihood as the input\n",
        "        # of the decoder at the next time step\n",
        "        dec_X = Y.argmax(dim=2)\n",
        "        pred = dec_X.squeeze(dim=0).type(torch.int32).item()\n",
        "        # Save attention weights\n",
        "        if save_attention_weights:\n",
        "            attention_weight_seq.append(net.decoder.attention_weights)\n",
        "        # Once the end-of-sequence token is predicted, the generation of the\n",
        "        # output sequence is complete\n",
        "        if pred == tgt_vocab['<eos>']:\n",
        "            break\n",
        "        output_seq.append(pred)\n",
        "    return ' '.join(tgt_vocab.to_tokens(output_seq)), attention_weight_seq"
      ],
      "metadata": {
        "id": "Dug8iZn-8XE1"
      },
      "execution_count": null,
      "outputs": []
    },
    {
      "cell_type": "code",
      "source": [
        "def bleu(pred_seq, label_seq, k):\n",
        "    \"\"\"Compute the BLEU.\"\"\"\n",
        "    pred_tokens, label_tokens = pred_seq.split(' '), label_seq.split(' ')\n",
        "    len_pred, len_label = len(pred_tokens), len(label_tokens)\n",
        "    score = math.exp(min(0, 1 - len_label / len_pred))\n",
        "    for n in range(1, k + 1):\n",
        "        num_matches, label_subs = 0, collections.defaultdict(int)\n",
        "        for i in range(len_label - n + 1):\n",
        "            label_subs[' '.join(label_tokens[i: i + n])] += 1\n",
        "        for i in range(len_pred - n + 1):\n",
        "            if label_subs[' '.join(pred_tokens[i: i + n])] > 0:\n",
        "                num_matches += 1\n",
        "                label_subs[' '.join(pred_tokens[i: i + n])] -= 1\n",
        "        score *= math.pow(num_matches / (len_pred - n + 1), math.pow(0.5, n))\n",
        "    return score"
      ],
      "metadata": {
        "id": "m_ORch0n8hH1"
      },
      "execution_count": null,
      "outputs": []
    },
    {
      "cell_type": "code",
      "source": [
        "engs = ['go .', \"i lost .\", 'he\\'s calm .', 'i\\'m home .']\n",
        "fras = ['va !', 'j\\'ai perdu .', 'il est calme .', 'je suis chez moi .']\n",
        "for eng, fra in zip(engs, fras):\n",
        "    translation, dec_attention_weight_seq = predict_seq2seq(\n",
        "        net, eng, src_vocab, tgt_vocab, num_steps, device, True)\n",
        "    print(f'{eng} => {translation}, ',\n",
        "          f'bleu {bleu(translation, fra, k=2):.3f}')"
      ],
      "metadata": {
        "colab": {
          "base_uri": "https://localhost:8080/"
        },
        "id": "se_SpZ7B8M3C",
        "outputId": "047abc0b-8456-4339-8a06-e6eb806404e1"
      },
      "execution_count": null,
      "outputs": [
        {
          "output_type": "stream",
          "name": "stdout",
          "text": [
            "go . => va !,  bleu 1.000\n",
            "i lost . => j'ai perdu .,  bleu 1.000\n",
            "he's calm . => il est mort !,  bleu 0.537\n",
            "i'm home . => je suis chez moi .,  bleu 1.000\n"
          ]
        }
      ]
    },
    {
      "cell_type": "markdown",
      "source": [
        "By visualizing the attention weights when translating the last English sentence,\n",
        "we can see that each query assigns non-uniform weights over key-value pairs. It shows that, at each decoding step, different parts of the input sequences are selectively aggregated in the attention pooling."
      ],
      "metadata": {
        "id": "uVINoZ-H8tU2"
      }
    },
    {
      "cell_type": "code",
      "source": [
        "attention_weights = torch.cat([step[0][0][0] for step in dec_attention_weight_seq], 0).reshape((\n",
        "    1, 1, -1, num_steps))\n",
        "# Plus one to include the end-of-sequence token\n",
        "show_heatmaps(\n",
        "    attention_weights[:, :, :, :len(engs[-1].split()) + 1].cpu(),\n",
        "    xlabel='Key positions', ylabel='Query positions')"
      ],
      "metadata": {
        "colab": {
          "base_uri": "https://localhost:8080/"
        },
        "id": "13VCiETO8sse",
        "outputId": "3f6d042e-b74d-4603-f0cf-3f0e85c52a0f"
      },
      "execution_count": null,
      "outputs": [
        {
          "output_type": "display_data",
          "data": {
            "text/plain": [
              "<Figure size 180x180 with 2 Axes>"
            ],
            "image/png": "[encoded data removed]"
          },
          "metadata": {
            "needs_background": "light"
          }
        }
      ]
    },
    {
      "cell_type": "markdown",
      "source": [
        "# Multi-head attention"
      ],
      "metadata": {
        "id": "OJfujPH59I4N"
      }
    },
    {
      "cell_type": "markdown",
      "source": [
        "In our implementation of *multi-head attention*, we choose the scaled dot-product attention for each head of the multi-head attention. To avoid significant growth of computational cost and parameterization cost, we set $p_q = p_k = p_v = p_o / h$. Note that the $h$ heads can be computed in parallel if we set the number of outputs of linear transformations for the query, key, and value to $p_q h = p_k h = p_v h = p_o$. In the following implementation, $p_o$ is specified via the argument `num_hiddens`.\n",
        "\n",
        "To allow for parallel computation of multiple heads, the `MultiHeadAttention` class uses two transposition functions as defined below. Specifically, the `transpose_output()` function reverses the operation of the `transpose_qkv()` function."
      ],
      "metadata": {
        "id": "UMKuKP3y9JQw"
      }
    },
    {
      "cell_type": "code",
      "source": [
        "def transpose_qkv(X, num_heads):\n",
        "    \"\"\"Transposition for parallel computation of multiple attention heads.\"\"\"\n",
        "    # Shape of input `X` is:\n",
        "    # (`batch_size`, no. of queries or key-value pairs, `num_hiddens`).\n",
        "    # Shape of output `X` is:\n",
        "    # (`batch_size`, no. of queries or key-value pairs, `num_heads`,\n",
        "    # `num_hiddens` / `num_heads`)\n",
        "    X = X.reshape(X.shape[0], X.shape[1], num_heads, -1)\n",
        "\n",
        "    # Shape of output `X` is:\n",
        "    # (`batch_size`, `num_heads`, no. of queries or key-value pairs,\n",
        "    # `num_hiddens` / `num_heads`)\n",
        "    X = X.permute(0, 2, 1, 3)\n",
        "\n",
        "    # Shape of `output` is:\n",
        "    # (`batch_size` * `num_heads`, no. of queries or key-value pairs,\n",
        "    # `num_hiddens` / `num_heads`)\n",
        "    return X.reshape(-1, X.shape[2], X.shape[3])\n",
        "\n",
        "def transpose_output(X, num_heads):\n",
        "    \"\"\"Reverse the operation of `transpose_qkv`.\"\"\"\n",
        "    X = X.reshape(-1, num_heads, X.shape[1], X.shape[2])\n",
        "    X = X.permute(0, 2, 1, 3)\n",
        "    return X.reshape(X.shape[0], X.shape[1], -1)"
      ],
      "metadata": {
        "id": "VY7Xwkoj9wk4"
      },
      "execution_count": null,
      "outputs": []
    },
    {
      "cell_type": "code",
      "source": [
        "class MultiHeadAttention(nn.Module):\n",
        "    \"\"\"Multi-head attention.\"\"\"\n",
        "    def __init__(self, key_size, query_size, value_size, num_hiddens,\n",
        "                 num_heads, dropout, bias=False, **kwargs):\n",
        "        super(MultiHeadAttention, self).__init__(**kwargs)\n",
        "        self.num_heads = num_heads\n",
        "        self.attention = DotProductAttention(dropout)\n",
        "        self.W_q = nn.Linear(query_size, num_hiddens, bias=bias)\n",
        "        self.W_k = nn.Linear(key_size, num_hiddens, bias=bias)\n",
        "        self.W_v = nn.Linear(value_size, num_hiddens, bias=bias)\n",
        "        self.W_o = nn.Linear(num_hiddens, num_hiddens, bias=bias)\n",
        "\n",
        "    def forward(self, queries, keys, values, valid_lens):\n",
        "        # Shape of `queries`, `keys`, or `values` is:\n",
        "        # (`batch_size`, no. of queries or key-value pairs, `num_hiddens`)\n",
        "        # Shape of `valid_lens` is:\n",
        "        # (`batch_size`,) or (`batch_size`, no. of queries)\n",
        "        # After transposing, shape of output `queries`, `keys`, or `values` is:\n",
        "        # (`batch_size` * `num_heads`, no. of queries or key-value pairs,\n",
        "        # `num_hiddens` / `num_heads`)\n",
        "        queries = transpose_qkv(self.W_q(queries), self.num_heads)\n",
        "        keys = transpose_qkv(self.W_k(keys), self.num_heads)\n",
        "        values = transpose_qkv(self.W_v(values), self.num_heads)\n",
        "\n",
        "        if valid_lens is not None:\n",
        "            # On axis 0, copy the first item (scalar or vector) for\n",
        "            # `num_heads` times, then copy the next item, and so on\n",
        "            valid_lens = torch.repeat_interleave(\n",
        "                valid_lens, repeats=self.num_heads, dim=0)\n",
        "\n",
        "        # Shape of `output` is: (`batch_size` * `num_heads`, no. of queries,\n",
        "        # `num_hiddens` / `num_heads`)\n",
        "        output = self.attention(queries, keys, values, valid_lens)\n",
        "\n",
        "        # Shape of `output_concat` is:\n",
        "        # (`batch_size`, no. of queries, `num_hiddens`)\n",
        "        output_concat = transpose_output(output, self.num_heads)\n",
        "        return self.W_o(output_concat)"
      ],
      "metadata": {
        "id": "WpCOXaKI9fQ6"
      },
      "execution_count": null,
      "outputs": []
    },
    {
      "cell_type": "markdown",
      "source": [
        "Let us test our implemented `MultiHeadAttention` class using a toy example, where keys and values are the same. As a result, the shape of the multi-head attention output is (`batch_size`, `num_queries`, `num_hiddens`)."
      ],
      "metadata": {
        "id": "n_Wy_K4w90uz"
      }
    },
    {
      "cell_type": "code",
      "source": [
        "num_hiddens, num_heads = 100, 5\n",
        "attention = MultiHeadAttention(num_hiddens, num_hiddens, num_hiddens,\n",
        "                               num_hiddens, num_heads, 0.5)\n",
        "attention.eval()"
      ],
      "metadata": {
        "colab": {
          "base_uri": "https://localhost:8080/"
        },
        "id": "rLMODk1P95mE",
        "outputId": "403ed3fe-f049-41c7-d301-4179df447caa"
      },
      "execution_count": null,
      "outputs": [
        {
          "output_type": "execute_result",
          "data": {
            "text/plain": [
              "MultiHeadAttention(\n",
              "  (attention): DotProductAttention(\n",
              "    (dropout): Dropout(p=0.5, inplace=False)\n",
              "  )\n",
              "  (W_q): Linear(in_features=100, out_features=100, bias=False)\n",
              "  (W_k): Linear(in_features=100, out_features=100, bias=False)\n",
              "  (W_v): Linear(in_features=100, out_features=100, bias=False)\n",
              "  (W_o): Linear(in_features=100, out_features=100, bias=False)\n",
              ")"
            ]
          },
          "metadata": {},
          "execution_count": 46
        }
      ]
    },
    {
      "cell_type": "code",
      "source": [
        "batch_size, num_queries, num_kvpairs, valid_lens = 2, 4, 6, torch.tensor([3, 2])\n",
        "X = torch.ones((batch_size, num_queries, num_hiddens))\n",
        "Y = torch.ones((batch_size, num_kvpairs, num_hiddens))\n",
        "attention(X, Y, Y, valid_lens).shape"
      ],
      "metadata": {
        "colab": {
          "base_uri": "https://localhost:8080/"
        },
        "id": "alXzAXMK98Od",
        "outputId": "2466eba8-3aa3-4849-fc0f-d6b27d2b7beb"
      },
      "execution_count": null,
      "outputs": [
        {
          "output_type": "execute_result",
          "data": {
            "text/plain": [
              "torch.Size([2, 4, 100])"
            ]
          },
          "metadata": {},
          "execution_count": 47
        }
      ]
    },
    {
      "cell_type": "markdown",
      "source": [
        "# Self-attention and positional encoding"
      ],
      "metadata": {
        "id": "2HV_QBO6FB99"
      }
    },
    {
      "cell_type": "markdown",
      "source": [
        "Using multi-head attention, the following code snippet computes the *self-attention* of a tensor with shape (batch size, number of time steps or sequence length in tokens, $d$). The output tensor has the same shape."
      ],
      "metadata": {
        "id": "ABcknmz2FE6l"
      }
    },
    {
      "cell_type": "code",
      "source": [
        "num_hiddens, num_heads = 100, 5\n",
        "attention = MultiHeadAttention(num_hiddens, num_hiddens, num_hiddens,\n",
        "                               num_hiddens, num_heads, 0.5)\n",
        "attention.eval()"
      ],
      "metadata": {
        "colab": {
          "base_uri": "https://localhost:8080/"
        },
        "id": "7le6OoUFFqLY",
        "outputId": "8b55d97a-bd62-4cf0-acc5-8d05e93b26d6"
      },
      "execution_count": null,
      "outputs": [
        {
          "output_type": "execute_result",
          "data": {
            "text/plain": [
              "MultiHeadAttention(\n",
              "  (attention): DotProductAttention(\n",
              "    (dropout): Dropout(p=0.5, inplace=False)\n",
              "  )\n",
              "  (W_q): Linear(in_features=100, out_features=100, bias=False)\n",
              "  (W_k): Linear(in_features=100, out_features=100, bias=False)\n",
              "  (W_v): Linear(in_features=100, out_features=100, bias=False)\n",
              "  (W_o): Linear(in_features=100, out_features=100, bias=False)\n",
              ")"
            ]
          },
          "metadata": {},
          "execution_count": 48
        }
      ]
    },
    {
      "cell_type": "code",
      "source": [
        "batch_size, num_queries, valid_lens = 2, 4, torch.tensor([3, 2])\n",
        "X = torch.ones((batch_size, num_queries, num_hiddens))\n",
        "attention(X, X, X, valid_lens).shape"
      ],
      "metadata": {
        "colab": {
          "base_uri": "https://localhost:8080/"
        },
        "id": "SVFooKoAFvhQ",
        "outputId": "afa6252a-135f-4e86-84e4-b8b26b5b1916"
      },
      "execution_count": null,
      "outputs": [
        {
          "output_type": "execute_result",
          "data": {
            "text/plain": [
              "torch.Size([2, 4, 100])"
            ]
          },
          "metadata": {},
          "execution_count": 49
        }
      ]
    },
    {
      "cell_type": "markdown",
      "source": [
        "Suppose that the input representation $\\boldsymbol{X} \\in \\mathbb{R}^{n \\times d}$ contains the $d$-dimensional embeddings for $n$ tokens of a sequence. The *positional encoding* outputs $\\boldsymbol{X} + \\boldsymbol{P}$ using a positional embedding matrix $\\mathbf{P} \\in \\mathbb{R}^{n \\times d}$ of the same shape, whose element on the $i$th row and the $(2j)$th or the $(2j + 1)$th column is:\n",
        "\n",
        "$$\\begin{aligned} p_{i, 2j} &= \\sin\\left(\\frac{i}{10000^{2j/d}}\\right),\\\\p_{i, 2j+1} &= \\cos\\left(\\frac{i}{10000^{2j/d}}\\right).\\end{aligned}$$\n",
        "\n",
        "At first glance, this trigonometric-function design looks weird. Before explanations of this design, let us first implement it in the following `PositionalEncoding` class."
      ],
      "metadata": {
        "id": "3bI5ui4EF_Oi"
      }
    },
    {
      "cell_type": "code",
      "source": [
        "class PositionalEncoding(nn.Module):\n",
        "    \"\"\"Positional encoding.\"\"\"\n",
        "    def __init__(self, num_hiddens, dropout, max_len=1000):\n",
        "        super(PositionalEncoding, self).__init__()\n",
        "        self.dropout = nn.Dropout(dropout)\n",
        "        # Create a long enough `P`\n",
        "        self.P = torch.zeros((1, max_len, num_hiddens))\n",
        "        X = torch.arange(max_len, dtype=torch.float32).reshape(\n",
        "            -1, 1) / torch.pow(10000, torch.arange(\n",
        "            0, num_hiddens, 2, dtype=torch.float32) / num_hiddens)\n",
        "        self.P[:, :, 0::2] = torch.sin(X)\n",
        "        self.P[:, :, 1::2] = torch.cos(X)\n",
        "\n",
        "    def forward(self, X):\n",
        "        X = X + self.P[:, :X.shape[1], :].to(X.device)\n",
        "        return self.dropout(X)"
      ],
      "metadata": {
        "id": "eeoEoB_AGYkc"
      },
      "execution_count": null,
      "outputs": []
    },
    {
      "cell_type": "markdown",
      "source": [
        "In the positional embedding matrix $\\boldsymbol{P}$, rows correspond to positions within a sequence and columns represent different positional encoding dimensions. In the example below, we can see that the $6$th and the $7$th columns of the positional embedding matrix have a higher frequency than the $8$th and the $9$th columns. The offset between the $6$th and the $7$th (same for the $8$th and the $9$th) columns is due to the alternation of sine and cosine functions."
      ],
      "metadata": {
        "id": "zQUR-VehGcRC"
      }
    },
    {
      "cell_type": "code",
      "source": [
        "encoding_dim, num_steps = 32, 60\n",
        "pos_encoding = PositionalEncoding(encoding_dim, 0)\n",
        "pos_encoding.eval()\n",
        "X = pos_encoding(torch.zeros((1, num_steps, encoding_dim)))\n",
        "P = pos_encoding.P[:, :X.shape[1], :]\n",
        "plt.figure(figsize=(6, 2.5))\n",
        "plt.plot(torch.arange(num_steps), P[0, :, 6].T, '-', label=\"Col 6\")\n",
        "plt.plot(torch.arange(num_steps), P[0, :, 7].T, 'm--', label=\"Col 7\")\n",
        "plt.plot(torch.arange(num_steps), P[0, :, 8].T, 'g-.', label=\"Col 8\")\n",
        "plt.plot(torch.arange(num_steps), P[0, :, 9].T, 'r:', label=\"Col 9\")\n",
        "plt.xlabel('Row (position)')\n",
        "plt.legend()\n",
        "plt.grid(True)\n",
        "plt.show()"
      ],
      "metadata": {
        "colab": {
          "base_uri": "https://localhost:8080/"
        },
        "id": "AHOvoQbDG8Vf",
        "outputId": "6ad574fe-9666-426b-d2f8-5535c35c21f9"
      },
      "execution_count": null,
      "outputs": [
        {
          "output_type": "stream",
          "name": "stderr",
          "text": [
            "/usr/local/lib/python3.7/dist-packages/ipykernel_launcher.py:7: UserWarning: The use of `x.T` on tensors of dimension other than 2 to reverse their shape is deprecated and it will throw an error in a future release. Consider `x.mT` to transpose batches of matricesor `x.permute(*torch.arange(x.ndim - 1, -1, -1))` to reverse the dimensions of a tensor. (Triggered internally at  ../aten/src/ATen/native/TensorShape.cpp:2318.)\n",
            "  import sys\n"
          ]
        },
        {
          "output_type": "display_data",
          "data": {
            "text/plain": [
              "<Figure size 432x180 with 1 Axes>"
            ],
            "image/png": "[encoded data removed]"
          },
          "metadata": {
            "needs_background": "light"
          }
        }
      ]
    },
    {
      "cell_type": "markdown",
      "source": [
        "To see how the monotonically decreased frequency along the encoding dimension relates to absolute positional information, let us print out the binary representations of $0, 1, \\ldots, 7$. As we can see, the lowest bit, the second-lowest bit, and the third-lowest bit alternate on every number, every two numbers, and every four numbers, respectively."
      ],
      "metadata": {
        "id": "VKu4eOUnJYLK"
      }
    },
    {
      "cell_type": "code",
      "source": [
        "for i in range(8):\n",
        "    print(f'{i} in binary is {i:>03b}')"
      ],
      "metadata": {
        "colab": {
          "base_uri": "https://localhost:8080/"
        },
        "id": "ZXGikwtwJhLQ",
        "outputId": "40f27bb9-f5a6-406a-80ac-052eec63b76c"
      },
      "execution_count": null,
      "outputs": [
        {
          "output_type": "stream",
          "name": "stdout",
          "text": [
            "0 in binary is 000\n",
            "1 in binary is 001\n",
            "2 in binary is 010\n",
            "3 in binary is 011\n",
            "4 in binary is 100\n",
            "5 in binary is 101\n",
            "6 in binary is 110\n",
            "7 in binary is 111\n"
          ]
        }
      ]
    },
    {
      "cell_type": "markdown",
      "source": [
        "In binary representations, a higher bit has a lower frequency than a lower bit. Similarly, as demonstrated in the heat map below, the positional encoding decreases frequencies along the encoding dimension by using trigonometric functions. Since the outputs are float numbers, such continuous representations are more space-efficient than binary representations."
      ],
      "metadata": {
        "id": "i3wWm4RCJjUO"
      }
    },
    {
      "cell_type": "code",
      "source": [
        "P = P[0, :, :].unsqueeze(0).unsqueeze(0)\n",
        "show_heatmaps(P, xlabel='Column (encoding dimension)',\n",
        "              ylabel='Row (position)', figsize=(3.5, 4), cmap='Blues')"
      ],
      "metadata": {
        "colab": {
          "base_uri": "https://localhost:8080/"
        },
        "id": "b5qGtBQTJvIk",
        "outputId": "0a050059-e973-4733-f6f7-7540477c4322"
      },
      "execution_count": null,
      "outputs": [
        {
          "output_type": "display_data",
          "data": {
            "text/plain": [
              "<Figure size 252x288 with 2 Axes>"
            ],
            "image/png": "[encoded data removed]"
          },
          "metadata": {
            "needs_background": "light"
          }
        }
      ]
    },
    {
      "cell_type": "markdown",
      "source": [
        "#Transformer"
      ],
      "metadata": {
        "id": "w11fM4uwLMpr"
      }
    },
    {
      "cell_type": "markdown",
      "source": [
        "We have already implemented multi-head attention based on scaled dot-products and positional encoding above. In the following, we will implement the rest of the *transformer* model.\n",
        "\n",
        "The position-wise feed-forward network transforms the representation at all the sequence positions using the same MLP. This is why we call it *position-wise*. In the implementation below, the input `X` with shape (batch size, number of time steps or sequence length in tokens, number of hidden units or feature dimension) will be transformed by a two-layer MLP into an output tensor of shape\n",
        "(batch size, number of time steps, `ffn_num_outputs`)."
      ],
      "metadata": {
        "id": "1ZuqRPaMLOkH"
      }
    },
    {
      "cell_type": "code",
      "source": [
        "class PositionWiseFFN(nn.Module):\n",
        "    \"\"\"Position-wise feed-forward network.\"\"\"\n",
        "    def __init__(self, ffn_num_input, ffn_num_hiddens, ffn_num_outputs,\n",
        "                 **kwargs):\n",
        "        super(PositionWiseFFN, self).__init__(**kwargs)\n",
        "        self.dense1 = nn.Linear(ffn_num_input, ffn_num_hiddens)\n",
        "        self.relu = nn.ReLU()\n",
        "        self.dense2 = nn.Linear(ffn_num_hiddens, ffn_num_outputs)\n",
        "\n",
        "    def forward(self, X):\n",
        "        return self.dense2(self.relu(self.dense1(X)))"
      ],
      "metadata": {
        "id": "6lnyMTq7LvYk"
      },
      "execution_count": null,
      "outputs": []
    },
    {
      "cell_type": "markdown",
      "source": [
        "The following example shows that the innermost dimension of a tensor changes to\n",
        "the number of outputs in the position-wise feed-forward network. Since the same MLP transforms at all the positions, when the inputs at all these positions are the same, their outputs are also identical."
      ],
      "metadata": {
        "id": "ayHSP8SyLx9n"
      }
    },
    {
      "cell_type": "code",
      "source": [
        "ffn = PositionWiseFFN(4, 4, 8)\n",
        "ffn.eval()\n",
        "ffn(torch.ones((2, 3, 4)))[0]"
      ],
      "metadata": {
        "colab": {
          "base_uri": "https://localhost:8080/"
        },
        "id": "sL_Hb6_-L8S8",
        "outputId": "dcba37d5-93b9-4544-d401-907db7f201ea"
      },
      "execution_count": null,
      "outputs": [
        {
          "output_type": "execute_result",
          "data": {
            "text/plain": [
              "tensor([[ 0.3745,  0.0313, -0.0469, -0.2155,  0.6962, -0.0252,  0.1524,  0.2927],\n",
              "        [ 0.3745,  0.0313, -0.0469, -0.2155,  0.6962, -0.0252,  0.1524,  0.2927],\n",
              "        [ 0.3745,  0.0313, -0.0469, -0.2155,  0.6962, -0.0252,  0.1524,  0.2927]],\n",
              "       grad_fn=<SelectBackward0>)"
            ]
          },
          "metadata": {},
          "execution_count": 55
        }
      ]
    },
    {
      "cell_type": "markdown",
      "source": [
        "Now, let us focus on the \"Add & norm\" component. This is a residual connection immediately followed by layer normalization. Both are key to effective deep architectures.\n",
        "\n",
        "Layer normalization is the same as batch normalization, except that the former normalizes across the feature dimension. Despite its pervasive applications\n",
        "in computer vision, batch normalization is usually empirically less effective than layer normalization in natural language processing tasks, whose inputs are often variable-length sequences.\n",
        "\n",
        "The following code snippet compares the normalization across different dimensions by layer normalization and batch normalization, respectively."
      ],
      "metadata": {
        "id": "S_geplkJMBfQ"
      }
    },
    {
      "cell_type": "code",
      "source": [
        "ln = nn.LayerNorm(2)\n",
        "bn = nn.BatchNorm1d(2)\n",
        "X = torch.tensor([[1, 2], [2, 3]], dtype=torch.float32)\n",
        "# Compute mean and variance from `X` in the training mode\n",
        "print('Layer norm:', ln(X), '\\nBatch norm:', bn(X))"
      ],
      "metadata": {
        "colab": {
          "base_uri": "https://localhost:8080/"
        },
        "id": "97atB222MVtO",
        "outputId": "ac97b8a2-306a-4f8b-a216-f9436070cdfb"
      },
      "execution_count": null,
      "outputs": [
        {
          "output_type": "stream",
          "name": "stdout",
          "text": [
            "Layer norm: tensor([[-1.0000,  1.0000],\n",
            "        [-1.0000,  1.0000]], grad_fn=<NativeLayerNormBackward0>) \n",
            "Batch norm: tensor([[-1.0000, -1.0000],\n",
            "        [ 1.0000,  1.0000]], grad_fn=<NativeBatchNormBackward0>)\n"
          ]
        }
      ]
    },
    {
      "cell_type": "markdown",
      "source": [
        "Now, we can implement the `AddNorm` class using a residual connection followed by layer normalization. Dropout is also applied for regularization."
      ],
      "metadata": {
        "id": "OiOK_TGUMgf2"
      }
    },
    {
      "cell_type": "code",
      "source": [
        "class AddNorm(nn.Module):\n",
        "    \"\"\"Residual connection followed by layer normalization.\"\"\"\n",
        "    def __init__(self, normalized_shape, dropout, **kwargs):\n",
        "        super(AddNorm, self).__init__(**kwargs)\n",
        "        self.dropout = nn.Dropout(dropout)\n",
        "        self.ln = nn.LayerNorm(normalized_shape)\n",
        "\n",
        "    def forward(self, X, Y):\n",
        "        return self.ln(self.dropout(Y) + X)"
      ],
      "metadata": {
        "id": "ZUUQo-9gMlWW"
      },
      "execution_count": null,
      "outputs": []
    },
    {
      "cell_type": "markdown",
      "source": [
        "The residual connection requires that the two inputs are of the same shape, so that the output tensor also has the same shape after the addition operation."
      ],
      "metadata": {
        "id": "lJ2yMLAzMn-l"
      }
    },
    {
      "cell_type": "code",
      "source": [
        "add_norm = AddNorm([3, 4], 0.5) # `normalized_shape` is input.size()[1:]\n",
        "add_norm.eval()\n",
        "add_norm(torch.ones((2, 3, 4)), torch.ones((2, 3, 4))).shape"
      ],
      "metadata": {
        "colab": {
          "base_uri": "https://localhost:8080/"
        },
        "id": "IUQNNi9RMuYA",
        "outputId": "65c4b872-8941-4836-eda7-ee9796a5894a"
      },
      "execution_count": null,
      "outputs": [
        {
          "output_type": "execute_result",
          "data": {
            "text/plain": [
              "torch.Size([2, 3, 4])"
            ]
          },
          "metadata": {},
          "execution_count": 58
        }
      ]
    },
    {
      "cell_type": "markdown",
      "source": [
        "With all the essential components to assemble the transformer encoder, let us start by implementing a single layer within the encoder. The following `EncoderBlock` class contains two sublayers: multi-head self-attention and position-wise feed-forward networks, where a residual connection followed by layer normalization is employed around both sublayers."
      ],
      "metadata": {
        "id": "MJTL_xBDNFjA"
      }
    },
    {
      "cell_type": "code",
      "source": [
        "class EncoderBlock(nn.Module):\n",
        "    \"\"\"Transformer encoder block.\"\"\"\n",
        "    def __init__(self, key_size, query_size, value_size, num_hiddens,\n",
        "                 norm_shape, ffn_num_input, ffn_num_hiddens, num_heads,\n",
        "                 dropout, use_bias=False, **kwargs):\n",
        "        super(EncoderBlock, self).__init__(**kwargs)\n",
        "        self.attention = MultiHeadAttention(\n",
        "            key_size, query_size, value_size, num_hiddens, num_heads, dropout,\n",
        "            use_bias)\n",
        "        self.addnorm1 = AddNorm(norm_shape, dropout)\n",
        "        self.ffn = PositionWiseFFN(\n",
        "            ffn_num_input, ffn_num_hiddens, num_hiddens)\n",
        "        self.addnorm2 = AddNorm(norm_shape, dropout)\n",
        "\n",
        "    def forward(self, X, valid_lens):\n",
        "        Y = self.addnorm1(X, self.attention(X, X, X, valid_lens))\n",
        "        return self.addnorm2(Y, self.ffn(Y))"
      ],
      "metadata": {
        "id": "nNBCzgaVNOOb"
      },
      "execution_count": null,
      "outputs": []
    },
    {
      "cell_type": "markdown",
      "source": [
        "As we can see, any layer in the transformer encoder does not change the shape of its input."
      ],
      "metadata": {
        "id": "AVaOtGzgNX8U"
      }
    },
    {
      "cell_type": "code",
      "source": [
        "X = torch.ones((2, 100, 24))\n",
        "valid_lens = torch.tensor([3, 2])\n",
        "encoder_blk = EncoderBlock(24, 24, 24, 24, [100, 24], 24, 48, 8, 0.5)\n",
        "encoder_blk.eval()\n",
        "encoder_blk(X, valid_lens).shape"
      ],
      "metadata": {
        "colab": {
          "base_uri": "https://localhost:8080/"
        },
        "id": "IcULB1j4Ndio",
        "outputId": "46f2bc61-8d97-4bcc-900c-bbdefe113ae6"
      },
      "execution_count": null,
      "outputs": [
        {
          "output_type": "execute_result",
          "data": {
            "text/plain": [
              "torch.Size([2, 100, 24])"
            ]
          },
          "metadata": {},
          "execution_count": 60
        }
      ]
    },
    {
      "cell_type": "markdown",
      "source": [
        "In the following transformer encoder implementation, we stack `num_layers` instances of the above `EncoderBlock` classes. Since we use the fixed positional encoding whose values are always between $-1$ and $1$, we multiply values of the learnable input embeddings by the square root of the embedding dimension to rescale before summing up the input embedding and the positional encoding."
      ],
      "metadata": {
        "id": "Vd111mA5Nhp-"
      }
    },
    {
      "cell_type": "code",
      "source": [
        "class TransformerEncoder(Encoder):\n",
        "    \"\"\"Transformer encoder.\"\"\"\n",
        "    def __init__(self, vocab_size, key_size, query_size, value_size,\n",
        "                 num_hiddens, norm_shape, ffn_num_input, ffn_num_hiddens,\n",
        "                 num_heads, num_layers, dropout, use_bias=False, **kwargs):\n",
        "        super(TransformerEncoder, self).__init__(**kwargs)\n",
        "        self.num_hiddens = num_hiddens\n",
        "        self.embedding = nn.Embedding(vocab_size, num_hiddens)\n",
        "        self.pos_encoding = PositionalEncoding(num_hiddens, dropout)\n",
        "        self.blks = nn.Sequential()\n",
        "        for i in range(num_layers):\n",
        "            self.blks.add_module(\"block\"+str(i),\n",
        "                EncoderBlock(key_size, query_size, value_size, num_hiddens,\n",
        "                             norm_shape, ffn_num_input, ffn_num_hiddens,\n",
        "                             num_heads, dropout, use_bias))\n",
        "\n",
        "    def forward(self, X, valid_lens, *args):\n",
        "        # Since positional encoding values are between -1 and 1, the embedding\n",
        "        # values are multiplied by the square root of the embedding dimension\n",
        "        # to rescale before they are summed up\n",
        "        X = self.pos_encoding(self.embedding(X) * math.sqrt(self.num_hiddens))\n",
        "        self.attention_weights = [None] * len(self.blks)\n",
        "        for i, blk in enumerate(self.blks):\n",
        "            X = blk(X, valid_lens)\n",
        "            self.attention_weights[\n",
        "                i] = blk.attention.attention.attention_weights\n",
        "        return X"
      ],
      "metadata": {
        "id": "wKZGH8dmNwTF"
      },
      "execution_count": null,
      "outputs": []
    },
    {
      "cell_type": "markdown",
      "source": [
        "Below we specify hyperparameters to create a two-layer transformer encoder. The shape of the transformer encoder output is (batch size, number of time steps, `num_hiddens`)."
      ],
      "metadata": {
        "id": "sAMZ_0W0N2QY"
      }
    },
    {
      "cell_type": "code",
      "source": [
        "encoder = TransformerEncoder(\n",
        "    200, 24, 24, 24, 24, [100, 24], 24, 48, 8, 2, 0.5)\n",
        "encoder.eval()\n",
        "encoder(torch.ones((2, 100), dtype=torch.long), valid_lens).shape"
      ],
      "metadata": {
        "colab": {
          "base_uri": "https://localhost:8080/"
        },
        "id": "qlCCSZKBN52V",
        "outputId": "8ff0b9be-20c5-46ff-829e-71d612fd40ab"
      },
      "execution_count": null,
      "outputs": [
        {
          "output_type": "execute_result",
          "data": {
            "text/plain": [
              "torch.Size([2, 100, 24])"
            ]
          },
          "metadata": {},
          "execution_count": 62
        }
      ]
    },
    {
      "cell_type": "markdown",
      "source": [
        "The transformer decoder is also composed of multiple identical layers. Each layer is implemented in the following `DecoderBlock` class, which contains three sublayers: decoder self-attention, encoder-decoder attention, and position-wise feed-forward networks. These sublayers employ a residual connection around them, followed by layer normalization.\n",
        "\n",
        "In the masked multi-head decoder self-attention (the first sublayer), queries, keys, and values all come from the outputs of the previous decoder layer. When training sequence-to-sequence models, tokens at all the positions (time steps) of the output sequence are known. However, during prediction, the output sequence is generated token by token; thus, at any decoder time step, only the generated tokens can be used in the decoder self-attention. To preserve auto-regression in the decoder, its masked self-attention specifies `dec_valid_lens`, so that any query only attends to all positions in the decoder up to the query position."
      ],
      "metadata": {
        "id": "OvwAaNwNOC1i"
      }
    },
    {
      "cell_type": "code",
      "source": [
        "class DecoderBlock(nn.Module):\n",
        "    # The `i`-th block in the decoder\n",
        "    def __init__(self, key_size, query_size, value_size, num_hiddens,\n",
        "                 norm_shape, ffn_num_input, ffn_num_hiddens, num_heads,\n",
        "                 dropout, i, **kwargs):\n",
        "        super(DecoderBlock, self).__init__(**kwargs)\n",
        "        self.i = i\n",
        "        self.attention1 = MultiHeadAttention(\n",
        "            key_size, query_size, value_size, num_hiddens, num_heads, dropout)\n",
        "        self.addnorm1 = AddNorm(norm_shape, dropout)\n",
        "        self.attention2 = MultiHeadAttention(\n",
        "            key_size, query_size, value_size, num_hiddens, num_heads, dropout)\n",
        "        self.addnorm2 = AddNorm(norm_shape, dropout)\n",
        "        self.ffn = PositionWiseFFN(ffn_num_input, ffn_num_hiddens,\n",
        "                                   num_hiddens)\n",
        "        self.addnorm3 = AddNorm(norm_shape, dropout)\n",
        "\n",
        "    def forward(self, X, state):\n",
        "        enc_outputs, enc_valid_lens = state[0], state[1]\n",
        "        # During training, all the tokens of any output sequence are processed\n",
        "        # at the same time, so `state[2][self.i]` is `None` as initialized.\n",
        "        # When decoding any output sequence token by token during prediction,\n",
        "        # `state[2][self.i]` contains representations of the decoded output at\n",
        "        # the `i`-th block up to the current time step\n",
        "        if state[2][self.i] is None:\n",
        "            key_values = X\n",
        "        else:\n",
        "            key_values = torch.cat((state[2][self.i], X), axis=1)\n",
        "        state[2][self.i] = key_values\n",
        "        if self.training:\n",
        "            batch_size, num_steps, _ = X.shape\n",
        "            # Shape of `dec_valid_lens` is: (`batch_size`, `num_steps`), where\n",
        "            # every row is [1, 2, ..., `num_steps`]\n",
        "            dec_valid_lens = torch.arange(\n",
        "                1, num_steps + 1, device=X.device).repeat(batch_size, 1)\n",
        "        else:\n",
        "            dec_valid_lens = None\n",
        "\n",
        "        # Self-attention\n",
        "        X2 = self.attention1(X, key_values, key_values, dec_valid_lens)\n",
        "        Y = self.addnorm1(X, X2)\n",
        "        # Encoder-decoder attention. Shape of `enc_outputs` is:\n",
        "        # (`batch_size`, `num_steps`, `num_hiddens`)\n",
        "        Y2 = self.attention2(Y, enc_outputs, enc_outputs, enc_valid_lens)\n",
        "        Z = self.addnorm2(Y, Y2)\n",
        "        return self.addnorm3(Z, self.ffn(Z)), state"
      ],
      "metadata": {
        "id": "0-tUiL8lPD-B"
      },
      "execution_count": null,
      "outputs": []
    },
    {
      "cell_type": "markdown",
      "source": [
        "To facilitate scaled dot-product operations in the encoder-decoder attention and addition operations in the residual connections, the feature dimension (`num_hiddens`) of the decoder is the same as that of the encoder."
      ],
      "metadata": {
        "id": "NhTpM00APLqw"
      }
    },
    {
      "cell_type": "code",
      "source": [
        "decoder_blk = DecoderBlock(24, 24, 24, 24, [100, 24], 24, 48, 8, 0.5, 0)\n",
        "decoder_blk.eval()\n",
        "X = torch.ones((2, 100, 24))\n",
        "state = [encoder_blk(X, valid_lens), valid_lens, [None]]\n",
        "decoder_blk(X, state)[0].shape"
      ],
      "metadata": {
        "colab": {
          "base_uri": "https://localhost:8080/"
        },
        "id": "iEPLFL-FP-gO",
        "outputId": "16f925c6-ab0f-4742-d44b-497da400a533"
      },
      "execution_count": null,
      "outputs": [
        {
          "output_type": "execute_result",
          "data": {
            "text/plain": [
              "torch.Size([2, 100, 24])"
            ]
          },
          "metadata": {},
          "execution_count": 64
        }
      ]
    },
    {
      "cell_type": "markdown",
      "source": [
        "Now, we construct the entire transformer decoder composed of `num_layers` instances of `DecoderBlock`. In the end, a fully-connected layer computes the prediction for all the `vocab_size` possible output tokens. Both of the decoder self-attention weights and the encoder-decoder attention weights are stored for later visualization."
      ],
      "metadata": {
        "id": "_ZMeZFvsQAmo"
      }
    },
    {
      "cell_type": "code",
      "source": [
        "class TransformerDecoder(AttentionDecoder):\n",
        "    def __init__(self, vocab_size, key_size, query_size, value_size,\n",
        "                 num_hiddens, norm_shape, ffn_num_input, ffn_num_hiddens,\n",
        "                 num_heads, num_layers, dropout, **kwargs):\n",
        "        super(TransformerDecoder, self).__init__(**kwargs)\n",
        "        self.num_hiddens = num_hiddens\n",
        "        self.num_layers = num_layers\n",
        "        self.embedding = nn.Embedding(vocab_size, num_hiddens)\n",
        "        self.pos_encoding = PositionalEncoding(num_hiddens, dropout)\n",
        "        self.blks = nn.Sequential()\n",
        "        for i in range(num_layers):\n",
        "            self.blks.add_module(\"block\"+str(i),\n",
        "                DecoderBlock(key_size, query_size, value_size, num_hiddens,\n",
        "                             norm_shape, ffn_num_input, ffn_num_hiddens,\n",
        "                             num_heads, dropout, i))\n",
        "        self.dense = nn.Linear(num_hiddens, vocab_size)\n",
        "\n",
        "    def init_state(self, enc_outputs, enc_valid_lens, *args):\n",
        "        return [enc_outputs, enc_valid_lens, [None] * self.num_layers]\n",
        "\n",
        "    def forward(self, X, state):\n",
        "        X = self.pos_encoding(self.embedding(X) * math.sqrt(self.num_hiddens))\n",
        "        self._attention_weights = [[None] * len(self.blks) for _ in range (2)]\n",
        "        for i, blk in enumerate(self.blks):\n",
        "            X, state = blk(X, state)\n",
        "            # Decoder self-attention weights\n",
        "            self._attention_weights[0][\n",
        "                i] = blk.attention1.attention.attention_weights\n",
        "            # Encoder-decoder attention weights\n",
        "            self._attention_weights[1][\n",
        "                i] = blk.attention2.attention.attention_weights\n",
        "        return self.dense(X), state\n",
        "\n",
        "    @property\n",
        "    def attention_weights(self):\n",
        "        return self._attention_weights"
      ],
      "metadata": {
        "id": "izKHdDHHQPwQ"
      },
      "execution_count": null,
      "outputs": []
    },
    {
      "cell_type": "markdown",
      "source": [
        "Let us instantiate an encoder-decoder model by following the transformer architecture. Here, we specify that both the transformer encoder and the transformer decoder have $2$ layers using $4$-head attention. We train the transformer model for sequence to sequence learning on the English-French machine translation dataset."
      ],
      "metadata": {
        "id": "7E4zGR_wQVKX"
      }
    },
    {
      "cell_type": "code",
      "source": [
        "num_hiddens, num_layers, dropout, batch_size, num_steps = 32, 2, 0.1, 64, 10\n",
        "lr, num_epochs, device = 0.005, 200, try_gpu()\n",
        "ffn_num_input, ffn_num_hiddens, num_heads = 32, 64, 4\n",
        "key_size, query_size, value_size = 32, 32, 32\n",
        "norm_shape = [32]\n",
        "\n",
        "train_iter, src_vocab, tgt_vocab = load_data_nmt(batch_size, num_steps)\n",
        "\n",
        "encoder = TransformerEncoder(\n",
        "    len(src_vocab), key_size, query_size, value_size, num_hiddens,\n",
        "    norm_shape, ffn_num_input, ffn_num_hiddens, num_heads,\n",
        "    num_layers, dropout)\n",
        "decoder = TransformerDecoder(\n",
        "    len(tgt_vocab), key_size, query_size, value_size, num_hiddens,\n",
        "    norm_shape, ffn_num_input, ffn_num_hiddens, num_heads,\n",
        "    num_layers, dropout)\n",
        "net = EncoderDecoder(encoder, decoder)\n",
        "train_loss_all = train_seq2seq(net, train_iter, lr, num_epochs, tgt_vocab, device) #1 min"
      ],
      "metadata": {
        "colab": {
          "base_uri": "https://localhost:8080/"
        },
        "id": "lqReTskmQk2k",
        "outputId": "b37f3807-f0ef-4800-f0f5-fe1d737107db"
      },
      "execution_count": null,
      "outputs": [
        {
          "output_type": "stream",
          "name": "stdout",
          "text": [
            "loss 0.031, device cpu\n"
          ]
        }
      ]
    },
    {
      "cell_type": "code",
      "source": [
        "plot_loss(train_loss_all)"
      ],
      "metadata": {
        "colab": {
          "base_uri": "https://localhost:8080/"
        },
        "id": "bhz1_wCCQyW7",
        "outputId": "e781edec-401b-42ce-ab0e-ac0954bbcc8c"
      },
      "execution_count": null,
      "outputs": [
        {
          "output_type": "display_data",
          "data": {
            "text/plain": [
              "<Figure size 432x288 with 1 Axes>"
            ],
            "image/png": "[encoded data removed]"
          },
          "metadata": {
            "needs_background": "light"
          }
        }
      ]
    },
    {
      "cell_type": "markdown",
      "source": [
        "After training, we use the transformer model to translate a few English sentences into French, and compute their BLEU scores."
      ],
      "metadata": {
        "id": "GADzhHRERMDf"
      }
    },
    {
      "cell_type": "code",
      "source": [
        "engs = ['go .', \"i lost .\", 'he\\'s calm .', 'i\\'m home .']\n",
        "fras = ['va !', 'j\\'ai perdu .', 'il est calme .', 'je suis chez moi .']\n",
        "for eng, fra in zip(engs, fras):\n",
        "    translation, dec_attention_weight_seq = predict_seq2seq(\n",
        "        net, eng, src_vocab, tgt_vocab, num_steps, device, True)\n",
        "    print(f'{eng} => {translation}, ',\n",
        "          f'bleu {bleu(translation, fra, k=2):.3f}')"
      ],
      "metadata": {
        "colab": {
          "base_uri": "https://localhost:8080/"
        },
        "id": "WCVxFb8-RSA7",
        "outputId": "8af980f1-9836-4ec6-8b1b-f699de2bae62"
      },
      "execution_count": null,
      "outputs": [
        {
          "output_type": "stream",
          "name": "stdout",
          "text": [
            "go . => va !,  bleu 1.000\n",
            "i lost . => j'ai perdu .,  bleu 1.000\n",
            "he's calm . => il est calme .,  bleu 1.000\n",
            "i'm home . => je suis chez moi .,  bleu 1.000\n"
          ]
        }
      ]
    },
    {
      "cell_type": "markdown",
      "source": [
        "Let us visualize the transformer attention weights when translating the last English sentence into French. The shape of the encoder self-attention weights is (number of encoder layers, number of attention heads, `num_steps` or number of queries, `num_steps` or number of key-value pairs)."
      ],
      "metadata": {
        "id": "ULZIF0xfRWGO"
      }
    },
    {
      "cell_type": "code",
      "source": [
        "enc_attention_weights = torch.cat(net.encoder.attention_weights, 0).reshape((num_layers, num_heads,\n",
        "    -1, num_steps))\n",
        "enc_attention_weights.shape"
      ],
      "metadata": {
        "colab": {
          "base_uri": "https://localhost:8080/"
        },
        "id": "wqQjgPSWRcpY",
        "outputId": "bf13c0c1-2c08-40af-c26a-623d0ff60fda"
      },
      "execution_count": null,
      "outputs": [
        {
          "output_type": "execute_result",
          "data": {
            "text/plain": [
              "torch.Size([2, 4, 10, 10])"
            ]
          },
          "metadata": {},
          "execution_count": 69
        }
      ]
    },
    {
      "cell_type": "markdown",
      "source": [
        "In the encoder self-attention, both queries and keys come from the same input sequence. Since padding tokens do not carry meaning, with specified valid length of the input sequence, no query attends to positions of padding tokens.\n",
        "In the following, two layers of multi-head attention weights are presented row by row. Each head independently attends based on a separate representation subspaces of queries, keys, and values."
      ],
      "metadata": {
        "id": "_Do7J6_dRvGF"
      }
    },
    {
      "cell_type": "code",
      "source": [
        "show_heatmaps(\n",
        "    enc_attention_weights.cpu(), xlabel='Key positions',\n",
        "    ylabel='Query positions', titles=['Head %d' % i for i in range(1, 5)],\n",
        "    figsize=(7, 3.5))"
      ],
      "metadata": {
        "colab": {
          "base_uri": "https://localhost:8080/",
          "height": 250
        },
        "id": "AiDXzIETR7C6",
        "outputId": "0d2a2b3d-4f99-41fa-dc70-955d5a71f1c0"
      },
      "execution_count": null,
      "outputs": [
        {
          "output_type": "display_data",
          "data": {
            "text/plain": [
              "<Figure size 504x252 with 9 Axes>"
            ],
            "image/png": "[encoded data removed]"
          },
          "metadata": {
            "needs_background": "light"
          }
        }
      ]
    }
  ]
}