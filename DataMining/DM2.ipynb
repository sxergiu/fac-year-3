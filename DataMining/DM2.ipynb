{
 "cells": [
  {
   "cell_type": "markdown",
   "metadata": {
    "id": "xT5rG7hogQGd"
   },
   "source": [
    "# Pandas basics"
   ]
  },
  {
   "cell_type": "markdown",
   "metadata": {
    "id": "s_OxWxrjgX6h"
   },
   "source": [
    "Before working with pandas (similarly to numpy or any other Python package) we first need to import it.\n"
   ]
  },
  {
   "cell_type": "code",
   "execution_count": 1,
   "metadata": {
    "id": "gx8FT7hIgCfH"
   },
   "outputs": [],
   "source": [
    "import pandas as pd"
   ]
  },
  {
   "cell_type": "markdown",
   "metadata": {
    "id": "00JpVMSl-5Mn"
   },
   "source": [
    "Pandas is a Python library that is widely used for data analysis and manipulation. It provides powerful tools for reading, writing, and processing data, and allows for efficient and flexible data manipulation.\n",
    "\n",
    "Two of the main data structures in pandas are **Series** and **DataFrame** objects."
   ]
  },
  {
   "cell_type": "markdown",
   "metadata": {
    "id": "ELt7fry8gj1E"
   },
   "source": [
    "### Pandas Series\n",
    "A pandas series is a one-dimensional labeled array capable of holding any data type (integers, strings, floating point numbers, Python objects, etc.). The axis labels are collectively referred to as the index. The basic method to create a Series is to call s = pd.Series(data, index=index)"
   ]
  },
  {
   "cell_type": "markdown",
   "metadata": {
    "id": "dFonJmM8h4X-"
   },
   "source": [
    "Series act similarly to lists and dictionaries."
   ]
  },
  {
   "cell_type": "code",
   "execution_count": 2,
   "metadata": {
    "colab": {
     "base_uri": "https://localhost:8080/"
    },
    "id": "6Lp01VHtiN2P",
    "outputId": "0cd00622-6eed-45da-dfbb-839d7fbab6f4"
   },
   "outputs": [
    {
     "name": "stdout",
     "output_type": "stream",
     "text": [
      "0      Alice\n",
      "1        Bob\n",
      "2    Charlie\n",
      "3      David\n",
      "4      Emily\n",
      "dtype: object\n"
     ]
    }
   ],
   "source": [
    "# Create a Pandas Series with some sample names as data\n",
    "names = pd.Series(['Alice', 'Bob', 'Charlie', 'David', 'Emily'])\n",
    "\n",
    "# View the series elements\n",
    "print(names)"
   ]
  },
  {
   "cell_type": "code",
   "execution_count": 3,
   "metadata": {
    "colab": {
     "base_uri": "https://localhost:8080/"
    },
    "id": "lpRZqpCdCbdG",
    "outputId": "cd8ecc1e-e57f-45ae-956a-41ac34e4ede6"
   },
   "outputs": [
    {
     "name": "stdout",
     "output_type": "stream",
     "text": [
      "Bob\n"
     ]
    }
   ],
   "source": [
    "# Access the first element of the Series\n",
    "print(names[1])"
   ]
  },
  {
   "cell_type": "code",
   "execution_count": 4,
   "metadata": {
    "colab": {
     "base_uri": "https://localhost:8080/"
    },
    "id": "d1NhOUafCdhx",
    "outputId": "25ad4cd3-8d89-43ad-f8f7-60c7e6a13fa2"
   },
   "outputs": [
    {
     "name": "stdout",
     "output_type": "stream",
     "text": [
      "1        Bob\n",
      "2    Charlie\n",
      "3      David\n",
      "dtype: object\n"
     ]
    }
   ],
   "source": [
    "# Access a slice of the Series from index 1 to index 3\n",
    "print(names[1:4])"
   ]
  },
  {
   "cell_type": "markdown",
   "metadata": {
    "id": "f9J27Fn8oGJH",
    "tags": []
   },
   "source": [
    "### Pandas Dataframe"
   ]
  },
  {
   "cell_type": "markdown",
   "metadata": {
    "id": "7aXNvXhYKISU"
   },
   "source": [
    "A DataFrame is a 2-dimensional labeled data structure with columns of potentially different types. You can think of it like a spreadsheet or SQL table, or a dict **of Series objects**. It is generally the most commonly used pandas object. Like Series, DataFrame accepts many different types of input:\n",
    "\n",
    "\n",
    "*   Dict of 1D ndarrays, lists, dicts, or Series\n",
    "*   2-D numpy.ndarray\n",
    "*   Structured or record ndarray\n",
    "*   A Series\n",
    "*   Another DataFrame"
   ]
  },
  {
   "cell_type": "code",
   "execution_count": 5,
   "metadata": {
    "colab": {
     "base_uri": "https://localhost:8080/"
    },
    "id": "3DJFhBM7oty1",
    "outputId": "c8eefcc1-e104-4589-94ce-b10cdb722e5f"
   },
   "outputs": [
    {
     "name": "stdout",
     "output_type": "stream",
     "text": [
      "      Name  Age  Gender\n",
      "0    Alice   25  Female\n",
      "1      Bob   32    Male\n",
      "2  Charlie   18    Male\n",
      "3    David   47    Male\n",
      "4    Emily   51  Female\n"
     ]
    }
   ],
   "source": [
    "# Create a Pandas DataFrame with some sample data\n",
    "data = {'Name': ['Alice', 'Bob', 'Charlie', 'David', 'Emily'],\n",
    "        'Age': [25, 32, 18, 47, 51],\n",
    "        'Gender': ['Female', 'Male', 'Male', 'Male', 'Female']}\n",
    "\n",
    "df = pd.DataFrame(data)\n",
    "\n",
    "# Print the DataFrame\n",
    "print(df)"
   ]
  },
  {
   "cell_type": "markdown",
   "metadata": {
    "id": "YCV3nGc1DhIA"
   },
   "source": [
    "In this example, we created a Pandas DataFrame called df with some sample data. The DataFrame has three columns - Name, Age, and Gender - and five rows of data. Each column represents a variable, and each row represents an observation. The index of the DataFrame is a sequence of integers starting from 0 and incrementing by 1 for each row."
   ]
  },
  {
   "cell_type": "code",
   "execution_count": 6,
   "metadata": {
    "colab": {
     "base_uri": "https://localhost:8080/"
    },
    "id": "6d5UvCN9EXJo",
    "outputId": "11ff3f1e-700a-4d7a-ff76-ca58f5429c68"
   },
   "outputs": [
    {
     "name": "stdout",
     "output_type": "stream",
     "text": [
      "0      Alice\n",
      "1        Bob\n",
      "2    Charlie\n",
      "3      David\n",
      "4      Emily\n",
      "Name: Name, dtype: object\n"
     ]
    }
   ],
   "source": [
    "# Accessing a specific data column\n",
    "print(df['Name'])"
   ]
  },
  {
   "cell_type": "code",
   "execution_count": 7,
   "metadata": {
    "colab": {
     "base_uri": "https://localhost:8080/"
    },
    "id": "Y73PPtqYEIID",
    "outputId": "3a9d9002-9e5a-43d3-f044-90852dbc3a86"
   },
   "outputs": [
    {
     "name": "stdout",
     "output_type": "stream",
     "text": [
      "Name       Alice\n",
      "Age           25\n",
      "Gender    Female\n",
      "Name: 0, dtype: object\n"
     ]
    }
   ],
   "source": [
    "# Accessing a specific data row based on index\n",
    "print(df.loc[0])"
   ]
  },
  {
   "cell_type": "code",
   "execution_count": 8,
   "metadata": {
    "colab": {
     "base_uri": "https://localhost:8080/"
    },
    "id": "93QGkdnJEndc",
    "outputId": "318b7fba-982f-4077-d43a-64f406574451"
   },
   "outputs": [
    {
     "name": "stdout",
     "output_type": "stream",
     "text": [
      "Alice\n"
     ]
    }
   ],
   "source": [
    "# Accessing a specific data column and row\n",
    "print(df['Name'].loc[0])"
   ]
  },
  {
   "cell_type": "code",
   "execution_count": 9,
   "metadata": {
    "colab": {
     "base_uri": "https://localhost:8080/",
     "height": 178
    },
    "id": "VB_qkj_HE-cK",
    "outputId": "2f4457a5-4cf6-45d5-ba7c-8e5220d6b94d"
   },
   "outputs": [
    {
     "data": {
      "text/plain": [
       "1        Bob\n",
       "2    Charlie\n",
       "3      David\n",
       "Name: Name, dtype: object"
      ]
     },
     "execution_count": 9,
     "metadata": {},
     "output_type": "execute_result"
    }
   ],
   "source": [
    "# Accessing the name of some rows\n",
    "df.loc[1:3]['Name']"
   ]
  },
  {
   "cell_type": "markdown",
   "metadata": {
    "id": "D1_WRwmlsjiH"
   },
   "source": [
    "# Heart disease patients data\n",
    "\n",
    "### Let's get some hands-on practice with pandas"
   ]
  },
  {
   "cell_type": "markdown",
   "metadata": {
    "id": "OPZeL7AICHEL"
   },
   "source": [
    "### Importing and viewing data"
   ]
  },
  {
   "cell_type": "markdown",
   "metadata": {
    "id": "RSsan_6nCgSi"
   },
   "source": [
    "Below you can find a description of the first data we will be working with\n",
    "\n",
    "* Age : Age of the patient\n",
    "\n",
    "* Sex : Sex of the patient\n",
    "\n",
    "* exang: exercise induced angina (1 = yes; 0 = no)\n",
    "\n",
    "* ca: number of major vessels (0-3)\n",
    "\n",
    "* cp : Chest Pain type\n",
    "\n",
    "    Value 0: typical angina\n",
    "\n",
    "    Value 1: atypical angina\n",
    "\n",
    "    Value 2: non-anginal pain\n",
    "\n",
    "    Value 3: asymptomatic\n",
    "* trestbps : resting blood pressure (in mm Hg)\n",
    "\n",
    "* chol : cholestoral in mg/dl fetched via BMI sensor\n",
    "\n",
    "* fbs : (fasting blood sugar > 120 mg/dl) (1 = true; 0 = false)\n",
    "\n",
    "* rest_ecg : resting electrocardiographic results\n",
    "\n",
    "    Value 0: normal\n",
    "\n",
    "    Value 1: having ST-T wave abnormality (T wave inversions and/or ST elevation or depression of > 0.05 mV)\n",
    "\n",
    "    Value 2: showing probable or definite left ventricular hypertrophy by Estes' criteria\n",
    "* thalach : maximum heart rate achieved\n",
    "\n",
    "* target : 0 = less chance of heart attack 1 = more chance of heart attack"
   ]
  },
  {
   "cell_type": "code",
   "execution_count": 10,
   "metadata": {
    "colab": {
     "base_uri": "https://localhost:8080/",
     "height": 206
    },
    "id": "PhckOv3Fr5Z6",
    "outputId": "d68bfff5-8f3d-43e6-e10c-416df03de0e6"
   },
   "outputs": [
    {
     "data": {
      "text/html": [
       "<div>\n",
       "<style scoped>\n",
       "    .dataframe tbody tr th:only-of-type {\n",
       "        vertical-align: middle;\n",
       "    }\n",
       "\n",
       "    .dataframe tbody tr th {\n",
       "        vertical-align: top;\n",
       "    }\n",
       "\n",
       "    .dataframe thead th {\n",
       "        text-align: right;\n",
       "    }\n",
       "</style>\n",
       "<table border=\"1\" class=\"dataframe\">\n",
       "  <thead>\n",
       "    <tr style=\"text-align: right;\">\n",
       "      <th></th>\n",
       "      <th>age</th>\n",
       "      <th>sex</th>\n",
       "      <th>cp</th>\n",
       "      <th>trestbps</th>\n",
       "      <th>chol</th>\n",
       "      <th>fbs</th>\n",
       "      <th>restecg</th>\n",
       "      <th>thalach</th>\n",
       "      <th>exang</th>\n",
       "      <th>oldpeak</th>\n",
       "      <th>slope</th>\n",
       "      <th>ca</th>\n",
       "      <th>thal</th>\n",
       "      <th>target</th>\n",
       "    </tr>\n",
       "  </thead>\n",
       "  <tbody>\n",
       "    <tr>\n",
       "      <th>0</th>\n",
       "      <td>63</td>\n",
       "      <td>1</td>\n",
       "      <td>3</td>\n",
       "      <td>145</td>\n",
       "      <td>233</td>\n",
       "      <td>1</td>\n",
       "      <td>0</td>\n",
       "      <td>150</td>\n",
       "      <td>0</td>\n",
       "      <td>2.3</td>\n",
       "      <td>0</td>\n",
       "      <td>0</td>\n",
       "      <td>1</td>\n",
       "      <td>1</td>\n",
       "    </tr>\n",
       "    <tr>\n",
       "      <th>1</th>\n",
       "      <td>37</td>\n",
       "      <td>1</td>\n",
       "      <td>2</td>\n",
       "      <td>130</td>\n",
       "      <td>250</td>\n",
       "      <td>0</td>\n",
       "      <td>1</td>\n",
       "      <td>187</td>\n",
       "      <td>0</td>\n",
       "      <td>3.5</td>\n",
       "      <td>0</td>\n",
       "      <td>0</td>\n",
       "      <td>2</td>\n",
       "      <td>1</td>\n",
       "    </tr>\n",
       "    <tr>\n",
       "      <th>2</th>\n",
       "      <td>41</td>\n",
       "      <td>0</td>\n",
       "      <td>1</td>\n",
       "      <td>130</td>\n",
       "      <td>204</td>\n",
       "      <td>0</td>\n",
       "      <td>0</td>\n",
       "      <td>172</td>\n",
       "      <td>0</td>\n",
       "      <td>1.4</td>\n",
       "      <td>2</td>\n",
       "      <td>0</td>\n",
       "      <td>2</td>\n",
       "      <td>1</td>\n",
       "    </tr>\n",
       "    <tr>\n",
       "      <th>3</th>\n",
       "      <td>56</td>\n",
       "      <td>1</td>\n",
       "      <td>1</td>\n",
       "      <td>120</td>\n",
       "      <td>236</td>\n",
       "      <td>0</td>\n",
       "      <td>1</td>\n",
       "      <td>178</td>\n",
       "      <td>0</td>\n",
       "      <td>0.8</td>\n",
       "      <td>2</td>\n",
       "      <td>0</td>\n",
       "      <td>2</td>\n",
       "      <td>1</td>\n",
       "    </tr>\n",
       "    <tr>\n",
       "      <th>4</th>\n",
       "      <td>57</td>\n",
       "      <td>0</td>\n",
       "      <td>0</td>\n",
       "      <td>120</td>\n",
       "      <td>354</td>\n",
       "      <td>0</td>\n",
       "      <td>1</td>\n",
       "      <td>163</td>\n",
       "      <td>1</td>\n",
       "      <td>0.6</td>\n",
       "      <td>2</td>\n",
       "      <td>0</td>\n",
       "      <td>2</td>\n",
       "      <td>1</td>\n",
       "    </tr>\n",
       "  </tbody>\n",
       "</table>\n",
       "</div>"
      ],
      "text/plain": [
       "   age  sex  cp  trestbps  chol  fbs  restecg  thalach  exang  oldpeak  slope  \\\n",
       "0   63    1   3       145   233    1        0      150      0      2.3      0   \n",
       "1   37    1   2       130   250    0        1      187      0      3.5      0   \n",
       "2   41    0   1       130   204    0        0      172      0      1.4      2   \n",
       "3   56    1   1       120   236    0        1      178      0      0.8      2   \n",
       "4   57    0   0       120   354    0        1      163      1      0.6      2   \n",
       "\n",
       "   ca  thal  target  \n",
       "0   0     1       1  \n",
       "1   0     2       1  \n",
       "2   0     2       1  \n",
       "3   0     2       1  \n",
       "4   0     2       1  "
      ]
     },
     "execution_count": 10,
     "metadata": {},
     "output_type": "execute_result"
    }
   ],
   "source": [
    "data = pd.read_csv(\"heart.csv\") # Read dataset\n",
    "data.head() # In Pandas, the .head() method is used to display the first few rows of a DataFrame. By default, .head() displays the first 5 rows"
   ]
  },
  {
   "cell_type": "code",
   "execution_count": 11,
   "metadata": {
    "colab": {
     "base_uri": "https://localhost:8080/"
    },
    "id": "_wWTBMmLsJ3e",
    "outputId": "3d46fac0-8166-4777-b30f-caf622c0e7a4"
   },
   "outputs": [
    {
     "name": "stdout",
     "output_type": "stream",
     "text": [
      "Entire data shape: (303, 14)\n",
      "303\n"
     ]
    }
   ],
   "source": [
    "# You can check the df’s shape (similar to numpy arrays)\n",
    "print(\"Entire data shape:\", data.shape)\n",
    "\n",
    "# The len() function works on dataframes\n",
    "print(len(data))"
   ]
  },
  {
   "cell_type": "code",
   "execution_count": 12,
   "metadata": {
    "colab": {
     "base_uri": "https://localhost:8080/"
    },
    "id": "HNMYeHETsfDD",
    "outputId": "b78d8802-ce08-4433-c728-2b1eddff3947"
   },
   "outputs": [
    {
     "name": "stdout",
     "output_type": "stream",
     "text": [
      "0    63\n",
      "1    37\n",
      "2    41\n",
      "Name: age, dtype: int64\n"
     ]
    }
   ],
   "source": [
    "# Retrieving age column\n",
    "age = data['age']\n",
    "print(age[:3]) # Displaying first 3 ages"
   ]
  },
  {
   "cell_type": "code",
   "execution_count": 13,
   "metadata": {
    "colab": {
     "base_uri": "https://localhost:8080/"
    },
    "id": "MQ7sG1U47wYb",
    "outputId": "3e5f5694-e6a1-4f29-d71d-62b49168d58c"
   },
   "outputs": [
    {
     "name": "stdout",
     "output_type": "stream",
     "text": [
      "63\n",
      "66\n",
      "68\n"
     ]
    }
   ],
   "source": [
    "# Accessing individual values from age column\n",
    "print(age[0]) # Age of entry 0\n",
    "print(age[150]) # Age of entry 150\n",
    "print(age[300]) # Age of entry 300"
   ]
  },
  {
   "cell_type": "code",
   "execution_count": 14,
   "metadata": {
    "colab": {
     "base_uri": "https://localhost:8080/"
    },
    "id": "IEFtZwIe77KW",
    "outputId": "b9ebd083-dd31-4172-aed2-d95831cc6f89"
   },
   "outputs": [
    {
     "name": "stdout",
     "output_type": "stream",
     "text": [
      "age          63.0\n",
      "sex           1.0\n",
      "cp            3.0\n",
      "trestbps    145.0\n",
      "chol        233.0\n",
      "fbs           1.0\n",
      "restecg       0.0\n",
      "thalach     150.0\n",
      "exang         0.0\n",
      "oldpeak       2.3\n",
      "slope         0.0\n",
      "ca            0.0\n",
      "thal          1.0\n",
      "target        1.0\n",
      "Name: 0, dtype: float64 \n",
      "\n",
      "Age of row 0 entry is: 63.0\n"
     ]
    }
   ],
   "source": [
    "# Retrieving specific rows\n",
    "row_0 = data.loc[0] # Retrieve row 0 (1st row)\n",
    "print(row_0, '\\n')\n",
    "print(\"Age of row 0 entry is:\", row_0['age'])"
   ]
  },
  {
   "cell_type": "code",
   "execution_count": 15,
   "metadata": {
    "colab": {
     "base_uri": "https://localhost:8080/",
     "height": 206
    },
    "id": "KE9NKclg86tF",
    "outputId": "2a4d274a-73c0-45b9-fecc-0e7828a22eec"
   },
   "outputs": [
    {
     "data": {
      "text/html": [
       "<div>\n",
       "<style scoped>\n",
       "    .dataframe tbody tr th:only-of-type {\n",
       "        vertical-align: middle;\n",
       "    }\n",
       "\n",
       "    .dataframe tbody tr th {\n",
       "        vertical-align: top;\n",
       "    }\n",
       "\n",
       "    .dataframe thead th {\n",
       "        text-align: right;\n",
       "    }\n",
       "</style>\n",
       "<table border=\"1\" class=\"dataframe\">\n",
       "  <thead>\n",
       "    <tr style=\"text-align: right;\">\n",
       "      <th></th>\n",
       "      <th>age</th>\n",
       "      <th>sex</th>\n",
       "      <th>cp</th>\n",
       "      <th>trestbps</th>\n",
       "      <th>chol</th>\n",
       "      <th>fbs</th>\n",
       "      <th>restecg</th>\n",
       "      <th>thalach</th>\n",
       "      <th>exang</th>\n",
       "      <th>oldpeak</th>\n",
       "      <th>slope</th>\n",
       "      <th>ca</th>\n",
       "      <th>thal</th>\n",
       "      <th>target</th>\n",
       "    </tr>\n",
       "  </thead>\n",
       "  <tbody>\n",
       "    <tr>\n",
       "      <th>72</th>\n",
       "      <td>29</td>\n",
       "      <td>1</td>\n",
       "      <td>1</td>\n",
       "      <td>130</td>\n",
       "      <td>204</td>\n",
       "      <td>0</td>\n",
       "      <td>0</td>\n",
       "      <td>202</td>\n",
       "      <td>0</td>\n",
       "      <td>0.0</td>\n",
       "      <td>2</td>\n",
       "      <td>0</td>\n",
       "      <td>2</td>\n",
       "      <td>1</td>\n",
       "    </tr>\n",
       "    <tr>\n",
       "      <th>58</th>\n",
       "      <td>34</td>\n",
       "      <td>1</td>\n",
       "      <td>3</td>\n",
       "      <td>118</td>\n",
       "      <td>182</td>\n",
       "      <td>0</td>\n",
       "      <td>0</td>\n",
       "      <td>174</td>\n",
       "      <td>0</td>\n",
       "      <td>0.0</td>\n",
       "      <td>2</td>\n",
       "      <td>0</td>\n",
       "      <td>2</td>\n",
       "      <td>1</td>\n",
       "    </tr>\n",
       "    <tr>\n",
       "      <th>125</th>\n",
       "      <td>34</td>\n",
       "      <td>0</td>\n",
       "      <td>1</td>\n",
       "      <td>118</td>\n",
       "      <td>210</td>\n",
       "      <td>0</td>\n",
       "      <td>1</td>\n",
       "      <td>192</td>\n",
       "      <td>0</td>\n",
       "      <td>0.7</td>\n",
       "      <td>2</td>\n",
       "      <td>0</td>\n",
       "      <td>2</td>\n",
       "      <td>1</td>\n",
       "    </tr>\n",
       "    <tr>\n",
       "      <th>65</th>\n",
       "      <td>35</td>\n",
       "      <td>0</td>\n",
       "      <td>0</td>\n",
       "      <td>138</td>\n",
       "      <td>183</td>\n",
       "      <td>0</td>\n",
       "      <td>1</td>\n",
       "      <td>182</td>\n",
       "      <td>0</td>\n",
       "      <td>1.4</td>\n",
       "      <td>2</td>\n",
       "      <td>0</td>\n",
       "      <td>2</td>\n",
       "      <td>1</td>\n",
       "    </tr>\n",
       "    <tr>\n",
       "      <th>157</th>\n",
       "      <td>35</td>\n",
       "      <td>1</td>\n",
       "      <td>1</td>\n",
       "      <td>122</td>\n",
       "      <td>192</td>\n",
       "      <td>0</td>\n",
       "      <td>1</td>\n",
       "      <td>174</td>\n",
       "      <td>0</td>\n",
       "      <td>0.0</td>\n",
       "      <td>2</td>\n",
       "      <td>0</td>\n",
       "      <td>2</td>\n",
       "      <td>1</td>\n",
       "    </tr>\n",
       "  </tbody>\n",
       "</table>\n",
       "</div>"
      ],
      "text/plain": [
       "     age  sex  cp  trestbps  chol  fbs  restecg  thalach  exang  oldpeak  \\\n",
       "72    29    1   1       130   204    0        0      202      0      0.0   \n",
       "58    34    1   3       118   182    0        0      174      0      0.0   \n",
       "125   34    0   1       118   210    0        1      192      0      0.7   \n",
       "65    35    0   0       138   183    0        1      182      0      1.4   \n",
       "157   35    1   1       122   192    0        1      174      0      0.0   \n",
       "\n",
       "     slope  ca  thal  target  \n",
       "72       2   0     2       1  \n",
       "58       2   0     2       1  \n",
       "125      2   0     2       1  \n",
       "65       2   0     2       1  \n",
       "157      2   0     2       1  "
      ]
     },
     "execution_count": 15,
     "metadata": {},
     "output_type": "execute_result"
    }
   ],
   "source": [
    "# Sorting entries by properties (rows)\n",
    "sorted_data = data.sort_values(['age', 'chol']) # The sort is not done in place, meaning that the data variable will remain the same\n",
    "sorted_data.head()\n",
    "\n",
    "# data.sort_values(['age', 'chol'], inplace=True) # Uncomment this line if you want sorting to be done in place\n",
    "# data.head()"
   ]
  },
  {
   "cell_type": "code",
   "execution_count": 16,
   "metadata": {
    "colab": {
     "base_uri": "https://localhost:8080/",
     "height": 206
    },
    "id": "taFnx9NO9TEv",
    "outputId": "5aab0538-2e26-4649-cfd8-e973e6d2ac6c"
   },
   "outputs": [
    {
     "data": {
      "text/html": [
       "<div>\n",
       "<style scoped>\n",
       "    .dataframe tbody tr th:only-of-type {\n",
       "        vertical-align: middle;\n",
       "    }\n",
       "\n",
       "    .dataframe tbody tr th {\n",
       "        vertical-align: top;\n",
       "    }\n",
       "\n",
       "    .dataframe thead th {\n",
       "        text-align: right;\n",
       "    }\n",
       "</style>\n",
       "<table border=\"1\" class=\"dataframe\">\n",
       "  <thead>\n",
       "    <tr style=\"text-align: right;\">\n",
       "      <th></th>\n",
       "      <th>age</th>\n",
       "      <th>sex</th>\n",
       "      <th>cp</th>\n",
       "      <th>trestbps</th>\n",
       "      <th>chol</th>\n",
       "      <th>fbs</th>\n",
       "      <th>restecg</th>\n",
       "      <th>thalach</th>\n",
       "      <th>exang</th>\n",
       "      <th>oldpeak</th>\n",
       "      <th>slope</th>\n",
       "      <th>ca</th>\n",
       "      <th>thal</th>\n",
       "      <th>target</th>\n",
       "    </tr>\n",
       "  </thead>\n",
       "  <tbody>\n",
       "    <tr>\n",
       "      <th>0</th>\n",
       "      <td>63</td>\n",
       "      <td>1</td>\n",
       "      <td>3</td>\n",
       "      <td>145</td>\n",
       "      <td>233</td>\n",
       "      <td>1</td>\n",
       "      <td>0</td>\n",
       "      <td>150</td>\n",
       "      <td>0</td>\n",
       "      <td>2.3</td>\n",
       "      <td>0</td>\n",
       "      <td>0</td>\n",
       "      <td>1</td>\n",
       "      <td>1</td>\n",
       "    </tr>\n",
       "    <tr>\n",
       "      <th>1</th>\n",
       "      <td>37</td>\n",
       "      <td>1</td>\n",
       "      <td>2</td>\n",
       "      <td>130</td>\n",
       "      <td>250</td>\n",
       "      <td>0</td>\n",
       "      <td>1</td>\n",
       "      <td>187</td>\n",
       "      <td>0</td>\n",
       "      <td>3.5</td>\n",
       "      <td>0</td>\n",
       "      <td>0</td>\n",
       "      <td>2</td>\n",
       "      <td>1</td>\n",
       "    </tr>\n",
       "    <tr>\n",
       "      <th>2</th>\n",
       "      <td>41</td>\n",
       "      <td>0</td>\n",
       "      <td>1</td>\n",
       "      <td>130</td>\n",
       "      <td>204</td>\n",
       "      <td>0</td>\n",
       "      <td>0</td>\n",
       "      <td>172</td>\n",
       "      <td>0</td>\n",
       "      <td>1.4</td>\n",
       "      <td>2</td>\n",
       "      <td>0</td>\n",
       "      <td>2</td>\n",
       "      <td>1</td>\n",
       "    </tr>\n",
       "    <tr>\n",
       "      <th>3</th>\n",
       "      <td>56</td>\n",
       "      <td>1</td>\n",
       "      <td>1</td>\n",
       "      <td>120</td>\n",
       "      <td>236</td>\n",
       "      <td>0</td>\n",
       "      <td>1</td>\n",
       "      <td>178</td>\n",
       "      <td>0</td>\n",
       "      <td>0.8</td>\n",
       "      <td>2</td>\n",
       "      <td>0</td>\n",
       "      <td>2</td>\n",
       "      <td>1</td>\n",
       "    </tr>\n",
       "    <tr>\n",
       "      <th>4</th>\n",
       "      <td>57</td>\n",
       "      <td>0</td>\n",
       "      <td>0</td>\n",
       "      <td>120</td>\n",
       "      <td>354</td>\n",
       "      <td>0</td>\n",
       "      <td>1</td>\n",
       "      <td>163</td>\n",
       "      <td>1</td>\n",
       "      <td>0.6</td>\n",
       "      <td>2</td>\n",
       "      <td>0</td>\n",
       "      <td>2</td>\n",
       "      <td>1</td>\n",
       "    </tr>\n",
       "  </tbody>\n",
       "</table>\n",
       "</div>"
      ],
      "text/plain": [
       "   age  sex  cp  trestbps  chol  fbs  restecg  thalach  exang  oldpeak  slope  \\\n",
       "0   63    1   3       145   233    1        0      150      0      2.3      0   \n",
       "1   37    1   2       130   250    0        1      187      0      3.5      0   \n",
       "2   41    0   1       130   204    0        0      172      0      1.4      2   \n",
       "3   56    1   1       120   236    0        1      178      0      0.8      2   \n",
       "4   57    0   0       120   354    0        1      163      1      0.6      2   \n",
       "\n",
       "   ca  thal  target  \n",
       "0   0     1       1  \n",
       "1   0     2       1  \n",
       "2   0     2       1  \n",
       "3   0     2       1  \n",
       "4   0     2       1  "
      ]
     },
     "execution_count": 16,
     "metadata": {},
     "output_type": "execute_result"
    }
   ],
   "source": [
    "# Filtering based on a property\n",
    "data[data['age'] > 30].head() # Patients older than 30"
   ]
  },
  {
   "cell_type": "code",
   "execution_count": 17,
   "metadata": {
    "colab": {
     "base_uri": "https://localhost:8080/",
     "height": 206
    },
    "id": "k8GC_217PJv3",
    "outputId": "01492a2b-a959-4b8a-fc76-43cb9f908792"
   },
   "outputs": [
    {
     "data": {
      "text/html": [
       "<div>\n",
       "<style scoped>\n",
       "    .dataframe tbody tr th:only-of-type {\n",
       "        vertical-align: middle;\n",
       "    }\n",
       "\n",
       "    .dataframe tbody tr th {\n",
       "        vertical-align: top;\n",
       "    }\n",
       "\n",
       "    .dataframe thead th {\n",
       "        text-align: right;\n",
       "    }\n",
       "</style>\n",
       "<table border=\"1\" class=\"dataframe\">\n",
       "  <thead>\n",
       "    <tr style=\"text-align: right;\">\n",
       "      <th></th>\n",
       "      <th>age</th>\n",
       "      <th>sex</th>\n",
       "      <th>cp</th>\n",
       "      <th>trestbps</th>\n",
       "      <th>chol</th>\n",
       "      <th>fbs</th>\n",
       "      <th>restecg</th>\n",
       "      <th>thalach</th>\n",
       "      <th>exang</th>\n",
       "      <th>oldpeak</th>\n",
       "      <th>slope</th>\n",
       "      <th>ca</th>\n",
       "      <th>thal</th>\n",
       "      <th>target</th>\n",
       "    </tr>\n",
       "  </thead>\n",
       "  <tbody>\n",
       "    <tr>\n",
       "      <th>4</th>\n",
       "      <td>57</td>\n",
       "      <td>0</td>\n",
       "      <td>0</td>\n",
       "      <td>120</td>\n",
       "      <td>354</td>\n",
       "      <td>0</td>\n",
       "      <td>1</td>\n",
       "      <td>163</td>\n",
       "      <td>1</td>\n",
       "      <td>0.6</td>\n",
       "      <td>2</td>\n",
       "      <td>0</td>\n",
       "      <td>2</td>\n",
       "      <td>1</td>\n",
       "    </tr>\n",
       "    <tr>\n",
       "      <th>16</th>\n",
       "      <td>58</td>\n",
       "      <td>0</td>\n",
       "      <td>2</td>\n",
       "      <td>120</td>\n",
       "      <td>340</td>\n",
       "      <td>0</td>\n",
       "      <td>1</td>\n",
       "      <td>172</td>\n",
       "      <td>0</td>\n",
       "      <td>0.0</td>\n",
       "      <td>2</td>\n",
       "      <td>0</td>\n",
       "      <td>2</td>\n",
       "      <td>1</td>\n",
       "    </tr>\n",
       "    <tr>\n",
       "      <th>25</th>\n",
       "      <td>71</td>\n",
       "      <td>0</td>\n",
       "      <td>1</td>\n",
       "      <td>160</td>\n",
       "      <td>302</td>\n",
       "      <td>0</td>\n",
       "      <td>1</td>\n",
       "      <td>162</td>\n",
       "      <td>0</td>\n",
       "      <td>0.4</td>\n",
       "      <td>2</td>\n",
       "      <td>2</td>\n",
       "      <td>2</td>\n",
       "      <td>1</td>\n",
       "    </tr>\n",
       "    <tr>\n",
       "      <th>28</th>\n",
       "      <td>65</td>\n",
       "      <td>0</td>\n",
       "      <td>2</td>\n",
       "      <td>140</td>\n",
       "      <td>417</td>\n",
       "      <td>1</td>\n",
       "      <td>0</td>\n",
       "      <td>157</td>\n",
       "      <td>0</td>\n",
       "      <td>0.8</td>\n",
       "      <td>2</td>\n",
       "      <td>1</td>\n",
       "      <td>2</td>\n",
       "      <td>1</td>\n",
       "    </tr>\n",
       "    <tr>\n",
       "      <th>36</th>\n",
       "      <td>54</td>\n",
       "      <td>0</td>\n",
       "      <td>2</td>\n",
       "      <td>135</td>\n",
       "      <td>304</td>\n",
       "      <td>1</td>\n",
       "      <td>1</td>\n",
       "      <td>170</td>\n",
       "      <td>0</td>\n",
       "      <td>0.0</td>\n",
       "      <td>2</td>\n",
       "      <td>0</td>\n",
       "      <td>2</td>\n",
       "      <td>1</td>\n",
       "    </tr>\n",
       "  </tbody>\n",
       "</table>\n",
       "</div>"
      ],
      "text/plain": [
       "    age  sex  cp  trestbps  chol  fbs  restecg  thalach  exang  oldpeak  \\\n",
       "4    57    0   0       120   354    0        1      163      1      0.6   \n",
       "16   58    0   2       120   340    0        1      172      0      0.0   \n",
       "25   71    0   1       160   302    0        1      162      0      0.4   \n",
       "28   65    0   2       140   417    1        0      157      0      0.8   \n",
       "36   54    0   2       135   304    1        1      170      0      0.0   \n",
       "\n",
       "    slope  ca  thal  target  \n",
       "4       2   0     2       1  \n",
       "16      2   0     2       1  \n",
       "25      2   2     2       1  \n",
       "28      2   1     2       1  \n",
       "36      2   0     2       1  "
      ]
     },
     "execution_count": 17,
     "metadata": {},
     "output_type": "execute_result"
    }
   ],
   "source": [
    "# Filtering based on multiple properties\n",
    "data[(data['chol'] > 300) & (data['age'] > 40)].head() # Patients with cholesterol level above 300 and older than 40"
   ]
  },
  {
   "cell_type": "code",
   "execution_count": 18,
   "metadata": {
    "colab": {
     "base_uri": "https://localhost:8080/",
     "height": 1000
    },
    "id": "dOFl_TjYFK9Z",
    "outputId": "d17e8c90-95d8-453c-fea4-6593b3f975cf"
   },
   "outputs": [
    {
     "data": {
      "text/html": [
       "<div>\n",
       "<style scoped>\n",
       "    .dataframe tbody tr th:only-of-type {\n",
       "        vertical-align: middle;\n",
       "    }\n",
       "\n",
       "    .dataframe tbody tr th {\n",
       "        vertical-align: top;\n",
       "    }\n",
       "\n",
       "    .dataframe thead th {\n",
       "        text-align: right;\n",
       "    }\n",
       "</style>\n",
       "<table border=\"1\" class=\"dataframe\">\n",
       "  <thead>\n",
       "    <tr style=\"text-align: right;\">\n",
       "      <th></th>\n",
       "      <th>sex</th>\n",
       "      <th>cp</th>\n",
       "      <th>trestbps</th>\n",
       "      <th>chol</th>\n",
       "      <th>fbs</th>\n",
       "      <th>restecg</th>\n",
       "      <th>thalach</th>\n",
       "      <th>exang</th>\n",
       "      <th>oldpeak</th>\n",
       "      <th>slope</th>\n",
       "      <th>ca</th>\n",
       "      <th>thal</th>\n",
       "      <th>target</th>\n",
       "    </tr>\n",
       "    <tr>\n",
       "      <th>age</th>\n",
       "      <th></th>\n",
       "      <th></th>\n",
       "      <th></th>\n",
       "      <th></th>\n",
       "      <th></th>\n",
       "      <th></th>\n",
       "      <th></th>\n",
       "      <th></th>\n",
       "      <th></th>\n",
       "      <th></th>\n",
       "      <th></th>\n",
       "      <th></th>\n",
       "      <th></th>\n",
       "    </tr>\n",
       "  </thead>\n",
       "  <tbody>\n",
       "    <tr>\n",
       "      <th>29</th>\n",
       "      <td>1.000000</td>\n",
       "      <td>1.000000</td>\n",
       "      <td>130.000000</td>\n",
       "      <td>204.000000</td>\n",
       "      <td>0.000000</td>\n",
       "      <td>0.000000</td>\n",
       "      <td>202.000000</td>\n",
       "      <td>0.000000</td>\n",
       "      <td>0.000000</td>\n",
       "      <td>2.000000</td>\n",
       "      <td>0.000000</td>\n",
       "      <td>2.000000</td>\n",
       "      <td>1.000000</td>\n",
       "    </tr>\n",
       "    <tr>\n",
       "      <th>34</th>\n",
       "      <td>0.500000</td>\n",
       "      <td>2.000000</td>\n",
       "      <td>118.000000</td>\n",
       "      <td>196.000000</td>\n",
       "      <td>0.000000</td>\n",
       "      <td>0.500000</td>\n",
       "      <td>183.000000</td>\n",
       "      <td>0.000000</td>\n",
       "      <td>0.350000</td>\n",
       "      <td>2.000000</td>\n",
       "      <td>0.000000</td>\n",
       "      <td>2.000000</td>\n",
       "      <td>1.000000</td>\n",
       "    </tr>\n",
       "    <tr>\n",
       "      <th>35</th>\n",
       "      <td>0.750000</td>\n",
       "      <td>0.250000</td>\n",
       "      <td>126.500000</td>\n",
       "      <td>213.750000</td>\n",
       "      <td>0.000000</td>\n",
       "      <td>0.750000</td>\n",
       "      <td>160.500000</td>\n",
       "      <td>0.500000</td>\n",
       "      <td>0.750000</td>\n",
       "      <td>1.750000</td>\n",
       "      <td>0.000000</td>\n",
       "      <td>2.500000</td>\n",
       "      <td>0.500000</td>\n",
       "    </tr>\n",
       "    <tr>\n",
       "      <th>37</th>\n",
       "      <td>0.500000</td>\n",
       "      <td>2.000000</td>\n",
       "      <td>125.000000</td>\n",
       "      <td>232.500000</td>\n",
       "      <td>0.000000</td>\n",
       "      <td>1.000000</td>\n",
       "      <td>178.500000</td>\n",
       "      <td>0.000000</td>\n",
       "      <td>1.750000</td>\n",
       "      <td>1.000000</td>\n",
       "      <td>0.000000</td>\n",
       "      <td>2.000000</td>\n",
       "      <td>1.000000</td>\n",
       "    </tr>\n",
       "    <tr>\n",
       "      <th>38</th>\n",
       "      <td>1.000000</td>\n",
       "      <td>2.333333</td>\n",
       "      <td>132.000000</td>\n",
       "      <td>193.666667</td>\n",
       "      <td>0.000000</td>\n",
       "      <td>1.000000</td>\n",
       "      <td>176.000000</td>\n",
       "      <td>0.333333</td>\n",
       "      <td>1.266667</td>\n",
       "      <td>1.666667</td>\n",
       "      <td>2.666667</td>\n",
       "      <td>2.333333</td>\n",
       "      <td>0.666667</td>\n",
       "    </tr>\n",
       "    <tr>\n",
       "      <th>39</th>\n",
       "      <td>0.500000</td>\n",
       "      <td>1.500000</td>\n",
       "      <td>122.500000</td>\n",
       "      <td>239.750000</td>\n",
       "      <td>0.000000</td>\n",
       "      <td>0.750000</td>\n",
       "      <td>163.250000</td>\n",
       "      <td>0.000000</td>\n",
       "      <td>0.300000</td>\n",
       "      <td>1.500000</td>\n",
       "      <td>0.000000</td>\n",
       "      <td>2.250000</td>\n",
       "      <td>0.750000</td>\n",
       "    </tr>\n",
       "    <tr>\n",
       "      <th>40</th>\n",
       "      <td>1.000000</td>\n",
       "      <td>1.000000</td>\n",
       "      <td>134.000000</td>\n",
       "      <td>196.333333</td>\n",
       "      <td>0.000000</td>\n",
       "      <td>0.666667</td>\n",
       "      <td>157.666667</td>\n",
       "      <td>0.666667</td>\n",
       "      <td>1.133333</td>\n",
       "      <td>1.666667</td>\n",
       "      <td>0.000000</td>\n",
       "      <td>3.000000</td>\n",
       "      <td>0.333333</td>\n",
       "    </tr>\n",
       "    <tr>\n",
       "      <th>41</th>\n",
       "      <td>0.600000</td>\n",
       "      <td>1.200000</td>\n",
       "      <td>119.000000</td>\n",
       "      <td>220.700000</td>\n",
       "      <td>0.000000</td>\n",
       "      <td>0.600000</td>\n",
       "      <td>164.700000</td>\n",
       "      <td>0.100000</td>\n",
       "      <td>0.340000</td>\n",
       "      <td>1.800000</td>\n",
       "      <td>0.100000</td>\n",
       "      <td>2.000000</td>\n",
       "      <td>0.900000</td>\n",
       "    </tr>\n",
       "    <tr>\n",
       "      <th>42</th>\n",
       "      <td>0.750000</td>\n",
       "      <td>1.250000</td>\n",
       "      <td>127.000000</td>\n",
       "      <td>246.750000</td>\n",
       "      <td>0.125000</td>\n",
       "      <td>0.750000</td>\n",
       "      <td>160.250000</td>\n",
       "      <td>0.125000</td>\n",
       "      <td>0.500000</td>\n",
       "      <td>1.375000</td>\n",
       "      <td>0.250000</td>\n",
       "      <td>2.000000</td>\n",
       "      <td>0.875000</td>\n",
       "    </tr>\n",
       "    <tr>\n",
       "      <th>43</th>\n",
       "      <td>0.750000</td>\n",
       "      <td>0.500000</td>\n",
       "      <td>126.375000</td>\n",
       "      <td>256.750000</td>\n",
       "      <td>0.250000</td>\n",
       "      <td>0.625000</td>\n",
       "      <td>154.875000</td>\n",
       "      <td>0.375000</td>\n",
       "      <td>1.300000</td>\n",
       "      <td>1.375000</td>\n",
       "      <td>0.625000</td>\n",
       "      <td>2.500000</td>\n",
       "      <td>0.625000</td>\n",
       "    </tr>\n",
       "    <tr>\n",
       "      <th>44</th>\n",
       "      <td>0.818182</td>\n",
       "      <td>1.181818</td>\n",
       "      <td>120.727273</td>\n",
       "      <td>221.363636</td>\n",
       "      <td>0.000000</td>\n",
       "      <td>0.636364</td>\n",
       "      <td>168.818182</td>\n",
       "      <td>0.181818</td>\n",
       "      <td>0.372727</td>\n",
       "      <td>1.636364</td>\n",
       "      <td>0.272727</td>\n",
       "      <td>2.000000</td>\n",
       "      <td>0.727273</td>\n",
       "    </tr>\n",
       "    <tr>\n",
       "      <th>45</th>\n",
       "      <td>0.625000</td>\n",
       "      <td>0.750000</td>\n",
       "      <td>122.375000</td>\n",
       "      <td>247.375000</td>\n",
       "      <td>0.000000</td>\n",
       "      <td>0.250000</td>\n",
       "      <td>155.875000</td>\n",
       "      <td>0.375000</td>\n",
       "      <td>0.625000</td>\n",
       "      <td>1.250000</td>\n",
       "      <td>0.375000</td>\n",
       "      <td>2.250000</td>\n",
       "      <td>0.750000</td>\n",
       "    </tr>\n",
       "    <tr>\n",
       "      <th>46</th>\n",
       "      <td>0.571429</td>\n",
       "      <td>0.857143</td>\n",
       "      <td>128.000000</td>\n",
       "      <td>230.285714</td>\n",
       "      <td>0.142857</td>\n",
       "      <td>0.571429</td>\n",
       "      <td>150.142857</td>\n",
       "      <td>0.428571</td>\n",
       "      <td>1.085714</td>\n",
       "      <td>1.285714</td>\n",
       "      <td>0.285714</td>\n",
       "      <td>2.428571</td>\n",
       "      <td>0.571429</td>\n",
       "    </tr>\n",
       "    <tr>\n",
       "      <th>47</th>\n",
       "      <td>1.000000</td>\n",
       "      <td>1.200000</td>\n",
       "      <td>119.600000</td>\n",
       "      <td>246.400000</td>\n",
       "      <td>0.000000</td>\n",
       "      <td>0.600000</td>\n",
       "      <td>149.600000</td>\n",
       "      <td>0.200000</td>\n",
       "      <td>0.220000</td>\n",
       "      <td>1.800000</td>\n",
       "      <td>0.200000</td>\n",
       "      <td>2.000000</td>\n",
       "      <td>0.600000</td>\n",
       "    </tr>\n",
       "    <tr>\n",
       "      <th>48</th>\n",
       "      <td>0.857143</td>\n",
       "      <td>0.857143</td>\n",
       "      <td>124.285714</td>\n",
       "      <td>250.857143</td>\n",
       "      <td>0.285714</td>\n",
       "      <td>0.428571</td>\n",
       "      <td>166.285714</td>\n",
       "      <td>0.142857</td>\n",
       "      <td>0.271429</td>\n",
       "      <td>1.428571</td>\n",
       "      <td>0.571429</td>\n",
       "      <td>2.428571</td>\n",
       "      <td>0.571429</td>\n",
       "    </tr>\n",
       "    <tr>\n",
       "      <th>49</th>\n",
       "      <td>0.600000</td>\n",
       "      <td>1.200000</td>\n",
       "      <td>126.400000</td>\n",
       "      <td>228.600000</td>\n",
       "      <td>0.000000</td>\n",
       "      <td>0.800000</td>\n",
       "      <td>152.200000</td>\n",
       "      <td>0.000000</td>\n",
       "      <td>0.680000</td>\n",
       "      <td>1.600000</td>\n",
       "      <td>1.200000</td>\n",
       "      <td>2.200000</td>\n",
       "      <td>0.600000</td>\n",
       "    </tr>\n",
       "    <tr>\n",
       "      <th>50</th>\n",
       "      <td>0.571429</td>\n",
       "      <td>1.000000</td>\n",
       "      <td>130.428571</td>\n",
       "      <td>227.000000</td>\n",
       "      <td>0.000000</td>\n",
       "      <td>0.571429</td>\n",
       "      <td>151.285714</td>\n",
       "      <td>0.142857</td>\n",
       "      <td>0.971429</td>\n",
       "      <td>1.428571</td>\n",
       "      <td>0.142857</td>\n",
       "      <td>2.428571</td>\n",
       "      <td>0.571429</td>\n",
       "    </tr>\n",
       "    <tr>\n",
       "      <th>51</th>\n",
       "      <td>0.666667</td>\n",
       "      <td>1.416667</td>\n",
       "      <td>124.500000</td>\n",
       "      <td>258.666667</td>\n",
       "      <td>0.083333</td>\n",
       "      <td>0.500000</td>\n",
       "      <td>148.500000</td>\n",
       "      <td>0.583333</td>\n",
       "      <td>1.266667</td>\n",
       "      <td>1.666667</td>\n",
       "      <td>0.500000</td>\n",
       "      <td>2.333333</td>\n",
       "      <td>0.750000</td>\n",
       "    </tr>\n",
       "    <tr>\n",
       "      <th>52</th>\n",
       "      <td>0.923077</td>\n",
       "      <td>1.153846</td>\n",
       "      <td>130.692308</td>\n",
       "      <td>228.230769</td>\n",
       "      <td>0.384615</td>\n",
       "      <td>0.846154</td>\n",
       "      <td>167.230769</td>\n",
       "      <td>0.153846</td>\n",
       "      <td>0.376923</td>\n",
       "      <td>1.692308</td>\n",
       "      <td>0.923077</td>\n",
       "      <td>2.153846</td>\n",
       "      <td>0.692308</td>\n",
       "    </tr>\n",
       "    <tr>\n",
       "      <th>53</th>\n",
       "      <td>0.625000</td>\n",
       "      <td>0.750000</td>\n",
       "      <td>132.625000</td>\n",
       "      <td>233.500000</td>\n",
       "      <td>0.375000</td>\n",
       "      <td>0.125000</td>\n",
       "      <td>138.000000</td>\n",
       "      <td>0.375000</td>\n",
       "      <td>0.837500</td>\n",
       "      <td>1.250000</td>\n",
       "      <td>0.625000</td>\n",
       "      <td>2.125000</td>\n",
       "      <td>0.750000</td>\n",
       "    </tr>\n",
       "    <tr>\n",
       "      <th>54</th>\n",
       "      <td>0.687500</td>\n",
       "      <td>1.062500</td>\n",
       "      <td>129.125000</td>\n",
       "      <td>253.312500</td>\n",
       "      <td>0.125000</td>\n",
       "      <td>0.437500</td>\n",
       "      <td>147.750000</td>\n",
       "      <td>0.312500</td>\n",
       "      <td>0.931250</td>\n",
       "      <td>1.437500</td>\n",
       "      <td>0.625000</td>\n",
       "      <td>2.437500</td>\n",
       "      <td>0.625000</td>\n",
       "    </tr>\n",
       "    <tr>\n",
       "      <th>55</th>\n",
       "      <td>0.500000</td>\n",
       "      <td>0.375000</td>\n",
       "      <td>142.125000</td>\n",
       "      <td>280.625000</td>\n",
       "      <td>0.000000</td>\n",
       "      <td>1.000000</td>\n",
       "      <td>139.625000</td>\n",
       "      <td>0.625000</td>\n",
       "      <td>1.950000</td>\n",
       "      <td>1.125000</td>\n",
       "      <td>0.375000</td>\n",
       "      <td>2.500000</td>\n",
       "      <td>0.375000</td>\n",
       "    </tr>\n",
       "    <tr>\n",
       "      <th>56</th>\n",
       "      <td>0.727273</td>\n",
       "      <td>0.818182</td>\n",
       "      <td>134.636364</td>\n",
       "      <td>259.363636</td>\n",
       "      <td>0.363636</td>\n",
       "      <td>0.181818</td>\n",
       "      <td>145.636364</td>\n",
       "      <td>0.545455</td>\n",
       "      <td>1.400000</td>\n",
       "      <td>0.909091</td>\n",
       "      <td>0.636364</td>\n",
       "      <td>2.272727</td>\n",
       "      <td>0.454545</td>\n",
       "    </tr>\n",
       "    <tr>\n",
       "      <th>57</th>\n",
       "      <td>0.764706</td>\n",
       "      <td>0.529412</td>\n",
       "      <td>136.058824</td>\n",
       "      <td>238.529412</td>\n",
       "      <td>0.117647</td>\n",
       "      <td>0.647059</td>\n",
       "      <td>143.823529</td>\n",
       "      <td>0.470588</td>\n",
       "      <td>0.717647</td>\n",
       "      <td>1.411765</td>\n",
       "      <td>0.705882</td>\n",
       "      <td>2.352941</td>\n",
       "      <td>0.411765</td>\n",
       "    </tr>\n",
       "    <tr>\n",
       "      <th>58</th>\n",
       "      <td>0.684211</td>\n",
       "      <td>0.842105</td>\n",
       "      <td>127.947368</td>\n",
       "      <td>254.526316</td>\n",
       "      <td>0.210526</td>\n",
       "      <td>0.368421</td>\n",
       "      <td>146.842105</td>\n",
       "      <td>0.263158</td>\n",
       "      <td>1.389474</td>\n",
       "      <td>1.368421</td>\n",
       "      <td>1.210526</td>\n",
       "      <td>2.421053</td>\n",
       "      <td>0.368421</td>\n",
       "    </tr>\n",
       "    <tr>\n",
       "      <th>59</th>\n",
       "      <td>0.928571</td>\n",
       "      <td>1.214286</td>\n",
       "      <td>149.214286</td>\n",
       "      <td>239.857143</td>\n",
       "      <td>0.214286</td>\n",
       "      <td>0.500000</td>\n",
       "      <td>147.571429</td>\n",
       "      <td>0.357143</td>\n",
       "      <td>1.078571</td>\n",
       "      <td>1.285714</td>\n",
       "      <td>0.500000</td>\n",
       "      <td>2.285714</td>\n",
       "      <td>0.357143</td>\n",
       "    </tr>\n",
       "    <tr>\n",
       "      <th>60</th>\n",
       "      <td>0.636364</td>\n",
       "      <td>0.818182</td>\n",
       "      <td>131.727273</td>\n",
       "      <td>245.545455</td>\n",
       "      <td>0.181818</td>\n",
       "      <td>0.454545</td>\n",
       "      <td>148.000000</td>\n",
       "      <td>0.454545</td>\n",
       "      <td>1.681818</td>\n",
       "      <td>1.454545</td>\n",
       "      <td>1.181818</td>\n",
       "      <td>2.636364</td>\n",
       "      <td>0.272727</td>\n",
       "    </tr>\n",
       "    <tr>\n",
       "      <th>61</th>\n",
       "      <td>0.750000</td>\n",
       "      <td>0.625000</td>\n",
       "      <td>138.125000</td>\n",
       "      <td>243.750000</td>\n",
       "      <td>0.125000</td>\n",
       "      <td>0.500000</td>\n",
       "      <td>145.125000</td>\n",
       "      <td>0.625000</td>\n",
       "      <td>1.712500</td>\n",
       "      <td>1.375000</td>\n",
       "      <td>0.750000</td>\n",
       "      <td>2.500000</td>\n",
       "      <td>0.125000</td>\n",
       "    </tr>\n",
       "    <tr>\n",
       "      <th>62</th>\n",
       "      <td>0.363636</td>\n",
       "      <td>0.545455</td>\n",
       "      <td>134.545455</td>\n",
       "      <td>256.636364</td>\n",
       "      <td>0.181818</td>\n",
       "      <td>0.545455</td>\n",
       "      <td>133.636364</td>\n",
       "      <td>0.181818</td>\n",
       "      <td>1.863636</td>\n",
       "      <td>1.000000</td>\n",
       "      <td>1.363636</td>\n",
       "      <td>2.454545</td>\n",
       "      <td>0.363636</td>\n",
       "    </tr>\n",
       "    <tr>\n",
       "      <th>63</th>\n",
       "      <td>0.444444</td>\n",
       "      <td>0.666667</td>\n",
       "      <td>133.555556</td>\n",
       "      <td>258.222222</td>\n",
       "      <td>0.222222</td>\n",
       "      <td>0.333333</td>\n",
       "      <td>153.666667</td>\n",
       "      <td>0.444444</td>\n",
       "      <td>1.700000</td>\n",
       "      <td>1.333333</td>\n",
       "      <td>1.444444</td>\n",
       "      <td>2.333333</td>\n",
       "      <td>0.333333</td>\n",
       "    </tr>\n",
       "    <tr>\n",
       "      <th>64</th>\n",
       "      <td>0.700000</td>\n",
       "      <td>1.200000</td>\n",
       "      <td>138.800000</td>\n",
       "      <td>274.400000</td>\n",
       "      <td>0.000000</td>\n",
       "      <td>0.600000</td>\n",
       "      <td>133.000000</td>\n",
       "      <td>0.500000</td>\n",
       "      <td>1.080000</td>\n",
       "      <td>1.200000</td>\n",
       "      <td>0.600000</td>\n",
       "      <td>2.300000</td>\n",
       "      <td>0.600000</td>\n",
       "    </tr>\n",
       "    <tr>\n",
       "      <th>65</th>\n",
       "      <td>0.500000</td>\n",
       "      <td>1.125000</td>\n",
       "      <td>138.500000</td>\n",
       "      <td>279.000000</td>\n",
       "      <td>0.250000</td>\n",
       "      <td>0.250000</td>\n",
       "      <td>146.125000</td>\n",
       "      <td>0.000000</td>\n",
       "      <td>1.075000</td>\n",
       "      <td>1.625000</td>\n",
       "      <td>1.000000</td>\n",
       "      <td>2.250000</td>\n",
       "      <td>0.500000</td>\n",
       "    </tr>\n",
       "    <tr>\n",
       "      <th>66</th>\n",
       "      <td>0.571429</td>\n",
       "      <td>0.857143</td>\n",
       "      <td>146.571429</td>\n",
       "      <td>245.714286</td>\n",
       "      <td>0.142857</td>\n",
       "      <td>0.428571</td>\n",
       "      <td>138.857143</td>\n",
       "      <td>0.428571</td>\n",
       "      <td>0.914286</td>\n",
       "      <td>1.142857</td>\n",
       "      <td>1.000000</td>\n",
       "      <td>1.857143</td>\n",
       "      <td>0.571429</td>\n",
       "    </tr>\n",
       "    <tr>\n",
       "      <th>67</th>\n",
       "      <td>0.666667</td>\n",
       "      <td>0.666667</td>\n",
       "      <td>127.777778</td>\n",
       "      <td>286.777778</td>\n",
       "      <td>0.111111</td>\n",
       "      <td>0.444444</td>\n",
       "      <td>135.555556</td>\n",
       "      <td>0.333333</td>\n",
       "      <td>0.988889</td>\n",
       "      <td>1.222222</td>\n",
       "      <td>1.333333</td>\n",
       "      <td>2.444444</td>\n",
       "      <td>0.333333</td>\n",
       "    </tr>\n",
       "    <tr>\n",
       "      <th>68</th>\n",
       "      <td>0.750000</td>\n",
       "      <td>1.500000</td>\n",
       "      <td>140.500000</td>\n",
       "      <td>238.750000</td>\n",
       "      <td>0.500000</td>\n",
       "      <td>0.500000</td>\n",
       "      <td>139.250000</td>\n",
       "      <td>0.250000</td>\n",
       "      <td>1.875000</td>\n",
       "      <td>1.250000</td>\n",
       "      <td>0.750000</td>\n",
       "      <td>2.750000</td>\n",
       "      <td>0.500000</td>\n",
       "    </tr>\n",
       "    <tr>\n",
       "      <th>69</th>\n",
       "      <td>0.666667</td>\n",
       "      <td>2.666667</td>\n",
       "      <td>146.666667</td>\n",
       "      <td>242.333333</td>\n",
       "      <td>0.333333</td>\n",
       "      <td>0.333333</td>\n",
       "      <td>142.666667</td>\n",
       "      <td>0.000000</td>\n",
       "      <td>1.300000</td>\n",
       "      <td>1.333333</td>\n",
       "      <td>2.000000</td>\n",
       "      <td>2.333333</td>\n",
       "      <td>0.666667</td>\n",
       "    </tr>\n",
       "    <tr>\n",
       "      <th>70</th>\n",
       "      <td>1.000000</td>\n",
       "      <td>0.750000</td>\n",
       "      <td>147.750000</td>\n",
       "      <td>252.500000</td>\n",
       "      <td>0.000000</td>\n",
       "      <td>0.500000</td>\n",
       "      <td>122.250000</td>\n",
       "      <td>0.500000</td>\n",
       "      <td>1.975000</td>\n",
       "      <td>1.000000</td>\n",
       "      <td>1.000000</td>\n",
       "      <td>2.500000</td>\n",
       "      <td>0.250000</td>\n",
       "    </tr>\n",
       "    <tr>\n",
       "      <th>71</th>\n",
       "      <td>0.000000</td>\n",
       "      <td>1.000000</td>\n",
       "      <td>127.333333</td>\n",
       "      <td>238.666667</td>\n",
       "      <td>0.333333</td>\n",
       "      <td>0.666667</td>\n",
       "      <td>139.000000</td>\n",
       "      <td>0.000000</td>\n",
       "      <td>0.666667</td>\n",
       "      <td>1.666667</td>\n",
       "      <td>1.000000</td>\n",
       "      <td>2.000000</td>\n",
       "      <td>1.000000</td>\n",
       "    </tr>\n",
       "    <tr>\n",
       "      <th>74</th>\n",
       "      <td>0.000000</td>\n",
       "      <td>1.000000</td>\n",
       "      <td>120.000000</td>\n",
       "      <td>269.000000</td>\n",
       "      <td>0.000000</td>\n",
       "      <td>0.000000</td>\n",
       "      <td>121.000000</td>\n",
       "      <td>1.000000</td>\n",
       "      <td>0.200000</td>\n",
       "      <td>2.000000</td>\n",
       "      <td>1.000000</td>\n",
       "      <td>2.000000</td>\n",
       "      <td>1.000000</td>\n",
       "    </tr>\n",
       "    <tr>\n",
       "      <th>76</th>\n",
       "      <td>0.000000</td>\n",
       "      <td>2.000000</td>\n",
       "      <td>140.000000</td>\n",
       "      <td>197.000000</td>\n",
       "      <td>0.000000</td>\n",
       "      <td>2.000000</td>\n",
       "      <td>116.000000</td>\n",
       "      <td>0.000000</td>\n",
       "      <td>1.100000</td>\n",
       "      <td>1.000000</td>\n",
       "      <td>0.000000</td>\n",
       "      <td>2.000000</td>\n",
       "      <td>1.000000</td>\n",
       "    </tr>\n",
       "    <tr>\n",
       "      <th>77</th>\n",
       "      <td>1.000000</td>\n",
       "      <td>0.000000</td>\n",
       "      <td>125.000000</td>\n",
       "      <td>304.000000</td>\n",
       "      <td>0.000000</td>\n",
       "      <td>0.000000</td>\n",
       "      <td>162.000000</td>\n",
       "      <td>1.000000</td>\n",
       "      <td>0.000000</td>\n",
       "      <td>2.000000</td>\n",
       "      <td>3.000000</td>\n",
       "      <td>2.000000</td>\n",
       "      <td>0.000000</td>\n",
       "    </tr>\n",
       "  </tbody>\n",
       "</table>\n",
       "</div>"
      ],
      "text/plain": [
       "          sex        cp    trestbps        chol       fbs   restecg  \\\n",
       "age                                                                   \n",
       "29   1.000000  1.000000  130.000000  204.000000  0.000000  0.000000   \n",
       "34   0.500000  2.000000  118.000000  196.000000  0.000000  0.500000   \n",
       "35   0.750000  0.250000  126.500000  213.750000  0.000000  0.750000   \n",
       "37   0.500000  2.000000  125.000000  232.500000  0.000000  1.000000   \n",
       "38   1.000000  2.333333  132.000000  193.666667  0.000000  1.000000   \n",
       "39   0.500000  1.500000  122.500000  239.750000  0.000000  0.750000   \n",
       "40   1.000000  1.000000  134.000000  196.333333  0.000000  0.666667   \n",
       "41   0.600000  1.200000  119.000000  220.700000  0.000000  0.600000   \n",
       "42   0.750000  1.250000  127.000000  246.750000  0.125000  0.750000   \n",
       "43   0.750000  0.500000  126.375000  256.750000  0.250000  0.625000   \n",
       "44   0.818182  1.181818  120.727273  221.363636  0.000000  0.636364   \n",
       "45   0.625000  0.750000  122.375000  247.375000  0.000000  0.250000   \n",
       "46   0.571429  0.857143  128.000000  230.285714  0.142857  0.571429   \n",
       "47   1.000000  1.200000  119.600000  246.400000  0.000000  0.600000   \n",
       "48   0.857143  0.857143  124.285714  250.857143  0.285714  0.428571   \n",
       "49   0.600000  1.200000  126.400000  228.600000  0.000000  0.800000   \n",
       "50   0.571429  1.000000  130.428571  227.000000  0.000000  0.571429   \n",
       "51   0.666667  1.416667  124.500000  258.666667  0.083333  0.500000   \n",
       "52   0.923077  1.153846  130.692308  228.230769  0.384615  0.846154   \n",
       "53   0.625000  0.750000  132.625000  233.500000  0.375000  0.125000   \n",
       "54   0.687500  1.062500  129.125000  253.312500  0.125000  0.437500   \n",
       "55   0.500000  0.375000  142.125000  280.625000  0.000000  1.000000   \n",
       "56   0.727273  0.818182  134.636364  259.363636  0.363636  0.181818   \n",
       "57   0.764706  0.529412  136.058824  238.529412  0.117647  0.647059   \n",
       "58   0.684211  0.842105  127.947368  254.526316  0.210526  0.368421   \n",
       "59   0.928571  1.214286  149.214286  239.857143  0.214286  0.500000   \n",
       "60   0.636364  0.818182  131.727273  245.545455  0.181818  0.454545   \n",
       "61   0.750000  0.625000  138.125000  243.750000  0.125000  0.500000   \n",
       "62   0.363636  0.545455  134.545455  256.636364  0.181818  0.545455   \n",
       "63   0.444444  0.666667  133.555556  258.222222  0.222222  0.333333   \n",
       "64   0.700000  1.200000  138.800000  274.400000  0.000000  0.600000   \n",
       "65   0.500000  1.125000  138.500000  279.000000  0.250000  0.250000   \n",
       "66   0.571429  0.857143  146.571429  245.714286  0.142857  0.428571   \n",
       "67   0.666667  0.666667  127.777778  286.777778  0.111111  0.444444   \n",
       "68   0.750000  1.500000  140.500000  238.750000  0.500000  0.500000   \n",
       "69   0.666667  2.666667  146.666667  242.333333  0.333333  0.333333   \n",
       "70   1.000000  0.750000  147.750000  252.500000  0.000000  0.500000   \n",
       "71   0.000000  1.000000  127.333333  238.666667  0.333333  0.666667   \n",
       "74   0.000000  1.000000  120.000000  269.000000  0.000000  0.000000   \n",
       "76   0.000000  2.000000  140.000000  197.000000  0.000000  2.000000   \n",
       "77   1.000000  0.000000  125.000000  304.000000  0.000000  0.000000   \n",
       "\n",
       "        thalach     exang   oldpeak     slope        ca      thal    target  \n",
       "age                                                                          \n",
       "29   202.000000  0.000000  0.000000  2.000000  0.000000  2.000000  1.000000  \n",
       "34   183.000000  0.000000  0.350000  2.000000  0.000000  2.000000  1.000000  \n",
       "35   160.500000  0.500000  0.750000  1.750000  0.000000  2.500000  0.500000  \n",
       "37   178.500000  0.000000  1.750000  1.000000  0.000000  2.000000  1.000000  \n",
       "38   176.000000  0.333333  1.266667  1.666667  2.666667  2.333333  0.666667  \n",
       "39   163.250000  0.000000  0.300000  1.500000  0.000000  2.250000  0.750000  \n",
       "40   157.666667  0.666667  1.133333  1.666667  0.000000  3.000000  0.333333  \n",
       "41   164.700000  0.100000  0.340000  1.800000  0.100000  2.000000  0.900000  \n",
       "42   160.250000  0.125000  0.500000  1.375000  0.250000  2.000000  0.875000  \n",
       "43   154.875000  0.375000  1.300000  1.375000  0.625000  2.500000  0.625000  \n",
       "44   168.818182  0.181818  0.372727  1.636364  0.272727  2.000000  0.727273  \n",
       "45   155.875000  0.375000  0.625000  1.250000  0.375000  2.250000  0.750000  \n",
       "46   150.142857  0.428571  1.085714  1.285714  0.285714  2.428571  0.571429  \n",
       "47   149.600000  0.200000  0.220000  1.800000  0.200000  2.000000  0.600000  \n",
       "48   166.285714  0.142857  0.271429  1.428571  0.571429  2.428571  0.571429  \n",
       "49   152.200000  0.000000  0.680000  1.600000  1.200000  2.200000  0.600000  \n",
       "50   151.285714  0.142857  0.971429  1.428571  0.142857  2.428571  0.571429  \n",
       "51   148.500000  0.583333  1.266667  1.666667  0.500000  2.333333  0.750000  \n",
       "52   167.230769  0.153846  0.376923  1.692308  0.923077  2.153846  0.692308  \n",
       "53   138.000000  0.375000  0.837500  1.250000  0.625000  2.125000  0.750000  \n",
       "54   147.750000  0.312500  0.931250  1.437500  0.625000  2.437500  0.625000  \n",
       "55   139.625000  0.625000  1.950000  1.125000  0.375000  2.500000  0.375000  \n",
       "56   145.636364  0.545455  1.400000  0.909091  0.636364  2.272727  0.454545  \n",
       "57   143.823529  0.470588  0.717647  1.411765  0.705882  2.352941  0.411765  \n",
       "58   146.842105  0.263158  1.389474  1.368421  1.210526  2.421053  0.368421  \n",
       "59   147.571429  0.357143  1.078571  1.285714  0.500000  2.285714  0.357143  \n",
       "60   148.000000  0.454545  1.681818  1.454545  1.181818  2.636364  0.272727  \n",
       "61   145.125000  0.625000  1.712500  1.375000  0.750000  2.500000  0.125000  \n",
       "62   133.636364  0.181818  1.863636  1.000000  1.363636  2.454545  0.363636  \n",
       "63   153.666667  0.444444  1.700000  1.333333  1.444444  2.333333  0.333333  \n",
       "64   133.000000  0.500000  1.080000  1.200000  0.600000  2.300000  0.600000  \n",
       "65   146.125000  0.000000  1.075000  1.625000  1.000000  2.250000  0.500000  \n",
       "66   138.857143  0.428571  0.914286  1.142857  1.000000  1.857143  0.571429  \n",
       "67   135.555556  0.333333  0.988889  1.222222  1.333333  2.444444  0.333333  \n",
       "68   139.250000  0.250000  1.875000  1.250000  0.750000  2.750000  0.500000  \n",
       "69   142.666667  0.000000  1.300000  1.333333  2.000000  2.333333  0.666667  \n",
       "70   122.250000  0.500000  1.975000  1.000000  1.000000  2.500000  0.250000  \n",
       "71   139.000000  0.000000  0.666667  1.666667  1.000000  2.000000  1.000000  \n",
       "74   121.000000  1.000000  0.200000  2.000000  1.000000  2.000000  1.000000  \n",
       "76   116.000000  0.000000  1.100000  1.000000  0.000000  2.000000  1.000000  \n",
       "77   162.000000  1.000000  0.000000  2.000000  3.000000  2.000000  0.000000  "
      ]
     },
     "execution_count": 18,
     "metadata": {},
     "output_type": "execute_result"
    }
   ],
   "source": [
    "# Get the average values for each age (e.g. 0.5 average on sex will mean that for that age number there are equally many men and women in the dataset)\n",
    "data.groupby('age').mean()"
   ]
  },
  {
   "cell_type": "markdown",
   "metadata": {
    "id": "aDySVM1KDNc5"
   },
   "source": [
    "# Exercise - Data accessing in Heart disease patients (E1)\n",
    "\n",
    "1. Calculate the percentage of patients who experienced exercise-induced angina.\n",
    "2. Calculate the average age of patients with more than 2 major vessels.\n",
    "3. Find the average resting blood pressure of patients with more than 1 major vessel.\n",
    "4. Find the top 5 patients with the highest cholesterol levels, and display their age, sex, and cholesterol level in descending order of cholesterol level."
   ]
  },
  {
   "cell_type": "code",
   "execution_count": 19,
   "metadata": {
    "id": "e52v4YyWDM7s"
   },
   "outputs": [
    {
     "data": {
      "text/plain": [
       "32.67326732673268"
      ]
     },
     "execution_count": 19,
     "metadata": {},
     "output_type": "execute_result"
    }
   ],
   "source": [
    "exang_percentage = ( data['exang'].sum() / len(data) ) * 100\n",
    "\n",
    "exang_percentage"
   ]
  },
  {
   "cell_type": "code",
   "execution_count": 20,
   "metadata": {},
   "outputs": [
    {
     "data": {
      "text/plain": [
       "57.08"
      ]
     },
     "execution_count": 20,
     "metadata": {},
     "output_type": "execute_result"
    }
   ],
   "source": [
    "avg_age_2_more_major_vessels = data[ data['ca'] > 2 ]['age'].mean()\n",
    "\n",
    "avg_age_2_more_major_vessels"
   ]
  },
  {
   "cell_type": "code",
   "execution_count": 21,
   "metadata": {},
   "outputs": [
    {
     "data": {
      "text/plain": [
       "135.96825396825398"
      ]
     },
     "execution_count": 21,
     "metadata": {},
     "output_type": "execute_result"
    }
   ],
   "source": [
    "avg_rbp_1_more_major_vessels = data[ data['ca'] > 1 ]['trestbps'].mean()\n",
    "\n",
    "avg_rbp_1_more_major_vessels"
   ]
  },
  {
   "cell_type": "code",
   "execution_count": 22,
   "metadata": {},
   "outputs": [
    {
     "data": {
      "text/html": [
       "<div>\n",
       "<style scoped>\n",
       "    .dataframe tbody tr th:only-of-type {\n",
       "        vertical-align: middle;\n",
       "    }\n",
       "\n",
       "    .dataframe tbody tr th {\n",
       "        vertical-align: top;\n",
       "    }\n",
       "\n",
       "    .dataframe thead th {\n",
       "        text-align: right;\n",
       "    }\n",
       "</style>\n",
       "<table border=\"1\" class=\"dataframe\">\n",
       "  <thead>\n",
       "    <tr style=\"text-align: right;\">\n",
       "      <th></th>\n",
       "      <th>age</th>\n",
       "      <th>sex</th>\n",
       "      <th>chol</th>\n",
       "    </tr>\n",
       "  </thead>\n",
       "  <tbody>\n",
       "    <tr>\n",
       "      <th>85</th>\n",
       "      <td>67</td>\n",
       "      <td>0</td>\n",
       "      <td>564</td>\n",
       "    </tr>\n",
       "    <tr>\n",
       "      <th>28</th>\n",
       "      <td>65</td>\n",
       "      <td>0</td>\n",
       "      <td>417</td>\n",
       "    </tr>\n",
       "    <tr>\n",
       "      <th>246</th>\n",
       "      <td>56</td>\n",
       "      <td>0</td>\n",
       "      <td>409</td>\n",
       "    </tr>\n",
       "    <tr>\n",
       "      <th>220</th>\n",
       "      <td>63</td>\n",
       "      <td>0</td>\n",
       "      <td>407</td>\n",
       "    </tr>\n",
       "    <tr>\n",
       "      <th>96</th>\n",
       "      <td>62</td>\n",
       "      <td>0</td>\n",
       "      <td>394</td>\n",
       "    </tr>\n",
       "  </tbody>\n",
       "</table>\n",
       "</div>"
      ],
      "text/plain": [
       "     age  sex  chol\n",
       "85    67    0   564\n",
       "28    65    0   417\n",
       "246   56    0   409\n",
       "220   63    0   407\n",
       "96    62    0   394"
      ]
     },
     "execution_count": 22,
     "metadata": {},
     "output_type": "execute_result"
    }
   ],
   "source": [
    "top_5_highest_chol = data[['age','sex', 'chol']].sort_values(by='chol',ascending=False).head()\n",
    "\n",
    "top_5_highest_chol"
   ]
  },
  {
   "cell_type": "markdown",
   "metadata": {
    "id": "L-Qjd0vPElsy"
   },
   "source": [
    "# Exercise - Data Science Salaries in pandas (E2)\n",
    "\n",
    "0. Load the ds_salaries dataset into a dataframe\n",
    "\n",
    "1. Find the average salary for each experience level.\n",
    "\n",
    "2. Find the average salary for each employment type in the United States.\n",
    "\n",
    "3. Find the top 5 job titles with the highest average salary.\n",
    "\n",
    "4. Calculate the percentage of employees who worked fully remotely in each company size category.\n",
    "\n",
    "5. Find the top 3 countries with the highest average salary in USD."
   ]
  },
  {
   "attachments": {
    "5a103e1b-95fc-4967-9263-ba5c797f2a97.png": {
     "image/png": "[encoded data removed]"
    }
   },
   "cell_type": "markdown",
   "metadata": {
    "id": "V9FZDmIg2ZtD"
   },
   "source": [
    "![download.png](attachment:5a103e1b-95fc-4967-9263-ba5c797f2a97.png)Dataset Description:\n",
    "\n",
    "![image.png](data:image/png;base64,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)"
   ]
  },
  {
   "cell_type": "code",
   "execution_count": 23,
   "metadata": {},
   "outputs": [
    {
     "data": {
      "text/html": [
       "<div>\n",
       "<style scoped>\n",
       "    .dataframe tbody tr th:only-of-type {\n",
       "        vertical-align: middle;\n",
       "    }\n",
       "\n",
       "    .dataframe tbody tr th {\n",
       "        vertical-align: top;\n",
       "    }\n",
       "\n",
       "    .dataframe thead th {\n",
       "        text-align: right;\n",
       "    }\n",
       "</style>\n",
       "<table border=\"1\" class=\"dataframe\">\n",
       "  <thead>\n",
       "    <tr style=\"text-align: right;\">\n",
       "      <th></th>\n",
       "      <th>Unnamed: 0</th>\n",
       "      <th>work_year</th>\n",
       "      <th>experience_level</th>\n",
       "      <th>employment_type</th>\n",
       "      <th>job_title</th>\n",
       "      <th>salary</th>\n",
       "      <th>salary_currency</th>\n",
       "      <th>salary_in_usd</th>\n",
       "      <th>employee_residence</th>\n",
       "      <th>remote_ratio</th>\n",
       "      <th>company_location</th>\n",
       "      <th>company_size</th>\n",
       "    </tr>\n",
       "  </thead>\n",
       "  <tbody>\n",
       "    <tr>\n",
       "      <th>0</th>\n",
       "      <td>0</td>\n",
       "      <td>2020</td>\n",
       "      <td>MI</td>\n",
       "      <td>FT</td>\n",
       "      <td>Data Scientist</td>\n",
       "      <td>70000</td>\n",
       "      <td>EUR</td>\n",
       "      <td>79833</td>\n",
       "      <td>DE</td>\n",
       "      <td>0</td>\n",
       "      <td>DE</td>\n",
       "      <td>L</td>\n",
       "    </tr>\n",
       "    <tr>\n",
       "      <th>1</th>\n",
       "      <td>1</td>\n",
       "      <td>2020</td>\n",
       "      <td>SE</td>\n",
       "      <td>FT</td>\n",
       "      <td>Machine Learning Scientist</td>\n",
       "      <td>260000</td>\n",
       "      <td>USD</td>\n",
       "      <td>260000</td>\n",
       "      <td>JP</td>\n",
       "      <td>0</td>\n",
       "      <td>JP</td>\n",
       "      <td>S</td>\n",
       "    </tr>\n",
       "    <tr>\n",
       "      <th>2</th>\n",
       "      <td>2</td>\n",
       "      <td>2020</td>\n",
       "      <td>SE</td>\n",
       "      <td>FT</td>\n",
       "      <td>Big Data Engineer</td>\n",
       "      <td>85000</td>\n",
       "      <td>GBP</td>\n",
       "      <td>109024</td>\n",
       "      <td>GB</td>\n",
       "      <td>50</td>\n",
       "      <td>GB</td>\n",
       "      <td>M</td>\n",
       "    </tr>\n",
       "    <tr>\n",
       "      <th>3</th>\n",
       "      <td>3</td>\n",
       "      <td>2020</td>\n",
       "      <td>MI</td>\n",
       "      <td>FT</td>\n",
       "      <td>Product Data Analyst</td>\n",
       "      <td>20000</td>\n",
       "      <td>USD</td>\n",
       "      <td>20000</td>\n",
       "      <td>HN</td>\n",
       "      <td>0</td>\n",
       "      <td>HN</td>\n",
       "      <td>S</td>\n",
       "    </tr>\n",
       "    <tr>\n",
       "      <th>4</th>\n",
       "      <td>4</td>\n",
       "      <td>2020</td>\n",
       "      <td>SE</td>\n",
       "      <td>FT</td>\n",
       "      <td>Machine Learning Engineer</td>\n",
       "      <td>150000</td>\n",
       "      <td>USD</td>\n",
       "      <td>150000</td>\n",
       "      <td>US</td>\n",
       "      <td>50</td>\n",
       "      <td>US</td>\n",
       "      <td>L</td>\n",
       "    </tr>\n",
       "    <tr>\n",
       "      <th>...</th>\n",
       "      <td>...</td>\n",
       "      <td>...</td>\n",
       "      <td>...</td>\n",
       "      <td>...</td>\n",
       "      <td>...</td>\n",
       "      <td>...</td>\n",
       "      <td>...</td>\n",
       "      <td>...</td>\n",
       "      <td>...</td>\n",
       "      <td>...</td>\n",
       "      <td>...</td>\n",
       "      <td>...</td>\n",
       "    </tr>\n",
       "    <tr>\n",
       "      <th>602</th>\n",
       "      <td>602</td>\n",
       "      <td>2022</td>\n",
       "      <td>SE</td>\n",
       "      <td>FT</td>\n",
       "      <td>Data Engineer</td>\n",
       "      <td>154000</td>\n",
       "      <td>USD</td>\n",
       "      <td>154000</td>\n",
       "      <td>US</td>\n",
       "      <td>100</td>\n",
       "      <td>US</td>\n",
       "      <td>M</td>\n",
       "    </tr>\n",
       "    <tr>\n",
       "      <th>603</th>\n",
       "      <td>603</td>\n",
       "      <td>2022</td>\n",
       "      <td>SE</td>\n",
       "      <td>FT</td>\n",
       "      <td>Data Engineer</td>\n",
       "      <td>126000</td>\n",
       "      <td>USD</td>\n",
       "      <td>126000</td>\n",
       "      <td>US</td>\n",
       "      <td>100</td>\n",
       "      <td>US</td>\n",
       "      <td>M</td>\n",
       "    </tr>\n",
       "    <tr>\n",
       "      <th>604</th>\n",
       "      <td>604</td>\n",
       "      <td>2022</td>\n",
       "      <td>SE</td>\n",
       "      <td>FT</td>\n",
       "      <td>Data Analyst</td>\n",
       "      <td>129000</td>\n",
       "      <td>USD</td>\n",
       "      <td>129000</td>\n",
       "      <td>US</td>\n",
       "      <td>0</td>\n",
       "      <td>US</td>\n",
       "      <td>M</td>\n",
       "    </tr>\n",
       "    <tr>\n",
       "      <th>605</th>\n",
       "      <td>605</td>\n",
       "      <td>2022</td>\n",
       "      <td>SE</td>\n",
       "      <td>FT</td>\n",
       "      <td>Data Analyst</td>\n",
       "      <td>150000</td>\n",
       "      <td>USD</td>\n",
       "      <td>150000</td>\n",
       "      <td>US</td>\n",
       "      <td>100</td>\n",
       "      <td>US</td>\n",
       "      <td>M</td>\n",
       "    </tr>\n",
       "    <tr>\n",
       "      <th>606</th>\n",
       "      <td>606</td>\n",
       "      <td>2022</td>\n",
       "      <td>MI</td>\n",
       "      <td>FT</td>\n",
       "      <td>AI Scientist</td>\n",
       "      <td>200000</td>\n",
       "      <td>USD</td>\n",
       "      <td>200000</td>\n",
       "      <td>IN</td>\n",
       "      <td>100</td>\n",
       "      <td>US</td>\n",
       "      <td>L</td>\n",
       "    </tr>\n",
       "  </tbody>\n",
       "</table>\n",
       "<p>607 rows × 12 columns</p>\n",
       "</div>"
      ],
      "text/plain": [
       "     Unnamed: 0  work_year experience_level employment_type  \\\n",
       "0             0       2020               MI              FT   \n",
       "1             1       2020               SE              FT   \n",
       "2             2       2020               SE              FT   \n",
       "3             3       2020               MI              FT   \n",
       "4             4       2020               SE              FT   \n",
       "..          ...        ...              ...             ...   \n",
       "602         602       2022               SE              FT   \n",
       "603         603       2022               SE              FT   \n",
       "604         604       2022               SE              FT   \n",
       "605         605       2022               SE              FT   \n",
       "606         606       2022               MI              FT   \n",
       "\n",
       "                      job_title  salary salary_currency  salary_in_usd  \\\n",
       "0                Data Scientist   70000             EUR          79833   \n",
       "1    Machine Learning Scientist  260000             USD         260000   \n",
       "2             Big Data Engineer   85000             GBP         109024   \n",
       "3          Product Data Analyst   20000             USD          20000   \n",
       "4     Machine Learning Engineer  150000             USD         150000   \n",
       "..                          ...     ...             ...            ...   \n",
       "602               Data Engineer  154000             USD         154000   \n",
       "603               Data Engineer  126000             USD         126000   \n",
       "604                Data Analyst  129000             USD         129000   \n",
       "605                Data Analyst  150000             USD         150000   \n",
       "606                AI Scientist  200000             USD         200000   \n",
       "\n",
       "    employee_residence  remote_ratio company_location company_size  \n",
       "0                   DE             0               DE            L  \n",
       "1                   JP             0               JP            S  \n",
       "2                   GB            50               GB            M  \n",
       "3                   HN             0               HN            S  \n",
       "4                   US            50               US            L  \n",
       "..                 ...           ...              ...          ...  \n",
       "602                 US           100               US            M  \n",
       "603                 US           100               US            M  \n",
       "604                 US             0               US            M  \n",
       "605                 US           100               US            M  \n",
       "606                 IN           100               US            L  \n",
       "\n",
       "[607 rows x 12 columns]"
      ]
     },
     "execution_count": 23,
     "metadata": {},
     "output_type": "execute_result"
    }
   ],
   "source": [
    "salaries_df = pd.read_csv(\"ds_salaries.csv\")\n",
    "\n",
    "salaries_df"
   ]
  },
  {
   "cell_type": "code",
   "execution_count": 24,
   "metadata": {},
   "outputs": [
    {
     "data": {
      "text/plain": [
       "experience_level\n",
       "EN     61643.318182\n",
       "EX    199392.038462\n",
       "MI     87996.056338\n",
       "SE    138617.292857\n",
       "Name: salary_in_usd, dtype: float64"
      ]
     },
     "execution_count": 24,
     "metadata": {},
     "output_type": "execute_result"
    }
   ],
   "source": [
    "avg_salaries_exp_lvl = salaries_df.groupby('experience_level')['salary_in_usd'].mean()\n",
    "\n",
    "avg_salaries_exp_lvl"
   ]
  },
  {
   "cell_type": "code",
   "execution_count": 25,
   "metadata": {},
   "outputs": [
    {
     "data": {
      "text/plain": [
       "employment_type\n",
       "CT    222750.000000\n",
       "FL     60000.000000\n",
       "FT    144637.624277\n",
       "PT     12000.000000\n",
       "Name: salary_in_usd, dtype: float64"
      ]
     },
     "execution_count": 25,
     "metadata": {},
     "output_type": "execute_result"
    }
   ],
   "source": [
    "avg_salary_emp_us = salaries_df[salaries_df['company_location'] == 'US'].groupby('employment_type')['salary_in_usd'].mean()\n",
    "\n",
    "avg_salary_emp_us"
   ]
  },
  {
   "cell_type": "code",
   "execution_count": 26,
   "metadata": {},
   "outputs": [
    {
     "data": {
      "text/plain": [
       "job_title\n",
       "Data Analytics Lead         405000.000000\n",
       "Principal Data Engineer     328333.333333\n",
       "Financial Data Analyst      275000.000000\n",
       "Principal Data Scientist    215242.428571\n",
       "Director of Data Science    195074.000000\n",
       "Name: salary_in_usd, dtype: float64"
      ]
     },
     "execution_count": 26,
     "metadata": {},
     "output_type": "execute_result"
    }
   ],
   "source": [
    "top_5_highest_salary_jobs = salaries_df.groupby('job_title')['salary_in_usd'].mean().sort_values(ascending=False).head()\n",
    "top_5_highest_salary_jobs"
   ]
  },
  {
   "cell_type": "code",
   "execution_count": 27,
   "metadata": {},
   "outputs": [
    {
     "data": {
      "text/plain": [
       "company_size\n",
       "L    53.535354\n",
       "M    69.325153\n",
       "S    59.036145\n",
       "Name: remote_ratio, dtype: float64"
      ]
     },
     "execution_count": 27,
     "metadata": {},
     "output_type": "execute_result"
    }
   ],
   "source": [
    "remote_percentage = salaries_df[salaries_df['remote_ratio'] == 100].groupby('company_size')['remote_ratio'].count() / salaries_df.groupby('company_size')['remote_ratio'].count() * 100\n",
    "\n",
    "remote_percentage"
   ]
  },
  {
   "cell_type": "code",
   "execution_count": 28,
   "metadata": {},
   "outputs": [
    {
     "data": {
      "text/plain": [
       "company_location\n",
       "RU    157500.000000\n",
       "US    144055.261972\n",
       "NZ    125000.000000\n",
       "Name: salary_in_usd, dtype: float64"
      ]
     },
     "execution_count": 28,
     "metadata": {},
     "output_type": "execute_result"
    }
   ],
   "source": [
    "top_3_countries = salaries_df.groupby('company_location')['salary_in_usd'].mean().sort_values(ascending=False).head(3)\n",
    "\n",
    "top_3_countries"
   ]
  },
  {
   "cell_type": "markdown",
   "metadata": {
    "id": "7Y0PWJ-GF3Qh"
   },
   "source": [
    "# Data Cleaning\n"
   ]
  },
  {
   "cell_type": "markdown",
   "metadata": {
    "id": "DtyBBqUGPjfg"
   },
   "source": [
    "In order to make sense of our data we often need to clean it first.\n",
    "Data cleaning can generally be summarized as bringing your data into a form that is easily explorable. Having your data in a clean form should save you a lot of trouble and time when doing your investigations.\n",
    "\n",
    "On top of that, the results of your analysis may become way more valuable if you get rid of all sorts of noise that can be found in your initial data.\n",
    "\n",
    "Examples of data cleaning:\n",
    "*   Finding structure for your data - if you were to analyze an entire book, you would probably not want to work with a single string containing all the text data. Simply trying to access and view subparts of the text would be a pain.\n",
    "\n",
    "*generally apply for numeric data*\n",
    "*   Getting rid of empty/NaN entries - you don't want these polluting your data\n",
    "*   Sometimes getting rid of 0 values for numeric data\n",
    "\n",
    "*generally apply for text data*\n",
    "*   Separating your texts into pages/sentences/words\n",
    "*   Bringing all of your text data into the same case sensitivity\n",
    "*   Getting rid of punctuation\n",
    "*   Getting rid of frequent words that hold little meaning for our investigation (words like 'the', 'and', etc.)\n",
    "*   Other forms of text normalization (stemming, lemmatization - we'll be touching on them in another lab)\n"
   ]
  },
  {
   "cell_type": "markdown",
   "metadata": {
    "id": "Xro7s-sZGPfU"
   },
   "source": [
    "### Poem"
   ]
  },
  {
   "cell_type": "markdown",
   "metadata": {
    "id": "eFoy7W3Iq4gX"
   },
   "source": [
    "Say we have this short poem:"
   ]
  },
  {
   "cell_type": "code",
   "execution_count": 29,
   "metadata": {
    "id": "im2xV_BsF9Ns"
   },
   "outputs": [],
   "source": [
    "poem = \"\"\"Because I could not stop for Death -\",\n",
    "          \"He kindly stopped for me -\",\n",
    "          \"The Carriage held but just Ourselves -\",\n",
    "          \"and Immortality\"\"\"\n"
   ]
  },
  {
   "cell_type": "markdown",
   "metadata": {
    "id": "qhOS7mlsd0FF"
   },
   "source": [
    "Let's import it into a dataframe where each word will be a row of the df"
   ]
  },
  {
   "cell_type": "code",
   "execution_count": 30,
   "metadata": {
    "colab": {
     "base_uri": "https://localhost:8080/"
    },
    "id": "pxLjAS2wbmXt",
    "outputId": "6abb19e8-aa12-4627-d1cc-c3ee9f8d7630"
   },
   "outputs": [
    {
     "name": "stderr",
     "output_type": "stream",
     "text": [
      "ERROR: Invalid requirement: '#'\n",
      "[nltk_data] Downloading package punkt to\n",
      "[nltk_data]     C:\\Users\\sergiu.varga\\AppData\\Roaming\\nltk_data...\n",
      "[nltk_data]   Package punkt is already up-to-date!\n",
      "[nltk_data] Downloading package punkt_tab to\n",
      "[nltk_data]     C:\\Users\\sergiu.varga\\AppData\\Roaming\\nltk_data...\n",
      "[nltk_data]   Package punkt_tab is already up-to-date!\n"
     ]
    },
    {
     "data": {
      "text/plain": [
       "True"
      ]
     },
     "execution_count": 30,
     "metadata": {},
     "output_type": "execute_result"
    }
   ],
   "source": [
    "!pip install nltk # nltk will help us tokenize our words, but we need to install the package first\n",
    "import nltk\n",
    "import re\n",
    "from nltk.tokenize import word_tokenize\n",
    "\n",
    "nltk.download('punkt')\n",
    "nltk.download('punkt_tab')"
   ]
  },
  {
   "cell_type": "code",
   "execution_count": 31,
   "metadata": {
    "colab": {
     "base_uri": "https://localhost:8080/"
    },
    "id": "61lv5_7ybOMc",
    "outputId": "74d79899-8bef-4857-ca39-649098a46c57"
   },
   "outputs": [
    {
     "name": "stdout",
     "output_type": "stream",
     "text": [
      "['Because', 'I', 'could', 'not', 'stop', 'for', 'Death', 'He', 'kindly', 'stopped', 'for', 'me', 'The', 'Carriage', 'held', 'but', 'just', 'Ourselves', 'and', 'Immortality']\n"
     ]
    }
   ],
   "source": [
    "# First we split string into words\n",
    "poem_words = [word for word in word_tokenize(poem)]\n",
    "\n",
    "# Remove punctuation\n",
    "poem_words = [word for word in poem_words if not re.match(r'[^\\w\\s]', word)]\n",
    "\n",
    "print(poem_words)"
   ]
  },
  {
   "cell_type": "code",
   "execution_count": 32,
   "metadata": {
    "colab": {
     "base_uri": "https://localhost:8080/",
     "height": 363
    },
    "id": "N0fg5CKrGSo9",
    "outputId": "65c3a417-4e12-4c5d-e742-2b5f6e0f6e17"
   },
   "outputs": [
    {
     "data": {
      "text/html": [
       "<div>\n",
       "<style scoped>\n",
       "    .dataframe tbody tr th:only-of-type {\n",
       "        vertical-align: middle;\n",
       "    }\n",
       "\n",
       "    .dataframe tbody tr th {\n",
       "        vertical-align: top;\n",
       "    }\n",
       "\n",
       "    .dataframe thead th {\n",
       "        text-align: right;\n",
       "    }\n",
       "</style>\n",
       "<table border=\"1\" class=\"dataframe\">\n",
       "  <thead>\n",
       "    <tr style=\"text-align: right;\">\n",
       "      <th></th>\n",
       "      <th>word</th>\n",
       "    </tr>\n",
       "  </thead>\n",
       "  <tbody>\n",
       "    <tr>\n",
       "      <th>0</th>\n",
       "      <td>Because</td>\n",
       "    </tr>\n",
       "    <tr>\n",
       "      <th>1</th>\n",
       "      <td>I</td>\n",
       "    </tr>\n",
       "    <tr>\n",
       "      <th>2</th>\n",
       "      <td>could</td>\n",
       "    </tr>\n",
       "    <tr>\n",
       "      <th>3</th>\n",
       "      <td>not</td>\n",
       "    </tr>\n",
       "    <tr>\n",
       "      <th>4</th>\n",
       "      <td>stop</td>\n",
       "    </tr>\n",
       "    <tr>\n",
       "      <th>5</th>\n",
       "      <td>for</td>\n",
       "    </tr>\n",
       "    <tr>\n",
       "      <th>6</th>\n",
       "      <td>Death</td>\n",
       "    </tr>\n",
       "    <tr>\n",
       "      <th>7</th>\n",
       "      <td>He</td>\n",
       "    </tr>\n",
       "    <tr>\n",
       "      <th>8</th>\n",
       "      <td>kindly</td>\n",
       "    </tr>\n",
       "    <tr>\n",
       "      <th>9</th>\n",
       "      <td>stopped</td>\n",
       "    </tr>\n",
       "  </tbody>\n",
       "</table>\n",
       "</div>"
      ],
      "text/plain": [
       "      word\n",
       "0  Because\n",
       "1        I\n",
       "2    could\n",
       "3      not\n",
       "4     stop\n",
       "5      for\n",
       "6    Death\n",
       "7       He\n",
       "8   kindly\n",
       "9  stopped"
      ]
     },
     "execution_count": 32,
     "metadata": {},
     "output_type": "execute_result"
    }
   ],
   "source": [
    "df_poem = pd.DataFrame({\n",
    "    \"word\": poem_words\n",
    "}) # and create our dataframe from the list\n",
    "\n",
    "df_poem.head(10)"
   ]
  },
  {
   "cell_type": "markdown",
   "metadata": {
    "id": "N8fZSH7dOrB7"
   },
   "source": [
    "### Getting an entire book into a dataframe\n",
    "We'll be getting our data from the Gutenberg project http://www.gutenberg.org/\n",
    "\n",
    "Download Sense and Sensibility by Jane Austen (http://www.gutenberg.org/ebooks/161)"
   ]
  },
  {
   "cell_type": "code",
   "execution_count": 33,
   "metadata": {
    "colab": {
     "base_uri": "https://localhost:8080/"
    },
    "id": "cmR8G05Te5Bq",
    "outputId": "07160c33-cbef-4b2c-9289-eb232eb9857e"
   },
   "outputs": [
    {
     "name": "stdout",
     "output_type": "stream",
     "text": [
      "The Project Gutenberg eBook of Sense and Sensibility by Jane Austen\n",
      "\n",
      "This eBook is for the use of anyone anywhere in the United States and\n",
      "most other parts of the world at no cost and with almost no restrictions\n",
      "whatsoever You may copy it give it away or reuse it under the terms\n",
      "of the Project Gutenberg License included with this eBook or online at\n",
      "wwwgutenbergorg If you are not located in the United States you\n",
      "will have to check the laws of the country where you are located before\n",
      "using this eBook\n",
      "\n",
      "Title Sense and Sensibility\n",
      "\n",
      "Author Jane Austen\n",
      "\n",
      "Release Date September 1994 eBook 161\n",
      "Most recently updated March 16 2021\n",
      "\n",
      "Language English\n",
      "\n",
      "Character set encoding UTF8\n",
      "\n",
      "Special thanks are due to Sharon Partridge for extensive proofreading and correction of this etext\n",
      "\n",
      " START OF THE PROJECT GUTENBERG EBOOK SENSE AND SENSIBILITY \n",
      "\n",
      "Illustration\n",
      "\n",
      "\n",
      "\n",
      "\n",
      "Sense and Sensibility\n",
      "\n",
      "by Jane Austen\n",
      "\n",
      "1811\n",
      "\n",
      "\n",
      "Contents\n",
      "\n",
      " CHAPTER I\n",
      " CHAPTER II\n",
      " CHAPTER III\n",
      " CHAPTER IV\n",
      " CHAPTER V\n",
      " CHAPTER VI\n",
      " CHAPTER VII\n",
      " CHAPTER VIII\n",
      " CHAPTER IX\n",
      " CHAPTER X\n",
      " CHAPTER XI\n",
      " CHAPTER XII\n",
      " CHAPTER XIII\n",
      " CHAPTER XIV\n",
      " CHAPTER XV\n",
      " CHAPTER XVI\n",
      " CHAPTER XVII\n",
      " CHAPTER XVIII\n",
      " CHAPTER XIX\n",
      " CHAPTER XX\n",
      " CHAPTER XXI\n",
      " CHAPTER XXII\n",
      " CHAPTER XXIII\n",
      " CHAPTER XXIV\n",
      " CHAPTER XXV\n",
      " CHAPTER XXVI\n",
      " CHAPTER XXVII\n",
      " CHAPTER XXVIII\n",
      " CHAPTER XXIX\n",
      " CHAPTER XXX\n",
      " CHAPTER XXXI\n",
      " CHAPTER XXXII\n",
      " CHAPTER XXXIII\n",
      " CHAPTER XXXIV\n",
      " CHAPTER XXXV\n",
      " CHAPTER XXXVI\n",
      " CHAPTER XXXVII\n",
      " CHAPTER XXXVIII\n",
      " CHAPTER XXXIX\n",
      " CHAPTER XL\n",
      " CHAPTER XLI\n",
      " CHAPTER XLII\n",
      " CHAPTER XLIII\n",
      " CHAPTER XLIV\n",
      " CHAPTER XLV\n",
      " CHAPTER XLVI\n",
      " CHAPTER XLVII\n",
      " CHAPTER XLVIII\n",
      " CHAPTER XLIX\n",
      " CHAPTER L\n",
      "\n",
      "\n",
      "\n",
      "\n",
      "CHAPTER I\n",
      "\n",
      "\n",
      "The family of Dashwood had long been settled in Sussex Their estate\n",
      "was large and their residence was at Norland Park in the centre of\n",
      "their property where for many generations they had lived in so\n",
      "respectable a manner as to engage the general good opinion of their\n",
      "surrounding acquaintance The late owner of this estate was a single\n",
      "man who lived to a very advanced age and who for many years of his\n",
      "life had a constant companion and housekeeper in his sister But her\n",
      "death which happened ten years before his own produced a great\n",
      "alteration in his home for to supply her loss he invited and received\n",
      "into his house the family of his nephew Mr Henry Dashwood the legal\n",
      "inheritor of the Norland estate and the person to whom he intended to\n",
      "bequeath it In the society of his nephew and niece and their\n",
      "children the old Gentlemans days were comfortably spent His\n",
      "attachment to them all increased The constant attention of Mr and\n",
      "Mrs Henry Dashwood to his wishes which proceeded not merely from\n",
      "interest but from goodness of heart gave him every degree of solid\n",
      "comfort which his age could receive and the cheerfulness of the\n",
      "children added a relish to his existence\n",
      "\n",
      "By a former marriage Mr Henry Dashwood had one son by his present\n",
      "lady three daughters The son a steady respectable young man was\n",
      "amply provided for by the fortune of his mother which had been large\n",
      "and half of which devolved on him on his coming of age By his own\n",
      "marriage likewise which happened soon afterwards he added to his\n",
      "wealth To him therefore the succession to the Norland estate was not\n",
      "so really important as to his sisters for their fortune independent\n",
      "of what might arise to them from their fathers inheriting that\n",
      "property could be but small Their mother had nothing and their\n",
      "father only seven thousand pounds in his own disposal for the\n",
      "remaining moiety of his first wifes fortune was also secured to her\n",
      "child and he had only a lifeinterest in it\n",
      "\n",
      "The old gentleman died his will was read and like almost every other\n",
      "will gave as much disappointment as pleasure He was neither so\n",
      "unjust nor so ungrateful as to leave his estate from his nephewbut\n",
      "he left it to him on such terms as destroyed half the value of the\n",
      "bequest Mr Dashwood had wished for it more for the sake of his wife\n",
      "and daughters than for himself or his sonbut to his son and his\n",
      "sons son a child of four years old it was secured in such a way as\n",
      "to leave to himself no power of providing for those who were most dear\n",
      "to him and who most needed a provision by any charge on the estate or\n",
      "by any sale of its valuable woods The whole was tied up for the\n",
      "benefit of this child who in occasional visits with his father and\n",
      "mother at Norland had so far gained on the affections of his uncle by\n",
      "such attractions as are by no means unusual in children of two or three\n",
      "years old an imperfect articulation an earnest desire of having his\n",
      "own way many cunning tricks and a great deal of noise as to outweigh\n",
      "all the value of all the attention which for years he had received\n",
      "from his niece and her daughters He meant not to be unkind however\n",
      "and as a mark of his affection for the three girls he left them a\n",
      "thousand pounds apiece\n",
      "\n",
      "Mr Dashwoods disappointment was at first severe but his temper was\n",
      "chee\n"
     ]
    }
   ],
   "source": [
    "import requests\n",
    "import string\n",
    "\n",
    "# URL of the book you want to download\n",
    "book_url = 'https://www.gutenberg.org/files/161/161-0.txt'\n",
    "\n",
    "# Send a GET request to the URL and download the text\n",
    "response = requests.get(book_url)\n",
    "sense_sensibility = response.text\n",
    "\n",
    "# Uncomment this if you encounter weird characters\n",
    "# Remove unwanted characters from the text\n",
    "allowed_chars = string.ascii_letters + string.digits + string.whitespace\n",
    "sense_sensibility = ''.join(c for c in sense_sensibility if c in allowed_chars)\n",
    "\n",
    "# Print the first 5000 characters of the book text\n",
    "print(sense_sensibility[:5000])"
   ]
  },
  {
   "cell_type": "code",
   "execution_count": 34,
   "metadata": {
    "colab": {
     "base_uri": "https://localhost:8080/"
    },
    "id": "U_FchVC0S7nB",
    "outputId": "39d365e1-e1c7-4b01-d292-8227511786c9"
   },
   "outputs": [
    {
     "name": "stdout",
     "output_type": "stream",
     "text": [
      "678927\n"
     ]
    }
   ],
   "source": [
    "print(len(sense_sensibility)) # Length of our book"
   ]
  },
  {
   "cell_type": "code",
   "execution_count": 35,
   "metadata": {
    "colab": {
     "base_uri": "https://localhost:8080/",
     "height": 423
    },
    "id": "gUeW6TuIRHCs",
    "outputId": "5dcf9cfa-d327-4deb-8623-a3d032ae4f7e"
   },
   "outputs": [
    {
     "data": {
      "text/html": [
       "<div>\n",
       "<style scoped>\n",
       "    .dataframe tbody tr th:only-of-type {\n",
       "        vertical-align: middle;\n",
       "    }\n",
       "\n",
       "    .dataframe tbody tr th {\n",
       "        vertical-align: top;\n",
       "    }\n",
       "\n",
       "    .dataframe thead th {\n",
       "        text-align: right;\n",
       "    }\n",
       "</style>\n",
       "<table border=\"1\" class=\"dataframe\">\n",
       "  <thead>\n",
       "    <tr style=\"text-align: right;\">\n",
       "      <th></th>\n",
       "      <th>line</th>\n",
       "      <th>line_number</th>\n",
       "    </tr>\n",
       "  </thead>\n",
       "  <tbody>\n",
       "    <tr>\n",
       "      <th>0</th>\n",
       "      <td>The Project Gutenberg eBook of Sense and Sensi...</td>\n",
       "      <td>0</td>\n",
       "    </tr>\n",
       "    <tr>\n",
       "      <th>1</th>\n",
       "      <td></td>\n",
       "      <td>1</td>\n",
       "    </tr>\n",
       "    <tr>\n",
       "      <th>2</th>\n",
       "      <td>This eBook is for the use of anyone anywhere i...</td>\n",
       "      <td>2</td>\n",
       "    </tr>\n",
       "    <tr>\n",
       "      <th>3</th>\n",
       "      <td>most other parts of the world at no cost and w...</td>\n",
       "      <td>3</td>\n",
       "    </tr>\n",
       "    <tr>\n",
       "      <th>4</th>\n",
       "      <td>whatsoever You may copy it give it away or reu...</td>\n",
       "      <td>4</td>\n",
       "    </tr>\n",
       "    <tr>\n",
       "      <th>...</th>\n",
       "      <td>...</td>\n",
       "      <td>...</td>\n",
       "    </tr>\n",
       "    <tr>\n",
       "      <th>105</th>\n",
       "      <td>into his house the family of his nephew Mr Hen...</td>\n",
       "      <td>105</td>\n",
       "    </tr>\n",
       "    <tr>\n",
       "      <th>106</th>\n",
       "      <td>inheritor of the Norland estate and the person...</td>\n",
       "      <td>106</td>\n",
       "    </tr>\n",
       "    <tr>\n",
       "      <th>107</th>\n",
       "      <td>bequeath it In the society of his nephew and n...</td>\n",
       "      <td>107</td>\n",
       "    </tr>\n",
       "    <tr>\n",
       "      <th>108</th>\n",
       "      <td>children the old Gentlemans days were comforta...</td>\n",
       "      <td>108</td>\n",
       "    </tr>\n",
       "    <tr>\n",
       "      <th>109</th>\n",
       "      <td>attachment to them all increased The constant ...</td>\n",
       "      <td>109</td>\n",
       "    </tr>\n",
       "  </tbody>\n",
       "</table>\n",
       "<p>110 rows × 2 columns</p>\n",
       "</div>"
      ],
      "text/plain": [
       "                                                  line  line_number\n",
       "0    The Project Gutenberg eBook of Sense and Sensi...            0\n",
       "1                                                                 1\n",
       "2    This eBook is for the use of anyone anywhere i...            2\n",
       "3    most other parts of the world at no cost and w...            3\n",
       "4    whatsoever You may copy it give it away or reu...            4\n",
       "..                                                 ...          ...\n",
       "105  into his house the family of his nephew Mr Hen...          105\n",
       "106  inheritor of the Norland estate and the person...          106\n",
       "107  bequeath it In the society of his nephew and n...          107\n",
       "108  children the old Gentlemans days were comforta...          108\n",
       "109  attachment to them all increased The constant ...          109\n",
       "\n",
       "[110 rows x 2 columns]"
      ]
     },
     "execution_count": 35,
     "metadata": {},
     "output_type": "execute_result"
    }
   ],
   "source": [
    "# Create our dataframe\n",
    "import re\n",
    "sense_sensibility_lines = sense_sensibility.splitlines()\n",
    "\n",
    "sense_sensibility_df = pd.DataFrame({\n",
    "    \"line\": sense_sensibility_lines,\n",
    "    \"line_number\": list(range(len(sense_sensibility_lines)))\n",
    "})\n",
    "\n",
    "sense_sensibility_df.head(110)\n"
   ]
  },
  {
   "cell_type": "markdown",
   "metadata": {
    "id": "IVby7ozWuWL3"
   },
   "source": [
    "### Chapter extraction"
   ]
  },
  {
   "cell_type": "code",
   "execution_count": 42,
   "metadata": {
    "colab": {
     "base_uri": "https://localhost:8080/",
     "height": 423
    },
    "id": "CVVKNRZgUP_c",
    "outputId": "494a00a1-bccc-4134-be53-6be40d217322"
   },
   "outputs": [
    {
     "data": {
      "text/html": [
       "<div>\n",
       "<style scoped>\n",
       "    .dataframe tbody tr th:only-of-type {\n",
       "        vertical-align: middle;\n",
       "    }\n",
       "\n",
       "    .dataframe tbody tr th {\n",
       "        vertical-align: top;\n",
       "    }\n",
       "\n",
       "    .dataframe thead th {\n",
       "        text-align: right;\n",
       "    }\n",
       "</style>\n",
       "<table border=\"1\" class=\"dataframe\">\n",
       "  <thead>\n",
       "    <tr style=\"text-align: right;\">\n",
       "      <th></th>\n",
       "      <th>line</th>\n",
       "      <th>line_number</th>\n",
       "      <th>chapter</th>\n",
       "    </tr>\n",
       "  </thead>\n",
       "  <tbody>\n",
       "    <tr>\n",
       "      <th>0</th>\n",
       "      <td>The Project Gutenberg eBook of Sense and Sensi...</td>\n",
       "      <td>0</td>\n",
       "      <td>0</td>\n",
       "    </tr>\n",
       "    <tr>\n",
       "      <th>1</th>\n",
       "      <td></td>\n",
       "      <td>1</td>\n",
       "      <td>0</td>\n",
       "    </tr>\n",
       "    <tr>\n",
       "      <th>2</th>\n",
       "      <td>This eBook is for the use of anyone anywhere i...</td>\n",
       "      <td>2</td>\n",
       "      <td>0</td>\n",
       "    </tr>\n",
       "    <tr>\n",
       "      <th>3</th>\n",
       "      <td>most other parts of the world at no cost and w...</td>\n",
       "      <td>3</td>\n",
       "      <td>0</td>\n",
       "    </tr>\n",
       "    <tr>\n",
       "      <th>4</th>\n",
       "      <td>whatsoever You may copy it give it away or reu...</td>\n",
       "      <td>4</td>\n",
       "      <td>0</td>\n",
       "    </tr>\n",
       "    <tr>\n",
       "      <th>...</th>\n",
       "      <td>...</td>\n",
       "      <td>...</td>\n",
       "      <td>...</td>\n",
       "    </tr>\n",
       "    <tr>\n",
       "      <th>1105</th>\n",
       "      <td>within the last hour and as she was a very che...</td>\n",
       "      <td>1105</td>\n",
       "      <td>7</td>\n",
       "    </tr>\n",
       "    <tr>\n",
       "      <th>1106</th>\n",
       "      <td>he hoped the young ladies would not find it so...</td>\n",
       "      <td>1106</td>\n",
       "      <td>7</td>\n",
       "    </tr>\n",
       "    <tr>\n",
       "      <th>1107</th>\n",
       "      <td>imagine The young ladies as well as their moth...</td>\n",
       "      <td>1107</td>\n",
       "      <td>7</td>\n",
       "    </tr>\n",
       "    <tr>\n",
       "      <th>1108</th>\n",
       "      <td>satisfied with having two entire strangers of ...</td>\n",
       "      <td>1108</td>\n",
       "      <td>7</td>\n",
       "    </tr>\n",
       "    <tr>\n",
       "      <th>1109</th>\n",
       "      <td>no more</td>\n",
       "      <td>1109</td>\n",
       "      <td>7</td>\n",
       "    </tr>\n",
       "  </tbody>\n",
       "</table>\n",
       "<p>1110 rows × 3 columns</p>\n",
       "</div>"
      ],
      "text/plain": [
       "                                                   line  line_number  chapter\n",
       "0     The Project Gutenberg eBook of Sense and Sensi...            0        0\n",
       "1                                                                  1        0\n",
       "2     This eBook is for the use of anyone anywhere i...            2        0\n",
       "3     most other parts of the world at no cost and w...            3        0\n",
       "4     whatsoever You may copy it give it away or reu...            4        0\n",
       "...                                                 ...          ...      ...\n",
       "1105  within the last hour and as she was a very che...         1105        7\n",
       "1106  he hoped the young ladies would not find it so...         1106        7\n",
       "1107  imagine The young ladies as well as their moth...         1107        7\n",
       "1108  satisfied with having two entire strangers of ...         1108        7\n",
       "1109                                            no more         1109        7\n",
       "\n",
       "[1110 rows x 3 columns]"
      ]
     },
     "execution_count": 42,
     "metadata": {},
     "output_type": "execute_result"
    }
   ],
   "source": [
    "# We create a helper function to identify the chapter of each line\n",
    "def line_is_chapter(dataframe):\n",
    "    chapter_list = []\n",
    "    curr_chapter = 0\n",
    "    for index, row in dataframe.iterrows():\n",
    "        if re.search(\"^chapter [\\\\divxlc]*$\", row['line'], re.IGNORECASE):\n",
    "            curr_chapter += 1\n",
    "        chapter_list.append(curr_chapter)\n",
    "    return chapter_list\n",
    "\n",
    "curr_chapter = 0\n",
    "# We add the chapter to our dataframe\n",
    "sense_sensibility_df = sense_sensibility_df.assign(chapter = line_is_chapter(sense_sensibility_df))\n",
    "sense_sensibility_df.head(1110)"
   ]
  },
  {
   "cell_type": "code",
   "execution_count": null,
   "metadata": {
    "colab": {
     "base_uri": "https://localhost:8080/",
     "height": 363
    },
    "id": "9MNQZRgNkQ7n",
    "outputId": "bd3b4e6d-4bcf-4f13-b8aa-0bd59d883960"
   },
   "outputs": [],
   "source": [
    "# We will now transform our dataframe into one that has one word per row\n",
    "\n",
    "# We first split the text column into a list of words\n",
    "sense_sensibility_df['word'] = sense_sensibility_df['line'].str.split()\n",
    "\n",
    "# Explode the words column to create a new row for each word (this creates a separate row for each word from the newly created words list)\n",
    "sense_sensibility_df = sense_sensibility_df.explode('word')\n",
    "\n",
    "# Reset the index of the dataframe (we want to index each word now)\n",
    "sense_sensibility_df = sense_sensibility_df.reset_index(drop=True)\n",
    "sense_sensibility_df[10000:10010]\n",
    "\n",
    "# !Careful on this code cell, it always works with the same dataframe, so running it twice will give different results"
   ]
  },
  {
   "cell_type": "code",
   "execution_count": null,
   "metadata": {
    "colab": {
     "base_uri": "https://localhost:8080/"
    },
    "id": "5SJJUDKyXav8",
    "outputId": "b1636913-c966-4a53-a253-6ee77e7ff84f"
   },
   "outputs": [],
   "source": [
    "# Seeing the number of appearances per word\n",
    "\n",
    "# pd.set_option('display.max_rows', 100) # You can change the max number of rows that get displayed\n",
    "print(sense_sensibility_df['word'].value_counts()) # one way to see word counts in pandas"
   ]
  },
  {
   "cell_type": "markdown",
   "metadata": {
    "id": "kX6E1BlFhkqp"
   },
   "source": [
    "# Cleaning mini-exercise 1 (E3)\n",
    "\n",
    "\n"
   ]
  },
  {
   "cell_type": "markdown",
   "metadata": {
    "id": "8cYZVIGmuHB-"
   },
   "source": [
    "1. Display the most frequent 100 words.\n",
    "2. Display the least frequent 20 words.\n"
   ]
  },
  {
   "cell_type": "code",
   "execution_count": null,
   "metadata": {
    "id": "rTZG3EWUkzA7"
   },
   "outputs": [],
   "source": [
    "most_freq = sense_sensibility_df['word'].value_counts().head(100)\n",
    "\n",
    "most_freq"
   ]
  },
  {
   "cell_type": "code",
   "execution_count": null,
   "metadata": {},
   "outputs": [],
   "source": [
    "least_freq = sense_sensibility_df['word'].value_counts().tail(20)\n",
    "\n",
    "least_freq"
   ]
  },
  {
   "cell_type": "markdown",
   "metadata": {
    "id": "VqqOvMtAlDWS"
   },
   "source": [
    "### Stop words\n"
   ]
  },
  {
   "cell_type": "markdown",
   "metadata": {
    "id": "-LoZbIB4uL1l"
   },
   "source": [
    "Stop words are words that are frequent in any context and don't give much (if any) information by themselves. For this reason we usually eliminate them before trying to get meaningful information from our data.\n",
    "\n",
    "Examples of stop words are:\n",
    "\n",
    "*  Determiners – Determiners tend to mark nouns where a determiner usually will be followed by a noun\n",
    "\n",
    "    examples: the, a, an, another\n",
    "*  Coordinating conjunctions – Coordinating conjunctions connect words, phrases, and clauses\n",
    "\n",
    "    examples: for, an, nor, but, or, yet, so\n",
    "*  Prepositions – Prepositions express temporal or spatial relations\n",
    "\n",
    "    examples: in, under, towards, before"
   ]
  },
  {
   "cell_type": "code",
   "execution_count": null,
   "metadata": {
    "colab": {
     "base_uri": "https://localhost:8080/",
     "height": 206
    },
    "id": "ePxwi6QSmhtn",
    "outputId": "3d06ed41-0eed-4d66-a06b-0d6612a3cd20"
   },
   "outputs": [],
   "source": [
    "sense_sensibility_df.head()"
   ]
  },
  {
   "cell_type": "code",
   "execution_count": null,
   "metadata": {
    "colab": {
     "base_uri": "https://localhost:8080/",
     "height": 206
    },
    "id": "h3DF9Bq0hkSK",
    "outputId": "1187f53e-5c57-4271-9cf8-539c7edfcbe1"
   },
   "outputs": [],
   "source": [
    "stop_words_test = ['illustration', 'companion', 'of']\n",
    "\n",
    "sense_sensibility_df_filtered = sense_sensibility_df[~sense_sensibility_df['word'].isin(stop_words_test)] # Get all of the data from sense_sensibility_df where the word can not be found in the stop words list\n",
    "sense_sensibility_df_filtered.head()"
   ]
  },
  {
   "cell_type": "code",
   "execution_count": null,
   "metadata": {
    "colab": {
     "base_uri": "https://localhost:8080/"
    },
    "id": "zBglbHU1op99",
    "outputId": "526b0e0d-80d2-45a4-c385-2824cfad5f29"
   },
   "outputs": [],
   "source": [
    "# nltk already has a list of common stopwords\n",
    "import nltk\n",
    "from nltk.corpus import stopwords\n",
    "nltk.download('stopwords')\n",
    "\n",
    "print(stopwords.words('english'))"
   ]
  },
  {
   "cell_type": "markdown",
   "metadata": {
    "id": "Z7Mqz5NdpaF9"
   },
   "source": [
    "# Cleaning mini-exercise 2 (E4)\n",
    "\n"
   ]
  },
  {
   "cell_type": "markdown",
   "metadata": {
    "id": "B_ub4UMbuP1O"
   },
   "source": [
    "Filter out common stop words from your sense_sensibility_df dataframe. Use nltk's 'english' stop words list to do so.\n",
    "\n",
    "*(You can change the sense_sensibility_df variable, no need to make a copy)*\n",
    "\n",
    "Display the top 10 most commonly occurring words **after having applied your stop word filtering.**"
   ]
  },
  {
   "cell_type": "code",
   "execution_count": null,
   "metadata": {
    "id": "ndDUL3FJqXis"
   },
   "outputs": [],
   "source": [
    "sense_sensibility_df = sense_sensibility_df[~sense_sensibility_df['word'].isin(stopwords.words('english'))]\n",
    "\n",
    "print( sense_sensibility_df['word'].value_counts().head(10) )\n"
   ]
  },
  {
   "cell_type": "markdown",
   "metadata": {
    "id": "b_zRys1qtgb9"
   },
   "source": [
    "# Exercise - Perform your own data cleaning (E5)"
   ]
  },
  {
   "cell_type": "markdown",
   "metadata": {
    "id": "DU9gDT1zt4C_"
   },
   "source": [
    "Try one of the most recent entries in the Gutenberg project - **Asphodel : a novel by M. E. Braddon**\n",
    "\n",
    "Import Asphodel Gutenberg, bring it into a clean dataframe containing all of the words as separate row entries (**get rid of punctuation signs, bring everything to lowercase, get rid of NaN values, get rid of common stop words**).\n",
    "\n",
    "As previously for the Sense and Sensibility example, **each row should contain the word index, the line index and the chapter index** of where the word appeared.\n",
    "*Careful on the chapters separation, **they may not be defined in the same way** as they were in Sense & Sensibility.*\n",
    "\n",
    "\n",
    "\n",
    "**After** you have your clean dataframe:\n",
    "\n",
    "1. Display all of the words that occur more than 100 times in the book.\n",
    "2. Extend the old stop words list with the words that you notice occur more than 100 times and can be considered stop words.\n",
    "\n",
    "    Apply the stop words filtering with the newly extended list and display once again all of the words that occur more than 100 times.\n",
    "3. Display the 3 most frequent words from chapters 3 and 6."
   ]
  },
  {
   "cell_type": "code",
   "execution_count": 53,
   "metadata": {},
   "outputs": [
    {
     "data": {
      "text/html": [
       "<div>\n",
       "<style scoped>\n",
       "    .dataframe tbody tr th:only-of-type {\n",
       "        vertical-align: middle;\n",
       "    }\n",
       "\n",
       "    .dataframe tbody tr th {\n",
       "        vertical-align: top;\n",
       "    }\n",
       "\n",
       "    .dataframe thead th {\n",
       "        text-align: right;\n",
       "    }\n",
       "</style>\n",
       "<table border=\"1\" class=\"dataframe\">\n",
       "  <thead>\n",
       "    <tr style=\"text-align: right;\">\n",
       "      <th></th>\n",
       "      <th>line</th>\n",
       "      <th>line_number</th>\n",
       "      <th>chapter</th>\n",
       "      <th>word</th>\n",
       "    </tr>\n",
       "  </thead>\n",
       "  <tbody>\n",
       "    <tr>\n",
       "      <th>100</th>\n",
       "      <td>stereotyped edition</td>\n",
       "      <td>46</td>\n",
       "      <td>0</td>\n",
       "      <td>edition</td>\n",
       "    </tr>\n",
       "    <tr>\n",
       "      <th>101</th>\n",
       "      <td>london</td>\n",
       "      <td>48</td>\n",
       "      <td>0</td>\n",
       "      <td>london</td>\n",
       "    </tr>\n",
       "    <tr>\n",
       "      <th>102</th>\n",
       "      <td>simpkin marshall hamilton kent  co limited</td>\n",
       "      <td>50</td>\n",
       "      <td>0</td>\n",
       "      <td>simpkin</td>\n",
       "    </tr>\n",
       "    <tr>\n",
       "      <th>103</th>\n",
       "      <td>simpkin marshall hamilton kent  co limited</td>\n",
       "      <td>50</td>\n",
       "      <td>0</td>\n",
       "      <td>marshall</td>\n",
       "    </tr>\n",
       "    <tr>\n",
       "      <th>104</th>\n",
       "      <td>simpkin marshall hamilton kent  co limited</td>\n",
       "      <td>50</td>\n",
       "      <td>0</td>\n",
       "      <td>hamilton</td>\n",
       "    </tr>\n",
       "    <tr>\n",
       "      <th>...</th>\n",
       "      <td>...</td>\n",
       "      <td>...</td>\n",
       "      <td>...</td>\n",
       "      <td>...</td>\n",
       "    </tr>\n",
       "    <tr>\n",
       "      <th>995</th>\n",
       "      <td>outline with her facile pencil i would rather ...</td>\n",
       "      <td>300</td>\n",
       "      <td>1</td>\n",
       "      <td>outline</td>\n",
       "    </tr>\n",
       "    <tr>\n",
       "      <th>996</th>\n",
       "      <td>outline with her facile pencil i would rather ...</td>\n",
       "      <td>300</td>\n",
       "      <td>1</td>\n",
       "      <td>facile</td>\n",
       "    </tr>\n",
       "    <tr>\n",
       "      <th>997</th>\n",
       "      <td>outline with her facile pencil i would rather ...</td>\n",
       "      <td>300</td>\n",
       "      <td>1</td>\n",
       "      <td>pencil</td>\n",
       "    </tr>\n",
       "    <tr>\n",
       "      <th>998</th>\n",
       "      <td>outline with her facile pencil i would rather ...</td>\n",
       "      <td>300</td>\n",
       "      <td>1</td>\n",
       "      <td>would</td>\n",
       "    </tr>\n",
       "    <tr>\n",
       "      <th>999</th>\n",
       "      <td>outline with her facile pencil i would rather ...</td>\n",
       "      <td>300</td>\n",
       "      <td>1</td>\n",
       "      <td>rather</td>\n",
       "    </tr>\n",
       "  </tbody>\n",
       "</table>\n",
       "<p>900 rows × 4 columns</p>\n",
       "</div>"
      ],
      "text/plain": [
       "                                                  line  line_number  chapter  \\\n",
       "100                                stereotyped edition           46        0   \n",
       "101                                             london           48        0   \n",
       "102         simpkin marshall hamilton kent  co limited           50        0   \n",
       "103         simpkin marshall hamilton kent  co limited           50        0   \n",
       "104         simpkin marshall hamilton kent  co limited           50        0   \n",
       "..                                                 ...          ...      ...   \n",
       "995  outline with her facile pencil i would rather ...          300        1   \n",
       "996  outline with her facile pencil i would rather ...          300        1   \n",
       "997  outline with her facile pencil i would rather ...          300        1   \n",
       "998  outline with her facile pencil i would rather ...          300        1   \n",
       "999  outline with her facile pencil i would rather ...          300        1   \n",
       "\n",
       "         word  \n",
       "100   edition  \n",
       "101    london  \n",
       "102   simpkin  \n",
       "103  marshall  \n",
       "104  hamilton  \n",
       "..        ...  \n",
       "995   outline  \n",
       "996    facile  \n",
       "997    pencil  \n",
       "998     would  \n",
       "999    rather  \n",
       "\n",
       "[900 rows x 4 columns]"
      ]
     },
     "execution_count": 53,
     "metadata": {},
     "output_type": "execute_result"
    }
   ],
   "source": [
    "import requests\n",
    "import string\n",
    "import re\n",
    "from nltk.corpus import stopwords\n",
    "\n",
    "# URL of the book you want to download\n",
    "book_url = 'https://www.gutenberg.org/cache/epub/75506/pg75506.txt'\n",
    "\n",
    "# Send a GET request to the URL and download the text\n",
    "response = requests.get(book_url)\n",
    "asphodel = response.text\n",
    "\n",
    "# Uncomment this if you encounter weird characters\n",
    "# Remove unwanted characters from the text\n",
    "allowed_chars = string.ascii_letters + string.digits + string.whitespace\n",
    "asphodel = ''.join(c.lower() for c in asphodel if c in allowed_chars )\n",
    "\n",
    "\n",
    "asphodel_lines = asphodel.splitlines()\n",
    "\n",
    "asphodel_df = pd.DataFrame({\n",
    "    \"line\": asphodel_lines,\n",
    "    \"line_number\": list(range(len(asphodel_lines)))\n",
    "})\n",
    "\n",
    "asphodel_df = asphodel_df.assign(chapter = line_is_chapter(asphodel_df))\n",
    "asphodel_df['word'] = asphodel_df['line'].str.split()\n",
    "asphodel_df = asphodel_df.explode('word')\n",
    "asphodel_df = asphodel_df.reset_index(drop=True)\n",
    "\n",
    "asphodel_df = asphodel_df.dropna()\n",
    "stop_words = stopwords.words('english')\n",
    "asphodel_df = asphodel_df[~asphodel_df['word'].isin(stop_words)]\n",
    "asphodel_df = asphodel_df.reset_index(drop=True)\n",
    "\n",
    "asphodel_df[100:1000]"
   ]
  },
  {
   "cell_type": "code",
   "execution_count": 59,
   "metadata": {
    "id": "xAzLySbm88SL"
   },
   "outputs": [
    {
     "name": "stdout",
     "output_type": "stream",
     "text": [
      "daphne    1162\n",
      "said       672\n",
      "would      613\n",
      "one        500\n",
      "edgar      495\n",
      "          ... \n",
      "side       103\n",
      "almost     103\n",
      "work       102\n",
      "many       101\n",
      "great      101\n",
      "Name: word, Length: 116, dtype: int64\n"
     ]
    }
   ],
   "source": [
    "asphodel_word_counts = asphodel_df['word'].value_counts()\n",
    "\n",
    "asphodel_freq_words = asphodel_word_counts[asphodel_word_counts > 100]\n",
    "\n",
    "print(asphodel_freq_words[0:])"
   ]
  },
  {
   "cell_type": "code",
   "execution_count": 67,
   "metadata": {},
   "outputs": [
    {
     "name": "stdout",
     "output_type": "stream",
     "text": [
      "daphne    1162\n",
      "edgar      495\n",
      "like       411\n",
      "little     388\n",
      "gerald     351\n",
      "          ... \n",
      "give       105\n",
      "rhoda      103\n",
      "side       103\n",
      "work       102\n",
      "great      101\n",
      "Name: word, Length: 110, dtype: int64\n"
     ]
    }
   ],
   "source": [
    "stop_words.extend([\"said\",\"would\",\"many\",\"almost\",\"one\",\"could\"])\n",
    "asphodel_df = asphodel_df[~asphodel_df['word'].isin(stop_words)]\n",
    "asphodel_df = asphodel_df.reset_index(drop=True)\n",
    "\n",
    "asphodel_word_counts = asphodel_df['word'].value_counts()\n",
    "asphodel_freq_words = asphodel_word_counts[asphodel_word_counts > 100]\n",
    "print(asphodel_freq_words[0:])"
   ]
  },
  {
   "cell_type": "code",
   "execution_count": 69,
   "metadata": {},
   "outputs": [
    {
     "data": {
      "text/plain": [
       "daphne    101\n",
       "dont       50\n",
       "like       39\n",
       "Name: word, dtype: int64"
      ]
     },
     "execution_count": 69,
     "metadata": {},
     "output_type": "execute_result"
    }
   ],
   "source": [
    "chapters_3_6_df = asphodel_df[asphodel_df['chapter'].isin([3,6])]\n",
    "\n",
    "chapters_3_6_df['word'].value_counts().head(3)"
   ]
  },
  {
   "cell_type": "markdown",
   "metadata": {
    "id": "SBQrn7dbYPnN"
   },
   "source": [
    "# Multiple books"
   ]
  },
  {
   "cell_type": "markdown",
   "metadata": {
    "id": "yOek_lBbYS9E"
   },
   "source": [
    "### Getting started\n",
    "Let's create a dataframe containing information from multiple books. We'll choose 4 books from the Bronte Sisters."
   ]
  },
  {
   "cell_type": "code",
   "execution_count": 70,
   "metadata": {
    "id": "saafYA4But6Y"
   },
   "outputs": [],
   "source": [
    "import requests\n",
    "import string\n",
    "\n",
    "# Jane Eyre\n",
    "book_url = 'https://www.gutenberg.org/files/1260/1260-0.txt'\n",
    "response = requests.get(book_url)\n",
    "bronte1 = response.text\n",
    "allowed_chars = string.ascii_letters + string.digits + string.whitespace\n",
    "bronte1 = ''.join(c for c in bronte1 if c in allowed_chars)\n",
    "\n",
    "# Wuthering Heights\n",
    "book_url = 'https://www.gutenberg.org/cache/epub/768/pg768.txt'\n",
    "response = requests.get(book_url)\n",
    "bronte2 = response.text\n",
    "allowed_chars = string.ascii_letters + string.digits + string.whitespace\n",
    "bronte2 = ''.join(c for c in bronte2 if c in allowed_chars)\n",
    "\n",
    "# Vilette\n",
    "book_url = 'https://www.gutenberg.org/files/9182/9182-0.txt'\n",
    "response = requests.get(book_url)\n",
    "bronte3 = response.text\n",
    "allowed_chars = string.ascii_letters + string.digits + string.whitespace\n",
    "bronte3 = ''.join(c for c in bronte3 if c in allowed_chars)\n",
    "\n",
    "# Agnes Gray\n",
    "book_url = 'https://www.gutenberg.org/files/767/767-0.txt'\n",
    "response = requests.get(book_url)\n",
    "bronte4 = response.text\n",
    "allowed_chars = string.ascii_letters + string.digits + string.whitespace\n",
    "bronte4 = ''.join(c for c in bronte4 if c in allowed_chars)"
   ]
  },
  {
   "cell_type": "code",
   "execution_count": 71,
   "metadata": {
    "colab": {
     "base_uri": "https://localhost:8080/",
     "height": 206
    },
    "id": "JMYwE-krwLEQ",
    "outputId": "3a38082b-921d-412b-d7e5-0538ab338cc4"
   },
   "outputs": [
    {
     "data": {
      "text/html": [
       "<div>\n",
       "<style scoped>\n",
       "    .dataframe tbody tr th:only-of-type {\n",
       "        vertical-align: middle;\n",
       "    }\n",
       "\n",
       "    .dataframe tbody tr th {\n",
       "        vertical-align: top;\n",
       "    }\n",
       "\n",
       "    .dataframe thead th {\n",
       "        text-align: right;\n",
       "    }\n",
       "</style>\n",
       "<table border=\"1\" class=\"dataframe\">\n",
       "  <thead>\n",
       "    <tr style=\"text-align: right;\">\n",
       "      <th></th>\n",
       "      <th>line</th>\n",
       "      <th>line_number</th>\n",
       "    </tr>\n",
       "  </thead>\n",
       "  <tbody>\n",
       "    <tr>\n",
       "      <th>0</th>\n",
       "      <td>START OF THE PROJECT GUTENBERG EBOOK 767</td>\n",
       "      <td>0</td>\n",
       "    </tr>\n",
       "    <tr>\n",
       "      <th>1</th>\n",
       "      <td></td>\n",
       "      <td>1</td>\n",
       "    </tr>\n",
       "    <tr>\n",
       "      <th>2</th>\n",
       "      <td></td>\n",
       "      <td>2</td>\n",
       "    </tr>\n",
       "    <tr>\n",
       "      <th>3</th>\n",
       "      <td></td>\n",
       "      <td>3</td>\n",
       "    </tr>\n",
       "    <tr>\n",
       "      <th>4</th>\n",
       "      <td></td>\n",
       "      <td>4</td>\n",
       "    </tr>\n",
       "  </tbody>\n",
       "</table>\n",
       "</div>"
      ],
      "text/plain": [
       "                                         line  line_number\n",
       "0   START OF THE PROJECT GUTENBERG EBOOK 767             0\n",
       "1                                                        1\n",
       "2                                                        2\n",
       "3                                                        3\n",
       "4                                                        4"
      ]
     },
     "execution_count": 71,
     "metadata": {},
     "output_type": "execute_result"
    }
   ],
   "source": [
    "# Create our dataframes\n",
    "bronte1_lines = bronte1.splitlines()\n",
    "\n",
    "bronte1_df = pd.DataFrame({\n",
    "    \"line\": bronte1_lines,\n",
    "    \"line_number\": list(range(len(bronte1_lines)))\n",
    "})\n",
    "\n",
    "bronte2_lines = bronte2.splitlines()\n",
    "\n",
    "bronte2_df = pd.DataFrame({\n",
    "    \"line\": bronte2_lines,\n",
    "    \"line_number\": list(range(len(bronte2_lines)))\n",
    "})\n",
    "\n",
    "bronte3_lines = bronte3.splitlines()\n",
    "\n",
    "bronte3_df = pd.DataFrame({\n",
    "    \"line\": bronte3_lines,\n",
    "    \"line_number\": list(range(len(bronte3_lines)))\n",
    "})\n",
    "\n",
    "bronte4_lines = bronte4.splitlines()\n",
    "\n",
    "bronte4_df = pd.DataFrame({\n",
    "    \"line\": bronte4_lines,\n",
    "    \"line_number\": list(range(len(bronte4_lines)))\n",
    "})\n",
    "\n",
    "\n",
    "bronte4_df.head()"
   ]
  },
  {
   "cell_type": "code",
   "execution_count": 72,
   "metadata": {
    "id": "5zNYrUtUwtpU"
   },
   "outputs": [],
   "source": [
    "# We’ll want to know which content comes from which book\n",
    "bronte1_df = bronte1_df.assign(book = 'Jane Eyre')\n",
    "bronte2_df = bronte2_df.assign(book = 'Wuthering Heights')\n",
    "bronte3_df = bronte3_df.assign(book = 'Vilette')\n",
    "bronte4_df = bronte4_df.assign(book = 'Agnes Grey')"
   ]
  },
  {
   "cell_type": "code",
   "execution_count": 73,
   "metadata": {
    "colab": {
     "base_uri": "https://localhost:8080/",
     "height": 206
    },
    "id": "wmrLiYdeWhCR",
    "outputId": "51fcdff5-d1f5-4505-8351-567e2ebef14e"
   },
   "outputs": [
    {
     "data": {
      "text/html": [
       "<div>\n",
       "<style scoped>\n",
       "    .dataframe tbody tr th:only-of-type {\n",
       "        vertical-align: middle;\n",
       "    }\n",
       "\n",
       "    .dataframe tbody tr th {\n",
       "        vertical-align: top;\n",
       "    }\n",
       "\n",
       "    .dataframe thead th {\n",
       "        text-align: right;\n",
       "    }\n",
       "</style>\n",
       "<table border=\"1\" class=\"dataframe\">\n",
       "  <thead>\n",
       "    <tr style=\"text-align: right;\">\n",
       "      <th></th>\n",
       "      <th>line</th>\n",
       "      <th>line_number</th>\n",
       "      <th>book</th>\n",
       "    </tr>\n",
       "  </thead>\n",
       "  <tbody>\n",
       "    <tr>\n",
       "      <th>0</th>\n",
       "      <td>START OF THE PROJECT GUTENBERG EBOOK 1260</td>\n",
       "      <td>0</td>\n",
       "      <td>Jane Eyre</td>\n",
       "    </tr>\n",
       "    <tr>\n",
       "      <th>1</th>\n",
       "      <td></td>\n",
       "      <td>1</td>\n",
       "      <td>Jane Eyre</td>\n",
       "    </tr>\n",
       "    <tr>\n",
       "      <th>2</th>\n",
       "      <td>JANE EYRE</td>\n",
       "      <td>2</td>\n",
       "      <td>Jane Eyre</td>\n",
       "    </tr>\n",
       "    <tr>\n",
       "      <th>3</th>\n",
       "      <td>AN AUTOBIOGRAPHY</td>\n",
       "      <td>3</td>\n",
       "      <td>Jane Eyre</td>\n",
       "    </tr>\n",
       "    <tr>\n",
       "      <th>4</th>\n",
       "      <td></td>\n",
       "      <td>4</td>\n",
       "      <td>Jane Eyre</td>\n",
       "    </tr>\n",
       "  </tbody>\n",
       "</table>\n",
       "</div>"
      ],
      "text/plain": [
       "                                          line  line_number       book\n",
       "0   START OF THE PROJECT GUTENBERG EBOOK 1260             0  Jane Eyre\n",
       "1                                                         1  Jane Eyre\n",
       "2                                    JANE EYRE            2  Jane Eyre\n",
       "3                             AN AUTOBIOGRAPHY            3  Jane Eyre\n",
       "4                                                         4  Jane Eyre"
      ]
     },
     "execution_count": 73,
     "metadata": {},
     "output_type": "execute_result"
    }
   ],
   "source": [
    "# Finally, we concatenate the books into one dataframe\n",
    "books = [bronte1_df, bronte2_df, bronte3_df, bronte4_df]\n",
    "bronte_books_df = pd.concat(books)\n",
    "bronte_books_df.head()"
   ]
  },
  {
   "cell_type": "code",
   "execution_count": 74,
   "metadata": {
    "colab": {
     "base_uri": "https://localhost:8080/"
    },
    "id": "roPB4arXWnzC",
    "outputId": "8684ad4d-525a-4314-fa1d-9844c99fec07"
   },
   "outputs": [
    {
     "name": "stdout",
     "output_type": "stream",
     "text": [
      "Jane Eyre (21005, 3)\n",
      "Wuthering Heights (12726, 3)\n",
      "Vilette (21574, 3)\n",
      "Agnes Grey (6993, 3)\n",
      "\n",
      "All 4 Bronte sisters books (62298, 3)\n"
     ]
    }
   ],
   "source": [
    "# What shapes do the books have before concatenation?\n",
    "\n",
    "print('Jane Eyre', bronte1_df.shape)\n",
    "print('Wuthering Heights', bronte2_df.shape)\n",
    "print('Vilette', bronte3_df.shape)\n",
    "print('Agnes Grey', bronte4_df.shape)\n",
    "\n",
    "print('\\nAll 4 Bronte sisters books', bronte_books_df.shape)"
   ]
  },
  {
   "cell_type": "code",
   "execution_count": 75,
   "metadata": {
    "colab": {
     "base_uri": "https://localhost:8080/",
     "height": 363
    },
    "id": "MWOvhatDWyuS",
    "outputId": "31738806-476a-474f-b55d-ac83b471f58d"
   },
   "outputs": [
    {
     "data": {
      "text/html": [
       "<div>\n",
       "<style scoped>\n",
       "    .dataframe tbody tr th:only-of-type {\n",
       "        vertical-align: middle;\n",
       "    }\n",
       "\n",
       "    .dataframe tbody tr th {\n",
       "        vertical-align: top;\n",
       "    }\n",
       "\n",
       "    .dataframe thead th {\n",
       "        text-align: right;\n",
       "    }\n",
       "</style>\n",
       "<table border=\"1\" class=\"dataframe\">\n",
       "  <thead>\n",
       "    <tr style=\"text-align: right;\">\n",
       "      <th></th>\n",
       "      <th>line</th>\n",
       "      <th>line_number</th>\n",
       "      <th>book</th>\n",
       "      <th>word</th>\n",
       "    </tr>\n",
       "  </thead>\n",
       "  <tbody>\n",
       "    <tr>\n",
       "      <th>10000</th>\n",
       "      <td>as I best might and sought shelter from cold a...</td>\n",
       "      <td>1153</td>\n",
       "      <td>Jane Eyre</td>\n",
       "      <td>and</td>\n",
       "    </tr>\n",
       "    <tr>\n",
       "      <th>10001</th>\n",
       "      <td>as I best might and sought shelter from cold a...</td>\n",
       "      <td>1153</td>\n",
       "      <td>Jane Eyre</td>\n",
       "      <td>sought</td>\n",
       "    </tr>\n",
       "    <tr>\n",
       "      <th>10002</th>\n",
       "      <td>as I best might and sought shelter from cold a...</td>\n",
       "      <td>1153</td>\n",
       "      <td>Jane Eyre</td>\n",
       "      <td>shelter</td>\n",
       "    </tr>\n",
       "    <tr>\n",
       "      <th>10003</th>\n",
       "      <td>as I best might and sought shelter from cold a...</td>\n",
       "      <td>1153</td>\n",
       "      <td>Jane Eyre</td>\n",
       "      <td>from</td>\n",
       "    </tr>\n",
       "    <tr>\n",
       "      <th>10004</th>\n",
       "      <td>as I best might and sought shelter from cold a...</td>\n",
       "      <td>1153</td>\n",
       "      <td>Jane Eyre</td>\n",
       "      <td>cold</td>\n",
       "    </tr>\n",
       "    <tr>\n",
       "      <th>10005</th>\n",
       "      <td>as I best might and sought shelter from cold a...</td>\n",
       "      <td>1153</td>\n",
       "      <td>Jane Eyre</td>\n",
       "      <td>and</td>\n",
       "    </tr>\n",
       "    <tr>\n",
       "      <th>10006</th>\n",
       "      <td>as I best might and sought shelter from cold a...</td>\n",
       "      <td>1153</td>\n",
       "      <td>Jane Eyre</td>\n",
       "      <td>darkness</td>\n",
       "    </tr>\n",
       "    <tr>\n",
       "      <th>10007</th>\n",
       "      <td>as I best might and sought shelter from cold a...</td>\n",
       "      <td>1153</td>\n",
       "      <td>Jane Eyre</td>\n",
       "      <td>in</td>\n",
       "    </tr>\n",
       "    <tr>\n",
       "      <th>10008</th>\n",
       "      <td>as I best might and sought shelter from cold a...</td>\n",
       "      <td>1153</td>\n",
       "      <td>Jane Eyre</td>\n",
       "      <td>my</td>\n",
       "    </tr>\n",
       "    <tr>\n",
       "      <th>10009</th>\n",
       "      <td>as I best might and sought shelter from cold a...</td>\n",
       "      <td>1153</td>\n",
       "      <td>Jane Eyre</td>\n",
       "      <td>crib</td>\n",
       "    </tr>\n",
       "  </tbody>\n",
       "</table>\n",
       "</div>"
      ],
      "text/plain": [
       "                                                    line  line_number  \\\n",
       "10000  as I best might and sought shelter from cold a...         1153   \n",
       "10001  as I best might and sought shelter from cold a...         1153   \n",
       "10002  as I best might and sought shelter from cold a...         1153   \n",
       "10003  as I best might and sought shelter from cold a...         1153   \n",
       "10004  as I best might and sought shelter from cold a...         1153   \n",
       "10005  as I best might and sought shelter from cold a...         1153   \n",
       "10006  as I best might and sought shelter from cold a...         1153   \n",
       "10007  as I best might and sought shelter from cold a...         1153   \n",
       "10008  as I best might and sought shelter from cold a...         1153   \n",
       "10009  as I best might and sought shelter from cold a...         1153   \n",
       "\n",
       "            book      word  \n",
       "10000  Jane Eyre       and  \n",
       "10001  Jane Eyre    sought  \n",
       "10002  Jane Eyre   shelter  \n",
       "10003  Jane Eyre      from  \n",
       "10004  Jane Eyre      cold  \n",
       "10005  Jane Eyre       and  \n",
       "10006  Jane Eyre  darkness  \n",
       "10007  Jane Eyre        in  \n",
       "10008  Jane Eyre        my  \n",
       "10009  Jane Eyre      crib  "
      ]
     },
     "execution_count": 75,
     "metadata": {},
     "output_type": "execute_result"
    }
   ],
   "source": [
    "# We first split the text column into a list of words\n",
    "bronte_books_df['word'] = bronte_books_df['line'].str.split()\n",
    "\n",
    "# Explode the words column to create a new row for each word (this creates a separate row for each word from the newly created words list)\n",
    "bronte_books_df = bronte_books_df.explode('word')\n",
    "\n",
    "# Reset the index of the dataframe (we want to index each word now)\n",
    "bronte_books_df = bronte_books_df.reset_index(drop=True)\n",
    "bronte_books_df[10000:10010]\n",
    "\n",
    "# !Careful on this code cell, it always works with the same dataframe, so running it twice will give different results"
   ]
  },
  {
   "cell_type": "markdown",
   "metadata": {
    "id": "UKIIX-IqZp3c"
   },
   "source": [
    "# Exercise - Multiple Books / Multiple Authors (E6)\n",
    "\n"
   ]
  },
  {
   "cell_type": "markdown",
   "metadata": {
    "id": "o2GAY0q2n1Zk"
   },
   "source": [
    "1. **Remove all the NaNs and common stop words** from your Bronte sisters dataframe and then **view the most commonly occurring words** in the sisters' writings.\n",
    "2. **Create a similar dataframe (just like the one for the Bronte sisters) using 3 books from an author of your choice**.\n",
    "    Make sure all 3 books are from the same author.\n",
    "\n",
    "    **View the most commonly used words from your author of choice** (after you've removed NaN and stop words from your dataframe).\n",
    "\n",
    "3. Combine the 2 dataframes (Bronte sisters df + your author df) into a frame that contains **all of the previous information + information about the author** for each of the words in the dataframe.\n",
    "\n",
    " (Hint: This can be done similarly to how you've added the book name information to your Bronte books dataframe - add a column with the author name to each of the 2 initial dataframes. Concatenating these 2 \"upgraded\" dataframes should now give you the desired result.)\n",
    "\n",
    "    Your columns should be: **index, line, book, word, *author*** (the order does not matter)."
   ]
  },
  {
   "cell_type": "code",
   "execution_count": 78,
   "metadata": {
    "id": "Pd_ZplZHgqWN"
   },
   "outputs": [
    {
     "data": {
      "text/plain": [
       "I                18440\n",
       "would             2182\n",
       "said              1700\n",
       "could             1553\n",
       "one               1452\n",
       "                 ...  \n",
       "wellformed           1\n",
       "youthlike            1\n",
       "halfcivilised        1\n",
       "lurked               1\n",
       "Eton                 1\n",
       "Name: word, Length: 29976, dtype: int64"
      ]
     },
     "execution_count": 78,
     "metadata": {},
     "output_type": "execute_result"
    }
   ],
   "source": [
    "bronte_books_df = bronte_books_df.dropna()\n",
    "\n",
    "bronte_books_df = bronte_books_df[~bronte_books_df['word'].isin(stopwords.words('english'))]\n",
    "\n",
    "bronte_books_df['word'].value_counts()"
   ]
  },
  {
   "cell_type": "code",
   "execution_count": 80,
   "metadata": {},
   "outputs": [],
   "source": [
    "import requests\n",
    "import string\n",
    "\n",
    "# The Antichrist\n",
    "book_url = 'https://www.gutenberg.org/cache/epub/19322/pg19322.txt'\n",
    "response = requests.get(book_url)\n",
    "bronte1 = response.text\n",
    "allowed_chars = string.ascii_letters + string.digits + string.whitespace\n",
    "niet1 = ''.join(c for c in bronte1 if c in allowed_chars)\n",
    "\n",
    "# Ecce Homo\n",
    "book_url = 'https://www.gutenberg.org/cache/epub/52190/pg52190.txt'\n",
    "response = requests.get(book_url)\n",
    "bronte2 = response.text\n",
    "allowed_chars = string.ascii_letters + string.digits + string.whitespace\n",
    "niet2 = ''.join(c for c in bronte2 if c in allowed_chars)\n",
    "\n",
    "# Beyond Good and Evil\n",
    "book_url = 'https://www.gutenberg.org/files/9182/9182-0.txt'\n",
    "response = requests.get(book_url)\n",
    "bronte3 = response.text\n",
    "allowed_chars = string.ascii_letters + string.digits + string.whitespace\n",
    "niet3 = ''.join(c for c in bronte3 if c in allowed_chars)\n"
   ]
  },
  {
   "cell_type": "code",
   "execution_count": 82,
   "metadata": {},
   "outputs": [],
   "source": [
    "# Create our dataframes\n",
    "niet1_lines = niet1.splitlines()\n",
    "\n",
    "niet1_df = pd.DataFrame({\n",
    "    \"line\": niet1_lines,\n",
    "    \"line_number\": list(range(len(niet1_lines)))\n",
    "})\n",
    "\n",
    "niet2_lines = niet2.splitlines()\n",
    "\n",
    "niet2_df = pd.DataFrame({\n",
    "    \"line\": niet2_lines,\n",
    "    \"line_number\": list(range(len(niet2_lines)))\n",
    "})\n",
    "\n",
    "niet3_lines = niet3.splitlines()\n",
    "\n",
    "niet3_df = pd.DataFrame({\n",
    "    \"line\": niet3_lines,\n",
    "    \"line_number\": list(range(len(niet3_lines)))\n",
    "})\n"
   ]
  },
  {
   "cell_type": "code",
   "execution_count": 83,
   "metadata": {},
   "outputs": [],
   "source": [
    "niet1_df = niet1_df.assign(book ='The Antichrist')\n",
    "niet2_df = niet2_df.assign(book ='Ecce Homo')\n",
    "niet3_df = niet3_df.assign(book ='Beyond Good and Evil')"
   ]
  },
  {
   "cell_type": "code",
   "execution_count": 92,
   "metadata": {},
   "outputs": [
    {
     "data": {
      "text/plain": [
       "I        18440\n",
       "would     2182\n",
       "said      1700\n",
       "could     1553\n",
       "one       1452\n",
       "Name: word, dtype: int64"
      ]
     },
     "execution_count": 92,
     "metadata": {},
     "output_type": "execute_result"
    }
   ],
   "source": [
    "niet_books = [ niet1_df, niet2_df, niet3_df ]\n",
    "niet_books_df = pd.concat(niet_books)\n",
    "\n",
    "# We first split the text column into a list of words\n",
    "niet_books_df['word'] = niet_books_df['line'].str.split()\n",
    "\n",
    "# Explode the words column to create a new row for each word (this creates a separate row for each word from the newly created words list)\n",
    "niet_books_df = niet_books_df.explode('word')\n",
    "\n",
    "niet_books_df = niet_books_df.dropna()\n",
    "niet_books_df = niet_books_df[~niet_books_df['word'].isin(stopwords.words('english'))]\n",
    "niet_books_df = bronte_books_df.reset_index(drop=True)\n",
    "\n",
    "niet_books_df['word'].value_counts().head()"
   ]
  },
  {
   "cell_type": "code",
   "execution_count": 96,
   "metadata": {},
   "outputs": [
    {
     "data": {
      "text/html": [
       "<div>\n",
       "<style scoped>\n",
       "    .dataframe tbody tr th:only-of-type {\n",
       "        vertical-align: middle;\n",
       "    }\n",
       "\n",
       "    .dataframe tbody tr th {\n",
       "        vertical-align: top;\n",
       "    }\n",
       "\n",
       "    .dataframe thead th {\n",
       "        text-align: right;\n",
       "    }\n",
       "</style>\n",
       "<table border=\"1\" class=\"dataframe\">\n",
       "  <thead>\n",
       "    <tr style=\"text-align: right;\">\n",
       "      <th></th>\n",
       "      <th>line</th>\n",
       "      <th>line_number</th>\n",
       "      <th>book</th>\n",
       "      <th>word</th>\n",
       "      <th>author</th>\n",
       "    </tr>\n",
       "  </thead>\n",
       "  <tbody>\n",
       "    <tr>\n",
       "      <th>0</th>\n",
       "      <td>START OF THE PROJECT GUTENBERG EBOOK 1260</td>\n",
       "      <td>0</td>\n",
       "      <td>Jane Eyre</td>\n",
       "      <td>START</td>\n",
       "      <td>Friedrich Wilhelm Nietzsche</td>\n",
       "    </tr>\n",
       "    <tr>\n",
       "      <th>1</th>\n",
       "      <td>START OF THE PROJECT GUTENBERG EBOOK 1260</td>\n",
       "      <td>0</td>\n",
       "      <td>Jane Eyre</td>\n",
       "      <td>OF</td>\n",
       "      <td>Friedrich Wilhelm Nietzsche</td>\n",
       "    </tr>\n",
       "    <tr>\n",
       "      <th>2</th>\n",
       "      <td>START OF THE PROJECT GUTENBERG EBOOK 1260</td>\n",
       "      <td>0</td>\n",
       "      <td>Jane Eyre</td>\n",
       "      <td>THE</td>\n",
       "      <td>Friedrich Wilhelm Nietzsche</td>\n",
       "    </tr>\n",
       "    <tr>\n",
       "      <th>3</th>\n",
       "      <td>START OF THE PROJECT GUTENBERG EBOOK 1260</td>\n",
       "      <td>0</td>\n",
       "      <td>Jane Eyre</td>\n",
       "      <td>PROJECT</td>\n",
       "      <td>Friedrich Wilhelm Nietzsche</td>\n",
       "    </tr>\n",
       "    <tr>\n",
       "      <th>4</th>\n",
       "      <td>START OF THE PROJECT GUTENBERG EBOOK 1260</td>\n",
       "      <td>0</td>\n",
       "      <td>Jane Eyre</td>\n",
       "      <td>GUTENBERG</td>\n",
       "      <td>Friedrich Wilhelm Nietzsche</td>\n",
       "    </tr>\n",
       "    <tr>\n",
       "      <th>...</th>\n",
       "      <td>...</td>\n",
       "      <td>...</td>\n",
       "      <td>...</td>\n",
       "      <td>...</td>\n",
       "      <td>...</td>\n",
       "    </tr>\n",
       "    <tr>\n",
       "      <th>579034</th>\n",
       "      <td>END OF THE PROJECT GUTENBERG EBOOK 767</td>\n",
       "      <td>6992</td>\n",
       "      <td>Agnes Grey</td>\n",
       "      <td>THE</td>\n",
       "      <td>Bronte Sisters</td>\n",
       "    </tr>\n",
       "    <tr>\n",
       "      <th>579035</th>\n",
       "      <td>END OF THE PROJECT GUTENBERG EBOOK 767</td>\n",
       "      <td>6992</td>\n",
       "      <td>Agnes Grey</td>\n",
       "      <td>PROJECT</td>\n",
       "      <td>Bronte Sisters</td>\n",
       "    </tr>\n",
       "    <tr>\n",
       "      <th>579036</th>\n",
       "      <td>END OF THE PROJECT GUTENBERG EBOOK 767</td>\n",
       "      <td>6992</td>\n",
       "      <td>Agnes Grey</td>\n",
       "      <td>GUTENBERG</td>\n",
       "      <td>Bronte Sisters</td>\n",
       "    </tr>\n",
       "    <tr>\n",
       "      <th>579037</th>\n",
       "      <td>END OF THE PROJECT GUTENBERG EBOOK 767</td>\n",
       "      <td>6992</td>\n",
       "      <td>Agnes Grey</td>\n",
       "      <td>EBOOK</td>\n",
       "      <td>Bronte Sisters</td>\n",
       "    </tr>\n",
       "    <tr>\n",
       "      <th>579038</th>\n",
       "      <td>END OF THE PROJECT GUTENBERG EBOOK 767</td>\n",
       "      <td>6992</td>\n",
       "      <td>Agnes Grey</td>\n",
       "      <td>767</td>\n",
       "      <td>Bronte Sisters</td>\n",
       "    </tr>\n",
       "  </tbody>\n",
       "</table>\n",
       "<p>614976 rows × 5 columns</p>\n",
       "</div>"
      ],
      "text/plain": [
       "                                               line  line_number        book  \\\n",
       "0        START OF THE PROJECT GUTENBERG EBOOK 1260             0   Jane Eyre   \n",
       "1        START OF THE PROJECT GUTENBERG EBOOK 1260             0   Jane Eyre   \n",
       "2        START OF THE PROJECT GUTENBERG EBOOK 1260             0   Jane Eyre   \n",
       "3        START OF THE PROJECT GUTENBERG EBOOK 1260             0   Jane Eyre   \n",
       "4        START OF THE PROJECT GUTENBERG EBOOK 1260             0   Jane Eyre   \n",
       "...                                             ...          ...         ...   \n",
       "579034      END OF THE PROJECT GUTENBERG EBOOK 767          6992  Agnes Grey   \n",
       "579035      END OF THE PROJECT GUTENBERG EBOOK 767          6992  Agnes Grey   \n",
       "579036      END OF THE PROJECT GUTENBERG EBOOK 767          6992  Agnes Grey   \n",
       "579037      END OF THE PROJECT GUTENBERG EBOOK 767          6992  Agnes Grey   \n",
       "579038      END OF THE PROJECT GUTENBERG EBOOK 767          6992  Agnes Grey   \n",
       "\n",
       "             word                       author  \n",
       "0           START  Friedrich Wilhelm Nietzsche  \n",
       "1              OF  Friedrich Wilhelm Nietzsche  \n",
       "2             THE  Friedrich Wilhelm Nietzsche  \n",
       "3         PROJECT  Friedrich Wilhelm Nietzsche  \n",
       "4       GUTENBERG  Friedrich Wilhelm Nietzsche  \n",
       "...           ...                          ...  \n",
       "579034        THE               Bronte Sisters  \n",
       "579035    PROJECT               Bronte Sisters  \n",
       "579036  GUTENBERG               Bronte Sisters  \n",
       "579037      EBOOK               Bronte Sisters  \n",
       "579038        767               Bronte Sisters  \n",
       "\n",
       "[614976 rows x 5 columns]"
      ]
     },
     "execution_count": 96,
     "metadata": {},
     "output_type": "execute_result"
    }
   ],
   "source": [
    "niet_books_df = niet_books_df.assign( author = 'Friedrich Wilhelm Nietzsche' )\n",
    "bronte_books_df = bronte_books_df.assign( author = 'Bronte Sisters' )\n",
    "\n",
    "books_df = pd.concat([niet_books_df,bronte_books_df])\n",
    "\n",
    "books_df"
   ]
  }
 ],
 "metadata": {
  "colab": {
   "collapsed_sections": [
    "RSsan_6nCgSi"
   ],
   "provenance": []
  },
  "kernelspec": {
   "display_name": "Python 3 (ipykernel)",
   "language": "python",
   "name": "python3"
  },
  "language_info": {
   "codemirror_mode": {
    "name": "ipython",
    "version": 3
   },
   "file_extension": ".py",
   "mimetype": "text/x-python",
   "name": "python",
   "nbconvert_exporter": "python",
   "pygments_lexer": "ipython3",
   "version": "3.10.9"
  }
 },
 "nbformat": 4,
 "nbformat_minor": 4
}
