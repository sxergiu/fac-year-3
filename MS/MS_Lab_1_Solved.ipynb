{
  "nbformat": 4,
  "nbformat_minor": 0,
  "metadata": {
    "colab": {
      "provenance": []
    },
    "kernelspec": {
      "name": "python3",
      "display_name": "Python 3"
    },
    "language_info": {
      "name": "python"
    }
  },
  "cells": [
    {
      "cell_type": "markdown",
      "source": [
        "# Python Introduction\n",
        "\n",
        "Python offers a simple and clean syntax where semicolons and curly braces are not required. Instead, it uses indentation to define structure, making the code easier to read and maintain. For those familiar with languages like C++ or Java, below is an example of basic syntax differences between C++ and Python.\n",
        "\n",
        "C++\n",
        "```\n",
        "#include <iostream>\n",
        "using namespace std;\n",
        "\n",
        "void check_number(int num) {\n",
        "    if (num % 2 == 0) {\n",
        "        cout << num << \" is even\" << endl;\n",
        "    } else {\n",
        "        cout << num << \" is odd\" << endl;\n",
        "    }\n",
        "}\n",
        "\n",
        "int main() {\n",
        "    check_number(4);\n",
        "    check_number(7);\n",
        "    return 0;\n",
        "}\n",
        "```\n",
        "\n",
        "Python\n",
        "```\n",
        "def check_number(num):\n",
        "    if num % 2 == 0:\n",
        "        print(f\"{num} is even\")\n",
        "    else:\n",
        "        print(f\"{num} is odd\")\n",
        "\n",
        "check_number(4)\n",
        "check_number(7)\n",
        "```"
      ],
      "metadata": {
        "id": "jNyg_OIYfWnw"
      }
    },
    {
      "cell_type": "code",
      "source": [
        "# @title Variable and Data Types\n",
        "# Variable assignments with different data types\n",
        "integer_number = 10\n",
        "float_number = 3.14\n",
        "string_text = \"Hello, Python\"\n",
        "boolean_value = True\n",
        "\n",
        "# Printing values and types\n",
        "print(\"Integer:\", integer_number, \"Type:\", type(integer_number))\n",
        "print(\"Float:\", float_number, \"Type:\", type(float_number))\n",
        "print(\"String:\", string_text, \"Type:\", type(string_text))\n",
        "print(\"Boolean:\", boolean_value, \"Type:\", type(boolean_value))"
      ],
      "metadata": {
        "colab": {
          "base_uri": "https://localhost:8080/"
        },
        "collapsed": true,
        "id": "P8LA40FcVQfl",
        "outputId": "70c49547-a39d-4340-b2dc-ab46b8cbcb19"
      },
      "execution_count": null,
      "outputs": [
        {
          "output_type": "stream",
          "name": "stdout",
          "text": [
            "Integer: 10 Type: <class 'int'>\n",
            "Float: 3.14 Type: <class 'float'>\n",
            "String: Hello, Python Type: <class 'str'>\n",
            "Boolean: True Type: <class 'bool'>\n"
          ]
        }
      ]
    },
    {
      "cell_type": "code",
      "source": [
        "print(string_text.replace(' ', 'H'))"
      ],
      "metadata": {
        "colab": {
          "base_uri": "https://localhost:8080/"
        },
        "id": "48Q6Bu5KkCOo",
        "outputId": "605f5034-2004-4729-8dc5-ccbef5f166ed"
      },
      "execution_count": null,
      "outputs": [
        {
          "output_type": "stream",
          "name": "stdout",
          "text": [
            "Hello,HPython\n"
          ]
        }
      ]
    },
    {
      "cell_type": "code",
      "source": [
        "# @title Basic Operations\n",
        "# Arithmetic operations\n",
        "a = 15\n",
        "b = 4\n",
        "\n",
        "print(\"Addition:\", a + b)\n",
        "print(\"Subtraction:\", a - b)\n",
        "print(\"Multiplication:\", a * b)\n",
        "print(\"Division:\", a / b)\n",
        "print(\"Integer Division:\", a // b)\n",
        "print(\"Modulus:\", a % b)\n",
        "print(\"Exponentiation:\", a ** b)"
      ],
      "metadata": {
        "colab": {
          "base_uri": "https://localhost:8080/"
        },
        "collapsed": true,
        "cellView": "form",
        "id": "OE8_kNyagghr",
        "outputId": "9d8dbedf-b88b-45b7-c5ea-4a18603fd8d2"
      },
      "execution_count": null,
      "outputs": [
        {
          "output_type": "stream",
          "name": "stdout",
          "text": [
            "Addition: 19\n",
            "Subtraction: 11\n",
            "Multiplication: 60\n",
            "Division: 3.75\n",
            "Integer Division: 3\n",
            "Modulus: 3\n",
            "Exponentiation: 50625\n"
          ]
        }
      ]
    },
    {
      "cell_type": "code",
      "source": [
        "# @title Data Containers - Lists\n",
        "# Creating a list\n",
        "my_list = [1, 2, 3, 4, 5]\n",
        "\n",
        "# Accessing elements\n",
        "print(\"First element:\", my_list[0])\n",
        "print(\"Last element:\", my_list[-1])\n",
        "\n",
        "# Modifying an element\n",
        "my_list[2] = 10\n",
        "print(\"Modified list:\", my_list)\n",
        "\n",
        "# Adding elements\n",
        "my_list.append(6)\n",
        "print(\"After appending:\", my_list)\n",
        "\n",
        "# Removing an element\n",
        "my_list.remove(10)\n",
        "print(\"After removing 10:\", my_list)\n"
      ],
      "metadata": {
        "colab": {
          "base_uri": "https://localhost:8080/"
        },
        "collapsed": true,
        "id": "dqqurTApgnLN",
        "outputId": "6b866d63-948b-43b3-89c9-19405e9118a2"
      },
      "execution_count": null,
      "outputs": [
        {
          "output_type": "stream",
          "name": "stdout",
          "text": [
            "First element: 1\n",
            "Last element: 5\n",
            "Modified list: [1, 2, 10, 4, 5]\n",
            "After appending: [1, 2, 10, 4, 5, 6]\n",
            "After removing 10: [1, 2, 4, 5, 6]\n"
          ]
        }
      ]
    },
    {
      "cell_type": "code",
      "source": [
        "print(my_list)\n",
        "my_list.append('My string')\n",
        "my_new_list = [1, 2, 3.5, 'asd']\n",
        "my_list.append(my_new_list)\n",
        "print(my_list)"
      ],
      "metadata": {
        "colab": {
          "base_uri": "https://localhost:8080/"
        },
        "id": "P7Qc7rvLkuGp",
        "outputId": "7d9131ee-3efe-4eb6-b92b-9321ee0c5169"
      },
      "execution_count": null,
      "outputs": [
        {
          "output_type": "stream",
          "name": "stdout",
          "text": [
            "[1, 2, 4, 5, 6, 'My string']\n",
            "[1, 2, 4, 5, 6, 'My string', 'My string', [1, 2, 3.5, 'asd']]\n"
          ]
        }
      ]
    },
    {
      "cell_type": "code",
      "source": [
        "print(my_list[-1][0])"
      ],
      "metadata": {
        "colab": {
          "base_uri": "https://localhost:8080/"
        },
        "id": "KOFvuGEflnDB",
        "outputId": "5bff0519-884d-4324-e752-276096829878"
      },
      "execution_count": null,
      "outputs": [
        {
          "output_type": "stream",
          "name": "stdout",
          "text": [
            "1\n"
          ]
        }
      ]
    },
    {
      "cell_type": "code",
      "source": [
        "# @title Slicing - a clean and powerful way to manipulate sequences in Python.\n",
        "# Example list\n",
        "numbers = [0, 1, 2, 3, 4, 5, 6, 7, 8, 9]\n",
        "\n",
        "# Slicing: extracting parts of the list\n",
        "first_three = numbers[:3]  # First 3 elements\n",
        "middle_section = numbers[3:7]  # Elements from index 3 to 6\n",
        "every_other = numbers[::2]  # Every other element (step of 2)\n",
        "reversed_list = numbers[::-1]  # Reversed list\n",
        "\n",
        "# Print the results\n",
        "print(\"First three elements:\", first_three)\n",
        "print(\"Middle section:\", middle_section)\n",
        "print(\"Every other element:\", every_other)\n",
        "print(\"Reversed list:\", reversed_list)"
      ],
      "metadata": {
        "colab": {
          "base_uri": "https://localhost:8080/"
        },
        "id": "N1cLchDZhMlU",
        "outputId": "4cae1a47-4663-4ee6-9d6b-4cfea298bff3"
      },
      "execution_count": null,
      "outputs": [
        {
          "output_type": "stream",
          "name": "stdout",
          "text": [
            "First three elements: [0, 1, 2]\n",
            "Middle section: [3, 4, 5, 6]\n",
            "Every other element: [0, 2, 4, 6, 8]\n",
            "Reversed list: [9, 8, 7, 6, 5, 4, 3, 2, 1, 0]\n"
          ]
        }
      ]
    },
    {
      "cell_type": "markdown",
      "source": [
        "Explanation\n",
        "\n",
        "```\n",
        "[:3]: Takes the first three elements.\n",
        "[3:7]: Grabs the elements from index 3 to 6 (excluding index 7).\n",
        "[::2]: Takes every second element.\n",
        "[::-1]: Reverses the list.\n",
        "```\n",
        "\n",
        "The general form (or signature) of slicing is: ```sequence[start:stop:step]```\n",
        "\n",
        "* **start**: The index where the slice begins (inclusive).\n",
        "* **stop**: The index where the slice ends (exclusive).\n",
        "* **step**: The interval between elements (optional, default is 1).\n",
        "\n",
        "\n"
      ],
      "metadata": {
        "id": "0K6wPIqghSMy"
      }
    },
    {
      "cell_type": "code",
      "source": [
        "# @title Iterating over a sequence\n",
        "# Loop through a list\n",
        "print(my_list)\n",
        "for item in my_list:\n",
        "    print(\"Item:\", my_list[item])"
      ],
      "metadata": {
        "colab": {
          "base_uri": "https://localhost:8080/"
        },
        "collapsed": true,
        "id": "6DOF_mRshram",
        "outputId": "a9d97da1-3a98-43b6-c7d1-fde78702cb9e"
      },
      "execution_count": null,
      "outputs": [
        {
          "output_type": "stream",
          "name": "stdout",
          "text": [
            "[1, 2, 4, 5, 6, 'My string', 'My string', [1, 2, 3.5, 'asd']]\n",
            "Item: 1\n",
            "Item: 2\n",
            "Item: 4\n",
            "Item: 5\n",
            "Item: 6\n",
            "Item: My string\n",
            "Item: My string\n",
            "Item: [1, 2, 3.5, 'asd']\n"
          ]
        }
      ]
    },
    {
      "cell_type": "code",
      "source": [
        "# @title Iterating using range\n",
        "numbers = [5, 10, 15, 20, 25, 30, 35, 40, 45, 50]\n",
        "\n",
        "# Iterate over the list using range\n",
        "for i in range(0, len(numbers), 1):  # From index 0 to the end, every 2nd element\n",
        "    print(f\"Index {i}: {numbers[i]}\")"
      ],
      "metadata": {
        "colab": {
          "base_uri": "https://localhost:8080/"
        },
        "collapsed": true,
        "id": "drRYeWoZi7am",
        "outputId": "594bdc02-d41b-4459-ba12-61c7373d5fa9"
      },
      "execution_count": null,
      "outputs": [
        {
          "output_type": "stream",
          "name": "stdout",
          "text": [
            "Index 0: 5\n",
            "Index 1: 10\n",
            "Index 2: 15\n",
            "Index 3: 20\n",
            "Index 4: 25\n",
            "Index 5: 30\n",
            "Index 6: 35\n",
            "Index 7: 40\n",
            "Index 8: 45\n",
            "Index 9: 50\n"
          ]
        }
      ]
    },
    {
      "cell_type": "code",
      "source": [
        "# @title Conditional Statements - if elif else\n",
        "temperature = 25\n",
        "\n",
        "if temperature > 30:\n",
        "    print(\"It's hot outside.\")\n",
        "elif temperature > 20:\n",
        "    print(\"It's a pleasant day.\")\n",
        "else:\n",
        "    print(\"It's cold outside.\")\n"
      ],
      "metadata": {
        "id": "zdoNoOOwj4L0",
        "colab": {
          "base_uri": "https://localhost:8080/"
        },
        "outputId": "d337ec0c-db5b-4c6f-c0b1-b1cb8fbf82ab"
      },
      "execution_count": null,
      "outputs": [
        {
          "output_type": "stream",
          "name": "stdout",
          "text": [
            "It's a pleasant day.\n"
          ]
        }
      ]
    },
    {
      "cell_type": "code",
      "source": [
        "# @title Functions - basics\n",
        "# Define a function to print a greeting\n",
        "def greet(name):\n",
        "    print(\"Hi\", name, \"!\")\n",
        "\n",
        "# Calling the function with a required argument\n",
        "greet(\"Andreea\")\n",
        "greet(\"Alex\")\n",
        "greet(5)"
      ],
      "metadata": {
        "colab": {
          "base_uri": "https://localhost:8080/"
        },
        "id": "xgKNQ7Kxj_dv",
        "outputId": "b90a517b-dfad-47cb-d53e-5cf66c0ca3e6"
      },
      "execution_count": null,
      "outputs": [
        {
          "output_type": "stream",
          "name": "stdout",
          "text": [
            "Hi Andreea !\n",
            "Hi Alex !\n",
            "Hi 5 !\n"
          ]
        }
      ]
    },
    {
      "cell_type": "code",
      "source": [
        "# @title Functions - continued\n",
        "# Define a function to calculate the total price after tax\n",
        "def calculate_total_price(price, tax_rate=0.05, discount=0):\n",
        "    \"\"\"\n",
        "    This function calculates the total price after applying tax and an optional discount.\n",
        "\n",
        "    Arguments:\n",
        "    - price: The base price of the item (required).\n",
        "    - tax_rate: The percentage of tax to apply (optional, default is 5%).\n",
        "    - discount: The amount of discount to subtract (optional, default is 0).\n",
        "\n",
        "    Returns:\n",
        "    - The total price after applying tax and discount.\n",
        "    \"\"\"\n",
        "    # Calculate the price after tax\n",
        "    price_with_tax = price * (1 + tax_rate)\n",
        "    # Apply the discount\n",
        "    total_price = price_with_tax - discount\n",
        "    return total_price\n",
        "\n",
        "# Calling the function with required arguments only\n",
        "result1 = calculate_total_price(100)\n",
        "print(\"Total price with default tax and no discount:\", result1)\n",
        "\n",
        "# Calling the function with a custom tax rate\n",
        "result2 = calculate_total_price(100, tax_rate=0.07)\n",
        "print(\"Total price with custom tax and no discount:\", result2)\n",
        "\n",
        "# Calling the function with a custom tax rate and a discount\n",
        "result3 = calculate_total_price(100, tax_rate=0.07, discount=5)\n",
        "print(\"Total price with custom tax and discount:\", result3)\n",
        "\n",
        "# Calling the function using keyword arguments (order of arguments can be changed)\n",
        "result4 = calculate_total_price(price=200, discount=10, tax_rate=0.08)\n",
        "print(\"Total price with keyword arguments:\", result4)\n"
      ],
      "metadata": {
        "colab": {
          "base_uri": "https://localhost:8080/"
        },
        "cellView": "form",
        "id": "l7VNKvWRkbZ1",
        "outputId": "9a41b3f2-81f7-47bf-c4f4-79f67287f21e"
      },
      "execution_count": null,
      "outputs": [
        {
          "output_type": "stream",
          "name": "stdout",
          "text": [
            "Total price with default tax and no discount: 105.0\n",
            "Total price with custom tax and no discount: 107.0\n",
            "Total price with custom tax and discount: 102.0\n",
            "Total price with keyword arguments: 206.0\n"
          ]
        }
      ]
    },
    {
      "cell_type": "markdown",
      "source": [
        "c### Exercise 1 - Convert Kilometers to Miles\n",
        "Write a function called km_to_miles(km) that converts a distance from kilometers to miles and displays it.\n",
        "\n",
        "\n",
        "\n",
        "* km_to_miles(5) -  Expected output: 5 kilometers is equal to 3.11 miles\n",
        "* km_to_miles(10) - Expected output: 10 kilometers is equal to 6.21 miles\n"
      ],
      "metadata": {
        "id": "wr-mslzemEZf"
      }
    },
    {
      "cell_type": "code",
      "source": [
        "def greet(name):\n",
        "    print(\"Hi\", name, \"!\")\n",
        "\n",
        "# Calling the function with a required argument\n",
        "greet(\"Andreea\")\n",
        "greet(\"Alex\")\n",
        "greet(5)"
      ],
      "metadata": {
        "id": "1dTCsX3Bp9Sp"
      },
      "execution_count": null,
      "outputs": []
    },
    {
      "cell_type": "code",
      "source": [
        "# Write your code below\n",
        "# 1 km = 0.622 miles\n",
        "def km_to_miles(km):\n",
        "    miles = km * 0.622\n",
        "    print(miles)\n",
        "\n",
        "km_to_miles(10)"
      ],
      "metadata": {
        "id": "R-UK3v4CmR5n",
        "colab": {
          "base_uri": "https://localhost:8080/"
        },
        "outputId": "5c303d3f-fe76-406a-e218-0dd8c4f0442b"
      },
      "execution_count": null,
      "outputs": [
        {
          "output_type": "stream",
          "name": "stdout",
          "text": [
            "6.22\n"
          ]
        }
      ]
    },
    {
      "cell_type": "markdown",
      "source": [
        "### Exercise 2 - Max temperature\n",
        "Write a function called find_max_temperature(temps) that takes a list of temperatures and finds the highest one.\n",
        "\n",
        "```\n",
        "temperatures = [25, 30, 28, 31, 27, 26]\n",
        "find_max_temperature(temperatures)  # Expected output: The highest temperature is 31°C\n",
        "```"
      ],
      "metadata": {
        "id": "UtCsFQ_LmMqF"
      }
    },
    {
      "cell_type": "code",
      "source": [
        "# Write your code below\n",
        "def km_to_miles(km):\n",
        "    miles = km * 0.622\n",
        "    print(miles)\n",
        "\n",
        "def find_max_temperature(temperatures):\n",
        "    max_value = 0\n",
        "    for item in temperatures:\n",
        "        if item > max_value:\n",
        "            max_value = item\n",
        "    return max_value\n",
        "\n",
        "temperatures = [25, 30, 28, 31, 27, 26]\n",
        "\n",
        "find_max_temperature(temperatures)\n"
      ],
      "metadata": {
        "colab": {
          "base_uri": "https://localhost:8080/"
        },
        "id": "fJmv_7THnJK6",
        "outputId": "0423b0e8-b86a-432d-8cea-fa7e5097765f"
      },
      "execution_count": null,
      "outputs": [
        {
          "output_type": "execute_result",
          "data": {
            "text/plain": [
              "31"
            ]
          },
          "metadata": {},
          "execution_count": 41
        }
      ]
    },
    {
      "cell_type": "markdown",
      "source": [
        "# Simple Model - Dripping Faucet\n",
        "A very simple and intuitive model is a dripping faucet, where water drips at regular intervals into a container. The goal is to model how the water level in the container rises over time, assuming each drop has the same volume and the drips happen at regular intervals.\n",
        "\n",
        "Assumptions:\n",
        "* Each water drop has a fixed volume of 0.05 liters.\n",
        "* The faucet drips once every 4 minutes.\n",
        "* The container starts empty, and we want to track the water level for a period of time, say 10 minutes."
      ],
      "metadata": {
        "id": "-J3siEodoszT"
      }
    },
    {
      "cell_type": "code",
      "source": [
        "# Parameters\n",
        "drop_volume = 0.05  # Volume of one drop in liters\n",
        "drip_interval = 4   # Time interval between drips in minutes\n",
        "total_time = 10     # Total time in minutes\n",
        "container_volume = 0  # Initial volume of water in the container\n",
        "\n",
        "# List to store water levels at each minute\n",
        "water_levels = []\n",
        "\n",
        "# Simulate the dripping process\n",
        "for minute in range(0, total_time + 1, 1):\n",
        "    if minute > 0 and minute % 4 == 0:\n",
        "        container_volume += drop_volume  # Add one drop each minute\n",
        "    water_levels.append(container_volume)\n",
        "\n",
        "# Print the water levels\n",
        "for minute, level in enumerate(water_levels):\n",
        "    print(f\"Minute {minute}: Water level = {level:.2f} liters\")"
      ],
      "metadata": {
        "colab": {
          "base_uri": "https://localhost:8080/"
        },
        "id": "_rpqF6xBpOz6",
        "outputId": "0f67de94-80da-4411-dee9-c91186fc706c"
      },
      "execution_count": null,
      "outputs": [
        {
          "output_type": "stream",
          "name": "stdout",
          "text": [
            "Minute 0: Water level = 0.00 liters\n",
            "Minute 1: Water level = 0.00 liters\n",
            "Minute 2: Water level = 0.00 liters\n",
            "Minute 3: Water level = 0.00 liters\n",
            "Minute 4: Water level = 0.05 liters\n",
            "Minute 5: Water level = 0.05 liters\n",
            "Minute 6: Water level = 0.05 liters\n",
            "Minute 7: Water level = 0.05 liters\n",
            "Minute 8: Water level = 0.10 liters\n",
            "Minute 9: Water level = 0.10 liters\n",
            "Minute 10: Water level = 0.10 liters\n"
          ]
        }
      ]
    },
    {
      "cell_type": "code",
      "source": [
        "# @title Adding randomness in Python\n",
        "import random\n",
        "random_value = random.random()\n",
        "print(random_value)  # Output: Random float between 0.0 and 1.0\n",
        "\n",
        "random_growth = random.uniform(0.04, 0.06)  # Random float between min and max values, here 0.04 and 0.06\n",
        "print(random_growth)\n",
        "\n",
        "random_poaching = random.randint(1, 5)  # Random integer between min and max values, here 1 and 5\n",
        "print(random_poaching)"
      ],
      "metadata": {
        "colab": {
          "base_uri": "https://localhost:8080/"
        },
        "id": "b70sAA-6sn3L",
        "outputId": "a8594f41-a946-4e9c-d9b3-d337a11e951e"
      },
      "execution_count": null,
      "outputs": [
        {
          "output_type": "stream",
          "name": "stdout",
          "text": [
            "0.3016522202615852\n",
            "0.05339036400668541\n",
            "3\n"
          ]
        }
      ]
    },
    {
      "cell_type": "markdown",
      "source": [
        "### Exercise 3 - Flip function\n",
        "Write a function called flip(probability) that takes as input a number between 0 and 1 and returns True with that probability and False with 1-probability.\n",
        "\n",
        "Example: flip(0.5) should return True on average 50% of the time.\n"
      ],
      "metadata": {
        "id": "juirXTL_uUEg"
      }
    },
    {
      "cell_type": "code",
      "source": [
        "random_value = random.random()\n",
        "print(random_value)  # Output: Random float between 0.0 and 1.0\n",
        "\n",
        "random_growth = random.uniform(0.04, 0.06)  # Random float between min and max values, here 0.04 and 0.06\n",
        "print(random_growth)\n",
        "\n",
        "random_poaching = random.randint(1, 5)  # Random integer between min and max values, here 1 and 5\n",
        "print(random_poaching)"
      ],
      "metadata": {
        "id": "nR77Q7qGtOT-"
      },
      "execution_count": null,
      "outputs": []
    },
    {
      "cell_type": "code",
      "source": [
        "# Write your code below\n",
        "def flip(probability):\n",
        "    random_value = random.random()\n",
        "    if random_value >= probability:\n",
        "        return False\n",
        "    else:\n",
        "        return True\n",
        "\n",
        "flip(0.1)"
      ],
      "metadata": {
        "id": "NO3_Ty8DvUQh",
        "colab": {
          "base_uri": "https://localhost:8080/"
        },
        "outputId": "4cd5862a-6e5b-4ed8-cf8e-b31fdaa6994a"
      },
      "execution_count": null,
      "outputs": [
        {
          "output_type": "execute_result",
          "data": {
            "text/plain": [
              "True"
            ]
          },
          "metadata": {},
          "execution_count": 74
        }
      ]
    },
    {
      "cell_type": "markdown",
      "source": [
        "### Exercise 4 - Create your own model\n",
        "\n",
        "Design a simple model for any system you like and then simulate it. Try to make use of the previously implemented flip() function during this exercise.\n",
        "\n",
        "Example: A basketball player takes 10 independent free throws with a probability of 0.7 of getting a basket on each shot. Simulate this simple model a couple of times and see the average number of times the player scored. Does it match your expectation?"
      ],
      "metadata": {
        "id": "jQjnmdBJvYvA"
      }
    },
    {
      "cell_type": "code",
      "source": [
        "# Write your code below\n"
      ],
      "metadata": {
        "id": "8mEWVpd4wAJ7"
      },
      "execution_count": null,
      "outputs": []
    }
  ]
}